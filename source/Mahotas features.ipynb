{
 "cells": [
  {
   "cell_type": "code",
   "execution_count": 4,
   "metadata": {
    "collapsed": true
   },
   "outputs": [],
   "source": [
    "# from utils import *\n",
    "\n",
    "import numpy as np\n",
    "import pandas as pd \n",
    "\n",
    "import scipy\n",
    "\n",
    "import random\n",
    "\n",
    "import mahotas\n",
    "from mahotas import features\n",
    "\n",
    "import bcolz \n",
    "from tqdm import tqdm_notebook"
   ]
  },
  {
   "cell_type": "code",
   "execution_count": 2,
   "metadata": {
    "collapsed": true
   },
   "outputs": [],
   "source": [
    "\n",
    "def save_array(fname, arr):\n",
    "    c=bcolz.carray(arr, rootdir=fname, mode='w')\n",
    "    c.flush()"
   ]
  },
  {
   "cell_type": "code",
   "execution_count": 5,
   "metadata": {
    "collapsed": true
   },
   "outputs": [],
   "source": [
    "random_seed = 0\n",
    "random.seed(random_seed)\n",
    "np.random.seed(random_seed)\n",
    "\n",
    "\n",
    "# Load data\n",
    "train_path = 'data/train-jpg/'\n",
    "test_path = 'data/test-jpg/'\n",
    "\n",
    "train = pd.read_csv('data/train_v2.csv')\n",
    "test = pd.read_csv('data/sample_submission_v2.csv')"
   ]
  },
  {
   "cell_type": "code",
   "execution_count": 6,
   "metadata": {
    "collapsed": true
   },
   "outputs": [],
   "source": [
    "def extract_features(df, data_path):\n",
    "    im_features = df.copy()\n",
    "\n",
    "    features = []\n",
    "\n",
    "    for image_name in tqdm_notebook(im_features.image_name.values, miniters=100): \n",
    "        img = mahotas.imread(data_path + image_name + '.jpg')\n",
    "        b1 = mahotas.features.haralick(img[:,:,0])\n",
    "        b2 = mahotas.features.haralick(img[:,:,1])\n",
    "        b3 = mahotas.features.haralick(img[:,:,2])#compute_14th_feature=False, return_mean_ptp=True\n",
    "        b = np.hstack((b1,b2,b3))\n",
    "        features.append(b)\n",
    "        \n",
    "    \n",
    "    return features\n"
   ]
  },
  {
   "cell_type": "code",
   "execution_count": 7,
   "metadata": {
    "scrolled": true
   },
   "outputs": [
    {
     "data": {
      "application/vnd.jupyter.widget-view+json": {
       "model_id": "b4284e5493c74ae9a8aa413425d5c33f"
      }
     },
     "metadata": {},
     "output_type": "display_data"
    },
    {
     "name": "stdout",
     "output_type": "stream",
     "text": [
      "\n"
     ]
    }
   ],
   "source": [
    "mahotas_train = extract_features(train,train_path)"
   ]
  },
  {
   "cell_type": "code",
   "execution_count": 15,
   "metadata": {},
   "outputs": [
    {
     "data": {
      "text/plain": [
       "(40479, 2)"
      ]
     },
     "execution_count": 15,
     "metadata": {},
     "output_type": "execute_result"
    }
   ],
   "source": [
    "train.shape"
   ]
  },
  {
   "cell_type": "code",
   "execution_count": 8,
   "metadata": {
    "collapsed": true
   },
   "outputs": [],
   "source": [
    "index = [ \n",
    "                   \"Mean Angular Second Moment\",\n",
    "                   \"Mean Contrast\",\n",
    "                   \"Mean Correlation\",\n",
    "                   \"Mean Sum of Squares: Variance\",\n",
    "                   \"Mean Inverse Difference Moment\",\n",
    "                   \"Mean Sum Average\",\n",
    "                   \"Mean Sum Variance\",\n",
    "                   \"Mean Sum Entropy\",\n",
    "                   \"Mean Entropy\",\n",
    "                   \"Mean Difference Variance\",\n",
    "                   \"Mean Difference Entropy\",\n",
    "                   \"Mean Information Measure of Correlation 1\",\n",
    "                   \"Mean Information Measure of Correlation 2\",\n",
    "                   \"Mean Maximal Correlation Coefficient\",\n",
    "                   \"Peak-to-peak Angular Second Moment\",\n",
    "                   \"Peak-to-peak Contrast\",\n",
    "                   \"Peak-to-peak Correlation\",\n",
    "                   \"Peak-to-peak Sum of Squares: Variance\",\n",
    "                   \"Peak-to-peak Inverse Difference Moment\",\n",
    "                   \"Peak-to-peak Sum Average\",\n",
    "                   \"Peak-to-peak Sum Variance\",\n",
    "                   \"Peak-to-peak Sum Entropy\",\n",
    "                   \"Peak-to-peak Entropy\",\n",
    "                   \"Peak-to-peak Difference Variance\",\n",
    "                   \"Peak-to-peak Difference Entropy\",\n",
    "                   \"Peak-to-peak Information Measure of Correlation 1\",\n",
    "                   \"Peak-to-peak Information Measure of Correlation 2\",\n",
    "                   \"Peak-to-peak Maximal Correlation Coefficient\"\n",
    "]"
   ]
  },
  {
   "cell_type": "code",
   "execution_count": 17,
   "metadata": {},
   "outputs": [
    {
     "data": {
      "text/plain": [
       "4"
      ]
     },
     "execution_count": 17,
     "metadata": {},
     "output_type": "execute_result"
    }
   ],
   "source": [
    "161916/len(train)"
   ]
  },
  {
   "cell_type": "code",
   "execution_count": 18,
   "metadata": {},
   "outputs": [
    {
     "data": {
      "text/plain": [
       "40479"
      ]
     },
     "execution_count": 18,
     "metadata": {},
     "output_type": "execute_result"
    }
   ],
   "source": [
    "len(mahotas_train)"
   ]
  },
  {
   "cell_type": "code",
   "execution_count": 12,
   "metadata": {},
   "outputs": [
    {
     "data": {
      "text/plain": [
       "(4, 39)"
      ]
     },
     "execution_count": 12,
     "metadata": {},
     "output_type": "execute_result"
    }
   ],
   "source": [
    "mahotas_train[0].shape"
   ]
  },
  {
   "cell_type": "code",
   "execution_count": 9,
   "metadata": {
    "collapsed": true
   },
   "outputs": [],
   "source": [
    "mahotas_train_stacked = np.vstack(mahotas_train)"
   ]
  },
  {
   "cell_type": "code",
   "execution_count": 10,
   "metadata": {},
   "outputs": [
    {
     "data": {
      "text/plain": [
       "(161916, 39)"
      ]
     },
     "execution_count": 10,
     "metadata": {},
     "output_type": "execute_result"
    }
   ],
   "source": [
    "mahotas_train_stacked.shape"
   ]
  },
  {
   "cell_type": "code",
   "execution_count": 17,
   "metadata": {
    "collapsed": true
   },
   "outputs": [],
   "source": [
    "save_array(\"data/cache/mahotas_14_jpg_train.dat\",mahotas_train_stacked)"
   ]
  },
  {
   "cell_type": "code",
   "execution_count": 10,
   "metadata": {},
   "outputs": [
    {
     "name": "stderr",
     "output_type": "stream",
     "text": [
      "100%|██████████| 61191/61191 [47:58<00:00, 21.26it/s]  \n"
     ]
    }
   ],
   "source": [
    "mahotas_test = extract_features(test,test_path)\n",
    "mahotas_test_stacked = np.vstack(mahotas_test)"
   ]
  },
  {
   "cell_type": "code",
   "execution_count": 12,
   "metadata": {
    "collapsed": true
   },
   "outputs": [],
   "source": [
    "save_array(\"data/cache/mahotas_14_jpg_test.dat\",mahotas_test_stacked)"
   ]
  }
 ],
 "metadata": {
  "kernelspec": {
   "display_name": "Python [conda root]",
   "language": "python",
   "name": "conda-root-py"
  },
  "language_info": {
   "codemirror_mode": {
    "name": "ipython",
    "version": 2
   },
   "file_extension": ".py",
   "mimetype": "text/x-python",
   "name": "python",
   "nbconvert_exporter": "python",
   "pygments_lexer": "ipython2",
   "version": "2.7.12"
  }
 },
 "nbformat": 4,
 "nbformat_minor": 2
}
