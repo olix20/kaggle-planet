{
 "cells": [
  {
   "cell_type": "code",
   "execution_count": 9,
   "metadata": {},
   "outputs": [],
   "source": [
    "import utils\n",
    "from utils import *\n",
    "# from resnet50 import *\n",
    "# from keras.applications.resnet50 import *\n",
    "from keras.applications.xception import *\n",
    "\n",
    "from keras.preprocessing import image\n",
    "from keras.preprocessing.image import *\n",
    "\n",
    "from keras.models import Model\n",
    "from keras.layers import Dense, GlobalAveragePooling2D\n",
    "from keras import backend as K\n",
    "# from ImageDataGenerator_extended2 import *\n",
    "\n",
    "from image_90rotations import *\n",
    "\n",
    "\n",
    "%matplotlib inline\n",
    "from sys import getsizeof\n",
    "import seaborn as sns"
   ]
  },
  {
   "cell_type": "code",
   "execution_count": 2,
   "metadata": {
    "collapsed": true
   },
   "outputs": [],
   "source": [
    "target_size = (112,112)#(256, 256)"
   ]
  },
  {
   "cell_type": "code",
   "execution_count": 3,
   "metadata": {},
   "outputs": [
    {
     "data": {
      "text/plain": [
       "'channels_last'"
      ]
     },
     "execution_count": 3,
     "metadata": {},
     "output_type": "execute_result"
    }
   ],
   "source": [
    "# K.set_image_data_format('channels_first')\n",
    "K.image_data_format()"
   ]
  },
  {
   "cell_type": "markdown",
   "metadata": {},
   "source": [
    "### Load Data"
   ]
  },
  {
   "cell_type": "code",
   "execution_count": 4,
   "metadata": {
    "collapsed": true
   },
   "outputs": [],
   "source": [
    "x_train = []\n",
    "y_train = []\n",
    "\n",
    "df_train = pd.read_csv('data/train_v2.csv')\n",
    "df_test = pd.read_csv('data/sample_submission_v2.csv')\n",
    "\n",
    "\n",
    "\n",
    "labels = ['blow_down',\n",
    " 'bare_ground',\n",
    " 'conventional_mine',\n",
    " 'blooming',\n",
    " 'cultivation',\n",
    " 'artisinal_mine',\n",
    " 'haze',\n",
    " 'primary',\n",
    " 'slash_burn',\n",
    " 'habitation',\n",
    " 'clear',\n",
    " 'road',\n",
    " 'selective_logging',\n",
    " 'partly_cloudy',\n",
    " 'agriculture',\n",
    " 'water',\n",
    " 'cloudy']\n",
    "\n",
    "label_map = {'agriculture': 14,\n",
    " 'artisinal_mine': 5,\n",
    " 'bare_ground': 1,\n",
    " 'blooming': 3,\n",
    " 'blow_down': 0,\n",
    " 'clear': 10,\n",
    " 'cloudy': 16,\n",
    " 'conventional_mine': 2,\n",
    " 'cultivation': 4,\n",
    " 'habitation': 9,\n",
    " 'haze': 6,\n",
    " 'partly_cloudy': 13,\n",
    " 'primary': 7,\n",
    " 'road': 11,\n",
    " 'selective_logging': 12,\n",
    " 'slash_burn': 8,\n",
    " 'water': 15}"
   ]
  },
  {
   "cell_type": "markdown",
   "metadata": {},
   "source": [
    "### Load Training data"
   ]
  },
  {
   "cell_type": "markdown",
   "metadata": {},
   "source": [
    "#### loading labels"
   ]
  },
  {
   "cell_type": "code",
   "execution_count": 5,
   "metadata": {},
   "outputs": [
    {
     "data": {
      "application/vnd.jupyter.widget-view+json": {
       "model_id": "52b7a32306a349d3b18741b01c9241d6"
      }
     },
     "metadata": {},
     "output_type": "display_data"
    },
    {
     "name": "stdout",
     "output_type": "stream",
     "text": [
      "\n"
     ]
    }
   ],
   "source": [
    "# y_train = []\n",
    "\n",
    "# for f, tags in tqdm_notebook(df_train.values, miniters=1000):\n",
    "#     targets = np.zeros(17)\n",
    "    \n",
    "#     for t in tags.split(' '):\n",
    "#         targets[label_map[t]] = 1 \n",
    "        \n",
    "\n",
    "#     y_train.append(targets)\n"
   ]
  },
  {
   "cell_type": "code",
   "execution_count": 11,
   "metadata": {
    "collapsed": true
   },
   "outputs": [],
   "source": [
    "# y_train = np.array(y_train, np.uint8)\n"
   ]
  },
  {
   "cell_type": "markdown",
   "metadata": {},
   "source": [
    "#### images"
   ]
  },
  {
   "cell_type": "code",
   "execution_count": 95,
   "metadata": {},
   "outputs": [
    {
     "data": {
      "application/vnd.jupyter.widget-view+json": {
       "model_id": "08f88727c196484bbd8880f936d59289"
      }
     },
     "metadata": {},
     "output_type": "display_data"
    },
    {
     "name": "stdout",
     "output_type": "stream",
     "text": [
      "\n"
     ]
    }
   ],
   "source": [
    "x_train = np.zeros((df_train.shape[0],target_size[0],target_size[0],3)).astype(np.float32)\n",
    "\n",
    "c = 0\n",
    "\n",
    "## loading images the keras way\n",
    "for f, tags in tqdm_notebook(df_train.values, miniters=1000):\n",
    "    \n",
    "    img = image.load_img('data/train-jpg/{}.jpg'.format(f), target_size=target_size)\n",
    "    break\n",
    "    x = image.img_to_array(img)\n",
    "    x = np.expand_dims(x, axis=0)\n",
    "    x = preprocess_input(x)\n",
    "\n",
    "    x_train[c] = x\n",
    "    c +=1    \n",
    "\n"
   ]
  },
  {
   "cell_type": "code",
   "execution_count": 112,
   "metadata": {
    "collapsed": true
   },
   "outputs": [],
   "source": [
    "# t = image.img_to_array(X_train[15])\n",
    "# plt.imshow(t)"
   ]
  },
  {
   "cell_type": "code",
   "execution_count": 7,
   "metadata": {
    "collapsed": true
   },
   "outputs": [],
   "source": [
    "# x_test = []\n",
    "\n",
    "# for f, tags in tqdm(df_test.values, miniters=1000):\n",
    "#     img = cv2.imread('data/test-jpg/{}.jpg'.format(f))\n",
    "#     img =  cv2.cvtColor(cv2.resize(img, target_size), cv2.COLOR_BGR2RGB)   \n",
    "\n",
    "#     x_test.append(cv2.resize(img, target_size))\n",
    "\n",
    "\n",
    "# x_test  = np.array(x_test, np.float32) #/ 255.\n",
    "# x_test = x_test.transpose((0, 3, 1, 2))"
   ]
  },
  {
   "cell_type": "code",
   "execution_count": 12,
   "metadata": {
    "collapsed": true
   },
   "outputs": [],
   "source": [
    "\n",
    "# save_array(\"data/cache/ytrain.dat\",y_train)\n",
    "\n",
    "# save_array(\"data/cache/xtrain_{}x{}.dat\".format(target_size[0],target_size[0]),x_train)\n",
    "save_array(\"data/cache/xtest_{}x{}.dat\".format(target_size[0],target_size[0]),x_test)\n"
   ]
  },
  {
   "cell_type": "code",
   "execution_count": 26,
   "metadata": {
    "collapsed": true
   },
   "outputs": [],
   "source": [
    "x_train = load_array(\"data/cache/xtrain_{}x{}.dat\".format(target_size[0],target_size[1]))\n",
    "y_train = load_array(\"data/cache/ytrain.dat\")\n",
    "\n"
   ]
  },
  {
   "cell_type": "code",
   "execution_count": 11,
   "metadata": {
    "collapsed": true
   },
   "outputs": [],
   "source": [
    "# x_train = x_train.transpose(0,3,1,2)"
   ]
  },
  {
   "cell_type": "code",
   "execution_count": 12,
   "metadata": {
    "collapsed": true
   },
   "outputs": [],
   "source": [
    "# x_test = load_array(\"data/cache/xtest_100x100.dat\")\n"
   ]
  },
  {
   "cell_type": "code",
   "execution_count": 20,
   "metadata": {},
   "outputs": [
    {
     "name": "stdout",
     "output_type": "stream",
     "text": [
      "(40479, 112, 112, 3)\n",
      "(40479, 17)\n"
     ]
    }
   ],
   "source": [
    "print(x_train.shape)\n",
    "# print(x_test.shape)\n",
    "print(y_train.shape)\n"
   ]
  },
  {
   "cell_type": "markdown",
   "metadata": {},
   "source": [
    "#### Loading test  data"
   ]
  },
  {
   "cell_type": "code",
   "execution_count": 156,
   "metadata": {
    "collapsed": true
   },
   "outputs": [],
   "source": [
    "x_test = np.zeros((df_test.shape[0],target_size[0],target_size[0],3)).astype(np.float32)\n",
    "\n",
    "# np.memmap(\"data/cache/xtest_{}x{}.memmapped\".format(target_size[0],target_size[0]), dtype='float32', mode='w+', \n",
    "#                        shape=(df_test.shape[0],3,target_size[0],target_size[0]))"
   ]
  },
  {
   "cell_type": "code",
   "execution_count": 157,
   "metadata": {},
   "outputs": [
    {
     "data": {
      "application/vnd.jupyter.widget-view+json": {
       "model_id": "7076e08a9fae441c892c854fc87ff6c7"
      }
     },
     "metadata": {},
     "output_type": "display_data"
    },
    {
     "name": "stdout",
     "output_type": "stream",
     "text": [
      "\n"
     ]
    }
   ],
   "source": [
    "### Test data\n",
    "c = 0\n",
    "for f, tags in tqdm_notebook(df_test.values, miniters=1000):\n",
    "    \n",
    "    img = image.load_img('data/test-jpg/{}.jpg'.format(f), target_size=target_size)\n",
    "    x = image.img_to_array(img)\n",
    "    x = np.expand_dims(x, axis=0)\n",
    "    x = preprocess_input(x)\n",
    "\n",
    "    x_test[c] = x\n",
    "    c +=1\n",
    "        \n"
   ]
  },
  {
   "cell_type": "markdown",
   "metadata": {},
   "source": [
    "### Model Training \n"
   ]
  },
  {
   "cell_type": "code",
   "execution_count": 6,
   "metadata": {
    "collapsed": true,
    "scrolled": true
   },
   "outputs": [],
   "source": [
    "xc = Xception(include_top=False, input_shape=(target_size[0],target_size[0],3))\n",
    "# resnet = ResNet50(include_top=True, classes=17)"
   ]
  },
  {
   "cell_type": "code",
   "execution_count": 7,
   "metadata": {
    "collapsed": true
   },
   "outputs": [],
   "source": [
    "for layer in xc.layers:\n",
    "    layer.trainable = False"
   ]
  },
  {
   "cell_type": "code",
   "execution_count": 68,
   "metadata": {
    "collapsed": true
   },
   "outputs": [],
   "source": [
    "# xc.summary()"
   ]
  },
  {
   "cell_type": "code",
   "execution_count": 53,
   "metadata": {},
   "outputs": [
    {
     "data": {
      "text/plain": [
       "'block5_sepconv1'"
      ]
     },
     "execution_count": 53,
     "metadata": {},
     "output_type": "execute_result"
    }
   ],
   "source": [
    "xc.layers[-95].name"
   ]
  },
  {
   "cell_type": "code",
   "execution_count": 10,
   "metadata": {
    "collapsed": true
   },
   "outputs": [],
   "source": [
    "for i in range(-95,0):\n",
    "    # block14_sepconv1: -6\n",
    "    # block5_sepconv1: -95\n",
    "    xc.layers[i].trainable = True"
   ]
  },
  {
   "cell_type": "code",
   "execution_count": 13,
   "metadata": {
    "collapsed": true
   },
   "outputs": [],
   "source": [
    "x = Flatten()(xc.layers[-1].output)\n",
    "# x = GlobalAveragePooling2D(name='avg_pool')(xc.layers[-1].output)\n",
    "# \n",
    "x = Dropout(0.5)(x)\n",
    "\n",
    "x = Dense(1024, activation='relu')(x)\n",
    "\n",
    "# x = Dense(512, activation='relu')(x)\n",
    "x = Dropout(0.5)(x)\n",
    "# x = Dense(512, activation='relu')(x)\n",
    "# x = Dropout(0.3)(x)\n",
    "x = Dense(17,activation='sigmoid',name=\"fc17\")(x)\n",
    "# x = Dense(4,activation='softmax',name=\"weatherx4\")(x)\n",
    "\n"
   ]
  },
  {
   "cell_type": "code",
   "execution_count": 15,
   "metadata": {},
   "outputs": [
    {
     "name": "stdout",
     "output_type": "stream",
     "text": [
      "____________________________________________________________________________________________________\n",
      "Layer (type)                     Output Shape          Param #     Connected to                     \n",
      "====================================================================================================\n",
      "input_1 (InputLayer)             (None, 112, 112, 3)   0                                            \n",
      "____________________________________________________________________________________________________\n",
      "block1_conv1 (Conv2D)            (None, 55, 55, 32)    864         input_1[0][0]                    \n",
      "____________________________________________________________________________________________________\n",
      "block1_conv1_bn (BatchNormalizat (None, 55, 55, 32)    128         block1_conv1[0][0]               \n",
      "____________________________________________________________________________________________________\n",
      "block1_conv1_act (Activation)    (None, 55, 55, 32)    0           block1_conv1_bn[0][0]            \n",
      "____________________________________________________________________________________________________\n",
      "block1_conv2 (Conv2D)            (None, 53, 53, 64)    18432       block1_conv1_act[0][0]           \n",
      "____________________________________________________________________________________________________\n",
      "block1_conv2_bn (BatchNormalizat (None, 53, 53, 64)    256         block1_conv2[0][0]               \n",
      "____________________________________________________________________________________________________\n",
      "block1_conv2_act (Activation)    (None, 53, 53, 64)    0           block1_conv2_bn[0][0]            \n",
      "____________________________________________________________________________________________________\n",
      "block2_sepconv1 (SeparableConv2D (None, 53, 53, 128)   8768        block1_conv2_act[0][0]           \n",
      "____________________________________________________________________________________________________\n",
      "block2_sepconv1_bn (BatchNormali (None, 53, 53, 128)   512         block2_sepconv1[0][0]            \n",
      "____________________________________________________________________________________________________\n",
      "block2_sepconv2_act (Activation) (None, 53, 53, 128)   0           block2_sepconv1_bn[0][0]         \n",
      "____________________________________________________________________________________________________\n",
      "block2_sepconv2 (SeparableConv2D (None, 53, 53, 128)   17536       block2_sepconv2_act[0][0]        \n",
      "____________________________________________________________________________________________________\n",
      "block2_sepconv2_bn (BatchNormali (None, 53, 53, 128)   512         block2_sepconv2[0][0]            \n",
      "____________________________________________________________________________________________________\n",
      "conv2d_1 (Conv2D)                (None, 27, 27, 128)   8192        block1_conv2_act[0][0]           \n",
      "____________________________________________________________________________________________________\n",
      "block2_pool (MaxPooling2D)       (None, 27, 27, 128)   0           block2_sepconv2_bn[0][0]         \n",
      "____________________________________________________________________________________________________\n",
      "batch_normalization_1 (BatchNorm (None, 27, 27, 128)   512         conv2d_1[0][0]                   \n",
      "____________________________________________________________________________________________________\n",
      "add_1 (Add)                      (None, 27, 27, 128)   0           block2_pool[0][0]                \n",
      "                                                                   batch_normalization_1[0][0]      \n",
      "____________________________________________________________________________________________________\n",
      "block3_sepconv1_act (Activation) (None, 27, 27, 128)   0           add_1[0][0]                      \n",
      "____________________________________________________________________________________________________\n",
      "block3_sepconv1 (SeparableConv2D (None, 27, 27, 256)   33920       block3_sepconv1_act[0][0]        \n",
      "____________________________________________________________________________________________________\n",
      "block3_sepconv1_bn (BatchNormali (None, 27, 27, 256)   1024        block3_sepconv1[0][0]            \n",
      "____________________________________________________________________________________________________\n",
      "block3_sepconv2_act (Activation) (None, 27, 27, 256)   0           block3_sepconv1_bn[0][0]         \n",
      "____________________________________________________________________________________________________\n",
      "block3_sepconv2 (SeparableConv2D (None, 27, 27, 256)   67840       block3_sepconv2_act[0][0]        \n",
      "____________________________________________________________________________________________________\n",
      "block3_sepconv2_bn (BatchNormali (None, 27, 27, 256)   1024        block3_sepconv2[0][0]            \n",
      "____________________________________________________________________________________________________\n",
      "conv2d_2 (Conv2D)                (None, 14, 14, 256)   32768       add_1[0][0]                      \n",
      "____________________________________________________________________________________________________\n",
      "block3_pool (MaxPooling2D)       (None, 14, 14, 256)   0           block3_sepconv2_bn[0][0]         \n",
      "____________________________________________________________________________________________________\n",
      "batch_normalization_2 (BatchNorm (None, 14, 14, 256)   1024        conv2d_2[0][0]                   \n",
      "____________________________________________________________________________________________________\n",
      "add_2 (Add)                      (None, 14, 14, 256)   0           block3_pool[0][0]                \n",
      "                                                                   batch_normalization_2[0][0]      \n",
      "____________________________________________________________________________________________________\n",
      "block4_sepconv1_act (Activation) (None, 14, 14, 256)   0           add_2[0][0]                      \n",
      "____________________________________________________________________________________________________\n",
      "block4_sepconv1 (SeparableConv2D (None, 14, 14, 728)   188672      block4_sepconv1_act[0][0]        \n",
      "____________________________________________________________________________________________________\n",
      "block4_sepconv1_bn (BatchNormali (None, 14, 14, 728)   2912        block4_sepconv1[0][0]            \n",
      "____________________________________________________________________________________________________\n",
      "block4_sepconv2_act (Activation) (None, 14, 14, 728)   0           block4_sepconv1_bn[0][0]         \n",
      "____________________________________________________________________________________________________\n",
      "block4_sepconv2 (SeparableConv2D (None, 14, 14, 728)   536536      block4_sepconv2_act[0][0]        \n",
      "____________________________________________________________________________________________________\n",
      "block4_sepconv2_bn (BatchNormali (None, 14, 14, 728)   2912        block4_sepconv2[0][0]            \n",
      "____________________________________________________________________________________________________\n",
      "conv2d_3 (Conv2D)                (None, 7, 7, 728)     186368      add_2[0][0]                      \n",
      "____________________________________________________________________________________________________\n",
      "block4_pool (MaxPooling2D)       (None, 7, 7, 728)     0           block4_sepconv2_bn[0][0]         \n",
      "____________________________________________________________________________________________________\n",
      "batch_normalization_3 (BatchNorm (None, 7, 7, 728)     2912        conv2d_3[0][0]                   \n",
      "____________________________________________________________________________________________________\n",
      "add_3 (Add)                      (None, 7, 7, 728)     0           block4_pool[0][0]                \n",
      "                                                                   batch_normalization_3[0][0]      \n",
      "____________________________________________________________________________________________________\n",
      "block5_sepconv1_act (Activation) (None, 7, 7, 728)     0           add_3[0][0]                      \n",
      "____________________________________________________________________________________________________\n",
      "block5_sepconv1 (SeparableConv2D (None, 7, 7, 728)     536536      block5_sepconv1_act[0][0]        \n",
      "____________________________________________________________________________________________________\n",
      "block5_sepconv1_bn (BatchNormali (None, 7, 7, 728)     2912        block5_sepconv1[0][0]            \n",
      "____________________________________________________________________________________________________\n",
      "block5_sepconv2_act (Activation) (None, 7, 7, 728)     0           block5_sepconv1_bn[0][0]         \n",
      "____________________________________________________________________________________________________\n",
      "block5_sepconv2 (SeparableConv2D (None, 7, 7, 728)     536536      block5_sepconv2_act[0][0]        \n",
      "____________________________________________________________________________________________________\n",
      "block5_sepconv2_bn (BatchNormali (None, 7, 7, 728)     2912        block5_sepconv2[0][0]            \n",
      "____________________________________________________________________________________________________\n",
      "block5_sepconv3_act (Activation) (None, 7, 7, 728)     0           block5_sepconv2_bn[0][0]         \n",
      "____________________________________________________________________________________________________\n",
      "block5_sepconv3 (SeparableConv2D (None, 7, 7, 728)     536536      block5_sepconv3_act[0][0]        \n",
      "____________________________________________________________________________________________________\n",
      "block5_sepconv3_bn (BatchNormali (None, 7, 7, 728)     2912        block5_sepconv3[0][0]            \n",
      "____________________________________________________________________________________________________\n",
      "add_4 (Add)                      (None, 7, 7, 728)     0           block5_sepconv3_bn[0][0]         \n",
      "                                                                   add_3[0][0]                      \n",
      "____________________________________________________________________________________________________\n",
      "block6_sepconv1_act (Activation) (None, 7, 7, 728)     0           add_4[0][0]                      \n",
      "____________________________________________________________________________________________________\n",
      "block6_sepconv1 (SeparableConv2D (None, 7, 7, 728)     536536      block6_sepconv1_act[0][0]        \n",
      "____________________________________________________________________________________________________\n",
      "block6_sepconv1_bn (BatchNormali (None, 7, 7, 728)     2912        block6_sepconv1[0][0]            \n",
      "____________________________________________________________________________________________________\n",
      "block6_sepconv2_act (Activation) (None, 7, 7, 728)     0           block6_sepconv1_bn[0][0]         \n",
      "____________________________________________________________________________________________________\n",
      "block6_sepconv2 (SeparableConv2D (None, 7, 7, 728)     536536      block6_sepconv2_act[0][0]        \n",
      "____________________________________________________________________________________________________\n",
      "block6_sepconv2_bn (BatchNormali (None, 7, 7, 728)     2912        block6_sepconv2[0][0]            \n",
      "____________________________________________________________________________________________________\n",
      "block6_sepconv3_act (Activation) (None, 7, 7, 728)     0           block6_sepconv2_bn[0][0]         \n",
      "____________________________________________________________________________________________________\n",
      "block6_sepconv3 (SeparableConv2D (None, 7, 7, 728)     536536      block6_sepconv3_act[0][0]        \n",
      "____________________________________________________________________________________________________\n",
      "block6_sepconv3_bn (BatchNormali (None, 7, 7, 728)     2912        block6_sepconv3[0][0]            \n",
      "____________________________________________________________________________________________________\n",
      "add_5 (Add)                      (None, 7, 7, 728)     0           block6_sepconv3_bn[0][0]         \n",
      "                                                                   add_4[0][0]                      \n",
      "____________________________________________________________________________________________________\n",
      "block7_sepconv1_act (Activation) (None, 7, 7, 728)     0           add_5[0][0]                      \n",
      "____________________________________________________________________________________________________\n",
      "block7_sepconv1 (SeparableConv2D (None, 7, 7, 728)     536536      block7_sepconv1_act[0][0]        \n",
      "____________________________________________________________________________________________________\n",
      "block7_sepconv1_bn (BatchNormali (None, 7, 7, 728)     2912        block7_sepconv1[0][0]            \n",
      "____________________________________________________________________________________________________\n",
      "block7_sepconv2_act (Activation) (None, 7, 7, 728)     0           block7_sepconv1_bn[0][0]         \n",
      "____________________________________________________________________________________________________\n",
      "block7_sepconv2 (SeparableConv2D (None, 7, 7, 728)     536536      block7_sepconv2_act[0][0]        \n",
      "____________________________________________________________________________________________________\n",
      "block7_sepconv2_bn (BatchNormali (None, 7, 7, 728)     2912        block7_sepconv2[0][0]            \n",
      "____________________________________________________________________________________________________\n",
      "block7_sepconv3_act (Activation) (None, 7, 7, 728)     0           block7_sepconv2_bn[0][0]         \n",
      "____________________________________________________________________________________________________\n",
      "block7_sepconv3 (SeparableConv2D (None, 7, 7, 728)     536536      block7_sepconv3_act[0][0]        \n",
      "____________________________________________________________________________________________________\n",
      "block7_sepconv3_bn (BatchNormali (None, 7, 7, 728)     2912        block7_sepconv3[0][0]            \n",
      "____________________________________________________________________________________________________\n",
      "add_6 (Add)                      (None, 7, 7, 728)     0           block7_sepconv3_bn[0][0]         \n",
      "                                                                   add_5[0][0]                      \n",
      "____________________________________________________________________________________________________\n",
      "block8_sepconv1_act (Activation) (None, 7, 7, 728)     0           add_6[0][0]                      \n",
      "____________________________________________________________________________________________________\n",
      "block8_sepconv1 (SeparableConv2D (None, 7, 7, 728)     536536      block8_sepconv1_act[0][0]        \n",
      "____________________________________________________________________________________________________\n",
      "block8_sepconv1_bn (BatchNormali (None, 7, 7, 728)     2912        block8_sepconv1[0][0]            \n",
      "____________________________________________________________________________________________________\n",
      "block8_sepconv2_act (Activation) (None, 7, 7, 728)     0           block8_sepconv1_bn[0][0]         \n",
      "____________________________________________________________________________________________________\n",
      "block8_sepconv2 (SeparableConv2D (None, 7, 7, 728)     536536      block8_sepconv2_act[0][0]        \n",
      "____________________________________________________________________________________________________\n",
      "block8_sepconv2_bn (BatchNormali (None, 7, 7, 728)     2912        block8_sepconv2[0][0]            \n",
      "____________________________________________________________________________________________________\n",
      "block8_sepconv3_act (Activation) (None, 7, 7, 728)     0           block8_sepconv2_bn[0][0]         \n",
      "____________________________________________________________________________________________________\n",
      "block8_sepconv3 (SeparableConv2D (None, 7, 7, 728)     536536      block8_sepconv3_act[0][0]        \n",
      "____________________________________________________________________________________________________\n",
      "block8_sepconv3_bn (BatchNormali (None, 7, 7, 728)     2912        block8_sepconv3[0][0]            \n",
      "____________________________________________________________________________________________________\n",
      "add_7 (Add)                      (None, 7, 7, 728)     0           block8_sepconv3_bn[0][0]         \n",
      "                                                                   add_6[0][0]                      \n",
      "____________________________________________________________________________________________________\n",
      "block9_sepconv1_act (Activation) (None, 7, 7, 728)     0           add_7[0][0]                      \n",
      "____________________________________________________________________________________________________\n",
      "block9_sepconv1 (SeparableConv2D (None, 7, 7, 728)     536536      block9_sepconv1_act[0][0]        \n",
      "____________________________________________________________________________________________________\n",
      "block9_sepconv1_bn (BatchNormali (None, 7, 7, 728)     2912        block9_sepconv1[0][0]            \n",
      "____________________________________________________________________________________________________\n",
      "block9_sepconv2_act (Activation) (None, 7, 7, 728)     0           block9_sepconv1_bn[0][0]         \n",
      "____________________________________________________________________________________________________\n",
      "block9_sepconv2 (SeparableConv2D (None, 7, 7, 728)     536536      block9_sepconv2_act[0][0]        \n",
      "____________________________________________________________________________________________________\n",
      "block9_sepconv2_bn (BatchNormali (None, 7, 7, 728)     2912        block9_sepconv2[0][0]            \n",
      "____________________________________________________________________________________________________\n",
      "block9_sepconv3_act (Activation) (None, 7, 7, 728)     0           block9_sepconv2_bn[0][0]         \n",
      "____________________________________________________________________________________________________\n",
      "block9_sepconv3 (SeparableConv2D (None, 7, 7, 728)     536536      block9_sepconv3_act[0][0]        \n",
      "____________________________________________________________________________________________________\n",
      "block9_sepconv3_bn (BatchNormali (None, 7, 7, 728)     2912        block9_sepconv3[0][0]            \n",
      "____________________________________________________________________________________________________\n",
      "add_8 (Add)                      (None, 7, 7, 728)     0           block9_sepconv3_bn[0][0]         \n",
      "                                                                   add_7[0][0]                      \n",
      "____________________________________________________________________________________________________\n",
      "block10_sepconv1_act (Activation (None, 7, 7, 728)     0           add_8[0][0]                      \n",
      "____________________________________________________________________________________________________\n",
      "block10_sepconv1 (SeparableConv2 (None, 7, 7, 728)     536536      block10_sepconv1_act[0][0]       \n",
      "____________________________________________________________________________________________________\n",
      "block10_sepconv1_bn (BatchNormal (None, 7, 7, 728)     2912        block10_sepconv1[0][0]           \n",
      "____________________________________________________________________________________________________\n",
      "block10_sepconv2_act (Activation (None, 7, 7, 728)     0           block10_sepconv1_bn[0][0]        \n",
      "____________________________________________________________________________________________________\n",
      "block10_sepconv2 (SeparableConv2 (None, 7, 7, 728)     536536      block10_sepconv2_act[0][0]       \n",
      "____________________________________________________________________________________________________\n",
      "block10_sepconv2_bn (BatchNormal (None, 7, 7, 728)     2912        block10_sepconv2[0][0]           \n",
      "____________________________________________________________________________________________________\n",
      "block10_sepconv3_act (Activation (None, 7, 7, 728)     0           block10_sepconv2_bn[0][0]        \n",
      "____________________________________________________________________________________________________\n",
      "block10_sepconv3 (SeparableConv2 (None, 7, 7, 728)     536536      block10_sepconv3_act[0][0]       \n",
      "____________________________________________________________________________________________________\n",
      "block10_sepconv3_bn (BatchNormal (None, 7, 7, 728)     2912        block10_sepconv3[0][0]           \n",
      "____________________________________________________________________________________________________\n",
      "add_9 (Add)                      (None, 7, 7, 728)     0           block10_sepconv3_bn[0][0]        \n",
      "                                                                   add_8[0][0]                      \n",
      "____________________________________________________________________________________________________\n",
      "block11_sepconv1_act (Activation (None, 7, 7, 728)     0           add_9[0][0]                      \n",
      "____________________________________________________________________________________________________\n",
      "block11_sepconv1 (SeparableConv2 (None, 7, 7, 728)     536536      block11_sepconv1_act[0][0]       \n",
      "____________________________________________________________________________________________________\n",
      "block11_sepconv1_bn (BatchNormal (None, 7, 7, 728)     2912        block11_sepconv1[0][0]           \n",
      "____________________________________________________________________________________________________\n",
      "block11_sepconv2_act (Activation (None, 7, 7, 728)     0           block11_sepconv1_bn[0][0]        \n",
      "____________________________________________________________________________________________________\n",
      "block11_sepconv2 (SeparableConv2 (None, 7, 7, 728)     536536      block11_sepconv2_act[0][0]       \n",
      "____________________________________________________________________________________________________\n",
      "block11_sepconv2_bn (BatchNormal (None, 7, 7, 728)     2912        block11_sepconv2[0][0]           \n",
      "____________________________________________________________________________________________________\n",
      "block11_sepconv3_act (Activation (None, 7, 7, 728)     0           block11_sepconv2_bn[0][0]        \n",
      "____________________________________________________________________________________________________\n",
      "block11_sepconv3 (SeparableConv2 (None, 7, 7, 728)     536536      block11_sepconv3_act[0][0]       \n",
      "____________________________________________________________________________________________________\n",
      "block11_sepconv3_bn (BatchNormal (None, 7, 7, 728)     2912        block11_sepconv3[0][0]           \n",
      "____________________________________________________________________________________________________\n",
      "add_10 (Add)                     (None, 7, 7, 728)     0           block11_sepconv3_bn[0][0]        \n",
      "                                                                   add_9[0][0]                      \n",
      "____________________________________________________________________________________________________\n",
      "block12_sepconv1_act (Activation (None, 7, 7, 728)     0           add_10[0][0]                     \n",
      "____________________________________________________________________________________________________\n",
      "block12_sepconv1 (SeparableConv2 (None, 7, 7, 728)     536536      block12_sepconv1_act[0][0]       \n",
      "____________________________________________________________________________________________________\n",
      "block12_sepconv1_bn (BatchNormal (None, 7, 7, 728)     2912        block12_sepconv1[0][0]           \n",
      "____________________________________________________________________________________________________\n",
      "block12_sepconv2_act (Activation (None, 7, 7, 728)     0           block12_sepconv1_bn[0][0]        \n",
      "____________________________________________________________________________________________________\n",
      "block12_sepconv2 (SeparableConv2 (None, 7, 7, 728)     536536      block12_sepconv2_act[0][0]       \n",
      "____________________________________________________________________________________________________\n",
      "block12_sepconv2_bn (BatchNormal (None, 7, 7, 728)     2912        block12_sepconv2[0][0]           \n",
      "____________________________________________________________________________________________________\n",
      "block12_sepconv3_act (Activation (None, 7, 7, 728)     0           block12_sepconv2_bn[0][0]        \n",
      "____________________________________________________________________________________________________\n",
      "block12_sepconv3 (SeparableConv2 (None, 7, 7, 728)     536536      block12_sepconv3_act[0][0]       \n",
      "____________________________________________________________________________________________________\n",
      "block12_sepconv3_bn (BatchNormal (None, 7, 7, 728)     2912        block12_sepconv3[0][0]           \n",
      "____________________________________________________________________________________________________\n",
      "add_11 (Add)                     (None, 7, 7, 728)     0           block12_sepconv3_bn[0][0]        \n",
      "                                                                   add_10[0][0]                     \n",
      "____________________________________________________________________________________________________\n",
      "block13_sepconv1_act (Activation (None, 7, 7, 728)     0           add_11[0][0]                     \n",
      "____________________________________________________________________________________________________\n",
      "block13_sepconv1 (SeparableConv2 (None, 7, 7, 728)     536536      block13_sepconv1_act[0][0]       \n",
      "____________________________________________________________________________________________________\n",
      "block13_sepconv1_bn (BatchNormal (None, 7, 7, 728)     2912        block13_sepconv1[0][0]           \n",
      "____________________________________________________________________________________________________\n",
      "block13_sepconv2_act (Activation (None, 7, 7, 728)     0           block13_sepconv1_bn[0][0]        \n",
      "____________________________________________________________________________________________________\n",
      "block13_sepconv2 (SeparableConv2 (None, 7, 7, 1024)    752024      block13_sepconv2_act[0][0]       \n",
      "____________________________________________________________________________________________________\n",
      "block13_sepconv2_bn (BatchNormal (None, 7, 7, 1024)    4096        block13_sepconv2[0][0]           \n",
      "____________________________________________________________________________________________________\n",
      "conv2d_4 (Conv2D)                (None, 4, 4, 1024)    745472      add_11[0][0]                     \n",
      "____________________________________________________________________________________________________\n",
      "block13_pool (MaxPooling2D)      (None, 4, 4, 1024)    0           block13_sepconv2_bn[0][0]        \n",
      "____________________________________________________________________________________________________\n",
      "batch_normalization_4 (BatchNorm (None, 4, 4, 1024)    4096        conv2d_4[0][0]                   \n",
      "____________________________________________________________________________________________________\n",
      "add_12 (Add)                     (None, 4, 4, 1024)    0           block13_pool[0][0]               \n",
      "                                                                   batch_normalization_4[0][0]      \n",
      "____________________________________________________________________________________________________\n",
      "block14_sepconv1 (SeparableConv2 (None, 4, 4, 1536)    1582080     add_12[0][0]                     \n",
      "____________________________________________________________________________________________________\n",
      "block14_sepconv1_bn (BatchNormal (None, 4, 4, 1536)    6144        block14_sepconv1[0][0]           \n",
      "____________________________________________________________________________________________________\n",
      "block14_sepconv1_act (Activation (None, 4, 4, 1536)    0           block14_sepconv1_bn[0][0]        \n",
      "____________________________________________________________________________________________________\n",
      "block14_sepconv2 (SeparableConv2 (None, 4, 4, 2048)    3159552     block14_sepconv1_act[0][0]       \n",
      "____________________________________________________________________________________________________\n",
      "block14_sepconv2_bn (BatchNormal (None, 4, 4, 2048)    8192        block14_sepconv2[0][0]           \n",
      "____________________________________________________________________________________________________\n",
      "block14_sepconv2_act (Activation (None, 4, 4, 2048)    0           block14_sepconv2_bn[0][0]        \n",
      "____________________________________________________________________________________________________\n",
      "flatten_3 (Flatten)              (None, 32768)         0           block14_sepconv2_act[0][0]       \n",
      "____________________________________________________________________________________________________\n",
      "dropout_5 (Dropout)              (None, 32768)         0           flatten_3[0][0]                  \n",
      "____________________________________________________________________________________________________\n",
      "dense_3 (Dense)                  (None, 1024)          33555456    dropout_5[0][0]                  \n",
      "____________________________________________________________________________________________________\n",
      "dropout_6 (Dropout)              (None, 1024)          0           dense_3[0][0]                    \n",
      "____________________________________________________________________________________________________\n",
      "fc17 (Dense)                     (None, 17)            17425       dropout_6[0][0]                  \n",
      "====================================================================================================\n",
      "Total params: 54,434,361\n",
      "Trainable params: 53,273,073\n",
      "Non-trainable params: 1,161,288\n",
      "____________________________________________________________________________________________________\n"
     ]
    }
   ],
   "source": [
    "model.summary()"
   ]
  },
  {
   "cell_type": "code",
   "execution_count": 16,
   "metadata": {
    "collapsed": true
   },
   "outputs": [],
   "source": [
    "model = Model(inputs=xc.input,outputs=x)\n",
    "model.compile(optimizer=Adam(lr=1e-5), loss='binary_crossentropy', metrics=['accuracy'])\n",
    "model.load_weights(\"weights/xception_17class_aug_toponly_ft_block5_sepconv1.h5\")\n",
    "\n",
    "\n",
    "\n",
    "#xception_17class_aug_toponly_ft_all"
   ]
  },
  {
   "cell_type": "code",
   "execution_count": 63,
   "metadata": {
    "collapsed": true
   },
   "outputs": [],
   "source": [
    "# for l in model.layers:\n",
    "#     if l.trainable==True:\n",
    "#         print( l.name)"
   ]
  },
  {
   "cell_type": "markdown",
   "metadata": {},
   "source": [
    "### Quick training and prediction (on SAMPLE data)"
   ]
  },
  {
   "cell_type": "code",
   "execution_count": 17,
   "metadata": {
    "collapsed": true
   },
   "outputs": [],
   "source": [
    "VALIDATION_SPLIT = 0.2\n",
    "np.random.seed(1)\n",
    "\n",
    "# perm = np.random.permutation(len(x_sample))\n",
    "# idx_train = perm[:int(len(x_sample)*(1-VALIDATION_SPLIT))]\n",
    "# idx_val = perm[int(len(x_sample)*(1-VALIDATION_SPLIT)):]\n",
    "\n",
    "# X_train = x_sample[idx_train]\n",
    "# Y_train = y_sample[idx_train]\n",
    "# X_valid = x_sample[idx_val]\n",
    "# Y_valid = y_sample[idx_val]\n",
    "\n",
    "\n",
    "\n",
    "perm = np.random.permutation(len(x_train))\n",
    "idx_train = perm[:int(len(x_train)*(1-VALIDATION_SPLIT))]\n",
    "idx_val = perm[int(len(x_train)*(1-VALIDATION_SPLIT)):]\n",
    "\n",
    "\n",
    "X_train = x_train[idx_train]\n",
    "Y_train = y_train[idx_train]\n",
    "X_valid = x_train[idx_val]\n",
    "Y_valid = y_train[idx_val]\n",
    "\n"
   ]
  },
  {
   "cell_type": "code",
   "execution_count": 25,
   "metadata": {
    "collapsed": true
   },
   "outputs": [],
   "source": [
    "del X_train"
   ]
  },
  {
   "cell_type": "code",
   "execution_count": 23,
   "metadata": {
    "scrolled": true
   },
   "outputs": [
    {
     "data": {
      "text/plain": [
       "((32383, 112, 112, 3), (32383, 17))"
      ]
     },
     "execution_count": 23,
     "metadata": {},
     "output_type": "execute_result"
    }
   ],
   "source": [
    "X_train.shape,Y_train.shape\n"
   ]
  },
  {
   "cell_type": "code",
   "execution_count": 24,
   "metadata": {},
   "outputs": [
    {
     "data": {
      "text/plain": [
       "((8096, 17), (8096, 3, 224, 224))"
      ]
     },
     "execution_count": 24,
     "metadata": {},
     "output_type": "execute_result"
    }
   ],
   "source": [
    "Y_valid.shape,X_valid.shape"
   ]
  },
  {
   "cell_type": "code",
   "execution_count": 32,
   "metadata": {
    "collapsed": true
   },
   "outputs": [],
   "source": [
    "# plt.bar(np.arange(0,17),Y_train.sum(axis=0))\n"
   ]
  },
  {
   "cell_type": "code",
   "execution_count": 33,
   "metadata": {
    "collapsed": true
   },
   "outputs": [],
   "source": [
    "# plt.bar(np.arange(0,17),Y_valid.sum(axis=0))"
   ]
  },
  {
   "cell_type": "code",
   "execution_count": 34,
   "metadata": {
    "collapsed": true
   },
   "outputs": [],
   "source": [
    "# ratios = Y_valid.sum(axis=0).ravel()/ 1.0*Y_train.sum(axis=0).ravel()\n",
    "# plt.bar(np.arange(17),1/ratios)"
   ]
  },
  {
   "cell_type": "markdown",
   "metadata": {},
   "source": [
    "#### With Augmentation"
   ]
  },
  {
   "cell_type": "code",
   "execution_count": 27,
   "metadata": {
    "collapsed": true
   },
   "outputs": [],
   "source": [
    "batch_size = 128\n",
    "\n",
    "# train_gen = ImageDataGenerator(rotation_range=359,\n",
    "#     width_shift_range=0.1,\n",
    "#     height_shift_range=0.1,\n",
    "#     shear_range=0.2,\n",
    "#     zoom_range=0.2,\n",
    "#     channel_shift_range=0.2,\n",
    "#     horizontal_flip=True,\n",
    "#     vertical_flip=True,fill_mode='reflect')\n",
    "\n",
    "train_gen = ImageDataGenerator2(rotation_range=270,\n",
    "#     width_shift_range=0.2,\n",
    "#     height_shift_range=0.2,\n",
    "    shear_range=0.1,\n",
    "#     zoom_range=0.2,\n",
    "    channel_shift_range=0.1,\n",
    "    horizontal_flip=True,\n",
    "    vertical_flip=False)\n",
    "\n",
    "\n",
    "#image.ImageDataGenerator(\n",
    "#Make sure to set shuffle to FALSE!! for pre-computations\n",
    "# train_batch = train_gen.flow(X_train,[Y_train[:,weather_indices],Y_train[:,rare_class_indices]],\n",
    "#                              batch_size=batch_size,shuffle=True)\n",
    "\n",
    "train_batch = train_gen.flow(x_train,y_train,batch_size=batch_size,shuffle=True)\n",
    "\n",
    "#verify augmentation results:\n",
    "#,save_to_dir=\"data/tmp/aug_v1/\",save_prefix=\"v1\")"
   ]
  },
  {
   "cell_type": "markdown",
   "metadata": {},
   "source": [
    "--- \n"
   ]
  },
  {
   "cell_type": "code",
   "execution_count": 73,
   "metadata": {
    "collapsed": true
   },
   "outputs": [],
   "source": [
    "# model.summary()"
   ]
  },
  {
   "cell_type": "code",
   "execution_count": 28,
   "metadata": {
    "collapsed": true
   },
   "outputs": [],
   "source": [
    "\n",
    "kfold_weights_path = os.path.join('weights/', 'xception_17class_simpleaug_block5_sepconv1_alltrain.h5')\n",
    "\n",
    "\n",
    "#              ReduceLROnPlateau(monitor='val_loss',  patience=3, verbose=1, factor=0.1, min_lr=1e-7)\n",
    "callbacks = [EarlyStopping(monitor='val_loss', patience=5),\n",
    "             ModelCheckpoint(kfold_weights_path, monitor='val_loss', save_best_only=True),\n",
    "             ReduceLROnPlateau(monitor='val_loss',  patience=2, verbose=1, factor=0.5, min_lr=1e-6)\n",
    "            ]\n",
    "\n"
   ]
  },
  {
   "cell_type": "markdown",
   "metadata": {},
   "source": [
    "#### Results\n",
    "....\n",
    "\n",
    "best of no globa avg, flatten+1024 dense:\n",
    "127/126 [==============================] - 133s - loss: 0.1433 - acc: 0.9450 - val_loss: 0.1269 - val_acc: 0.9517\n",
    "\n",
    "no gavg, 1024 dense only, finetuning block14_sepconv1 (-6+):\n",
    "\n",
    "253/252 [==============================] - 150s - loss: 0.1102 - acc: 0.9575 - val_loss: 0.1027 - val_acc: 0.9613\n",
    "\n",
    "block5_sepconv1:\n",
    "\n",
    "253/252 [==============================] - 254s - loss: 0.0928 - acc: 0.9644 - val_loss: 0.0963 - val_acc: 0.9640\n",
    "\n",
    "\n",
    "\n",
    "xception_17class_simpleaug_block5_sepconv1:\n",
    "\n",
    "Epoch 3/100\n",
    "253/252 [==============================] - 255s - loss: 0.0844 - acc: 0.9669 - val_loss: 0.0924 - val_acc: 0.9652\n",
    "\n",
    "\n",
    "\n",
    "\n",
    "\n",
    "all layers:\n",
    "253/252 [==============================] - 393s - loss: 0.0882 - acc: 0.9661 - val_loss: 0.0957 - val_acc: 0.9644\n",
    "\n",
    "\n",
    "\n",
    "gavgx512:\n",
    "127/126 [==============================] - 122s - loss: 0.1742 - acc: 0.9346 - val_loss: 0.1697 - val_acc: 0.9402\n"
   ]
  },
  {
   "cell_type": "code",
   "execution_count": 29,
   "metadata": {
    "scrolled": false
   },
   "outputs": [
    {
     "name": "stdout",
     "output_type": "stream",
     "text": [
      "Epoch 1/2\n",
      "317/316 [==============================] - 308s - loss: 0.0865 - acc: 0.9665 - val_loss: 0.0912 - val_acc: 0.9655\n",
      "Epoch 2/2\n",
      "317/316 [==============================] - 314s - loss: 0.0857 - acc: 0.9666 - val_loss: 0.0904 - val_acc: 0.9657\n"
     ]
    }
   ],
   "source": [
    "\n",
    "history = model.fit_generator(train_batch, validation_data=(X_valid, Y_valid),\n",
    "                               steps_per_epoch=len(x_train)/batch_size,epochs=2,callbacks=callbacks)\n",
    "\n",
    "\n"
   ]
  },
  {
   "cell_type": "markdown",
   "metadata": {},
   "source": [
    "#### Finetuning top resnet layers (block 5c)"
   ]
  },
  {
   "cell_type": "code",
   "execution_count": 38,
   "metadata": {},
   "outputs": [
    {
     "name": "stdout",
     "output_type": "stream",
     "text": [
      "loading best weights from 'weights/xception_17class_simpleaug_block5_sepconv1_alltrain.h5'\n"
     ]
    }
   ],
   "source": [
    "if os.path.isfile(kfold_weights_path):\n",
    "    print (\"loading best weights from '{}'\".format(kfold_weights_path))\n",
    "    model.load_weights(kfold_weights_path)\n",
    "    \n",
    "    "
   ]
  },
  {
   "cell_type": "code",
   "execution_count": 84,
   "metadata": {},
   "outputs": [
    {
     "data": {
      "text/plain": [
       "(8096, 112, 112, 3)"
      ]
     },
     "execution_count": 84,
     "metadata": {},
     "output_type": "execute_result"
    }
   ],
   "source": [
    "X_valid.shape"
   ]
  },
  {
   "cell_type": "code",
   "execution_count": 30,
   "metadata": {
    "collapsed": true
   },
   "outputs": [],
   "source": [
    "def make_augmented_predictions(model,data,generator,num_aug):\n",
    "    preds = np.zeros((data.shape[0],17)).astype(np.float32) #model.predict(data)\n",
    "    \n",
    "    for i in tqdm_notebook(range(num_aug)):\n",
    "        partial_preds = []\n",
    "        test_batch = train_gen.flow(data,batch_size=100,shuffle=False)\n",
    "        partial_preds.append( model.predict_generator(test_batch,steps=data.shape[0]/100, verbose=1))\n",
    "                             \n",
    "        preds += np.vstack(partial_preds)\n",
    "        \n",
    "    return  preds/float(num_aug)"
   ]
  },
  {
   "cell_type": "code",
   "execution_count": 31,
   "metadata": {
    "collapsed": true
   },
   "outputs": [],
   "source": [
    "model.load_weights(\"weights/xception_17class_simpleaug_block5_sepconv1.h5\")"
   ]
  },
  {
   "cell_type": "code",
   "execution_count": 32,
   "metadata": {
    "scrolled": false
   },
   "outputs": [
    {
     "data": {
      "application/vnd.jupyter.widget-view+json": {
       "model_id": "b9796bac62b94615a09aaea630cf14b5"
      }
     },
     "metadata": {},
     "output_type": "display_data"
    },
    {
     "name": "stdout",
     "output_type": "stream",
     "text": [
      "81/80 [==============================] - 27s    \n",
      "81/80 [==============================] - 26s    \n",
      "81/80 [==============================] - 26s    \n",
      "81/80 [==============================] - 26s    \n",
      "81/80 [==============================] - 26s    \n",
      "81/80 [==============================] - 26s    \n",
      "81/80 [==============================] - 26s    \n",
      "81/80 [==============================] - 26s    \n",
      "81/80 [==============================] - 26s    \n",
      "81/80 [==============================] - 26s    \n",
      "\n"
     ]
    }
   ],
   "source": [
    "# preds_val = make_augmented_rotations(model,X_valid)#model.predict(X_valid)\n",
    "preds_val = make_augmented_predictions(model,X_valid,train_gen,10)"
   ]
  },
  {
   "cell_type": "code",
   "execution_count": 33,
   "metadata": {
    "collapsed": true
   },
   "outputs": [],
   "source": [
    "save_array(\"data/cache/preds_val_xception_10x_simpleaug_block5_sepconv1.dat\", preds_val)"
   ]
  },
  {
   "cell_type": "code",
   "execution_count": 34,
   "metadata": {
    "collapsed": true
   },
   "outputs": [],
   "source": [
    "def optimise_f2_thresholds2(y, p, verbose=True, resolution=100,num_classes=17):\n",
    "    def mf(x):\n",
    "        p2 = np.zeros_like(p)\n",
    "        for i in range(num_classes):\n",
    "            p2[:, i] = (p[:, i] > x[i]).astype(np.int)\n",
    "        score = fbeta_score(y, p2, beta=2, average='samples')\n",
    "        return score\n",
    "\n",
    "    x = [0.1]*num_classes\n",
    "    for i in range(num_classes):\n",
    "        best_i2 = 0\n",
    "        best_score = 0\n",
    "        for i2 in range(resolution):\n",
    "            threshold = float(i2) / resolution\n",
    "            x[i] = threshold\n",
    "            score = mf(x)\n",
    "            if score > best_score:\n",
    "                best_i2 = threshold\n",
    "                best_score = score\n",
    "\n",
    "        x[i] = best_i2\n",
    "        if verbose:\n",
    "            print(i, best_i2, best_score)\n",
    "\n",
    "    return x\n"
   ]
  },
  {
   "cell_type": "code",
   "execution_count": 35,
   "metadata": {},
   "outputs": [
    {
     "name": "stdout",
     "output_type": "stream",
     "text": [
      "0 0.18 0.915938091466\n",
      "1 0.19 0.916073139239\n",
      "2 0.11 0.916084294376\n",
      "3 0.2 0.916583679277\n",
      "4 0.21 0.918374088013\n",
      "5 0.14 0.918431472956\n",
      "6 0.19 0.919135118622\n",
      "7 0.21 0.919908136556\n",
      "8 0.14 0.919963628709\n",
      "9 0.2 0.921138756738\n",
      "10 0.21 0.921604118378\n",
      "11 0.24 0.922901933229\n",
      "12 0.27 0.922971643732\n",
      "13 0.12 0.923083759942\n",
      "14 0.24 0.924490753763\n",
      "15 0.22 0.926098588425\n"
     ]
    },
    {
     "name": "stderr",
     "output_type": "stream",
     "text": [
      "/home/ubuntu/anaconda3/lib/python3.6/site-packages/sklearn/metrics/classification.py:1113: UndefinedMetricWarning: F-score is ill-defined and being set to 0.0 in samples with no predicted labels.\n",
      "  'precision', 'predicted', average, warn_for)\n"
     ]
    },
    {
     "name": "stdout",
     "output_type": "stream",
     "text": [
      "16 0.15 0.926283841263\n"
     ]
    },
    {
     "data": {
      "text/plain": [
       "0.18941176470588236"
      ]
     },
     "execution_count": 35,
     "metadata": {},
     "output_type": "execute_result"
    }
   ],
   "source": [
    "# thres = optimise_f2_thresholds2(Y_valid[:,rare_class_indices], preds_val[1],num_classes=17)\n",
    "thres = optimise_f2_thresholds2(Y_valid, preds_val,num_classes=17)\n",
    "\n",
    "np.mean(thres)"
   ]
  },
  {
   "cell_type": "markdown",
   "metadata": {},
   "source": [
    "##### Results\n",
    "only top: ('F2 Score:', 0.90277204908226472)\n",
    "\n",
    "17x classes 5b: ('F2 Score:', 0.92441155146612664)\n",
    "\n",
    "17x classes 5a: ('F2 Score:', 0.92602459589916475)\n",
    "\n",
    "\n",
    "#### Exception\n",
    "best of exception:\n",
    "F2 Score: 0.921121043237\n",
    "\n",
    "with 4x flips on thresholds:\n",
    "F2 Score: 0.923967972874\n",
    "\n",
    "with 4x augmentation on thresholds:\n",
    "F2 Score: 0.924676457478\n",
    "\n",
    "with 12x threshold augmentation:\n",
    "F2 Score: 0.925721614367\n",
    "\n",
    "\n",
    "simple aug:\n",
    "F2 Score: 0.926283841263"
   ]
  },
  {
   "cell_type": "code",
   "execution_count": 36,
   "metadata": {
    "scrolled": false
   },
   "outputs": [
    {
     "name": "stdout",
     "output_type": "stream",
     "text": [
      "F2 Score: 0.926283841263\n"
     ]
    }
   ],
   "source": [
    "print('F2 Score:', f2_score(Y_valid, preds_val>thres)) #combined_val_preds"
   ]
  },
  {
   "cell_type": "code",
   "execution_count": 37,
   "metadata": {
    "collapsed": true
   },
   "outputs": [],
   "source": [
    "save_array(\"data/cache/xception_val_thres_simpleaug_block5_sepconv1.dat\",thres)"
   ]
  },
  {
   "cell_type": "markdown",
   "metadata": {},
   "source": [
    "#### Confusin matrix\n",
    "weather seems to be performing bad, let's peak into detaisl"
   ]
  },
  {
   "cell_type": "code",
   "execution_count": 139,
   "metadata": {
    "collapsed": true
   },
   "outputs": [],
   "source": [
    "from sklearn.metrics import classification_report\n",
    "\n"
   ]
  },
  {
   "cell_type": "code",
   "execution_count": 151,
   "metadata": {},
   "outputs": [
    {
     "name": "stdout",
     "output_type": "stream",
     "text": [
      "                   precision    recall  f1-score   support\n",
      "\n",
      "        blow_down       0.56      0.24      0.33        21\n",
      "      bare_ground       0.29      0.34      0.32       177\n",
      "conventional_mine       0.57      0.62      0.59        21\n",
      "         blooming       0.30      0.04      0.07        71\n",
      "      cultivation       0.53      0.70      0.60       890\n",
      "   artisinal_mine       0.83      0.88      0.86        68\n",
      "             haze       0.59      0.80      0.68       547\n",
      "          primary       0.97      1.00      0.98      7503\n",
      "       slash_burn       0.67      0.04      0.08        47\n",
      "       habitation       0.63      0.78      0.70       699\n",
      "            clear       0.91      0.99      0.95      5674\n",
      "             road       0.71      0.91      0.80      1547\n",
      "selective_logging       0.27      0.56      0.36        59\n",
      "    partly_cloudy       0.83      0.97      0.90      1460\n",
      "      agriculture       0.72      0.95      0.82      2429\n",
      "            water       0.70      0.87      0.77      1516\n",
      "           cloudy       0.69      0.96      0.81       415\n",
      "\n",
      "      avg / total       0.83      0.94      0.88     23144\n",
      "\n"
     ]
    }
   ],
   "source": [
    "print (classification_report(Y_valid.astype(bool),(preds_val>thres),\n",
    "                            target_names=labels))"
   ]
  },
  {
   "cell_type": "markdown",
   "metadata": {},
   "source": [
    "### Making Prediction"
   ]
  },
  {
   "cell_type": "code",
   "execution_count": 165,
   "metadata": {
    "collapsed": true
   },
   "outputs": [],
   "source": [
    "def make_staged_predictions(model,num_parts, nb_aug=1):\n",
    "    partial_preds = []\n",
    "\n",
    "    data = x_test#load_array(\"data/cache/xtest_{}x{}.dat\".format(target_size[0],target_size[0]))\n",
    "\n",
    "    chunck_size = int(len(data)/num_parts)\n",
    "\n",
    "    print (\"data has shape: \", data.shape)\n",
    "    print (\"breaking data into chunks of \", chunck_size)\n",
    "    \n",
    "    \n",
    "    augmented_predictions = np.zeros((data.shape[0],17)).astype(np.float16)\n",
    "\n",
    "    for n in range(nb_aug):\n",
    "        print (\"augmentation round {} of {}\".format(n+1,nb_aug)) \n",
    "        partial_preds = []\n",
    "        batch_size = 128.0\n",
    "\n",
    "        for i in range(1,num_parts+2):\n",
    "            print( \"predicting part {} of {}\".format(i,num_parts)      )\n",
    "\n",
    "            start_index = (i-1)*chunck_size\n",
    "            end_index = min(len(data),i*chunck_size)\n",
    "            num_items = end_index-start_index\n",
    "            \n",
    "            test_batch = train_gen.flow(data[start_index:end_index],batch_size=int(batch_size),shuffle=False)\n",
    "            pp = model.predict_generator(test_batch,steps=math.ceil(num_items/batch_size), verbose=1)\n",
    "\n",
    "            print (\"items needed vs. items generated: \",num_items,len(pp) )\n",
    "            \n",
    "            partial_preds.append(pp)\n",
    "\n",
    "\n",
    "        augmented_predictions += np.vstack(partial_preds)\n",
    "\n",
    "    augmented_predictions /= (nb_aug) \n",
    "    return augmented_predictions\n",
    "\n",
    "    \n"
   ]
  },
  {
   "cell_type": "code",
   "execution_count": 166,
   "metadata": {},
   "outputs": [
    {
     "name": "stdout",
     "output_type": "stream",
     "text": [
      "data has shape:  (61191, 112, 112, 3)\n",
      "breaking data into chunks of  12238\n",
      "augmentation round 1 of 12\n",
      "predicting part 1 of 5\n",
      "96/96 [==============================] - 40s    \n",
      "items needed vs. items generated:  12238 12238\n",
      "predicting part 2 of 5\n",
      "96/96 [==============================] - 40s    \n",
      "items needed vs. items generated:  12238 12238\n",
      "predicting part 3 of 5\n",
      "96/96 [==============================] - 40s    \n",
      "items needed vs. items generated:  12238 12238\n",
      "predicting part 4 of 5\n",
      "96/96 [==============================] - 40s    \n",
      "items needed vs. items generated:  12238 12238\n",
      "predicting part 5 of 5\n",
      "96/96 [==============================] - 40s    \n",
      "items needed vs. items generated:  12238 12238\n",
      "predicting part 6 of 5\n",
      "1/1 [==============================] - 0s\n",
      "items needed vs. items generated:  1 1\n",
      "augmentation round 2 of 12\n",
      "predicting part 1 of 5\n",
      "96/96 [==============================] - 40s    \n",
      "items needed vs. items generated:  12238 12238\n",
      "predicting part 2 of 5\n",
      "96/96 [==============================] - 40s    \n",
      "items needed vs. items generated:  12238 12238\n",
      "predicting part 3 of 5\n",
      "96/96 [==============================] - 40s    \n",
      "items needed vs. items generated:  12238 12238\n",
      "predicting part 4 of 5\n",
      "96/96 [==============================] - 40s    \n",
      "items needed vs. items generated:  12238 12238\n",
      "predicting part 5 of 5\n",
      "96/96 [==============================] - 40s    \n",
      "items needed vs. items generated:  12238 12238\n",
      "predicting part 6 of 5\n",
      "1/1 [==============================] - 0s\n",
      "items needed vs. items generated:  1 1\n",
      "augmentation round 3 of 12\n",
      "predicting part 1 of 5\n",
      "96/96 [==============================] - 40s    \n",
      "items needed vs. items generated:  12238 12238\n",
      "predicting part 2 of 5\n",
      "96/96 [==============================] - 40s    \n",
      "items needed vs. items generated:  12238 12238\n",
      "predicting part 3 of 5\n",
      "96/96 [==============================] - 40s    \n",
      "items needed vs. items generated:  12238 12238\n",
      "predicting part 4 of 5\n",
      "96/96 [==============================] - 40s    \n",
      "items needed vs. items generated:  12238 12238\n",
      "predicting part 5 of 5\n",
      "96/96 [==============================] - 40s    \n",
      "items needed vs. items generated:  12238 12238\n",
      "predicting part 6 of 5\n",
      "1/1 [==============================] - 0s\n",
      "items needed vs. items generated:  1 1\n",
      "augmentation round 4 of 12\n",
      "predicting part 1 of 5\n",
      "96/96 [==============================] - 40s    \n",
      "items needed vs. items generated:  12238 12238\n",
      "predicting part 2 of 5\n",
      "96/96 [==============================] - 40s    \n",
      "items needed vs. items generated:  12238 12238\n",
      "predicting part 3 of 5\n",
      "96/96 [==============================] - 40s    \n",
      "items needed vs. items generated:  12238 12238\n",
      "predicting part 4 of 5\n",
      "96/96 [==============================] - 40s    \n",
      "items needed vs. items generated:  12238 12238\n",
      "predicting part 5 of 5\n",
      "96/96 [==============================] - 40s    \n",
      "items needed vs. items generated:  12238 12238\n",
      "predicting part 6 of 5\n",
      "1/1 [==============================] - 0s\n",
      "items needed vs. items generated:  1 1\n",
      "augmentation round 5 of 12\n",
      "predicting part 1 of 5\n",
      "96/96 [==============================] - 40s    \n",
      "items needed vs. items generated:  12238 12238\n",
      "predicting part 2 of 5\n",
      "96/96 [==============================] - 40s    \n",
      "items needed vs. items generated:  12238 12238\n",
      "predicting part 3 of 5\n",
      "96/96 [==============================] - 40s    \n",
      "items needed vs. items generated:  12238 12238\n",
      "predicting part 4 of 5\n",
      "96/96 [==============================] - 40s    \n",
      "items needed vs. items generated:  12238 12238\n",
      "predicting part 5 of 5\n",
      "96/96 [==============================] - 40s    \n",
      "items needed vs. items generated:  12238 12238\n",
      "predicting part 6 of 5\n",
      "1/1 [==============================] - 0s\n",
      "items needed vs. items generated:  1 1\n",
      "augmentation round 6 of 12\n",
      "predicting part 1 of 5\n",
      "96/96 [==============================] - 40s    \n",
      "items needed vs. items generated:  12238 12238\n",
      "predicting part 2 of 5\n",
      "96/96 [==============================] - 40s    \n",
      "items needed vs. items generated:  12238 12238\n",
      "predicting part 3 of 5\n",
      "96/96 [==============================] - 40s    \n",
      "items needed vs. items generated:  12238 12238\n",
      "predicting part 4 of 5\n",
      "96/96 [==============================] - 40s    \n",
      "items needed vs. items generated:  12238 12238\n",
      "predicting part 5 of 5\n",
      "96/96 [==============================] - 40s    \n",
      "items needed vs. items generated:  12238 12238\n",
      "predicting part 6 of 5\n",
      "1/1 [==============================] - 0s\n",
      "items needed vs. items generated:  1 1\n",
      "augmentation round 7 of 12\n",
      "predicting part 1 of 5\n",
      "96/96 [==============================] - 40s    \n",
      "items needed vs. items generated:  12238 12238\n",
      "predicting part 2 of 5\n",
      "96/96 [==============================] - 40s    \n",
      "items needed vs. items generated:  12238 12238\n",
      "predicting part 3 of 5\n",
      "96/96 [==============================] - 40s    \n",
      "items needed vs. items generated:  12238 12238\n",
      "predicting part 4 of 5\n",
      "96/96 [==============================] - 40s    \n",
      "items needed vs. items generated:  12238 12238\n",
      "predicting part 5 of 5\n",
      "96/96 [==============================] - 40s    \n",
      "items needed vs. items generated:  12238 12238\n",
      "predicting part 6 of 5\n",
      "1/1 [==============================] - 0s\n",
      "items needed vs. items generated:  1 1\n",
      "augmentation round 8 of 12\n",
      "predicting part 1 of 5\n",
      "96/96 [==============================] - 40s    \n",
      "items needed vs. items generated:  12238 12238\n",
      "predicting part 2 of 5\n",
      "96/96 [==============================] - 40s    \n",
      "items needed vs. items generated:  12238 12238\n",
      "predicting part 3 of 5\n",
      "96/96 [==============================] - 40s    \n",
      "items needed vs. items generated:  12238 12238\n",
      "predicting part 4 of 5\n",
      "96/96 [==============================] - 40s    \n",
      "items needed vs. items generated:  12238 12238\n",
      "predicting part 5 of 5\n",
      "96/96 [==============================] - 40s    \n",
      "items needed vs. items generated:  12238 12238\n",
      "predicting part 6 of 5\n",
      "1/1 [==============================] - 0s\n",
      "items needed vs. items generated:  1 1\n",
      "augmentation round 9 of 12\n",
      "predicting part 1 of 5\n",
      "96/96 [==============================] - 40s    \n",
      "items needed vs. items generated:  12238 12238\n",
      "predicting part 2 of 5\n",
      "96/96 [==============================] - 40s    \n",
      "items needed vs. items generated:  12238 12238\n",
      "predicting part 3 of 5\n",
      "96/96 [==============================] - 40s    \n",
      "items needed vs. items generated:  12238 12238\n",
      "predicting part 4 of 5\n",
      "96/96 [==============================] - 40s    \n",
      "items needed vs. items generated:  12238 12238\n",
      "predicting part 5 of 5\n",
      "96/96 [==============================] - 40s    \n",
      "items needed vs. items generated:  12238 12238\n",
      "predicting part 6 of 5\n",
      "1/1 [==============================] - 0s\n",
      "items needed vs. items generated:  1 1\n",
      "augmentation round 10 of 12\n",
      "predicting part 1 of 5\n",
      "96/96 [==============================] - 40s    \n",
      "items needed vs. items generated:  12238 12238\n",
      "predicting part 2 of 5\n",
      "96/96 [==============================] - 40s    \n",
      "items needed vs. items generated:  12238 12238\n",
      "predicting part 3 of 5\n",
      "96/96 [==============================] - 40s    \n",
      "items needed vs. items generated:  12238 12238\n",
      "predicting part 4 of 5\n",
      "96/96 [==============================] - 40s    \n",
      "items needed vs. items generated:  12238 12238\n",
      "predicting part 5 of 5\n",
      "96/96 [==============================] - 40s    \n",
      "items needed vs. items generated:  12238 12238\n",
      "predicting part 6 of 5\n",
      "1/1 [==============================] - 0s\n",
      "items needed vs. items generated:  1 1\n",
      "augmentation round 11 of 12\n",
      "predicting part 1 of 5\n",
      "96/96 [==============================] - 40s    \n",
      "items needed vs. items generated:  12238 12238\n",
      "predicting part 2 of 5\n",
      "96/96 [==============================] - 40s    \n",
      "items needed vs. items generated:  12238 12238\n",
      "predicting part 3 of 5\n",
      "96/96 [==============================] - 40s    \n",
      "items needed vs. items generated:  12238 12238\n",
      "predicting part 4 of 5\n",
      "96/96 [==============================] - 40s    \n",
      "items needed vs. items generated:  12238 12238\n",
      "predicting part 5 of 5\n",
      "96/96 [==============================] - 40s    \n",
      "items needed vs. items generated:  12238 12238\n",
      "predicting part 6 of 5\n",
      "1/1 [==============================] - 0s\n",
      "items needed vs. items generated:  1 1\n",
      "augmentation round 12 of 12\n",
      "predicting part 1 of 5\n",
      "96/96 [==============================] - 40s    \n",
      "items needed vs. items generated:  12238 12238\n",
      "predicting part 2 of 5\n"
     ]
    },
    {
     "name": "stdout",
     "output_type": "stream",
     "text": [
      "96/96 [==============================] - 40s    \n",
      "items needed vs. items generated:  12238 12238\n",
      "predicting part 3 of 5\n",
      "96/96 [==============================] - 40s    \n",
      "items needed vs. items generated:  12238 12238\n",
      "predicting part 4 of 5\n",
      "96/96 [==============================] - 40s    \n",
      "items needed vs. items generated:  12238 12238\n",
      "predicting part 5 of 5\n",
      "96/96 [==============================] - 40s    \n",
      "items needed vs. items generated:  12238 12238\n",
      "predicting part 6 of 5\n",
      "1/1 [==============================] - 0s\n",
      "items needed vs. items generated:  1 1\n"
     ]
    }
   ],
   "source": [
    "test_preds_x12 = make_staged_predictions(model,num_parts=5,nb_aug=12)\n"
   ]
  },
  {
   "cell_type": "code",
   "execution_count": 40,
   "metadata": {
    "collapsed": true
   },
   "outputs": [],
   "source": [
    "def read_partial_xtest(start,end):\n",
    "    c = 0\n",
    "    num_items = end-start\n",
    "    x_test = np.zeros((num_items,target_size[0],target_size[0],3)).astype(np.float32)\n",
    "\n",
    "    for f, tags in tqdm_notebook(df_test.iloc[start:end].values, miniters=1000):\n",
    "\n",
    "        img = image.load_img('data/test-jpg/{}.jpg'.format(f), target_size=target_size)\n",
    "        x = image.img_to_array(img)\n",
    "        x = np.expand_dims(x, axis=0)\n",
    "        x = preprocess_input(x)\n",
    "\n",
    "        x_test[c] = x\n",
    "        c +=1\n",
    "\n",
    "    return x_test\n"
   ]
  },
  {
   "cell_type": "code",
   "execution_count": 39,
   "metadata": {
    "collapsed": true
   },
   "outputs": [],
   "source": [
    "\n",
    "def make_staged_predictions_v2(model,num_parts, nb_aug=1):\n",
    "    partial_preds = []\n",
    "\n",
    "    batch_size = 128.0\n",
    "    data_length = df_test.shape[0]#X_valid[0:16].shape[0]\n",
    "    chunck_size = data_length//num_parts\n",
    "\n",
    "    print( \"breaking data into chunks of \", chunck_size)\n",
    "    \n",
    "#     ipdb.set_trace()\n",
    "    final_preds = np.zeros((data_length,17)).astype(np.float32)\n",
    "#     data = X_valid[0:16]\n",
    "\n",
    "\n",
    "    for i in tqdm_notebook(range(1,num_parts+2)):\n",
    "        print( \"predicting part {} of {}\".format(i,num_parts)      )\n",
    "\n",
    "        start_index = (i-1)*chunck_size\n",
    "        end_index = min(data_length,i*chunck_size)\n",
    "        num_items = end_index-start_index\n",
    "        data = read_partial_xtest(start_index,end_index)\n",
    "        partials = []\n",
    "        \n",
    "        \n",
    "        for n in tqdm_notebook(range(nb_aug)):\n",
    "            print (\"augmentation round {} of {}\".format(n+1,nb_aug) )\n",
    "#             partial_preds = np.zeros((num_items,17)).astype(np.float32)\n",
    "\n",
    "            test_batch = train_gen.flow(data,batch_size=int(batch_size),shuffle=False)\n",
    "            t = model.predict_generator(test_batch,steps=math.ceil(num_items/batch_size), verbose=1)[:num_items]\n",
    "\n",
    "            partials.append(t)\n",
    "#             partial_preds += t \n",
    "#         partial_preds /= float(nb_aug) \n",
    "            \n",
    "        final_preds[start_index:end_index] = np.mean(partials,axis=0)\n",
    "        save_array(\"data/cache/resnet_ft4a_final_preds_temp_part{}\".format(i),final_preds)   \n",
    "    \n",
    "    return final_preds\n",
    "\n",
    "    \n"
   ]
  },
  {
   "cell_type": "code",
   "execution_count": 41,
   "metadata": {},
   "outputs": [
    {
     "name": "stdout",
     "output_type": "stream",
     "text": [
      "breaking data into chunks of  12238\n"
     ]
    },
    {
     "data": {
      "application/vnd.jupyter.widget-view+json": {
       "model_id": "b57322137d604e33a4619bf40a3e47e0"
      }
     },
     "metadata": {},
     "output_type": "display_data"
    },
    {
     "name": "stdout",
     "output_type": "stream",
     "text": [
      "predicting part 1 of 5\n"
     ]
    },
    {
     "data": {
      "application/vnd.jupyter.widget-view+json": {
       "model_id": "a6a4546a6cae465485864c4be0452aa4"
      }
     },
     "metadata": {},
     "output_type": "display_data"
    },
    {
     "data": {
      "application/vnd.jupyter.widget-view+json": {
       "model_id": "81969499faed43f5a33678b40ed85ff5"
      }
     },
     "metadata": {},
     "output_type": "display_data"
    },
    {
     "name": "stdout",
     "output_type": "stream",
     "text": [
      "augmentation round 1 of 10\n",
      "96/96 [==============================] - 39s    \n",
      "augmentation round 2 of 10\n",
      "96/96 [==============================] - 39s    \n",
      "augmentation round 3 of 10\n",
      "96/96 [==============================] - 39s    \n",
      "augmentation round 4 of 10\n",
      "96/96 [==============================] - 39s    \n",
      "augmentation round 5 of 10\n",
      "96/96 [==============================] - 39s    \n",
      "augmentation round 6 of 10\n",
      "96/96 [==============================] - 39s    \n",
      "augmentation round 7 of 10\n",
      "96/96 [==============================] - 39s    \n",
      "augmentation round 8 of 10\n",
      "96/96 [==============================] - 39s    \n",
      "augmentation round 9 of 10\n",
      "96/96 [==============================] - 39s    \n",
      "augmentation round 10 of 10\n",
      "96/96 [==============================] - 39s    \n",
      "predicting part 2 of 5\n"
     ]
    },
    {
     "data": {
      "application/vnd.jupyter.widget-view+json": {
       "model_id": "4244a60e6efb4ea5ab4a8174d16202c9"
      }
     },
     "metadata": {},
     "output_type": "display_data"
    },
    {
     "data": {
      "application/vnd.jupyter.widget-view+json": {
       "model_id": "70436b941004496eb42fe2b15ef0d22e"
      }
     },
     "metadata": {},
     "output_type": "display_data"
    },
    {
     "name": "stdout",
     "output_type": "stream",
     "text": [
      "augmentation round 1 of 10\n",
      "96/96 [==============================] - 39s    \n",
      "augmentation round 2 of 10\n",
      "96/96 [==============================] - 39s    \n",
      "augmentation round 3 of 10\n",
      "96/96 [==============================] - 39s    \n",
      "augmentation round 4 of 10\n",
      "96/96 [==============================] - 39s    \n",
      "augmentation round 5 of 10\n",
      "96/96 [==============================] - 39s    \n",
      "augmentation round 6 of 10\n",
      "96/96 [==============================] - 39s    \n",
      "augmentation round 7 of 10\n",
      "96/96 [==============================] - 39s    \n",
      "augmentation round 8 of 10\n",
      "96/96 [==============================] - 39s    \n",
      "augmentation round 9 of 10\n",
      "96/96 [==============================] - 39s    \n",
      "augmentation round 10 of 10\n",
      "96/96 [==============================] - 39s    \n",
      "predicting part 3 of 5\n"
     ]
    },
    {
     "data": {
      "application/vnd.jupyter.widget-view+json": {
       "model_id": "bd15628b38fb4ad9af1c7d0e0a5e1c90"
      }
     },
     "metadata": {},
     "output_type": "display_data"
    },
    {
     "data": {
      "application/vnd.jupyter.widget-view+json": {
       "model_id": "be2bb9ae2a70479db0832ad9f1c24ca1"
      }
     },
     "metadata": {},
     "output_type": "display_data"
    },
    {
     "name": "stdout",
     "output_type": "stream",
     "text": [
      "augmentation round 1 of 10\n",
      "96/96 [==============================] - 39s    \n",
      "augmentation round 2 of 10\n",
      "96/96 [==============================] - 39s    \n",
      "augmentation round 3 of 10\n",
      "96/96 [==============================] - 39s    \n",
      "augmentation round 4 of 10\n",
      "96/96 [==============================] - 39s    \n",
      "augmentation round 5 of 10\n",
      "96/96 [==============================] - 39s    \n",
      "augmentation round 6 of 10\n",
      "96/96 [==============================] - 39s    \n",
      "augmentation round 7 of 10\n",
      "96/96 [==============================] - 39s    \n",
      "augmentation round 8 of 10\n",
      "96/96 [==============================] - 39s    \n",
      "augmentation round 9 of 10\n",
      "96/96 [==============================] - 39s    \n",
      "augmentation round 10 of 10\n",
      "96/96 [==============================] - 39s    \n",
      "predicting part 4 of 5\n"
     ]
    },
    {
     "data": {
      "application/vnd.jupyter.widget-view+json": {
       "model_id": "3d2ad38319b246f5ad2d7c2eeaff5889"
      }
     },
     "metadata": {},
     "output_type": "display_data"
    },
    {
     "data": {
      "application/vnd.jupyter.widget-view+json": {
       "model_id": "5ad72e30a9014d628cf9e0081697ed5b"
      }
     },
     "metadata": {},
     "output_type": "display_data"
    },
    {
     "name": "stdout",
     "output_type": "stream",
     "text": [
      "augmentation round 1 of 10\n",
      "96/96 [==============================] - 39s    \n",
      "augmentation round 2 of 10\n",
      "96/96 [==============================] - 39s    \n",
      "augmentation round 3 of 10\n",
      "96/96 [==============================] - 39s    \n",
      "augmentation round 4 of 10\n",
      "96/96 [==============================] - 39s    \n",
      "augmentation round 5 of 10\n",
      "96/96 [==============================] - 39s    \n",
      "augmentation round 6 of 10\n",
      "96/96 [==============================] - 39s    \n",
      "augmentation round 7 of 10\n",
      "96/96 [==============================] - 39s    \n",
      "augmentation round 8 of 10\n",
      "96/96 [==============================] - 39s    \n",
      "augmentation round 9 of 10\n",
      "96/96 [==============================] - 39s    \n",
      "augmentation round 10 of 10\n",
      "96/96 [==============================] - 39s    \n",
      "predicting part 5 of 5\n"
     ]
    },
    {
     "data": {
      "application/vnd.jupyter.widget-view+json": {
       "model_id": "87acce37fc13496a9ea1b2c573128763"
      }
     },
     "metadata": {},
     "output_type": "display_data"
    },
    {
     "data": {
      "application/vnd.jupyter.widget-view+json": {
       "model_id": "f51060fe1fe34aeb85e9c6068e48b2c2"
      }
     },
     "metadata": {},
     "output_type": "display_data"
    },
    {
     "name": "stdout",
     "output_type": "stream",
     "text": [
      "augmentation round 1 of 10\n",
      "96/96 [==============================] - 39s    \n",
      "augmentation round 2 of 10\n",
      "96/96 [==============================] - 39s    \n",
      "augmentation round 3 of 10\n",
      "96/96 [==============================] - 39s    \n",
      "augmentation round 4 of 10\n",
      "96/96 [==============================] - 39s    \n",
      "augmentation round 5 of 10\n",
      "96/96 [==============================] - 39s    \n",
      "augmentation round 6 of 10\n",
      "96/96 [==============================] - 39s    \n",
      "augmentation round 7 of 10\n",
      "96/96 [==============================] - 39s    \n",
      "augmentation round 8 of 10\n",
      "96/96 [==============================] - 39s    \n",
      "augmentation round 9 of 10\n",
      "96/96 [==============================] - 39s    \n",
      "augmentation round 10 of 10\n",
      "96/96 [==============================] - 39s    \n",
      "predicting part 6 of 5\n"
     ]
    },
    {
     "data": {
      "application/vnd.jupyter.widget-view+json": {
       "model_id": "d0a41c40a3a04d42aa70591111285f8a"
      }
     },
     "metadata": {},
     "output_type": "display_data"
    },
    {
     "data": {
      "application/vnd.jupyter.widget-view+json": {
       "model_id": "40bebc966be948f5877a32cc4e28d734"
      }
     },
     "metadata": {},
     "output_type": "display_data"
    },
    {
     "name": "stdout",
     "output_type": "stream",
     "text": [
      "augmentation round 1 of 10\n",
      "1/1 [==============================] - 0s\n",
      "augmentation round 2 of 10\n",
      "1/1 [==============================] - 0s\n",
      "augmentation round 3 of 10\n",
      "1/1 [==============================] - 0s\n",
      "augmentation round 4 of 10\n",
      "1/1 [==============================] - 0s\n",
      "augmentation round 5 of 10\n",
      "1/1 [==============================] - 0s\n",
      "augmentation round 6 of 10\n",
      "1/1 [==============================] - 0s\n",
      "augmentation round 7 of 10\n",
      "1/1 [==============================] - 0s\n",
      "augmentation round 8 of 10\n",
      "1/1 [==============================] - 0s\n",
      "augmentation round 9 of 10\n",
      "1/1 [==============================] - 0s\n",
      "augmentation round 10 of 10\n",
      "1/1 [==============================] - 0s\n",
      "\n"
     ]
    }
   ],
   "source": [
    "preds_x10 = make_staged_predictions_v2(model,num_parts=5,nb_aug=10)\n"
   ]
  },
  {
   "cell_type": "code",
   "execution_count": 43,
   "metadata": {
    "collapsed": true
   },
   "outputs": [],
   "source": [
    "save_array(\"data/cache/preds_xception_10xtta_simpleaug_block5_sepconv1.dat\", preds_x10)"
   ]
  },
  {
   "cell_type": "markdown",
   "metadata": {},
   "source": [
    "### Make submission"
   ]
  },
  {
   "cell_type": "code",
   "execution_count": 44,
   "metadata": {
    "collapsed": true
   },
   "outputs": [],
   "source": [
    "preds = preds_x10"
   ]
  },
  {
   "cell_type": "code",
   "execution_count": 169,
   "metadata": {},
   "outputs": [
    {
     "data": {
      "text/plain": [
       "((61191, 17),)"
      ]
     },
     "execution_count": 169,
     "metadata": {},
     "output_type": "execute_result"
    }
   ],
   "source": [
    "preds.shape,"
   ]
  },
  {
   "cell_type": "code",
   "execution_count": 67,
   "metadata": {},
   "outputs": [
    {
     "data": {
      "text/html": [
       "<div>\n",
       "<style>\n",
       "    .dataframe thead tr:only-child th {\n",
       "        text-align: right;\n",
       "    }\n",
       "\n",
       "    .dataframe thead th {\n",
       "        text-align: left;\n",
       "    }\n",
       "\n",
       "    .dataframe tbody tr th {\n",
       "        vertical-align: top;\n",
       "    }\n",
       "</style>\n",
       "<table border=\"1\" class=\"dataframe\">\n",
       "  <thead>\n",
       "    <tr style=\"text-align: right;\">\n",
       "      <th></th>\n",
       "      <th>blow_down</th>\n",
       "      <th>bare_ground</th>\n",
       "      <th>conventional_mine</th>\n",
       "      <th>blooming</th>\n",
       "      <th>cultivation</th>\n",
       "      <th>artisinal_mine</th>\n",
       "      <th>haze</th>\n",
       "      <th>primary</th>\n",
       "      <th>slash_burn</th>\n",
       "      <th>habitation</th>\n",
       "      <th>clear</th>\n",
       "      <th>road</th>\n",
       "      <th>selective_logging</th>\n",
       "      <th>partly_cloudy</th>\n",
       "      <th>agriculture</th>\n",
       "      <th>water</th>\n",
       "      <th>cloudy</th>\n",
       "    </tr>\n",
       "  </thead>\n",
       "  <tbody>\n",
       "    <tr>\n",
       "      <th>count</th>\n",
       "      <td>6.119100e+04</td>\n",
       "      <td>6.119100e+04</td>\n",
       "      <td>6.119100e+04</td>\n",
       "      <td>6.119100e+04</td>\n",
       "      <td>6.119100e+04</td>\n",
       "      <td>6.119100e+04</td>\n",
       "      <td>6.119100e+04</td>\n",
       "      <td>6.119100e+04</td>\n",
       "      <td>6.119100e+04</td>\n",
       "      <td>6.119100e+04</td>\n",
       "      <td>6.119100e+04</td>\n",
       "      <td>6.119100e+04</td>\n",
       "      <td>6.119100e+04</td>\n",
       "      <td>6.119100e+04</td>\n",
       "      <td>6.119100e+04</td>\n",
       "      <td>6.119100e+04</td>\n",
       "      <td>6.119100e+04</td>\n",
       "    </tr>\n",
       "    <tr>\n",
       "      <th>mean</th>\n",
       "      <td>2.092521e-03</td>\n",
       "      <td>2.002436e-02</td>\n",
       "      <td>1.705570e-03</td>\n",
       "      <td>8.197919e-03</td>\n",
       "      <td>1.090433e-01</td>\n",
       "      <td>8.069404e-03</td>\n",
       "      <td>6.511531e-02</td>\n",
       "      <td>9.264554e-01</td>\n",
       "      <td>4.629843e-03</td>\n",
       "      <td>8.737222e-02</td>\n",
       "      <td>7.026423e-01</td>\n",
       "      <td>1.955193e-01</td>\n",
       "      <td>7.903736e-03</td>\n",
       "      <td>1.780910e-01</td>\n",
       "      <td>3.015021e-01</td>\n",
       "      <td>1.810035e-01</td>\n",
       "      <td>5.450794e-02</td>\n",
       "    </tr>\n",
       "    <tr>\n",
       "      <th>std</th>\n",
       "      <td>1.711922e-02</td>\n",
       "      <td>6.309157e-02</td>\n",
       "      <td>2.578361e-02</td>\n",
       "      <td>2.468580e-02</td>\n",
       "      <td>1.883690e-01</td>\n",
       "      <td>7.518498e-02</td>\n",
       "      <td>1.839076e-01</td>\n",
       "      <td>2.161390e-01</td>\n",
       "      <td>1.358226e-02</td>\n",
       "      <td>1.979453e-01</td>\n",
       "      <td>4.161497e-01</td>\n",
       "      <td>3.189357e-01</td>\n",
       "      <td>3.809143e-02</td>\n",
       "      <td>3.518260e-01</td>\n",
       "      <td>3.797856e-01</td>\n",
       "      <td>3.033955e-01</td>\n",
       "      <td>1.978504e-01</td>\n",
       "    </tr>\n",
       "    <tr>\n",
       "      <th>min</th>\n",
       "      <td>1.989812e-33</td>\n",
       "      <td>3.084237e-18</td>\n",
       "      <td>0.000000e+00</td>\n",
       "      <td>1.720035e-31</td>\n",
       "      <td>9.806460e-13</td>\n",
       "      <td>1.733163e-28</td>\n",
       "      <td>5.666915e-09</td>\n",
       "      <td>1.048582e-07</td>\n",
       "      <td>3.972161e-33</td>\n",
       "      <td>2.558184e-16</td>\n",
       "      <td>5.428992e-11</td>\n",
       "      <td>9.391141e-10</td>\n",
       "      <td>8.967547e-34</td>\n",
       "      <td>1.849209e-11</td>\n",
       "      <td>5.037108e-09</td>\n",
       "      <td>1.091683e-07</td>\n",
       "      <td>6.600514e-22</td>\n",
       "    </tr>\n",
       "    <tr>\n",
       "      <th>25%</th>\n",
       "      <td>1.586751e-06</td>\n",
       "      <td>3.634284e-05</td>\n",
       "      <td>1.340976e-14</td>\n",
       "      <td>5.397907e-06</td>\n",
       "      <td>1.312810e-03</td>\n",
       "      <td>1.210100e-13</td>\n",
       "      <td>7.467002e-05</td>\n",
       "      <td>9.930852e-01</td>\n",
       "      <td>2.720192e-07</td>\n",
       "      <td>4.781749e-04</td>\n",
       "      <td>2.057839e-01</td>\n",
       "      <td>1.919251e-03</td>\n",
       "      <td>6.012862e-05</td>\n",
       "      <td>4.728030e-04</td>\n",
       "      <td>4.398262e-03</td>\n",
       "      <td>3.431767e-03</td>\n",
       "      <td>8.820976e-09</td>\n",
       "    </tr>\n",
       "    <tr>\n",
       "      <th>50%</th>\n",
       "      <td>6.940718e-05</td>\n",
       "      <td>7.614807e-04</td>\n",
       "      <td>3.837159e-09</td>\n",
       "      <td>5.952732e-04</td>\n",
       "      <td>1.140785e-02</td>\n",
       "      <td>3.523986e-08</td>\n",
       "      <td>8.004202e-04</td>\n",
       "      <td>9.999110e-01</td>\n",
       "      <td>9.904186e-06</td>\n",
       "      <td>3.392098e-03</td>\n",
       "      <td>9.871269e-01</td>\n",
       "      <td>1.483807e-02</td>\n",
       "      <td>4.046766e-04</td>\n",
       "      <td>2.300348e-03</td>\n",
       "      <td>4.544344e-02</td>\n",
       "      <td>3.007554e-02</td>\n",
       "      <td>2.430257e-07</td>\n",
       "    </tr>\n",
       "    <tr>\n",
       "      <th>75%</th>\n",
       "      <td>5.729607e-04</td>\n",
       "      <td>1.467949e-02</td>\n",
       "      <td>7.067060e-06</td>\n",
       "      <td>4.621337e-03</td>\n",
       "      <td>1.426638e-01</td>\n",
       "      <td>2.460493e-05</td>\n",
       "      <td>1.232762e-02</td>\n",
       "      <td>9.999980e-01</td>\n",
       "      <td>1.762077e-03</td>\n",
       "      <td>5.850836e-02</td>\n",
       "      <td>9.988987e-01</td>\n",
       "      <td>2.341984e-01</td>\n",
       "      <td>2.508169e-03</td>\n",
       "      <td>3.815980e-02</td>\n",
       "      <td>6.377252e-01</td>\n",
       "      <td>1.728460e-01</td>\n",
       "      <td>4.029883e-05</td>\n",
       "    </tr>\n",
       "    <tr>\n",
       "      <th>max</th>\n",
       "      <td>7.787656e-01</td>\n",
       "      <td>9.923960e-01</td>\n",
       "      <td>9.717264e-01</td>\n",
       "      <td>4.659665e-01</td>\n",
       "      <td>9.872688e-01</td>\n",
       "      <td>9.998101e-01</td>\n",
       "      <td>9.949881e-01</td>\n",
       "      <td>1.000000e+00</td>\n",
       "      <td>1.968941e-01</td>\n",
       "      <td>9.999990e-01</td>\n",
       "      <td>1.000000e+00</td>\n",
       "      <td>9.999694e-01</td>\n",
       "      <td>8.963495e-01</td>\n",
       "      <td>9.999981e-01</td>\n",
       "      <td>9.999729e-01</td>\n",
       "      <td>9.999996e-01</td>\n",
       "      <td>9.999998e-01</td>\n",
       "    </tr>\n",
       "  </tbody>\n",
       "</table>\n",
       "</div>"
      ],
      "text/plain": [
       "          blow_down   bare_ground  conventional_mine      blooming  \\\n",
       "count  6.119100e+04  6.119100e+04       6.119100e+04  6.119100e+04   \n",
       "mean   2.092521e-03  2.002436e-02       1.705570e-03  8.197919e-03   \n",
       "std    1.711922e-02  6.309157e-02       2.578361e-02  2.468580e-02   \n",
       "min    1.989812e-33  3.084237e-18       0.000000e+00  1.720035e-31   \n",
       "25%    1.586751e-06  3.634284e-05       1.340976e-14  5.397907e-06   \n",
       "50%    6.940718e-05  7.614807e-04       3.837159e-09  5.952732e-04   \n",
       "75%    5.729607e-04  1.467949e-02       7.067060e-06  4.621337e-03   \n",
       "max    7.787656e-01  9.923960e-01       9.717264e-01  4.659665e-01   \n",
       "\n",
       "        cultivation  artisinal_mine          haze       primary    slash_burn  \\\n",
       "count  6.119100e+04    6.119100e+04  6.119100e+04  6.119100e+04  6.119100e+04   \n",
       "mean   1.090433e-01    8.069404e-03  6.511531e-02  9.264554e-01  4.629843e-03   \n",
       "std    1.883690e-01    7.518498e-02  1.839076e-01  2.161390e-01  1.358226e-02   \n",
       "min    9.806460e-13    1.733163e-28  5.666915e-09  1.048582e-07  3.972161e-33   \n",
       "25%    1.312810e-03    1.210100e-13  7.467002e-05  9.930852e-01  2.720192e-07   \n",
       "50%    1.140785e-02    3.523986e-08  8.004202e-04  9.999110e-01  9.904186e-06   \n",
       "75%    1.426638e-01    2.460493e-05  1.232762e-02  9.999980e-01  1.762077e-03   \n",
       "max    9.872688e-01    9.998101e-01  9.949881e-01  1.000000e+00  1.968941e-01   \n",
       "\n",
       "         habitation         clear          road  selective_logging  \\\n",
       "count  6.119100e+04  6.119100e+04  6.119100e+04       6.119100e+04   \n",
       "mean   8.737222e-02  7.026423e-01  1.955193e-01       7.903736e-03   \n",
       "std    1.979453e-01  4.161497e-01  3.189357e-01       3.809143e-02   \n",
       "min    2.558184e-16  5.428992e-11  9.391141e-10       8.967547e-34   \n",
       "25%    4.781749e-04  2.057839e-01  1.919251e-03       6.012862e-05   \n",
       "50%    3.392098e-03  9.871269e-01  1.483807e-02       4.046766e-04   \n",
       "75%    5.850836e-02  9.988987e-01  2.341984e-01       2.508169e-03   \n",
       "max    9.999990e-01  1.000000e+00  9.999694e-01       8.963495e-01   \n",
       "\n",
       "       partly_cloudy   agriculture         water        cloudy  \n",
       "count   6.119100e+04  6.119100e+04  6.119100e+04  6.119100e+04  \n",
       "mean    1.780910e-01  3.015021e-01  1.810035e-01  5.450794e-02  \n",
       "std     3.518260e-01  3.797856e-01  3.033955e-01  1.978504e-01  \n",
       "min     1.849209e-11  5.037108e-09  1.091683e-07  6.600514e-22  \n",
       "25%     4.728030e-04  4.398262e-03  3.431767e-03  8.820976e-09  \n",
       "50%     2.300348e-03  4.544344e-02  3.007554e-02  2.430257e-07  \n",
       "75%     3.815980e-02  6.377252e-01  1.728460e-01  4.029883e-05  \n",
       "max     9.999981e-01  9.999729e-01  9.999996e-01  9.999998e-01  "
      ]
     },
     "execution_count": 67,
     "metadata": {},
     "output_type": "execute_result"
    }
   ],
   "source": [
    "result.describe()"
   ]
  },
  {
   "cell_type": "code",
   "execution_count": 45,
   "metadata": {
    "scrolled": true
   },
   "outputs": [
    {
     "data": {
      "text/html": [
       "<div>\n",
       "<style>\n",
       "    .dataframe thead tr:only-child th {\n",
       "        text-align: right;\n",
       "    }\n",
       "\n",
       "    .dataframe thead th {\n",
       "        text-align: left;\n",
       "    }\n",
       "\n",
       "    .dataframe tbody tr th {\n",
       "        vertical-align: top;\n",
       "    }\n",
       "</style>\n",
       "<table border=\"1\" class=\"dataframe\">\n",
       "  <thead>\n",
       "    <tr style=\"text-align: right;\">\n",
       "      <th></th>\n",
       "      <th>blow_down</th>\n",
       "      <th>bare_ground</th>\n",
       "      <th>conventional_mine</th>\n",
       "      <th>blooming</th>\n",
       "      <th>cultivation</th>\n",
       "      <th>artisinal_mine</th>\n",
       "      <th>haze</th>\n",
       "      <th>primary</th>\n",
       "      <th>slash_burn</th>\n",
       "      <th>habitation</th>\n",
       "      <th>clear</th>\n",
       "      <th>road</th>\n",
       "      <th>selective_logging</th>\n",
       "      <th>partly_cloudy</th>\n",
       "      <th>agriculture</th>\n",
       "      <th>water</th>\n",
       "      <th>cloudy</th>\n",
       "    </tr>\n",
       "  </thead>\n",
       "  <tbody>\n",
       "    <tr>\n",
       "      <th>0</th>\n",
       "      <td>0.000292</td>\n",
       "      <td>0.000122</td>\n",
       "      <td>2.547367e-13</td>\n",
       "      <td>0.056835</td>\n",
       "      <td>0.002548</td>\n",
       "      <td>1.384223e-12</td>\n",
       "      <td>0.009852</td>\n",
       "      <td>0.999992</td>\n",
       "      <td>0.000005</td>\n",
       "      <td>0.002071</td>\n",
       "      <td>0.989911</td>\n",
       "      <td>0.002685</td>\n",
       "      <td>0.005869</td>\n",
       "      <td>0.000878</td>\n",
       "      <td>0.005151</td>\n",
       "      <td>0.002816</td>\n",
       "      <td>7.485456e-07</td>\n",
       "    </tr>\n",
       "  </tbody>\n",
       "</table>\n",
       "</div>"
      ],
      "text/plain": [
       "   blow_down  bare_ground  conventional_mine  blooming  cultivation  \\\n",
       "0   0.000292     0.000122       2.547367e-13  0.056835     0.002548   \n",
       "\n",
       "   artisinal_mine      haze   primary  slash_burn  habitation     clear  \\\n",
       "0    1.384223e-12  0.009852  0.999992    0.000005    0.002071  0.989911   \n",
       "\n",
       "       road  selective_logging  partly_cloudy  agriculture     water  \\\n",
       "0  0.002685           0.005869       0.000878     0.005151  0.002816   \n",
       "\n",
       "         cloudy  \n",
       "0  7.485456e-07  "
      ]
     },
     "execution_count": 45,
     "metadata": {},
     "output_type": "execute_result"
    }
   ],
   "source": [
    "result = pd.DataFrame(preds, columns = labels)\n",
    "result.head(1)"
   ]
  },
  {
   "cell_type": "code",
   "execution_count": 83,
   "metadata": {},
   "outputs": [
    {
     "data": {
      "image/png": "[encoded data removed]",
      "text/plain": [
       "<matplotlib.figure.Figure at 0x7f87373e9e90>"
      ]
     },
     "metadata": {},
     "output_type": "display_data"
    }
   ],
   "source": [
    "import seaborn as sns\n",
    "tags_pred = np.array(preds).T\n",
    "_, axs = plt.subplots(5, 4, figsize=(15, 20))\n",
    "axs = axs.ravel()\n",
    "\n",
    "for i, tag_vals in enumerate(tags_pred):\n",
    "    sns.boxplot(tag_vals, orient='v', palette='Set2', ax=axs[i]).set_title(labels[i])\n"
   ]
  },
  {
   "cell_type": "code",
   "execution_count": 46,
   "metadata": {},
   "outputs": [
    {
     "data": {
      "application/vnd.jupyter.widget-view+json": {
       "model_id": "cd62a1b21f9a4173b9cbd4a277f285dc"
      }
     },
     "metadata": {},
     "output_type": "display_data"
    },
    {
     "name": "stderr",
     "output_type": "stream",
     "text": [
      "/home/ubuntu/anaconda3/lib/python3.6/site-packages/ipykernel_launcher.py:3: DeprecationWarning: \n",
      ".ix is deprecated. Please use\n",
      ".loc for label based indexing or\n",
      ".iloc for positional indexing\n",
      "\n",
      "See the documentation here:\n",
      "http://pandas.pydata.org/pandas-docs/stable/indexing.html#deprecate_ix\n",
      "  This is separate from the ipykernel package so we can avoid doing imports until\n"
     ]
    },
    {
     "name": "stdout",
     "output_type": "stream",
     "text": [
      "\n"
     ]
    }
   ],
   "source": [
    "label_preds = []\n",
    "for i in tqdm_notebook(range(result.shape[0]), miniters=1000):\n",
    "    a = result.ix[[i]]\n",
    "    a = a.apply(lambda x: x > thres, axis=1)\n",
    "    a = a.transpose()\n",
    "    a = a.loc[a[i] == True]\n",
    "    ' '.join(list(a.index))\n",
    "    label_preds.append(' '.join(list(a.index)))"
   ]
  },
  {
   "cell_type": "code",
   "execution_count": 47,
   "metadata": {},
   "outputs": [
    {
     "data": {
      "text/html": [
       "<div>\n",
       "<style>\n",
       "    .dataframe thead tr:only-child th {\n",
       "        text-align: right;\n",
       "    }\n",
       "\n",
       "    .dataframe thead th {\n",
       "        text-align: left;\n",
       "    }\n",
       "\n",
       "    .dataframe tbody tr th {\n",
       "        vertical-align: top;\n",
       "    }\n",
       "</style>\n",
       "<table border=\"1\" class=\"dataframe\">\n",
       "  <thead>\n",
       "    <tr style=\"text-align: right;\">\n",
       "      <th></th>\n",
       "      <th>image_name</th>\n",
       "      <th>tags</th>\n",
       "    </tr>\n",
       "  </thead>\n",
       "  <tbody>\n",
       "    <tr>\n",
       "      <th>0</th>\n",
       "      <td>test_0</td>\n",
       "      <td>primary clear</td>\n",
       "    </tr>\n",
       "    <tr>\n",
       "      <th>1</th>\n",
       "      <td>test_1</td>\n",
       "      <td>primary clear</td>\n",
       "    </tr>\n",
       "    <tr>\n",
       "      <th>2</th>\n",
       "      <td>test_2</td>\n",
       "      <td>primary partly_cloudy</td>\n",
       "    </tr>\n",
       "    <tr>\n",
       "      <th>3</th>\n",
       "      <td>test_3</td>\n",
       "      <td>primary clear partly_cloudy agriculture</td>\n",
       "    </tr>\n",
       "    <tr>\n",
       "      <th>4</th>\n",
       "      <td>test_4</td>\n",
       "      <td>primary partly_cloudy cloudy</td>\n",
       "    </tr>\n",
       "  </tbody>\n",
       "</table>\n",
       "</div>"
      ],
      "text/plain": [
       "  image_name                                     tags\n",
       "0     test_0                            primary clear\n",
       "1     test_1                            primary clear\n",
       "2     test_2                    primary partly_cloudy\n",
       "3     test_3  primary clear partly_cloudy agriculture\n",
       "4     test_4             primary partly_cloudy cloudy"
      ]
     },
     "execution_count": 47,
     "metadata": {},
     "output_type": "execute_result"
    }
   ],
   "source": [
    "df_test[\"tags\"] = label_preds\n",
    "df_test.head()"
   ]
  },
  {
   "cell_type": "code",
   "execution_count": 177,
   "metadata": {
    "collapsed": true
   },
   "outputs": [],
   "source": [
    "# df_test.head(100)"
   ]
  },
  {
   "cell_type": "code",
   "execution_count": 48,
   "metadata": {},
   "outputs": [
    {
     "data": {
      "text/html": [
       "<a href='xception_full_112x112_fullnetft_10xtta.csv' target='_blank'>xception_full_112x112_fullnetft_10xtta.csv</a><br>"
      ],
      "text/plain": [
       "/home/ubuntu/planet/xception_full_112x112_fullnetft_10xtta.csv"
      ]
     },
     "execution_count": 48,
     "metadata": {},
     "output_type": "execute_result"
    }
   ],
   "source": [
    "submission_file = 'xception_full_112x112_fullnetft_10xtta.csv'\n",
    "df_test.to_csv(submission_file, index=False)\n",
    "FileLink(submission_file)"
   ]
  },
  {
   "cell_type": "code",
   "execution_count": 49,
   "metadata": {},
   "outputs": [
    {
     "data": {
      "application/vnd.jupyter.widget-view+json": {
       "model_id": "6f76b3d9eef34d1f8d89be299f667768"
      }
     },
     "metadata": {},
     "output_type": "display_data"
    },
    {
     "name": "stdout",
     "output_type": "stream",
     "text": [
      "\n"
     ]
    }
   ],
   "source": [
    "y_test = []\n",
    "\n",
    "for f, tags in tqdm_notebook(df_test.values, miniters=1000):\n",
    "    targets = np.zeros(17)\n",
    "    \n",
    "    for t in tags.split(' '):\n",
    "        targets[label_map[t]] = 1 \n",
    "        \n",
    "\n",
    "    y_test.append(targets)"
   ]
  },
  {
   "cell_type": "code",
   "execution_count": 51,
   "metadata": {},
   "outputs": [
    {
     "data": {
      "text/plain": [
       "16"
      ]
     },
     "execution_count": 51,
     "metadata": {},
     "output_type": "execute_result"
    }
   ],
   "source": [
    "label_map[\"cloudy\"]"
   ]
  },
  {
   "cell_type": "code",
   "execution_count": 55,
   "metadata": {
    "collapsed": true
   },
   "outputs": [],
   "source": [
    "y_test = np.array(y_test).astype(np.uint8)"
   ]
  },
  {
   "cell_type": "code",
   "execution_count": 65,
   "metadata": {},
   "outputs": [
    {
     "data": {
      "text/plain": [
       "4732"
      ]
     },
     "execution_count": 65,
     "metadata": {},
     "output_type": "execute_result"
    }
   ],
   "source": [
    "        len(np.where(y_test[:,16]>0)[0])"
   ]
  },
  {
   "cell_type": "code",
   "execution_count": 61,
   "metadata": {},
   "outputs": [
    {
     "data": {
      "text/plain": [
       "array([   0,    1,    0,    0,    0,    3, 1208, 2163,    0,    0,  681,   38,    0,  826,  220,\n",
       "        912, 4732], dtype=uint64)"
      ]
     },
     "execution_count": 61,
     "metadata": {},
     "output_type": "execute_result"
    }
   ],
   "source": [
    "y_test[np.where(y_test[:,16]>0)].sum(axis=0)"
   ]
  },
  {
   "cell_type": "code",
   "execution_count": 78,
   "metadata": {},
   "outputs": [
    {
     "data": {
      "text/plain": [
       "(1270,)"
      ]
     },
     "execution_count": 78,
     "metadata": {},
     "output_type": "execute_result"
    }
   ],
   "source": [
    "np.where(preds[:,16]>0.95)[0].shape"
   ]
  },
  {
   "cell_type": "code",
   "execution_count": 74,
   "metadata": {},
   "outputs": [
    {
     "data": {
      "text/plain": [
       "array([  3.9455e-08,   6.6249e-04,   1.0273e-07,   4.2026e-08,   3.2741e-03,   2.7178e-07,\n",
       "         7.3673e-02,   5.8437e-02,   3.6184e-08,   5.2794e-04,   1.1352e-02,   1.6093e-02,\n",
       "         1.5806e-08,   7.1293e-02,   2.8064e-02,   3.6635e-02,   1.0000e+00], dtype=float32)"
      ]
     },
     "execution_count": 74,
     "metadata": {},
     "output_type": "execute_result"
    }
   ],
   "source": [
    "preds[np.where(preds[:,16]>0.95)[0]].max(axis=0)"
   ]
  },
  {
   "cell_type": "code",
   "execution_count": null,
   "metadata": {
    "collapsed": true
   },
   "outputs": [],
   "source": []
  }
 ],
 "metadata": {
  "kernelspec": {
   "display_name": "Python 3",
   "language": "python",
   "name": "python3"
  },
  "language_info": {
   "codemirror_mode": {
    "name": "ipython",
    "version": 3
   },
   "file_extension": ".py",
   "mimetype": "text/x-python",
   "name": "python",
   "nbconvert_exporter": "python",
   "pygments_lexer": "ipython3",
   "version": "3.6.1"
  }
 },
 "nbformat": 4,
 "nbformat_minor": 2
}
