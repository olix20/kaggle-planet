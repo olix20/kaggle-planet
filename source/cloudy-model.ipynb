{
 "cells": [
  {
   "cell_type": "code",
   "execution_count": 1,
   "metadata": {},
   "outputs": [
    {
     "name": "stderr",
     "output_type": "stream",
     "text": [
      "Using Theano backend.\n",
      "WARNING (theano.sandbox.cuda): The cuda backend is deprecated and will be removed in the next release (v0.10).  Please switch to the gpuarray backend. You can get more information about how to switch at this URL:\n",
      " https://github.com/Theano/Theano/wiki/Converting-to-the-new-gpu-back-end%28gpuarray%29\n",
      "\n",
      "Using gpu device 0: Tesla K80 (CNMeM is enabled with initial size: 95.0% of memory, cuDNN 5103)\n"
     ]
    }
   ],
   "source": [
    "import utils\n",
    "from utils import *\n",
    "# from resnet50 import *\n",
    "from keras.applications.resnet50 import *\n",
    "from keras.preprocessing import image\n",
    "from keras.preprocessing.image import *\n",
    "\n",
    "from keras.models import Model\n",
    "from keras.layers import Dense, GlobalAveragePooling2D\n",
    "from keras import backend as K\n",
    "from ImageDataGenerator_extended2 import *\n",
    "from image_90rotations import *\n",
    "\n",
    "from sklearn.utils import class_weight\n",
    "\n",
    "\n",
    "%matplotlib inline\n",
    "from sys import getsizeof\n",
    "import seaborn as sns"
   ]
  },
  {
   "cell_type": "code",
   "execution_count": 2,
   "metadata": {
    "collapsed": true
   },
   "outputs": [],
   "source": [
    "target_size = (224,224)#(256, 256)"
   ]
  },
  {
   "cell_type": "code",
   "execution_count": 3,
   "metadata": {},
   "outputs": [
    {
     "data": {
      "text/plain": [
       "'channels_first'"
      ]
     },
     "execution_count": 3,
     "metadata": {},
     "output_type": "execute_result"
    }
   ],
   "source": [
    "K.set_image_data_format('channels_first')\n",
    "K.image_data_format()"
   ]
  },
  {
   "cell_type": "markdown",
   "metadata": {},
   "source": [
    "### Load Data"
   ]
  },
  {
   "cell_type": "code",
   "execution_count": 4,
   "metadata": {
    "collapsed": true
   },
   "outputs": [],
   "source": [
    "x_train = []\n",
    "y_train = []\n",
    "\n",
    "df_train = pd.read_csv('data/train_v2.csv')\n",
    "df_test = pd.read_csv('data/sample_submission_v2.csv')\n",
    "\n",
    "\n",
    "labels = ['blow_down',\n",
    " 'bare_ground',\n",
    " 'conventional_mine',\n",
    " 'blooming',\n",
    " 'cultivation',\n",
    " 'artisinal_mine',\n",
    " 'haze',\n",
    " 'primary',\n",
    " 'slash_burn',\n",
    " 'habitation',\n",
    " 'clear',\n",
    " 'road',\n",
    " 'selective_logging',\n",
    " 'partly_cloudy',\n",
    " 'agriculture',\n",
    " 'water',\n",
    " 'cloudy']\n",
    "\n",
    "label_map = {'agriculture': 14,\n",
    " 'artisinal_mine': 5,\n",
    " 'bare_ground': 1,\n",
    " 'blooming': 3,\n",
    " 'blow_down': 0,\n",
    " 'clear': 10,\n",
    " 'cloudy': 16,\n",
    " 'conventional_mine': 2,\n",
    " 'cultivation': 4,\n",
    " 'habitation': 9,\n",
    " 'haze': 6,\n",
    " 'partly_cloudy': 13,\n",
    " 'primary': 7,\n",
    " 'road': 11,\n",
    " 'selective_logging': 12,\n",
    " 'slash_burn': 8,\n",
    " 'water': 15}"
   ]
  },
  {
   "cell_type": "markdown",
   "metadata": {},
   "source": [
    "### Load JPEG files"
   ]
  },
  {
   "cell_type": "code",
   "execution_count": 5,
   "metadata": {
    "collapsed": true
   },
   "outputs": [],
   "source": [
    "# y_train = []\n",
    "# x_train = np.zeros((df_train.shape[0],3,target_size[0],target_size[0])).astype(np.float32)\n",
    "\n",
    "# for f, tags in tqdm_notebook(df_train.values, miniters=1000):\n",
    "#     targets = np.zeros(17)\n",
    "    \n",
    "#     for t in tags.split(' '):\n",
    "#         targets[label_map[t]] = 1 \n",
    "        \n",
    "\n",
    "#     y_train.append(targets)\n",
    "\n",
    "# c = 0\n",
    "\n",
    "# loading images the keras way\n",
    "# for f, tags in tqdm_notebook(df_train.values, miniters=1000):\n",
    "    \n",
    "#     img = image.load_img('data/train-jpg/{}.jpg'.format(f), target_size=target_size)\n",
    "#     x = image.img_to_array(img)\n",
    "#     x = np.expand_dims(x, axis=0)\n",
    "#     x = preprocess_input(x)\n",
    "\n",
    "#     x_train[c] = x\n",
    "#     c +=1\n",
    "        \n",
    "#     x_train.append(x)\n",
    "    \n",
    "\n"
   ]
  },
  {
   "cell_type": "code",
   "execution_count": 6,
   "metadata": {
    "collapsed": true
   },
   "outputs": [],
   "source": [
    "# plt.imshow(x_train[0][0].transpose(1,2,0))"
   ]
  },
  {
   "cell_type": "code",
   "execution_count": 7,
   "metadata": {
    "collapsed": true
   },
   "outputs": [],
   "source": [
    "# x_test = []\n",
    "\n",
    "# for f, tags in tqdm(df_test.values, miniters=1000):\n",
    "#     img = cv2.imread('data/test-jpg/{}.jpg'.format(f))\n",
    "#     img =  cv2.cvtColor(cv2.resize(img, target_size), cv2.COLOR_BGR2RGB)   \n",
    "\n",
    "#     x_test.append(cv2.resize(img, target_size))\n",
    "\n",
    "\n",
    "# x_test  = np.array(x_test, np.float32) #/ 255.\n",
    "# x_test = x_test.transpose((0, 3, 1, 2))"
   ]
  },
  {
   "cell_type": "code",
   "execution_count": 8,
   "metadata": {
    "collapsed": true
   },
   "outputs": [],
   "source": [
    "# y_train = np.array(y_train, np.uint8)\n",
    "# x_train = np.array(x_train, np.float32) #/ 255.\n",
    "\n",
    "#Transpose the data if using Theano\n",
    "\n",
    "# x_train = x_train.transpose((0, 3, 1, 2))\n",
    "\n",
    "# x_test  = np.array(x_test, np.float32) #/ 255.\n",
    "# x_test = x_test.transpose((0, 3, 1, 2))\n",
    "\n",
    "\n",
    "\n",
    "\n"
   ]
  },
  {
   "cell_type": "code",
   "execution_count": 9,
   "metadata": {
    "collapsed": true
   },
   "outputs": [],
   "source": [
    "# save_array(\"data/cache/xtrain_100x100.dat\",x_train)\n",
    "# save_array(\"data/cache/xtest_100x100.dat\",x_test)\n",
    "# save_array(\"data/cache/ytrain.dat\",y_train)\n",
    "\n",
    "# save_array(\"data/cache/xtrain_{}x{}.dat\".format(target_size[0],target_size[0]),x_train)\n",
    "# save_array(\"data/cache/xtest_{}x{}.dat\".format(target_size[0],target_size[0]),x_test)\n"
   ]
  },
  {
   "cell_type": "code",
   "execution_count": 5,
   "metadata": {
    "collapsed": true
   },
   "outputs": [],
   "source": [
    "x_train = load_array(\"data/cache/xtrain_{}x{}.dat\".format(target_size[0],target_size[1]))\n",
    "y_train = load_array(\"data/cache/ytrain_original.dat\")\n",
    "\n"
   ]
  },
  {
   "cell_type": "code",
   "execution_count": 6,
   "metadata": {
    "collapsed": true
   },
   "outputs": [],
   "source": [
    "y_train = y_train[:,label_map[\"cloudy\"]]"
   ]
  },
  {
   "cell_type": "code",
   "execution_count": 7,
   "metadata": {
    "collapsed": true
   },
   "outputs": [],
   "source": [
    "new_class_weights = class_weight.compute_class_weight('balanced', np.unique(y_train), y_train)\n"
   ]
  },
  {
   "cell_type": "code",
   "execution_count": 8,
   "metadata": {},
   "outputs": [
    {
     "data": {
      "text/plain": [
       "array([ 0.5272,  9.6886])"
      ]
     },
     "execution_count": 8,
     "metadata": {},
     "output_type": "execute_result"
    }
   ],
   "source": [
    "new_class_weights"
   ]
  },
  {
   "cell_type": "markdown",
   "metadata": {},
   "source": [
    "#### Loading test  data"
   ]
  },
  {
   "cell_type": "code",
   "execution_count": 13,
   "metadata": {
    "collapsed": true
   },
   "outputs": [],
   "source": [
    "x_test = np.memmap(\"data/cache/xtest_{}x{}.memmapped\".format(target_size[0],target_size[0]), dtype='float32', mode='w+', \n",
    "                       shape=(df_test.shape[0],3,target_size[0],target_size[0]))"
   ]
  },
  {
   "cell_type": "code",
   "execution_count": 14,
   "metadata": {},
   "outputs": [
    {
     "data": {
      "application/vnd.jupyter.widget-view+json": {
       "model_id": "4a699ff14b38414a8be1d78a656e4e70"
      }
     },
     "metadata": {},
     "output_type": "display_data"
    },
    {
     "name": "stdout",
     "output_type": "stream",
     "text": [
      "\n"
     ]
    }
   ],
   "source": [
    "### Test data\n",
    "# c = 0\n",
    "# for f, tags in tqdm_notebook(df_test.values, miniters=1000):\n",
    "    \n",
    "#     img = image.load_img('data/test-jpg/{}.jpg'.format(f), target_size=target_size)\n",
    "#     x = image.img_to_array(img)\n",
    "#     x = np.expand_dims(x, axis=0)\n",
    "#     x = preprocess_input(x)\n",
    "\n",
    "#     x_test[c] = x\n",
    "#     c +=1\n",
    "        \n"
   ]
  },
  {
   "cell_type": "markdown",
   "metadata": {},
   "source": [
    "### Model Training \n"
   ]
  },
  {
   "cell_type": "code",
   "execution_count": 9,
   "metadata": {
    "collapsed": true,
    "scrolled": true
   },
   "outputs": [],
   "source": [
    "input_tensor = Input(shape=(3,224, 224))\n",
    "resnet = ResNet50(include_top=False, input_tensor=input_tensor,classes=17)\n",
    "# resnet = ResNet50(include_top=True, classes=17)"
   ]
  },
  {
   "cell_type": "code",
   "execution_count": 10,
   "metadata": {
    "collapsed": true
   },
   "outputs": [],
   "source": [
    "for layer in resnet.layers:\n",
    "    layer.trainable = False"
   ]
  },
  {
   "cell_type": "code",
   "execution_count": 11,
   "metadata": {},
   "outputs": [
    {
     "data": {
      "text/plain": [
       "'activation_10'"
      ]
     },
     "execution_count": 11,
     "metadata": {},
     "output_type": "execute_result"
    }
   ],
   "source": [
    "resnet.layers[-138].name"
   ]
  },
  {
   "cell_type": "code",
   "execution_count": 9,
   "metadata": {
    "collapsed": true
   },
   "outputs": [],
   "source": [
    "for i in range(-33,0):\n",
    "    # 3a: -138\n",
    "    # 4a: -95\n",
    "    # tuning 5b: -21\n",
    "    # tuning branch 5c -11\n",
    "    # tuning from 5a: -33\n",
    "    resnet.layers[i].trainable = True"
   ]
  },
  {
   "cell_type": "code",
   "execution_count": 18,
   "metadata": {
    "collapsed": true
   },
   "outputs": [],
   "source": [
    "# img = image.load_img('data/train-jpg/{}.jpg'.format(\"train_9\"), target_size=target_size)\n",
    "# x = image.img_to_array(img)\n",
    "# x = np.expand_dims(x, axis=0)\n",
    "# x = preprocess_input(x)\n",
    "\n",
    "# x = np.append(x,x,axis=0)\n"
   ]
  },
  {
   "cell_type": "code",
   "execution_count": 11,
   "metadata": {
    "collapsed": true
   },
   "outputs": [],
   "source": [
    "x = Flatten()(resnet.layers[-1].output)\n",
    "x = Dropout(0.5)(x)\n",
    "\n",
    "x = Dense(1024, activation='relu')(x)\n",
    "\n",
    "# x = Dense(512, activation='relu')(x)\n",
    "x = Dropout(0.5)(x)\n",
    "# x = Dense(512, activation='relu')(x)\n",
    "# x = Dropout(0.3)(x)\n",
    "# x = Dense(4,activation='softmax',name=\"fc17\")(x)\n",
    "# x = Dense(4,activation='softmax',name=\"weatherx4\")(x)\n",
    "\n"
   ]
  },
  {
   "cell_type": "code",
   "execution_count": 12,
   "metadata": {
    "collapsed": true
   },
   "outputs": [],
   "source": [
    "model = Model(inputs=resnet.input,outputs=x)\n",
    "model.compile(optimizer=Adam(lr=1e-5), loss='categorical_crossentropy', metrics=['accuracy'])\n",
    "model.load_weights(\"weights/resnet_simpleaug_weather_5a_cont_overfitmodel.h5\")\n",
    "\n",
    "# was resnet_17class_4a_fullrotation\n",
    "#resnet_simpleaug_weather_5a_cont_overfitmodel\n"
   ]
  },
  {
   "cell_type": "code",
   "execution_count": 26,
   "metadata": {},
   "outputs": [
    {
     "data": {
      "text/plain": [
       "'dropout_2'"
      ]
     },
     "execution_count": 26,
     "metadata": {},
     "output_type": "execute_result"
    }
   ],
   "source": [
    "model.layers[-2].name"
   ]
  },
  {
   "cell_type": "code",
   "execution_count": 12,
   "metadata": {
    "collapsed": true
   },
   "outputs": [],
   "source": [
    "del x_train"
   ]
  },
  {
   "cell_type": "code",
   "execution_count": 13,
   "metadata": {
    "collapsed": true
   },
   "outputs": [],
   "source": [
    "# x2 = model.layers[-2].output\n",
    "x2 = Dense(1,activation='sigmoid',name=\"cloudy\")(x)\n",
    "\n",
    "model2 = Model(inputs=resnet.input,outputs=x2)\n",
    "model2.compile(optimizer=Adam(lr=1e-5), loss='binary_crossentropy', metrics=['accuracy'])\n",
    "model2.load_weights(\"weights/resnet_simpleaug_cloudy_toponly_alltrain.h5\")\n",
    "\n"
   ]
  },
  {
   "cell_type": "code",
   "execution_count": 41,
   "metadata": {
    "collapsed": true
   },
   "outputs": [],
   "source": [
    "# model.summary()"
   ]
  },
  {
   "cell_type": "code",
   "execution_count": 16,
   "metadata": {},
   "outputs": [
    {
     "name": "stdout",
     "output_type": "stream",
     "text": [
      "flatten_2\n",
      "dropout_3\n",
      "dense_2\n",
      "dropout_4\n",
      "cloudy\n"
     ]
    }
   ],
   "source": [
    "for l in model2.layers:\n",
    "    if l.trainable==True:\n",
    "        print l.name"
   ]
  },
  {
   "cell_type": "markdown",
   "metadata": {},
   "source": [
    "#### separate model output into 2 parts to differentiate between weather and other classes"
   ]
  },
  {
   "cell_type": "code",
   "execution_count": 14,
   "metadata": {
    "collapsed": true
   },
   "outputs": [],
   "source": [
    "# x2 = model.layers[-2].output #dropout layer\n",
    "# weather_output = Dense(4,activation='softmax',name=\"weather\")(x)\n",
    "# rare_class_output = Dense(13,activation='sigmoid',name=\"rareclass\")(x)"
   ]
  },
  {
   "cell_type": "code",
   "execution_count": 15,
   "metadata": {
    "collapsed": true
   },
   "outputs": [],
   "source": [
    "# modelv2 = Model (inputs=resnet.input,outputs=[weather_output,rare_class_output])\n",
    "# modelv2.compile(optimizer=Adam(lr=1e-4), loss=['categorical_crossentropy','binary_crossentropy'], metrics=['accuracy'])\n",
    "# modelv2.load_weights(\"weights/resnet_2xoutput_2x_aug_toponlyp_withaug_2x512_finetuning_5b.h5\")"
   ]
  },
  {
   "cell_type": "markdown",
   "metadata": {},
   "source": [
    "### Quick training and prediction (on SAMPLE data)"
   ]
  },
  {
   "cell_type": "code",
   "execution_count": 13,
   "metadata": {
    "collapsed": true
   },
   "outputs": [],
   "source": [
    "VALIDATION_SPLIT = 0.2\n",
    "np.random.seed(2089)\n",
    "\n",
    "# perm = np.random.permutation(len(x_sample))\n",
    "# idx_train = perm[:int(len(x_sample)*(1-VALIDATION_SPLIT))]\n",
    "# idx_val = perm[int(len(x_sample)*(1-VALIDATION_SPLIT)):]\n",
    "\n",
    "# X_train = x_sample[idx_train]\n",
    "# Y_train = y_sample[idx_train]\n",
    "# X_valid = x_sample[idx_val]\n",
    "# Y_valid = y_sample[idx_val]\n",
    "\n",
    "\n",
    "\n",
    "perm = np.random.permutation(len(y_train))\n",
    "idx_train = perm[:int(len(y_train)*(1-VALIDATION_SPLIT))]\n",
    "idx_val = perm[int(len(y_train)*(1-VALIDATION_SPLIT)):]\n",
    "\n",
    "\n",
    "X_train = x_train[idx_train]\n",
    "Y_train = y_train[idx_train]\n",
    "X_valid = x_train[idx_val]\n",
    "Y_valid = y_train[idx_val]\n",
    "\n",
    "del x_train"
   ]
  },
  {
   "cell_type": "code",
   "execution_count": 48,
   "metadata": {},
   "outputs": [
    {
     "data": {
      "text/plain": [
       "(array([0, 0, 0, 0, 0, 0, 0, 1, 0, 0, 1, 0, 0, 0, 0, 0, 0], dtype=uint8),\n",
       " array([0, 0, 0, 0, 0, 0, 0, 1, 0, 0, 1, 0, 0, 0, 1, 0, 0], dtype=uint8),\n",
       " array([0, 0, 0, 0, 0, 0, 0, 1, 0, 0, 1, 0, 0, 0, 0, 0, 0], dtype=uint8))"
      ]
     },
     "execution_count": 48,
     "metadata": {},
     "output_type": "execute_result"
    }
   ],
   "source": [
    "Y_valid[0],Y_valid[10],Y_valid[2000]\n"
   ]
  },
  {
   "cell_type": "code",
   "execution_count": 14,
   "metadata": {
    "collapsed": true
   },
   "outputs": [],
   "source": [
    "valid_weights = np.ones(Y_valid.shape)"
   ]
  },
  {
   "cell_type": "code",
   "execution_count": 15,
   "metadata": {},
   "outputs": [
    {
     "data": {
      "text/plain": [
       "array([ 0.5272,  9.6886])"
      ]
     },
     "execution_count": 15,
     "metadata": {},
     "output_type": "execute_result"
    }
   ],
   "source": [
    "new_class_weights"
   ]
  },
  {
   "cell_type": "code",
   "execution_count": 16,
   "metadata": {
    "collapsed": true
   },
   "outputs": [],
   "source": [
    "valid_weights[np.where(Y_valid==1)] = new_class_weights[1]"
   ]
  },
  {
   "cell_type": "code",
   "execution_count": 17,
   "metadata": {
    "collapsed": true
   },
   "outputs": [],
   "source": [
    "valid_weights[np.where(Y_valid!=1)] = new_class_weights[0]"
   ]
  },
  {
   "cell_type": "markdown",
   "metadata": {},
   "source": [
    "#### With Augmentation"
   ]
  },
  {
   "cell_type": "code",
   "execution_count": 14,
   "metadata": {
    "collapsed": true
   },
   "outputs": [],
   "source": [
    "batch_size = 128\n",
    "\n",
    "\n",
    "train_gen = ImageDataGenerator2(rotation_range=360,\n",
    "#     width_shift_range=0.1,\n",
    "#     height_shift_range=0.0,\n",
    "    shear_range=0.1,\n",
    "#     zoom_range=0.05,\n",
    "    channel_shift_range=0.1,\n",
    "    horizontal_flip=True,\n",
    "    vertical_flip=False)\n",
    "\n",
    "\n",
    "# train_gen = ImageDataGenerator(rotation_range=360,\n",
    "#     width_shift_range=0.1,\n",
    "#     height_shift_range=0.1,\n",
    "#     shear_range=0.2,\n",
    "#     zoom_range=0.2,\n",
    "#     channel_shift_range=0.2,\n",
    "#     horizontal_flip=True,\n",
    "#     vertical_flip=True,fill_mode='reflect')\n",
    "\n",
    "\n",
    "\n",
    "# train_batch = train_gen.flow(x_train,y_train,batch_size=batch_size,shuffle=True)\n"
   ]
  },
  {
   "cell_type": "markdown",
   "metadata": {},
   "source": [
    "--- \n"
   ]
  },
  {
   "cell_type": "code",
   "execution_count": 25,
   "metadata": {
    "collapsed": true
   },
   "outputs": [],
   "source": [
    "\n",
    "kfold_weights_path = os.path.join('weights/', 'resnet_simpleaug_cloudy_toponly_alltrain.h5')\n",
    "\n",
    "\n",
    "#              ReduceLROnPlateau(monitor='val_loss',  patience=3, verbose=1, factor=0.1, min_lr=1e-7)\n",
    "callbacks = [EarlyStopping(monitor='val_loss', patience=4),\n",
    "             ModelCheckpoint(kfold_weights_path, monitor='val_loss', save_best_only=True),\n",
    "             ReduceLROnPlateau(monitor='val_loss',  patience=2, verbose=1, factor=0.5, min_lr=1e-7)\n",
    "            ]\n",
    "\n"
   ]
  },
  {
   "cell_type": "markdown",
   "metadata": {},
   "source": [
    "#### Results\n",
    "\n",
    "\n",
    "#### weather only \n",
    "\n",
    "resnet_simpleaug_weather_toponly.h5\n",
    "\n",
    "252/252 [==============================] - 387s - loss: 0.2720 - acc: 0.9018 - val_loss: 0.2105 - val_acc: 0.9203\n",
    "\n",
    "\n",
    "resnet_simpleaug_weather_5a_cont_overfitmodel:\n",
    "\n",
    "\n",
    "Epoch 11/100\n",
    "404/404 [==============================] - 529s - loss: 0.1818 - acc: 0.9319 - val_loss: 0.1770 - val_acc: 0.9318\n",
    "\n",
    "\n",
    "\n",
    "full train set:\n",
    "\n",
    "Epoch 2/2\n",
    "505/505 [==============================] - 635s - loss: 0.1820 - acc: 0.9320 - val_loss: 0.1694 - val_acc: 0.9333\n",
    "\n",
    "\n",
    "\n",
    "##### cloudy \n",
    "\n",
    "Epoch 8/100\n",
    "252/252 [==============================] - 392s - loss: 0.1317 - acc: 0.9589 - val_loss: 0.0959 - val_acc: 0.9520\n",
    "\n",
    "\n",
    "top only p2 \n",
    "Epoch 12/100\n",
    "252/252 [==============================] - 399s - loss: 0.0830 - acc: 0.9606 - val_loss: 0.0777 - val_acc: 0.9575\n",
    "\n",
    "top only p3 (1e-5)\n",
    "Epoch 3/100\n",
    "252/252 [==============================] - 404s - loss: 0.0766 - acc: 0.9636 - val_loss: 0.0771 - val_acc: 0.9587\n",
    "\n",
    "\n",
    "\n",
    "###### from scracthc (redo1.h5)\n",
    "\n",
    "252/252 [==============================] - 388s - loss: 0.2760 - acc: 0.8994 - val_loss: 0.2355 - val_acc: 0.9144\n",
    "\n",
    "\n",
    "\n"
   ]
  },
  {
   "cell_type": "code",
   "execution_count": 32,
   "metadata": {
    "scrolled": true
   },
   "outputs": [
    {
     "name": "stdout",
     "output_type": "stream",
     "text": [
      "Epoch 1/2\n",
      "316/316 [==============================] - 482s - loss: 0.0786 - acc: 0.9644 - val_loss: 0.0767 - val_acc: 0.9600\n",
      "Epoch 2/2\n",
      "316/316 [==============================] - 482s - loss: 0.0825 - acc: 0.9635 - val_loss: 0.0771 - val_acc: 0.9591\n"
     ]
    }
   ],
   "source": [
    "history = model2.fit_generator(train_batch, validation_data=(X_valid, Y_valid,valid_weights),\n",
    "                               steps_per_epoch=len(x_train)/(batch_size),epochs=2,callbacks=callbacks,\n",
    "                              class_weight={0:new_class_weights[0],1:new_class_weights[1]})\n",
    "\n"
   ]
  },
  {
   "cell_type": "markdown",
   "metadata": {
    "collapsed": true
   },
   "source": [
    "#### verifying results"
   ]
  },
  {
   "cell_type": "code",
   "execution_count": 33,
   "metadata": {},
   "outputs": [
    {
     "name": "stdout",
     "output_type": "stream",
     "text": [
      "loading best weights from 'weights/resnet_simpleaug_cloudy_toponly_alltrain.h5'\n"
     ]
    }
   ],
   "source": [
    "if os.path.isfile(kfold_weights_path):\n",
    "    print \"loading best weights from '{}'\".format(kfold_weights_path)\n",
    "    model2.load_weights(kfold_weights_path)\n",
    "    \n",
    "    "
   ]
  },
  {
   "cell_type": "code",
   "execution_count": 21,
   "metadata": {
    "collapsed": true
   },
   "outputs": [],
   "source": [
    "def optimise_f2_thresholds2(y, p, verbose=True, resolution=100,num_classes=17):\n",
    "    def mf(x):\n",
    "        p2 = np.zeros_like(p)\n",
    "        for i in range(num_classes):\n",
    "            p2[:, i] = (p[:, i] > x[i]).astype(np.int)\n",
    "        score = fbeta_score(y, p2, beta=2, average='samples')\n",
    "        return score\n",
    "\n",
    "    x = [0.1]*num_classes\n",
    "    for i in range(num_classes):\n",
    "        best_i2 = 0\n",
    "        best_score = 0\n",
    "        for i2 in range(resolution):\n",
    "            threshold = float(i2) / resolution\n",
    "            x[i] = threshold\n",
    "            score = mf(x)\n",
    "            if score > best_score:\n",
    "                best_i2 = threshold\n",
    "                best_score = score\n",
    "\n",
    "        x[i] = best_i2\n",
    "        if verbose:\n",
    "            print(i, best_i2, best_score)\n",
    "\n",
    "    return x\n"
   ]
  },
  {
   "cell_type": "code",
   "execution_count": 17,
   "metadata": {
    "collapsed": true
   },
   "outputs": [],
   "source": [
    "def make_augmented_predictions(model,data,generator,num_aug,ouput_shape=17):\n",
    "    preds = np.zeros((data.shape[0],ouput_shape)).astype(np.float32) #model.predict(data)\n",
    "    \n",
    "    for i in tqdm_notebook(range(num_aug)):\n",
    "        \n",
    "        test_batch = train_gen.flow(data,batch_size=100,shuffle=False)\n",
    "        partial_preds =  model.predict_generator(test_batch,steps=math.ceil(data.shape[0]/100.), verbose=1)[:data.shape[0]]\n",
    "                             \n",
    "        preds += partial_preds# np.vstack(partial_preds)\n",
    "        \n",
    "    return  preds/float(num_aug)"
   ]
  },
  {
   "cell_type": "code",
   "execution_count": 29,
   "metadata": {
    "collapsed": true
   },
   "outputs": [],
   "source": [
    "preds_val = model2.predict(X_valid)"
   ]
  },
  {
   "cell_type": "code",
   "execution_count": 18,
   "metadata": {},
   "outputs": [
    {
     "data": {
      "application/vnd.jupyter.widget-view+json": {
       "model_id": "7d463bd58ef04b0293f9546efd020234"
      }
     },
     "metadata": {},
     "output_type": "display_data"
    },
    {
     "name": "stdout",
     "output_type": "stream",
     "text": [
      "\n",
      "81/81 [==============================] - 89s    \n",
      "81/81 [==============================] - 89s    \n",
      "81/81 [==============================] - 89s    \n",
      "81/81 [==============================] - 90s    \n",
      "81/81 [==============================] - 90s    \n",
      "81/81 [==============================] - 90s    \n",
      "81/81 [==============================] - 91s    \n",
      "81/81 [==============================] - 90s    \n",
      "81/81 [==============================] - 90s    \n",
      "81/81 [==============================] - 90s    \n"
     ]
    }
   ],
   "source": [
    "preds_val = make_augmented_predictions(model,X_valid,train_gen,10,4)\n"
   ]
  },
  {
   "cell_type": "code",
   "execution_count": 19,
   "metadata": {
    "collapsed": true
   },
   "outputs": [],
   "source": [
    "save_array(\"data/cache/preds_val_resnet_weatheronly_ft5a_10xaug.dat\",preds_val)"
   ]
  },
  {
   "cell_type": "code",
   "execution_count": 5,
   "metadata": {
    "collapsed": true
   },
   "outputs": [],
   "source": [
    "preds_val = load_array(\"data/cache/preds_val_resnet_weatheronly_ft5a_10xaug.dat\")"
   ]
  },
  {
   "cell_type": "code",
   "execution_count": 23,
   "metadata": {},
   "outputs": [
    {
     "name": "stderr",
     "output_type": "stream",
     "text": [
      "/home/ubuntu/anaconda2/lib/python2.7/site-packages/sklearn/metrics/classification.py:1113: UndefinedMetricWarning: F-score is ill-defined and being set to 0.0 in samples with no predicted labels.\n",
      "  'precision', 'predicted', average, warn_for)\n"
     ]
    },
    {
     "name": "stdout",
     "output_type": "stream",
     "text": [
      "(0, 0.27, 0.95200966379634866)\n",
      "(1, 0.16, 0.95362936429512524)\n",
      "(2, 0.22, 0.95467779503105599)\n",
      "(3, 0.22, 0.95681582909843788)\n"
     ]
    },
    {
     "data": {
      "text/plain": [
       "0.2175"
      ]
     },
     "execution_count": 23,
     "metadata": {},
     "output_type": "execute_result"
    }
   ],
   "source": [
    "# thres = optimise_f2_thresholds2(Y_valid[:,rare_class_indices], preds_val[1],num_classes=17)\n",
    "thres = optimise_f2_thresholds2(Y_valid[:,weather_indices], preds_val,num_classes=4)\n",
    "\n",
    "np.mean(thres)"
   ]
  },
  {
   "cell_type": "code",
   "execution_count": 6,
   "metadata": {
    "collapsed": true
   },
   "outputs": [],
   "source": [
    "# save_array(\"data/cache/thresholds_resnet_weatheronly_ft5a_10xaug.dat\",thres)\n",
    "thres = load_array(\"data/cache/thresholds_resnet_weatheronly_ft5a_10xaug.dat\")"
   ]
  },
  {
   "cell_type": "code",
   "execution_count": 23,
   "metadata": {
    "collapsed": true
   },
   "outputs": [],
   "source": [
    "from sklearn.preprocessing import OneHotEncoder\n",
    "\n",
    "enc = OneHotEncoder()\n",
    "softmax_preds = enc.fit_transform(np.argmax(preds_val,axis=1).reshape(-1,1)).toarray()"
   ]
  },
  {
   "cell_type": "markdown",
   "metadata": {},
   "source": [
    "##### Results\n",
    "only top: ('F2 Score:', 0.90277204908226472)\n",
    "\n",
    "17x classes 5b: ('F2 Score:', 0.92441155146612664)\n",
    "\n",
    "17x classes 5a: ('F2 Score:', 0.92602459589916475)\n",
    "\n",
    "17x 4a, 12x tta: ('F2 Score:', 0.92888311298630033)\n",
    "\n",
    "best of heavy augmentation (full net ft i guess): \n",
    "\n",
    "('F2 Score:', 0.92963507127825773)\n",
    "\n",
    "\n",
    "easy augmentation: ('F2 Score:', 0.93196287782647524)"
   ]
  },
  {
   "cell_type": "code",
   "execution_count": 26,
   "metadata": {
    "scrolled": false
   },
   "outputs": [
    {
     "name": "stdout",
     "output_type": "stream",
     "text": [
      "('F2 Score:', 0.93196287782647524)\n"
     ]
    }
   ],
   "source": [
    "print('F2 Score:', f2_score(Y_valid, preds_val>thres)) #combined_val_preds"
   ]
  },
  {
   "cell_type": "code",
   "execution_count": 28,
   "metadata": {
    "collapsed": true
   },
   "outputs": [],
   "source": [
    "save_array(\"data/cache/resnet_thresholds_simple_aug_10xtta.dat\",thres)"
   ]
  },
  {
   "cell_type": "code",
   "execution_count": 29,
   "metadata": {
    "collapsed": true
   },
   "outputs": [],
   "source": [
    "save_array(\"data/cache/resnet_preds_val_simple_aug_10xtta.dat\",preds_val)"
   ]
  },
  {
   "cell_type": "code",
   "execution_count": 27,
   "metadata": {},
   "outputs": [
    {
     "name": "stdout",
     "output_type": "stream",
     "text": [
      "0.0 0.482061238932\n",
      "0.01 0.849121058529\n",
      "0.02 0.87690443392\n",
      "0.03 0.890517240837\n",
      "0.04 0.899282401883\n",
      "0.05 0.905214952944\n",
      "0.06 0.909655409105\n",
      "0.07 0.913418226069\n",
      "0.08 0.916360113556\n",
      "0.09 0.918881446521\n",
      "0.1 0.920478771462\n",
      "0.11 0.922267989903\n",
      "0.12 0.92383620262\n",
      "0.13 0.924776748123\n",
      "0.14 0.926270969599\n",
      "0.15 0.927286427771\n",
      "0.16 0.928385680243\n",
      "0.17 0.929337918462\n",
      "0.18 0.929596517661\n",
      "0.19 0.930031542741\n",
      "0.2 0.930236780314\n",
      "0.22 0.930442706661\n",
      "0.23 0.930556540729\n"
     ]
    }
   ],
   "source": [
    "best_score = 0.0\n",
    "best_threshold = 0.0\n",
    "for i in range(100):\n",
    "    threshold = i / 100.\n",
    "    score = f2_score(Y_valid, preds_val>threshold)\n",
    "    \n",
    "    if score  > best_score:\n",
    "        best_score = score\n",
    "        best_threshold = threshold\n",
    "        print best_threshold, best_score\n",
    " "
   ]
  },
  {
   "cell_type": "markdown",
   "metadata": {},
   "source": [
    "                   precision    recall  f1-score   support\n",
    "\n",
    "        blow_down       1.00      0.05      0.10        20\n",
    "      bare_ground       0.40      0.49      0.44       171\n",
    "conventional_mine       0.44      0.83      0.58        18\n",
    "         blooming       0.41      0.17      0.24        65\n",
    "      cultivation       0.42      0.81      0.55       923\n",
    "   artisinal_mine       0.75      0.90      0.82        58\n",
    "             haze       0.58      0.83      0.69       575\n",
    "          primary       0.96      1.00      0.98      7483\n",
    "       slash_burn       0.31      0.14      0.20        35\n",
    "       habitation       0.59      0.83      0.69       704\n",
    "            clear       0.93      0.99      0.96      5614\n",
    "             road       0.73      0.90      0.81      1583\n",
    "selective_logging       0.50      0.43      0.46        68\n",
    "    partly_cloudy       0.83      0.97      0.90      1477\n",
    "      agriculture       0.74      0.95      0.83      2413\n",
    "            water       0.68      0.86      0.76      1456\n",
    "           cloudy       0.60      0.99      0.75       430\n",
    "\n",
    "      avg / total       0.83      0.95      0.88     23093"
   ]
  },
  {
   "cell_type": "code",
   "execution_count": 27,
   "metadata": {
    "collapsed": true
   },
   "outputs": [],
   "source": [
    "from sklearn.metrics import classification_report\n",
    "\n",
    "# print classification_report(Y_valid[:,weather_indices].astype(bool),p,target_names=[\"cloudy\",\"haze\",\"partly_cloudy\",\"clear\"])"
   ]
  },
  {
   "cell_type": "code",
   "execution_count": 28,
   "metadata": {},
   "outputs": [
    {
     "data": {
      "text/plain": [
       "array([1, 0, 0, ..., 0, 1, 0], dtype=uint8)"
      ]
     },
     "execution_count": 28,
     "metadata": {},
     "output_type": "execute_result"
    }
   ],
   "source": [
    "Y_valid"
   ]
  },
  {
   "cell_type": "code",
   "execution_count": 32,
   "metadata": {},
   "outputs": [
    {
     "name": "stdout",
     "output_type": "stream",
     "text": [
      "             precision    recall  f1-score   support\n",
      "\n",
      "      False       0.99      0.98      0.99      7666\n",
      "       True       0.76      0.90      0.82       430\n",
      "\n",
      "avg / total       0.98      0.98      0.98      8096\n",
      "\n"
     ]
    }
   ],
   "source": [
    "print classification_report(Y_valid.astype(bool),preds_val>0.9)"
   ]
  },
  {
   "cell_type": "code",
   "execution_count": 51,
   "metadata": {},
   "outputs": [
    {
     "name": "stdout",
     "output_type": "stream",
     "text": [
      "174 35\n",
      "82 18\n",
      "78 20\n"
     ]
    }
   ],
   "source": [
    "print np.sum(Y_train[:,label_map[\"slash_burn\"]]), np.sum(Y_valid[:,label_map[\"slash_burn\"]])\n",
    "print np.sum(Y_train[:,label_map[\"conventional_mine\"]]), np.sum(Y_valid[:,label_map[\"conventional_mine\"]])\n",
    "print np.sum(Y_train[:,label_map[\"blow_down\"]]), np.sum(Y_valid[:,label_map[\"blow_down\"]])"
   ]
  },
  {
   "cell_type": "markdown",
   "metadata": {},
   "source": [
    "### Making Prediction"
   ]
  },
  {
   "cell_type": "code",
   "execution_count": 32,
   "metadata": {
    "collapsed": true
   },
   "outputs": [],
   "source": [
    "save_array(\"data/cache/thres_resnet_4a_12xthresholdaug.dat\",thres)"
   ]
  },
  {
   "cell_type": "code",
   "execution_count": 5,
   "metadata": {
    "collapsed": true
   },
   "outputs": [],
   "source": [
    "thres = load_array(\"data/cache/thres_resnet_4a_12xthresholdaug.dat\")"
   ]
  },
  {
   "cell_type": "code",
   "execution_count": 52,
   "metadata": {},
   "outputs": [
    {
     "data": {
      "text/plain": [
       "((61191, 17), (61191, 3, 100, 100))"
      ]
     },
     "execution_count": 52,
     "metadata": {},
     "output_type": "execute_result"
    }
   ],
   "source": [
    "preds.shape, x_test.shape"
   ]
  },
  {
   "cell_type": "code",
   "execution_count": 15,
   "metadata": {
    "collapsed": true
   },
   "outputs": [],
   "source": [
    "def read_partial_xtest(start,end):\n",
    "    c = 0\n",
    "    num_items = end-start\n",
    "    x_test = np.zeros((num_items,3,target_size[0],target_size[0])).astype(np.float32)\n",
    "\n",
    "    for f, tags in tqdm_notebook(df_test.iloc[start:end].values, miniters=1000):\n",
    "\n",
    "        img = image.load_img('data/test-jpg/{}.jpg'.format(f), target_size=target_size)\n",
    "        x = image.img_to_array(img)\n",
    "        x = np.expand_dims(x, axis=0)\n",
    "        x = preprocess_input(x)\n",
    "\n",
    "        x_test[c] = x\n",
    "        c +=1\n",
    "\n",
    "    return x_test\n"
   ]
  },
  {
   "cell_type": "code",
   "execution_count": 18,
   "metadata": {
    "collapsed": true
   },
   "outputs": [],
   "source": [
    "\n",
    "\n",
    "def make_staged_predictions_v2(model,num_parts, nb_aug=1):\n",
    "    partial_preds = []\n",
    "\n",
    "    batch_size = 128.0\n",
    "    data_length = df_test.shape[0]#X_valid[0:16].shape[0]\n",
    "    chunck_size = data_length//num_parts\n",
    "\n",
    "    print( \"breaking data into chunks of \", chunck_size)\n",
    "    \n",
    "#     ipdb.set_trace()\n",
    "    final_preds = np.zeros((data_length,1)).astype(np.float32)\n",
    "#     data = X_valid[0:16]\n",
    "\n",
    "\n",
    "    for i in tqdm_notebook(range(1,num_parts+2)):\n",
    "        print( \"predicting part {} of {}\".format(i,num_parts)      )\n",
    "\n",
    "        start_index = (i-1)*chunck_size\n",
    "        end_index = min(data_length,i*chunck_size)\n",
    "        num_items = end_index-start_index\n",
    "        data = read_partial_xtest(start_index,end_index)\n",
    "        partials = []\n",
    "        \n",
    "        \n",
    "        for n in tqdm_notebook(range(nb_aug)):\n",
    "            print (\"augmentation round {} of {}\".format(n+1,nb_aug) )\n",
    "#             partial_preds = np.zeros((num_items,17)).astype(np.float32)\n",
    "\n",
    "            test_batch = train_gen.flow(data,batch_size=int(batch_size),shuffle=False)\n",
    "            t = model.predict_generator(test_batch,steps=math.ceil(num_items/batch_size), verbose=1)[:num_items]\n",
    "\n",
    "            partials.append(t)\n",
    "#             partial_preds += t \n",
    "#         partial_preds /= float(nb_aug) \n",
    "            \n",
    "        final_preds[start_index:end_index] = np.mean(partials,axis=0)\n",
    "        save_array(\"data/cache/resnet_ft4a_final_preds_temp_part{}\".format(i),final_preds)   \n",
    "    \n",
    "    return final_preds\n",
    "\n",
    "\n",
    "    \n"
   ]
  },
  {
   "cell_type": "code",
   "execution_count": 19,
   "metadata": {
    "scrolled": true
   },
   "outputs": [
    {
     "name": "stdout",
     "output_type": "stream",
     "text": [
      "('breaking data into chunks of ', 12238)\n"
     ]
    },
    {
     "data": {
      "application/vnd.jupyter.widget-view+json": {
       "model_id": "d49ab2a6c9a54c7992dbdd42960e9014"
      }
     },
     "metadata": {},
     "output_type": "display_data"
    },
    {
     "name": "stdout",
     "output_type": "stream",
     "text": [
      "predicting part 1 of 5\n"
     ]
    },
    {
     "data": {
      "application/vnd.jupyter.widget-view+json": {
       "model_id": "052b24fe9494463aace7e2e96b9e014c"
      }
     },
     "metadata": {},
     "output_type": "display_data"
    },
    {
     "data": {
      "application/vnd.jupyter.widget-view+json": {
       "model_id": "83459074b7f946b785da6c98b1c12aa6"
      }
     },
     "metadata": {},
     "output_type": "display_data"
    },
    {
     "name": "stdout",
     "output_type": "stream",
     "text": [
      "augmentation round 1 of 10\n",
      "96/96 [==============================] - 131s   \n",
      "augmentation round 2 of 10\n",
      "96/96 [==============================] - 131s   \n",
      "augmentation round 3 of 10\n",
      "96/96 [==============================] - 131s   \n",
      "augmentation round 4 of 10\n",
      "96/96 [==============================] - 132s   \n",
      "augmentation round 5 of 10\n",
      "96/96 [==============================] - 132s   \n",
      "augmentation round 6 of 10\n",
      "96/96 [==============================] - 132s   \n",
      "augmentation round 7 of 10\n",
      "96/96 [==============================] - 132s   \n",
      "augmentation round 8 of 10\n",
      "96/96 [==============================] - 132s   \n",
      "augmentation round 9 of 10\n",
      "96/96 [==============================] - 132s   \n",
      "augmentation round 10 of 10\n",
      "96/96 [==============================] - 133s   \n",
      "predicting part 2 of 5\n"
     ]
    },
    {
     "data": {
      "application/vnd.jupyter.widget-view+json": {
       "model_id": "6511d6327ffb40c580692f1f04abd953"
      }
     },
     "metadata": {},
     "output_type": "display_data"
    },
    {
     "data": {
      "application/vnd.jupyter.widget-view+json": {
       "model_id": "0cf9661931a64296be253362b45054fe"
      }
     },
     "metadata": {},
     "output_type": "display_data"
    },
    {
     "name": "stdout",
     "output_type": "stream",
     "text": [
      "augmentation round 1 of 10\n",
      "96/96 [==============================] - 131s   \n",
      "augmentation round 2 of 10\n",
      "96/96 [==============================] - 132s   \n",
      "augmentation round 3 of 10\n",
      "96/96 [==============================] - 132s   \n",
      "augmentation round 4 of 10\n",
      "96/96 [==============================] - 132s   \n",
      "augmentation round 5 of 10\n",
      "96/96 [==============================] - 132s   \n",
      "augmentation round 6 of 10\n",
      "96/96 [==============================] - 132s   \n",
      "augmentation round 7 of 10\n",
      "96/96 [==============================] - 132s   \n",
      "augmentation round 8 of 10\n",
      "96/96 [==============================] - 132s   \n",
      "augmentation round 9 of 10\n",
      "96/96 [==============================] - 135s   \n",
      "augmentation round 10 of 10\n",
      "96/96 [==============================] - 132s   \n",
      "predicting part 3 of 5\n"
     ]
    },
    {
     "data": {
      "application/vnd.jupyter.widget-view+json": {
       "model_id": "7d89be68858e4efca2e614b20a48b2ec"
      }
     },
     "metadata": {},
     "output_type": "display_data"
    },
    {
     "data": {
      "application/vnd.jupyter.widget-view+json": {
       "model_id": "fe0c609e76e34538b78d79269861eb06"
      }
     },
     "metadata": {},
     "output_type": "display_data"
    },
    {
     "name": "stdout",
     "output_type": "stream",
     "text": [
      "augmentation round 1 of 10\n",
      "96/96 [==============================] - 131s   \n",
      "augmentation round 2 of 10\n",
      "96/96 [==============================] - 132s   \n",
      "augmentation round 3 of 10\n",
      "96/96 [==============================] - 132s   \n",
      "augmentation round 4 of 10\n",
      "96/96 [==============================] - 132s   \n",
      "augmentation round 5 of 10\n",
      "96/96 [==============================] - 133s   \n",
      "augmentation round 6 of 10\n",
      "96/96 [==============================] - 132s   \n",
      "augmentation round 7 of 10\n",
      "96/96 [==============================] - 132s   \n",
      "augmentation round 8 of 10\n",
      "96/96 [==============================] - 132s   \n",
      "augmentation round 9 of 10\n",
      "96/96 [==============================] - 132s   \n",
      "augmentation round 10 of 10\n",
      "96/96 [==============================] - 132s   \n",
      "predicting part 4 of 5\n"
     ]
    },
    {
     "data": {
      "application/vnd.jupyter.widget-view+json": {
       "model_id": "f2c04c5c61c14b2e9f9b37c15b58018d"
      }
     },
     "metadata": {},
     "output_type": "display_data"
    },
    {
     "data": {
      "application/vnd.jupyter.widget-view+json": {
       "model_id": "bd68415f47db415cae7ed7224bbd4f5c"
      }
     },
     "metadata": {},
     "output_type": "display_data"
    },
    {
     "name": "stdout",
     "output_type": "stream",
     "text": [
      "augmentation round 1 of 10\n",
      "96/96 [==============================] - 131s   \n",
      "augmentation round 2 of 10\n",
      "96/96 [==============================] - 132s   \n",
      "augmentation round 3 of 10\n",
      "96/96 [==============================] - 132s   \n",
      "augmentation round 4 of 10\n",
      "96/96 [==============================] - 132s   \n",
      "augmentation round 5 of 10\n",
      "96/96 [==============================] - 132s   \n",
      "augmentation round 6 of 10\n",
      "96/96 [==============================] - 132s   \n",
      "augmentation round 7 of 10\n",
      "96/96 [==============================] - 132s   \n",
      "augmentation round 8 of 10\n",
      "96/96 [==============================] - 133s   \n",
      "augmentation round 9 of 10\n",
      "96/96 [==============================] - 131s   \n",
      "augmentation round 10 of 10\n",
      "96/96 [==============================] - 132s   \n",
      "predicting part 5 of 5\n"
     ]
    },
    {
     "data": {
      "application/vnd.jupyter.widget-view+json": {
       "model_id": "0ff8c71fc80d4de7b0db8459a93124ec"
      }
     },
     "metadata": {},
     "output_type": "display_data"
    },
    {
     "data": {
      "application/vnd.jupyter.widget-view+json": {
       "model_id": "75cf02100d99480f9be9e41ec152e2a2"
      }
     },
     "metadata": {},
     "output_type": "display_data"
    },
    {
     "name": "stdout",
     "output_type": "stream",
     "text": [
      "augmentation round 1 of 10\n",
      "96/96 [==============================] - 132s   \n",
      "augmentation round 2 of 10\n",
      "96/96 [==============================] - 131s   \n",
      "augmentation round 3 of 10\n",
      "96/96 [==============================] - 133s   \n",
      "augmentation round 4 of 10\n",
      "96/96 [==============================] - 132s   \n",
      "augmentation round 5 of 10\n",
      "96/96 [==============================] - 131s   \n",
      "augmentation round 6 of 10\n",
      "96/96 [==============================] - 133s   \n",
      "augmentation round 7 of 10\n",
      "96/96 [==============================] - 132s   \n",
      "augmentation round 8 of 10\n",
      "96/96 [==============================] - 132s   \n",
      "augmentation round 9 of 10\n",
      "96/96 [==============================] - 132s   \n",
      "augmentation round 10 of 10\n",
      "96/96 [==============================] - 132s   \n",
      "predicting part 6 of 5\n"
     ]
    },
    {
     "data": {
      "application/vnd.jupyter.widget-view+json": {
       "model_id": "96df9103065247dda36447687480c747"
      }
     },
     "metadata": {},
     "output_type": "display_data"
    },
    {
     "data": {
      "application/vnd.jupyter.widget-view+json": {
       "model_id": "8affaa0927a9435399273b1f56f85728"
      }
     },
     "metadata": {},
     "output_type": "display_data"
    },
    {
     "name": "stdout",
     "output_type": "stream",
     "text": [
      "augmentation round 1 of 10\n",
      "1/1 [==============================] - 0s\n",
      "augmentation round 2 of 10\n",
      "1/1 [==============================] - 0s\n",
      "augmentation round 3 of 10\n",
      "1/1 [==============================] - 0s\n",
      "augmentation round 4 of 10\n",
      "1/1 [==============================] - 0s\n",
      "augmentation round 5 of 10\n",
      "1/1 [==============================] - 0s\n",
      "augmentation round 6 of 10\n",
      "1/1 [==============================] - 0s\n",
      "augmentation round 7 of 10\n",
      "1/1 [==============================] - 0s\n",
      "augmentation round 8 of 10\n",
      "1/1 [==============================] - 0s\n",
      "augmentation round 9 of 10\n",
      "1/1 [==============================] - 0s\n",
      "augmentation round 10 of 10\n",
      "1/1 [==============================] - 0s\n",
      "\n"
     ]
    }
   ],
   "source": [
    "preds_x10 = make_staged_predictions_v2(model2,num_parts=5,nb_aug=10)\n"
   ]
  },
  {
   "cell_type": "code",
   "execution_count": 20,
   "metadata": {
    "collapsed": true
   },
   "outputs": [],
   "source": [
    "save_array(\"data/cache/test_preds_cloudy_model_10xtta.dat\", preds_x10)"
   ]
  },
  {
   "cell_type": "code",
   "execution_count": 48,
   "metadata": {
    "collapsed": true
   },
   "outputs": [],
   "source": [
    "preds_x12 = load_array(\"data/cache/preds_resnet4a_12xtta.dat\")"
   ]
  },
  {
   "cell_type": "markdown",
   "metadata": {},
   "source": [
    "### Make submission"
   ]
  },
  {
   "cell_type": "code",
   "execution_count": 18,
   "metadata": {
    "collapsed": true
   },
   "outputs": [],
   "source": [
    "thres = load_array(\"data/cache/resnet_thresholds_simple_aug_10xtta.dat/\")"
   ]
  },
  {
   "cell_type": "code",
   "execution_count": 19,
   "metadata": {
    "collapsed": true
   },
   "outputs": [],
   "source": [
    "preds1 = load_array(\"data/cache/preds_resnet4a_10xtta_pseudo_fullset_2epochs.dat/\")"
   ]
  },
  {
   "cell_type": "code",
   "execution_count": 20,
   "metadata": {
    "collapsed": true
   },
   "outputs": [],
   "source": [
    "preds2 = load_array(\"data/cache/preds_simpleaug_resnet5a_10xtta_fulldataset.dat/\")"
   ]
  },
  {
   "cell_type": "code",
   "execution_count": 21,
   "metadata": {
    "collapsed": true
   },
   "outputs": [],
   "source": [
    "preds = np.mean([preds1,preds2],axis=0)"
   ]
  },
  {
   "cell_type": "code",
   "execution_count": 34,
   "metadata": {
    "collapsed": true
   },
   "outputs": [],
   "source": [
    "save_array(\"data/cache/raw_preds_224x224_blend_2resnets_5a_n_4a_ft_0.92905_armin_ordering.dat\",preds)"
   ]
  },
  {
   "cell_type": "code",
   "execution_count": 36,
   "metadata": {},
   "outputs": [
    {
     "data": {
      "text/html": [
       "<a href='data/cache/raw_preds_224x224_blend_2resnets_5a_n_4a_ft_0.92905_armin_ordering.zip' target='_blank'>data/cache/raw_preds_224x224_blend_2resnets_5a_n_4a_ft_0.92905_armin_ordering.zip</a><br>"
      ],
      "text/plain": [
       "/home/ubuntu/planet/data/cache/raw_preds_224x224_blend_2resnets_5a_n_4a_ft_0.92905_armin_ordering.zip"
      ]
     },
     "execution_count": 36,
     "metadata": {},
     "output_type": "execute_result"
    }
   ],
   "source": [
    "FileLink(\"data/cache/raw_preds_224x224_blend_2resnets_5a_n_4a_ft_0.92905_armin_ordering.zip\")"
   ]
  },
  {
   "cell_type": "code",
   "execution_count": 22,
   "metadata": {
    "scrolled": true
   },
   "outputs": [
    {
     "data": {
      "text/html": [
       "<div>\n",
       "<table border=\"1\" class=\"dataframe\">\n",
       "  <thead>\n",
       "    <tr style=\"text-align: right;\">\n",
       "      <th></th>\n",
       "      <th>cloudy</th>\n",
       "    </tr>\n",
       "  </thead>\n",
       "  <tbody>\n",
       "    <tr>\n",
       "      <th>0</th>\n",
       "      <td>2.126598e-07</td>\n",
       "    </tr>\n",
       "  </tbody>\n",
       "</table>\n",
       "</div>"
      ],
      "text/plain": [
       "         cloudy\n",
       "0  2.126598e-07"
      ]
     },
     "execution_count": 22,
     "metadata": {},
     "output_type": "execute_result"
    }
   ],
   "source": [
    "result = pd.DataFrame(preds_x10, columns = [\"cloudy\"])\n",
    "result.head(1)"
   ]
  },
  {
   "cell_type": "code",
   "execution_count": 23,
   "metadata": {
    "collapsed": true
   },
   "outputs": [],
   "source": [
    "result.to_csv(\"data/cache/test_preds_cloudy_model_10xtta.csv\")"
   ]
  },
  {
   "cell_type": "code",
   "execution_count": 24,
   "metadata": {},
   "outputs": [
    {
     "data": {
      "text/html": [
       "<a href='data/cache/test_preds_cloudy_model_10xtta.csv' target='_blank'>data/cache/test_preds_cloudy_model_10xtta.csv</a><br>"
      ],
      "text/plain": [
       "/home/ubuntu/planet/data/cache/test_preds_cloudy_model_10xtta.csv"
      ]
     },
     "execution_count": 24,
     "metadata": {},
     "output_type": "execute_result"
    }
   ],
   "source": [
    "FileLink(\"data/cache/test_preds_cloudy_model_10xtta.csv\")"
   ]
  },
  {
   "cell_type": "code",
   "execution_count": null,
   "metadata": {
    "collapsed": true
   },
   "outputs": [],
   "source": []
  },
  {
   "cell_type": "code",
   "execution_count": 40,
   "metadata": {
    "collapsed": true
   },
   "outputs": [],
   "source": [
    "test_medians = result.median().values"
   ]
  },
  {
   "cell_type": "code",
   "execution_count": 23,
   "metadata": {},
   "outputs": [
    {
     "data": {
      "text/plain": [
       "blow_down            0.003092\n",
       "bare_ground          0.023359\n",
       "conventional_mine    0.002434\n",
       "blooming             0.010347\n",
       "cultivation          0.119786\n",
       "artisinal_mine       0.009404\n",
       "haze                 0.070453\n",
       "primary              0.922839\n",
       "slash_burn           0.007443\n",
       "habitation           0.090693\n",
       "clear                0.699327\n",
       "road                 0.203432\n",
       "selective_logging    0.009707\n",
       "partly_cloudy        0.181632\n",
       "agriculture          0.308288\n",
       "water                0.178635\n",
       "cloudy               0.056478\n",
       "dtype: float32"
      ]
     },
     "execution_count": 23,
     "metadata": {},
     "output_type": "execute_result"
    }
   ],
   "source": [
    "result.mean()"
   ]
  },
  {
   "cell_type": "code",
   "execution_count": 25,
   "metadata": {},
   "outputs": [
    {
     "data": {
      "image/png": "[encoded data removed]",
      "text/plain": [
       "<matplotlib.figure.Figure at 0x7fc44949ed50>"
      ]
     },
     "metadata": {},
     "output_type": "display_data"
    }
   ],
   "source": [
    "import seaborn as sns\n",
    "tags_pred = np.array(preds).T\n",
    "_, axs = plt.subplots(5, 4, figsize=(15, 20))\n",
    "axs = axs.ravel()\n",
    "\n",
    "for i, tag_vals in enumerate(tags_pred):\n",
    "    sns.boxplot(tag_vals, orient='v', palette='Set2', ax=axs[i]).set_title(labels[i])\n"
   ]
  },
  {
   "cell_type": "code",
   "execution_count": 26,
   "metadata": {},
   "outputs": [
    {
     "data": {
      "application/vnd.jupyter.widget-view+json": {
       "model_id": "59e0ecd2fb314c3d8959187f334df290"
      }
     },
     "metadata": {},
     "output_type": "display_data"
    },
    {
     "name": "stdout",
     "output_type": "stream",
     "text": [
      "\n"
     ]
    }
   ],
   "source": [
    "label_preds = []\n",
    "for i in tqdm_notebook(range(result.shape[0]), miniters=1000):\n",
    "    a = result.ix[[i]]\n",
    "    a = a.apply(lambda x: x > thres, axis=1)\n",
    "    a = a.transpose()\n",
    "    a = a.loc[a[i] == True]\n",
    "    ' '.join(list(a.index))\n",
    "    label_preds.append(' '.join(list(a.index)))"
   ]
  },
  {
   "cell_type": "code",
   "execution_count": 27,
   "metadata": {},
   "outputs": [
    {
     "data": {
      "text/html": [
       "<div>\n",
       "<table border=\"1\" class=\"dataframe\">\n",
       "  <thead>\n",
       "    <tr style=\"text-align: right;\">\n",
       "      <th></th>\n",
       "      <th>image_name</th>\n",
       "      <th>tags</th>\n",
       "    </tr>\n",
       "  </thead>\n",
       "  <tbody>\n",
       "    <tr>\n",
       "      <th>0</th>\n",
       "      <td>test_0</td>\n",
       "      <td>primary clear</td>\n",
       "    </tr>\n",
       "    <tr>\n",
       "      <th>1</th>\n",
       "      <td>test_1</td>\n",
       "      <td>primary clear</td>\n",
       "    </tr>\n",
       "    <tr>\n",
       "      <th>2</th>\n",
       "      <td>test_2</td>\n",
       "      <td>primary partly_cloudy</td>\n",
       "    </tr>\n",
       "    <tr>\n",
       "      <th>3</th>\n",
       "      <td>test_3</td>\n",
       "      <td>cultivation primary clear agriculture</td>\n",
       "    </tr>\n",
       "    <tr>\n",
       "      <th>4</th>\n",
       "      <td>test_4</td>\n",
       "      <td>primary partly_cloudy</td>\n",
       "    </tr>\n",
       "  </tbody>\n",
       "</table>\n",
       "</div>"
      ],
      "text/plain": [
       "  image_name                                   tags\n",
       "0     test_0                          primary clear\n",
       "1     test_1                          primary clear\n",
       "2     test_2                  primary partly_cloudy\n",
       "3     test_3  cultivation primary clear agriculture\n",
       "4     test_4                  primary partly_cloudy"
      ]
     },
     "execution_count": 27,
     "metadata": {},
     "output_type": "execute_result"
    }
   ],
   "source": [
    "df_test[\"tags\"] = label_preds\n",
    "df_test.head()"
   ]
  },
  {
   "cell_type": "code",
   "execution_count": 28,
   "metadata": {},
   "outputs": [
    {
     "data": {
      "text/html": [
       "<div>\n",
       "<table border=\"1\" class=\"dataframe\">\n",
       "  <thead>\n",
       "    <tr style=\"text-align: right;\">\n",
       "      <th></th>\n",
       "      <th>image_name</th>\n",
       "      <th>tags</th>\n",
       "    </tr>\n",
       "  </thead>\n",
       "  <tbody>\n",
       "    <tr>\n",
       "      <th>0</th>\n",
       "      <td>test_0</td>\n",
       "      <td>primary clear</td>\n",
       "    </tr>\n",
       "    <tr>\n",
       "      <th>1</th>\n",
       "      <td>test_1</td>\n",
       "      <td>primary clear</td>\n",
       "    </tr>\n",
       "    <tr>\n",
       "      <th>2</th>\n",
       "      <td>test_2</td>\n",
       "      <td>primary partly_cloudy</td>\n",
       "    </tr>\n",
       "    <tr>\n",
       "      <th>3</th>\n",
       "      <td>test_3</td>\n",
       "      <td>cultivation primary clear agriculture</td>\n",
       "    </tr>\n",
       "    <tr>\n",
       "      <th>4</th>\n",
       "      <td>test_4</td>\n",
       "      <td>primary partly_cloudy</td>\n",
       "    </tr>\n",
       "    <tr>\n",
       "      <th>5</th>\n",
       "      <td>test_5</td>\n",
       "      <td>primary clear</td>\n",
       "    </tr>\n",
       "    <tr>\n",
       "      <th>6</th>\n",
       "      <td>test_6</td>\n",
       "      <td>cultivation primary habitation clear partly_cl...</td>\n",
       "    </tr>\n",
       "    <tr>\n",
       "      <th>7</th>\n",
       "      <td>test_7</td>\n",
       "      <td>primary habitation clear road</td>\n",
       "    </tr>\n",
       "    <tr>\n",
       "      <th>8</th>\n",
       "      <td>test_8</td>\n",
       "      <td>primary clear</td>\n",
       "    </tr>\n",
       "    <tr>\n",
       "      <th>9</th>\n",
       "      <td>test_9</td>\n",
       "      <td>cultivation haze primary clear agriculture</td>\n",
       "    </tr>\n",
       "    <tr>\n",
       "      <th>10</th>\n",
       "      <td>test_10</td>\n",
       "      <td>primary partly_cloudy</td>\n",
       "    </tr>\n",
       "    <tr>\n",
       "      <th>11</th>\n",
       "      <td>test_11</td>\n",
       "      <td>cultivation primary clear agriculture</td>\n",
       "    </tr>\n",
       "    <tr>\n",
       "      <th>12</th>\n",
       "      <td>test_12</td>\n",
       "      <td>cloudy</td>\n",
       "    </tr>\n",
       "    <tr>\n",
       "      <th>13</th>\n",
       "      <td>test_13</td>\n",
       "      <td>primary clear agriculture</td>\n",
       "    </tr>\n",
       "    <tr>\n",
       "      <th>14</th>\n",
       "      <td>test_14</td>\n",
       "      <td>cultivation primary clear agriculture</td>\n",
       "    </tr>\n",
       "    <tr>\n",
       "      <th>15</th>\n",
       "      <td>test_15</td>\n",
       "      <td>primary clear agriculture</td>\n",
       "    </tr>\n",
       "    <tr>\n",
       "      <th>16</th>\n",
       "      <td>test_16</td>\n",
       "      <td>cultivation primary habitation clear road agri...</td>\n",
       "    </tr>\n",
       "    <tr>\n",
       "      <th>17</th>\n",
       "      <td>test_17</td>\n",
       "      <td>primary partly_cloudy</td>\n",
       "    </tr>\n",
       "    <tr>\n",
       "      <th>18</th>\n",
       "      <td>test_18</td>\n",
       "      <td>haze primary clear</td>\n",
       "    </tr>\n",
       "    <tr>\n",
       "      <th>19</th>\n",
       "      <td>test_19</td>\n",
       "      <td>primary clear road water</td>\n",
       "    </tr>\n",
       "    <tr>\n",
       "      <th>20</th>\n",
       "      <td>test_20</td>\n",
       "      <td>primary clear road agriculture water</td>\n",
       "    </tr>\n",
       "    <tr>\n",
       "      <th>21</th>\n",
       "      <td>test_21</td>\n",
       "      <td>primary habitation clear agriculture water</td>\n",
       "    </tr>\n",
       "    <tr>\n",
       "      <th>22</th>\n",
       "      <td>test_22</td>\n",
       "      <td>primary habitation clear road agriculture</td>\n",
       "    </tr>\n",
       "    <tr>\n",
       "      <th>23</th>\n",
       "      <td>test_23</td>\n",
       "      <td>cloudy</td>\n",
       "    </tr>\n",
       "    <tr>\n",
       "      <th>24</th>\n",
       "      <td>test_24</td>\n",
       "      <td>primary road partly_cloudy agriculture water</td>\n",
       "    </tr>\n",
       "    <tr>\n",
       "      <th>25</th>\n",
       "      <td>test_25</td>\n",
       "      <td>primary clear</td>\n",
       "    </tr>\n",
       "    <tr>\n",
       "      <th>26</th>\n",
       "      <td>test_26</td>\n",
       "      <td>primary habitation road partly_cloudy agriculture</td>\n",
       "    </tr>\n",
       "    <tr>\n",
       "      <th>27</th>\n",
       "      <td>test_27</td>\n",
       "      <td>bare_ground primary clear agriculture</td>\n",
       "    </tr>\n",
       "    <tr>\n",
       "      <th>28</th>\n",
       "      <td>test_28</td>\n",
       "      <td>primary road partly_cloudy agriculture</td>\n",
       "    </tr>\n",
       "    <tr>\n",
       "      <th>29</th>\n",
       "      <td>test_29</td>\n",
       "      <td>primary clear</td>\n",
       "    </tr>\n",
       "    <tr>\n",
       "      <th>...</th>\n",
       "      <td>...</td>\n",
       "      <td>...</td>\n",
       "    </tr>\n",
       "    <tr>\n",
       "      <th>70</th>\n",
       "      <td>test_70</td>\n",
       "      <td>primary clear</td>\n",
       "    </tr>\n",
       "    <tr>\n",
       "      <th>71</th>\n",
       "      <td>test_71</td>\n",
       "      <td>primary partly_cloudy</td>\n",
       "    </tr>\n",
       "    <tr>\n",
       "      <th>72</th>\n",
       "      <td>test_72</td>\n",
       "      <td>primary clear road water</td>\n",
       "    </tr>\n",
       "    <tr>\n",
       "      <th>73</th>\n",
       "      <td>test_73</td>\n",
       "      <td>primary road partly_cloudy agriculture water</td>\n",
       "    </tr>\n",
       "    <tr>\n",
       "      <th>74</th>\n",
       "      <td>test_74</td>\n",
       "      <td>primary partly_cloudy</td>\n",
       "    </tr>\n",
       "    <tr>\n",
       "      <th>75</th>\n",
       "      <td>test_75</td>\n",
       "      <td>primary clear road partly_cloudy agriculture</td>\n",
       "    </tr>\n",
       "    <tr>\n",
       "      <th>76</th>\n",
       "      <td>test_76</td>\n",
       "      <td>primary clear</td>\n",
       "    </tr>\n",
       "    <tr>\n",
       "      <th>77</th>\n",
       "      <td>test_77</td>\n",
       "      <td>primary clear</td>\n",
       "    </tr>\n",
       "    <tr>\n",
       "      <th>78</th>\n",
       "      <td>test_78</td>\n",
       "      <td>primary clear</td>\n",
       "    </tr>\n",
       "    <tr>\n",
       "      <th>79</th>\n",
       "      <td>test_79</td>\n",
       "      <td>cultivation primary clear agriculture</td>\n",
       "    </tr>\n",
       "    <tr>\n",
       "      <th>80</th>\n",
       "      <td>test_80</td>\n",
       "      <td>haze primary cloudy</td>\n",
       "    </tr>\n",
       "    <tr>\n",
       "      <th>81</th>\n",
       "      <td>test_81</td>\n",
       "      <td>cloudy</td>\n",
       "    </tr>\n",
       "    <tr>\n",
       "      <th>82</th>\n",
       "      <td>test_82</td>\n",
       "      <td>cultivation primary clear agriculture</td>\n",
       "    </tr>\n",
       "    <tr>\n",
       "      <th>83</th>\n",
       "      <td>test_83</td>\n",
       "      <td>blow_down primary clear</td>\n",
       "    </tr>\n",
       "    <tr>\n",
       "      <th>84</th>\n",
       "      <td>test_84</td>\n",
       "      <td>primary habitation clear road agriculture water</td>\n",
       "    </tr>\n",
       "    <tr>\n",
       "      <th>85</th>\n",
       "      <td>test_85</td>\n",
       "      <td>primary clear road agriculture water</td>\n",
       "    </tr>\n",
       "    <tr>\n",
       "      <th>86</th>\n",
       "      <td>test_86</td>\n",
       "      <td>primary clear</td>\n",
       "    </tr>\n",
       "    <tr>\n",
       "      <th>87</th>\n",
       "      <td>test_87</td>\n",
       "      <td>primary partly_cloudy</td>\n",
       "    </tr>\n",
       "    <tr>\n",
       "      <th>88</th>\n",
       "      <td>test_88</td>\n",
       "      <td>cultivation primary clear agriculture</td>\n",
       "    </tr>\n",
       "    <tr>\n",
       "      <th>89</th>\n",
       "      <td>test_89</td>\n",
       "      <td>cloudy</td>\n",
       "    </tr>\n",
       "    <tr>\n",
       "      <th>90</th>\n",
       "      <td>test_90</td>\n",
       "      <td>cloudy</td>\n",
       "    </tr>\n",
       "    <tr>\n",
       "      <th>91</th>\n",
       "      <td>test_91</td>\n",
       "      <td>cultivation primary habitation clear agriculture</td>\n",
       "    </tr>\n",
       "    <tr>\n",
       "      <th>92</th>\n",
       "      <td>test_92</td>\n",
       "      <td>cloudy</td>\n",
       "    </tr>\n",
       "    <tr>\n",
       "      <th>93</th>\n",
       "      <td>test_93</td>\n",
       "      <td>primary clear</td>\n",
       "    </tr>\n",
       "    <tr>\n",
       "      <th>94</th>\n",
       "      <td>test_94</td>\n",
       "      <td>primary clear</td>\n",
       "    </tr>\n",
       "    <tr>\n",
       "      <th>95</th>\n",
       "      <td>test_95</td>\n",
       "      <td>cultivation primary road partly_cloudy agricul...</td>\n",
       "    </tr>\n",
       "    <tr>\n",
       "      <th>96</th>\n",
       "      <td>test_96</td>\n",
       "      <td>primary partly_cloudy cloudy</td>\n",
       "    </tr>\n",
       "    <tr>\n",
       "      <th>97</th>\n",
       "      <td>test_97</td>\n",
       "      <td>primary clear</td>\n",
       "    </tr>\n",
       "    <tr>\n",
       "      <th>98</th>\n",
       "      <td>test_98</td>\n",
       "      <td>primary partly_cloudy</td>\n",
       "    </tr>\n",
       "    <tr>\n",
       "      <th>99</th>\n",
       "      <td>test_99</td>\n",
       "      <td>clear cloudy</td>\n",
       "    </tr>\n",
       "  </tbody>\n",
       "</table>\n",
       "<p>100 rows × 2 columns</p>\n",
       "</div>"
      ],
      "text/plain": [
       "   image_name                                               tags\n",
       "0      test_0                                      primary clear\n",
       "1      test_1                                      primary clear\n",
       "2      test_2                              primary partly_cloudy\n",
       "3      test_3              cultivation primary clear agriculture\n",
       "4      test_4                              primary partly_cloudy\n",
       "5      test_5                                      primary clear\n",
       "6      test_6  cultivation primary habitation clear partly_cl...\n",
       "7      test_7                      primary habitation clear road\n",
       "8      test_8                                      primary clear\n",
       "9      test_9         cultivation haze primary clear agriculture\n",
       "10    test_10                              primary partly_cloudy\n",
       "11    test_11              cultivation primary clear agriculture\n",
       "12    test_12                                             cloudy\n",
       "13    test_13                          primary clear agriculture\n",
       "14    test_14              cultivation primary clear agriculture\n",
       "15    test_15                          primary clear agriculture\n",
       "16    test_16  cultivation primary habitation clear road agri...\n",
       "17    test_17                              primary partly_cloudy\n",
       "18    test_18                                 haze primary clear\n",
       "19    test_19                           primary clear road water\n",
       "20    test_20               primary clear road agriculture water\n",
       "21    test_21         primary habitation clear agriculture water\n",
       "22    test_22          primary habitation clear road agriculture\n",
       "23    test_23                                             cloudy\n",
       "24    test_24       primary road partly_cloudy agriculture water\n",
       "25    test_25                                      primary clear\n",
       "26    test_26  primary habitation road partly_cloudy agriculture\n",
       "27    test_27              bare_ground primary clear agriculture\n",
       "28    test_28             primary road partly_cloudy agriculture\n",
       "29    test_29                                      primary clear\n",
       "..        ...                                                ...\n",
       "70    test_70                                      primary clear\n",
       "71    test_71                              primary partly_cloudy\n",
       "72    test_72                           primary clear road water\n",
       "73    test_73       primary road partly_cloudy agriculture water\n",
       "74    test_74                              primary partly_cloudy\n",
       "75    test_75       primary clear road partly_cloudy agriculture\n",
       "76    test_76                                      primary clear\n",
       "77    test_77                                      primary clear\n",
       "78    test_78                                      primary clear\n",
       "79    test_79              cultivation primary clear agriculture\n",
       "80    test_80                                haze primary cloudy\n",
       "81    test_81                                             cloudy\n",
       "82    test_82              cultivation primary clear agriculture\n",
       "83    test_83                            blow_down primary clear\n",
       "84    test_84    primary habitation clear road agriculture water\n",
       "85    test_85               primary clear road agriculture water\n",
       "86    test_86                                      primary clear\n",
       "87    test_87                              primary partly_cloudy\n",
       "88    test_88              cultivation primary clear agriculture\n",
       "89    test_89                                             cloudy\n",
       "90    test_90                                             cloudy\n",
       "91    test_91   cultivation primary habitation clear agriculture\n",
       "92    test_92                                             cloudy\n",
       "93    test_93                                      primary clear\n",
       "94    test_94                                      primary clear\n",
       "95    test_95  cultivation primary road partly_cloudy agricul...\n",
       "96    test_96                       primary partly_cloudy cloudy\n",
       "97    test_97                                      primary clear\n",
       "98    test_98                              primary partly_cloudy\n",
       "99    test_99                                       clear cloudy\n",
       "\n",
       "[100 rows x 2 columns]"
      ]
     },
     "execution_count": 28,
     "metadata": {},
     "output_type": "execute_result"
    }
   ],
   "source": [
    "df_test.head(100)"
   ]
  },
  {
   "cell_type": "code",
   "execution_count": 64,
   "metadata": {},
   "outputs": [
    {
     "data": {
      "text/html": [
       "<div>\n",
       "<table border=\"1\" class=\"dataframe\">\n",
       "  <thead>\n",
       "    <tr style=\"text-align: right;\">\n",
       "      <th></th>\n",
       "      <th>image_name</th>\n",
       "      <th>tags</th>\n",
       "    </tr>\n",
       "  </thead>\n",
       "  <tbody>\n",
       "    <tr>\n",
       "      <th>0</th>\n",
       "      <td>test_0</td>\n",
       "      <td>primary clear</td>\n",
       "    </tr>\n",
       "    <tr>\n",
       "      <th>1</th>\n",
       "      <td>test_1</td>\n",
       "      <td>primary clear</td>\n",
       "    </tr>\n",
       "    <tr>\n",
       "      <th>2</th>\n",
       "      <td>test_2</td>\n",
       "      <td>primary partly_cloudy</td>\n",
       "    </tr>\n",
       "    <tr>\n",
       "      <th>3</th>\n",
       "      <td>test_3</td>\n",
       "      <td>cultivation primary clear agriculture</td>\n",
       "    </tr>\n",
       "    <tr>\n",
       "      <th>4</th>\n",
       "      <td>test_4</td>\n",
       "      <td>primary partly_cloudy</td>\n",
       "    </tr>\n",
       "    <tr>\n",
       "      <th>5</th>\n",
       "      <td>test_5</td>\n",
       "      <td>primary clear</td>\n",
       "    </tr>\n",
       "    <tr>\n",
       "      <th>6</th>\n",
       "      <td>test_6</td>\n",
       "      <td>cultivation haze primary habitation partly_clo...</td>\n",
       "    </tr>\n",
       "    <tr>\n",
       "      <th>7</th>\n",
       "      <td>test_7</td>\n",
       "      <td>primary habitation clear road agriculture</td>\n",
       "    </tr>\n",
       "    <tr>\n",
       "      <th>8</th>\n",
       "      <td>test_8</td>\n",
       "      <td>primary clear</td>\n",
       "    </tr>\n",
       "    <tr>\n",
       "      <th>9</th>\n",
       "      <td>test_9</td>\n",
       "      <td>cultivation haze primary agriculture</td>\n",
       "    </tr>\n",
       "    <tr>\n",
       "      <th>10</th>\n",
       "      <td>test_10</td>\n",
       "      <td>primary partly_cloudy</td>\n",
       "    </tr>\n",
       "    <tr>\n",
       "      <th>11</th>\n",
       "      <td>test_11</td>\n",
       "      <td>cultivation primary clear agriculture</td>\n",
       "    </tr>\n",
       "    <tr>\n",
       "      <th>12</th>\n",
       "      <td>test_12</td>\n",
       "      <td>cloudy</td>\n",
       "    </tr>\n",
       "    <tr>\n",
       "      <th>13</th>\n",
       "      <td>test_13</td>\n",
       "      <td>cultivation primary clear road agriculture</td>\n",
       "    </tr>\n",
       "    <tr>\n",
       "      <th>14</th>\n",
       "      <td>test_14</td>\n",
       "      <td>cultivation primary clear agriculture</td>\n",
       "    </tr>\n",
       "    <tr>\n",
       "      <th>15</th>\n",
       "      <td>test_15</td>\n",
       "      <td>primary clear</td>\n",
       "    </tr>\n",
       "    <tr>\n",
       "      <th>16</th>\n",
       "      <td>test_16</td>\n",
       "      <td>cultivation primary habitation clear road agri...</td>\n",
       "    </tr>\n",
       "    <tr>\n",
       "      <th>17</th>\n",
       "      <td>test_17</td>\n",
       "      <td>primary partly_cloudy</td>\n",
       "    </tr>\n",
       "    <tr>\n",
       "      <th>18</th>\n",
       "      <td>test_18</td>\n",
       "      <td>haze primary clear</td>\n",
       "    </tr>\n",
       "    <tr>\n",
       "      <th>19</th>\n",
       "      <td>test_19</td>\n",
       "      <td>primary clear road water</td>\n",
       "    </tr>\n",
       "    <tr>\n",
       "      <th>20</th>\n",
       "      <td>test_20</td>\n",
       "      <td>primary clear road water</td>\n",
       "    </tr>\n",
       "    <tr>\n",
       "      <th>21</th>\n",
       "      <td>test_21</td>\n",
       "      <td>primary clear agriculture water</td>\n",
       "    </tr>\n",
       "    <tr>\n",
       "      <th>22</th>\n",
       "      <td>test_22</td>\n",
       "      <td>primary habitation clear road agriculture</td>\n",
       "    </tr>\n",
       "    <tr>\n",
       "      <th>23</th>\n",
       "      <td>test_23</td>\n",
       "      <td>cloudy</td>\n",
       "    </tr>\n",
       "    <tr>\n",
       "      <th>24</th>\n",
       "      <td>test_24</td>\n",
       "      <td>primary partly_cloudy agriculture water</td>\n",
       "    </tr>\n",
       "    <tr>\n",
       "      <th>25</th>\n",
       "      <td>test_25</td>\n",
       "      <td>primary clear</td>\n",
       "    </tr>\n",
       "    <tr>\n",
       "      <th>26</th>\n",
       "      <td>test_26</td>\n",
       "      <td>primary road partly_cloudy agriculture</td>\n",
       "    </tr>\n",
       "    <tr>\n",
       "      <th>27</th>\n",
       "      <td>test_27</td>\n",
       "      <td>primary clear agriculture</td>\n",
       "    </tr>\n",
       "    <tr>\n",
       "      <th>28</th>\n",
       "      <td>test_28</td>\n",
       "      <td>primary road partly_cloudy agriculture</td>\n",
       "    </tr>\n",
       "    <tr>\n",
       "      <th>29</th>\n",
       "      <td>test_29</td>\n",
       "      <td>primary clear</td>\n",
       "    </tr>\n",
       "    <tr>\n",
       "      <th>...</th>\n",
       "      <td>...</td>\n",
       "      <td>...</td>\n",
       "    </tr>\n",
       "    <tr>\n",
       "      <th>70</th>\n",
       "      <td>test_70</td>\n",
       "      <td>primary clear</td>\n",
       "    </tr>\n",
       "    <tr>\n",
       "      <th>71</th>\n",
       "      <td>test_71</td>\n",
       "      <td>primary partly_cloudy</td>\n",
       "    </tr>\n",
       "    <tr>\n",
       "      <th>72</th>\n",
       "      <td>test_72</td>\n",
       "      <td>primary clear road water</td>\n",
       "    </tr>\n",
       "    <tr>\n",
       "      <th>73</th>\n",
       "      <td>test_73</td>\n",
       "      <td>primary road partly_cloudy water</td>\n",
       "    </tr>\n",
       "    <tr>\n",
       "      <th>74</th>\n",
       "      <td>test_74</td>\n",
       "      <td>primary partly_cloudy</td>\n",
       "    </tr>\n",
       "    <tr>\n",
       "      <th>75</th>\n",
       "      <td>test_75</td>\n",
       "      <td>primary road partly_cloudy agriculture</td>\n",
       "    </tr>\n",
       "    <tr>\n",
       "      <th>76</th>\n",
       "      <td>test_76</td>\n",
       "      <td>primary clear</td>\n",
       "    </tr>\n",
       "    <tr>\n",
       "      <th>77</th>\n",
       "      <td>test_77</td>\n",
       "      <td>primary clear</td>\n",
       "    </tr>\n",
       "    <tr>\n",
       "      <th>78</th>\n",
       "      <td>test_78</td>\n",
       "      <td>primary clear</td>\n",
       "    </tr>\n",
       "    <tr>\n",
       "      <th>79</th>\n",
       "      <td>test_79</td>\n",
       "      <td>cultivation primary clear agriculture</td>\n",
       "    </tr>\n",
       "    <tr>\n",
       "      <th>80</th>\n",
       "      <td>test_80</td>\n",
       "      <td>haze primary cloudy</td>\n",
       "    </tr>\n",
       "    <tr>\n",
       "      <th>81</th>\n",
       "      <td>test_81</td>\n",
       "      <td>cloudy</td>\n",
       "    </tr>\n",
       "    <tr>\n",
       "      <th>82</th>\n",
       "      <td>test_82</td>\n",
       "      <td>cultivation primary clear agriculture</td>\n",
       "    </tr>\n",
       "    <tr>\n",
       "      <th>83</th>\n",
       "      <td>test_83</td>\n",
       "      <td>primary clear</td>\n",
       "    </tr>\n",
       "    <tr>\n",
       "      <th>84</th>\n",
       "      <td>test_84</td>\n",
       "      <td>primary clear agriculture water cloudy</td>\n",
       "    </tr>\n",
       "    <tr>\n",
       "      <th>85</th>\n",
       "      <td>test_85</td>\n",
       "      <td>primary clear road agriculture water</td>\n",
       "    </tr>\n",
       "    <tr>\n",
       "      <th>86</th>\n",
       "      <td>test_86</td>\n",
       "      <td>primary clear</td>\n",
       "    </tr>\n",
       "    <tr>\n",
       "      <th>87</th>\n",
       "      <td>test_87</td>\n",
       "      <td>primary partly_cloudy</td>\n",
       "    </tr>\n",
       "    <tr>\n",
       "      <th>88</th>\n",
       "      <td>test_88</td>\n",
       "      <td>cultivation primary clear agriculture</td>\n",
       "    </tr>\n",
       "    <tr>\n",
       "      <th>89</th>\n",
       "      <td>test_89</td>\n",
       "      <td>cloudy</td>\n",
       "    </tr>\n",
       "    <tr>\n",
       "      <th>90</th>\n",
       "      <td>test_90</td>\n",
       "      <td>cloudy</td>\n",
       "    </tr>\n",
       "    <tr>\n",
       "      <th>91</th>\n",
       "      <td>test_91</td>\n",
       "      <td>cultivation primary clear agriculture</td>\n",
       "    </tr>\n",
       "    <tr>\n",
       "      <th>92</th>\n",
       "      <td>test_92</td>\n",
       "      <td>cloudy</td>\n",
       "    </tr>\n",
       "    <tr>\n",
       "      <th>93</th>\n",
       "      <td>test_93</td>\n",
       "      <td>primary clear</td>\n",
       "    </tr>\n",
       "    <tr>\n",
       "      <th>94</th>\n",
       "      <td>test_94</td>\n",
       "      <td>primary clear</td>\n",
       "    </tr>\n",
       "    <tr>\n",
       "      <th>95</th>\n",
       "      <td>test_95</td>\n",
       "      <td>cultivation primary habitation road partly_clo...</td>\n",
       "    </tr>\n",
       "    <tr>\n",
       "      <th>96</th>\n",
       "      <td>test_96</td>\n",
       "      <td>primary partly_cloudy cloudy</td>\n",
       "    </tr>\n",
       "    <tr>\n",
       "      <th>97</th>\n",
       "      <td>test_97</td>\n",
       "      <td>primary clear</td>\n",
       "    </tr>\n",
       "    <tr>\n",
       "      <th>98</th>\n",
       "      <td>test_98</td>\n",
       "      <td>primary partly_cloudy</td>\n",
       "    </tr>\n",
       "    <tr>\n",
       "      <th>99</th>\n",
       "      <td>test_99</td>\n",
       "      <td>clear water cloudy</td>\n",
       "    </tr>\n",
       "  </tbody>\n",
       "</table>\n",
       "<p>100 rows × 2 columns</p>\n",
       "</div>"
      ],
      "text/plain": [
       "   image_name                                               tags\n",
       "0      test_0                                      primary clear\n",
       "1      test_1                                      primary clear\n",
       "2      test_2                              primary partly_cloudy\n",
       "3      test_3              cultivation primary clear agriculture\n",
       "4      test_4                              primary partly_cloudy\n",
       "5      test_5                                      primary clear\n",
       "6      test_6  cultivation haze primary habitation partly_clo...\n",
       "7      test_7          primary habitation clear road agriculture\n",
       "8      test_8                                      primary clear\n",
       "9      test_9               cultivation haze primary agriculture\n",
       "10    test_10                              primary partly_cloudy\n",
       "11    test_11              cultivation primary clear agriculture\n",
       "12    test_12                                             cloudy\n",
       "13    test_13         cultivation primary clear road agriculture\n",
       "14    test_14              cultivation primary clear agriculture\n",
       "15    test_15                                      primary clear\n",
       "16    test_16  cultivation primary habitation clear road agri...\n",
       "17    test_17                              primary partly_cloudy\n",
       "18    test_18                                 haze primary clear\n",
       "19    test_19                           primary clear road water\n",
       "20    test_20                           primary clear road water\n",
       "21    test_21                    primary clear agriculture water\n",
       "22    test_22          primary habitation clear road agriculture\n",
       "23    test_23                                             cloudy\n",
       "24    test_24            primary partly_cloudy agriculture water\n",
       "25    test_25                                      primary clear\n",
       "26    test_26             primary road partly_cloudy agriculture\n",
       "27    test_27                          primary clear agriculture\n",
       "28    test_28             primary road partly_cloudy agriculture\n",
       "29    test_29                                      primary clear\n",
       "..        ...                                                ...\n",
       "70    test_70                                      primary clear\n",
       "71    test_71                              primary partly_cloudy\n",
       "72    test_72                           primary clear road water\n",
       "73    test_73                   primary road partly_cloudy water\n",
       "74    test_74                              primary partly_cloudy\n",
       "75    test_75             primary road partly_cloudy agriculture\n",
       "76    test_76                                      primary clear\n",
       "77    test_77                                      primary clear\n",
       "78    test_78                                      primary clear\n",
       "79    test_79              cultivation primary clear agriculture\n",
       "80    test_80                                haze primary cloudy\n",
       "81    test_81                                             cloudy\n",
       "82    test_82              cultivation primary clear agriculture\n",
       "83    test_83                                      primary clear\n",
       "84    test_84             primary clear agriculture water cloudy\n",
       "85    test_85               primary clear road agriculture water\n",
       "86    test_86                                      primary clear\n",
       "87    test_87                              primary partly_cloudy\n",
       "88    test_88              cultivation primary clear agriculture\n",
       "89    test_89                                             cloudy\n",
       "90    test_90                                             cloudy\n",
       "91    test_91              cultivation primary clear agriculture\n",
       "92    test_92                                             cloudy\n",
       "93    test_93                                      primary clear\n",
       "94    test_94                                      primary clear\n",
       "95    test_95  cultivation primary habitation road partly_clo...\n",
       "96    test_96                       primary partly_cloudy cloudy\n",
       "97    test_97                                      primary clear\n",
       "98    test_98                              primary partly_cloudy\n",
       "99    test_99                                 clear water cloudy\n",
       "\n",
       "[100 rows x 2 columns]"
      ]
     },
     "execution_count": 64,
     "metadata": {},
     "output_type": "execute_result"
    }
   ],
   "source": [
    "df_test.head(100)"
   ]
  },
  {
   "cell_type": "code",
   "execution_count": 33,
   "metadata": {},
   "outputs": [
    {
     "data": {
      "text/html": [
       "<a href='subm/resnet_full_224x224_blend_2resnets.csv' target='_blank'>subm/resnet_full_224x224_blend_2resnets.csv</a><br>"
      ],
      "text/plain": [
       "/home/ubuntu/planet/subm/resnet_full_224x224_blend_2resnets.csv"
      ]
     },
     "execution_count": 33,
     "metadata": {},
     "output_type": "execute_result"
    }
   ],
   "source": [
    "submission_file = 'subm/resnet_full_224x224_blend_2resnets.csv'\n",
    "df_test.to_csv(submission_file, index=False)\n",
    "FileLink(submission_file)"
   ]
  },
  {
   "cell_type": "code",
   "execution_count": null,
   "metadata": {
    "collapsed": true
   },
   "outputs": [],
   "source": []
  }
 ],
 "metadata": {
  "kernelspec": {
   "display_name": "Python [conda root]",
   "language": "python",
   "name": "conda-root-py"
  },
  "language_info": {
   "codemirror_mode": {
    "name": "ipython",
    "version": 2
   },
   "file_extension": ".py",
   "mimetype": "text/x-python",
   "name": "python",
   "nbconvert_exporter": "python",
   "pygments_lexer": "ipython2",
   "version": "2.7.12"
  }
 },
 "nbformat": 4,
 "nbformat_minor": 2
}
