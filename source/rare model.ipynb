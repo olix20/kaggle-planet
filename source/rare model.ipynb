{
 "cells": [
  {
   "cell_type": "code",
   "execution_count": 1,
   "metadata": {},
   "outputs": [
    {
     "name": "stderr",
     "output_type": "stream",
     "text": [
      "Using Theano backend.\n",
      "WARNING (theano.sandbox.cuda): The cuda backend is deprecated and will be removed in the next release (v0.10).  Please switch to the gpuarray backend. You can get more information about how to switch at this URL:\n",
      " https://github.com/Theano/Theano/wiki/Converting-to-the-new-gpu-back-end%28gpuarray%29\n",
      "\n",
      "Using gpu device 0: Tesla K80 (CNMeM is enabled with initial size: 75.0% of memory, cuDNN 5103)\n"
     ]
    }
   ],
   "source": [
    "import utils\n",
    "from utils import *\n",
    "%matplotlib inline\n",
    "from sys import getsizeof"
   ]
  },
  {
   "cell_type": "code",
   "execution_count": 2,
   "metadata": {
    "collapsed": true
   },
   "outputs": [],
   "source": [
    "target_size = (100,100)#(256, 256)"
   ]
  },
  {
   "cell_type": "code",
   "execution_count": 3,
   "metadata": {},
   "outputs": [
    {
     "data": {
      "text/plain": [
       "'channels_first'"
      ]
     },
     "execution_count": 3,
     "metadata": {},
     "output_type": "execute_result"
    }
   ],
   "source": [
    "K.set_image_data_format('channels_first')\n",
    "K.image_data_format()"
   ]
  },
  {
   "cell_type": "markdown",
   "metadata": {},
   "source": [
    "### Load Data"
   ]
  },
  {
   "cell_type": "code",
   "execution_count": 4,
   "metadata": {
    "collapsed": true
   },
   "outputs": [],
   "source": [
    "x_train = []\n",
    "y_train = []\n",
    "\n",
    "df_train = pd.read_csv('data/train_v2.csv')\n",
    "df_test = pd.read_csv('data/sample_submission_v2.csv')\n",
    "\n",
    "flatten = lambda l: [item for sublist in l for item in sublist]\n",
    "labels = list(set(flatten([l.split(' ') for l in df_train['tags'].values])))\n",
    "\n",
    "labels = ['blow_down',\n",
    " 'bare_ground',\n",
    " 'conventional_mine',\n",
    " 'blooming',\n",
    " 'cultivation',\n",
    " 'artisinal_mine',\n",
    " 'haze',\n",
    " 'primary',\n",
    " 'slash_burn',\n",
    " 'habitation',\n",
    " 'clear',\n",
    " 'road',\n",
    " 'selective_logging',\n",
    " 'partly_cloudy',\n",
    " 'agriculture',\n",
    " 'water',\n",
    " 'cloudy']\n",
    "\n",
    "label_map = {'agriculture': 14,\n",
    " 'artisinal_mine': 5,\n",
    " 'bare_ground': 1,\n",
    " 'blooming': 3,\n",
    " 'blow_down': 0,\n",
    " 'clear': 10,\n",
    " 'cloudy': 16,\n",
    " 'conventional_mine': 2,\n",
    " 'cultivation': 4,\n",
    " 'habitation': 9,\n",
    " 'haze': 6,\n",
    " 'partly_cloudy': 13,\n",
    " 'primary': 7,\n",
    " 'road': 11,\n",
    " 'selective_logging': 12,\n",
    " 'slash_burn': 8,\n",
    " 'water': 15}"
   ]
  },
  {
   "cell_type": "code",
   "execution_count": 5,
   "metadata": {
    "collapsed": true
   },
   "outputs": [],
   "source": [
    "train_gen = image.ImageDataGenerator( \n",
    "    rotation_range=10,\n",
    "    width_shift_range=0.1,\n",
    "    height_shift_range=0.1,\n",
    "    shear_range=0.1,\n",
    "    zoom_range=0.1,\n",
    "    channel_shift_range=0.1,\n",
    "    horizontal_flip=True,\n",
    "    vertical_flip=True)"
   ]
  },
  {
   "cell_type": "markdown",
   "metadata": {},
   "source": [
    "### Load JPEG files"
   ]
  },
  {
   "cell_type": "code",
   "execution_count": 6,
   "metadata": {
    "collapsed": true
   },
   "outputs": [],
   "source": [
    "# from PIL import Image as pil_image\n",
    "# img = pil_image.open('data/train-jpg/{}.jpg'.format(df_train.image_name[100])).convert('RGB') \n",
    "# img"
   ]
  },
  {
   "cell_type": "code",
   "execution_count": 7,
   "metadata": {
    "collapsed": true
   },
   "outputs": [],
   "source": [
    "\n",
    "# for f, tags in tqdm(df_train.values, miniters=1000):\n",
    "#     img = cv2.imread('data/train-jpg/{}.jpg'.format(f))a\n",
    "#     targets = np.zeros(17)\n",
    "    \n",
    "#     for t in tags.split(' '):\n",
    "#         targets[label_map[t]] = 1 \n",
    "        \n",
    "#     img =  cv2.cvtColor(cv2.resize(img, target_size), cv2.COLOR_BGR2RGB)   \n",
    "#     x_train.append(img)\n",
    "#     y_train.append(targets)\n"
   ]
  },
  {
   "cell_type": "code",
   "execution_count": 8,
   "metadata": {
    "collapsed": true
   },
   "outputs": [],
   "source": [
    "# ## making num items good for divisions\n",
    "# x_train.append(x_train[0])\n",
    "# y_train.append(y_train[0])"
   ]
  },
  {
   "cell_type": "code",
   "execution_count": 9,
   "metadata": {
    "collapsed": true
   },
   "outputs": [],
   "source": [
    "# x_test = []\n",
    "\n",
    "# for f, tags in tqdm(df_test.values, miniters=1000):\n",
    "#     img = cv2.imread('data/test-jpg/{}.jpg'.format(f))\n",
    "#     img =  cv2.cvtColor(cv2.resize(img, target_size), cv2.COLOR_BGR2RGB)   \n",
    "\n",
    "#     x_test.append(cv2.resize(img, target_size))\n"
   ]
  },
  {
   "cell_type": "code",
   "execution_count": 10,
   "metadata": {
    "collapsed": true
   },
   "outputs": [],
   "source": [
    "# y_train = np.array(y_train, np.uint8)\n",
    "# x_train = np.array(x_train, np.float32) #/ 255.\n",
    "# x_test  = np.array(x_test, np.float32) #/ 255.\n",
    "\n",
    "# #Transpose the data if using Theano\n",
    "\n",
    "# x_train = x_train.transpose((0, 3, 1, 2))\n",
    "# x_test = x_test.transpose((0, 3, 1, 2))\n",
    "\n",
    "\n",
    "\n"
   ]
  },
  {
   "cell_type": "code",
   "execution_count": 11,
   "metadata": {
    "collapsed": true
   },
   "outputs": [],
   "source": [
    "# save_array(\"data/cache/xtrain_100x100.dat\",x_train)\n",
    "# save_array(\"data/cache/xtest_100x100.dat\",x_test)\n",
    "# save_array(\"data/cache/ytrain.dat\",y_train)\n",
    "\n",
    "# # save_array(\"data/cache/xtrain_50x50.dat\",x_train)\n",
    "# save_array(\"data/cache/xtest_50x50.dat\",x_test)\n",
    "# save_array(\"data/cache/ytrain.dat\",y_train)"
   ]
  },
  {
   "cell_type": "code",
   "execution_count": 8,
   "metadata": {
    "collapsed": true
   },
   "outputs": [],
   "source": [
    "x_train = load_array(\"data/cache/xtrain_{}x{}.dat\".format(target_size[0],target_size[1]))\n",
    "\n"
   ]
  },
  {
   "cell_type": "code",
   "execution_count": 13,
   "metadata": {
    "collapsed": true
   },
   "outputs": [],
   "source": [
    "# x_test = load_array(\"data/cache/xtest_100x100.dat\")\n"
   ]
  },
  {
   "cell_type": "code",
   "execution_count": 14,
   "metadata": {
    "collapsed": true
   },
   "outputs": [],
   "source": [
    "# x_train[:,0,:,:].mean(), x_train[:,1,:,:].mean(),x_train[:,2,:,:].mean()"
   ]
  },
  {
   "cell_type": "code",
   "execution_count": 15,
   "metadata": {},
   "outputs": [
    {
     "name": "stdout",
     "output_type": "stream",
     "text": [
      "(40480, 3, 100, 100)\n"
     ]
    }
   ],
   "source": [
    "print(x_train.shape)\n",
    "# print(x_test.shape)\n",
    "# print(y_train.shape)\n"
   ]
  },
  {
   "cell_type": "markdown",
   "metadata": {},
   "source": [
    "#### creating rare labels"
   ]
  },
  {
   "cell_type": "code",
   "execution_count": 14,
   "metadata": {
    "collapsed": true
   },
   "outputs": [],
   "source": [
    "y_train = load_array(\"data/cache/ytrain.dat\")\n"
   ]
  },
  {
   "cell_type": "code",
   "execution_count": 15,
   "metadata": {
    "collapsed": true
   },
   "outputs": [],
   "source": [
    "# rare_labels = set(labels) - set(['primary', 'agriculture', 'water', 'cultivation', 'habitation','road']) - \\\n",
    "# set(['clear','cloudy','haze','partly_cloudy'])"
   ]
  },
  {
   "cell_type": "code",
   "execution_count": null,
   "metadata": {
    "collapsed": true
   },
   "outputs": [],
   "source": []
  },
  {
   "cell_type": "code",
   "execution_count": 16,
   "metadata": {
    "collapsed": true
   },
   "outputs": [],
   "source": [
    "rare_labels = ['slash_burn']"
   ]
  },
  {
   "cell_type": "code",
   "execution_count": 17,
   "metadata": {
    "collapsed": true
   },
   "outputs": [],
   "source": [
    "rare_label_indices = []\n",
    "for i in rare_labels:\n",
    "    rare_label_indices.append(label_map[i])"
   ]
  },
  {
   "cell_type": "code",
   "execution_count": 18,
   "metadata": {},
   "outputs": [
    {
     "data": {
      "text/plain": [
       "[8]"
      ]
     },
     "execution_count": 18,
     "metadata": {},
     "output_type": "execute_result"
    }
   ],
   "source": [
    "rare_label_indices"
   ]
  },
  {
   "cell_type": "code",
   "execution_count": 19,
   "metadata": {},
   "outputs": [],
   "source": [
    "y_train = y_train[:,rare_label_indices]\n"
   ]
  },
  {
   "cell_type": "code",
   "execution_count": 20,
   "metadata": {},
   "outputs": [],
   "source": [
    "from sklearn.utils import class_weight\n",
    "new_class_weights = class_weight.compute_class_weight('balanced', np.unique(y_train.ravel()), y_train.ravel())"
   ]
  },
  {
   "cell_type": "code",
   "execution_count": 21,
   "metadata": {
    "scrolled": true
   },
   "outputs": [
    {
     "data": {
      "text/plain": [
       "array([  0.5026,  96.8421])"
      ]
     },
     "execution_count": 21,
     "metadata": {},
     "output_type": "execute_result"
    }
   ],
   "source": [
    "new_class_weights"
   ]
  },
  {
   "cell_type": "code",
   "execution_count": 22,
   "metadata": {},
   "outputs": [
    {
     "data": {
      "text/plain": [
       "209"
      ]
     },
     "execution_count": 22,
     "metadata": {},
     "output_type": "execute_result"
    }
   ],
   "source": [
    "y_train.sum()"
   ]
  },
  {
   "cell_type": "code",
   "execution_count": 18,
   "metadata": {
    "collapsed": true,
    "scrolled": false
   },
   "outputs": [],
   "source": [
    "# y_train = np.hstack(((y_train.ravel() ==0 ).reshape(-1,1),y_train))"
   ]
  },
  {
   "cell_type": "code",
   "execution_count": 29,
   "metadata": {},
   "outputs": [
    {
     "data": {
      "text/plain": [
       "(40480, 1)"
      ]
     },
     "execution_count": 29,
     "metadata": {},
     "output_type": "execute_result"
    }
   ],
   "source": [
    "y_train.shape"
   ]
  },
  {
   "cell_type": "markdown",
   "metadata": {},
   "source": [
    "#### Loading Image features "
   ]
  },
  {
   "cell_type": "code",
   "execution_count": 151,
   "metadata": {
    "collapsed": true
   },
   "outputs": [],
   "source": [
    "oleg_train = load_array(\"data/cache/oleg_train\")\n",
    "oleg_train = oleg_train[:,2:]\n",
    "oleg_train= np.append(oleg_train,oleg_train[0].reshape(1,-1),axis=0)"
   ]
  },
  {
   "cell_type": "code",
   "execution_count": 99,
   "metadata": {
    "collapsed": true
   },
   "outputs": [],
   "source": [
    "mahotas_features = load_array(\"data/cache/mahotas_14_jpg_train.dat/\")\n",
    "mahotas_features= np.append(mahotas_features,mahotas_features[0].reshape(1,-1),axis=0)"
   ]
  },
  {
   "cell_type": "code",
   "execution_count": 134,
   "metadata": {
    "collapsed": true
   },
   "outputs": [],
   "source": [
    "extra_features_dev  = np.hstack((oleg_train, mahotas_features))"
   ]
  },
  {
   "cell_type": "markdown",
   "metadata": {},
   "source": [
    "### Making a sample"
   ]
  },
  {
   "cell_type": "code",
   "execution_count": 49,
   "metadata": {},
   "outputs": [
    {
     "data": {
      "text/plain": [
       "((20240, 3, 100, 100), (20240, 1))"
      ]
     },
     "execution_count": 49,
     "metadata": {},
     "output_type": "execute_result"
    }
   ],
   "source": [
    "np.random.seed(2089)\n",
    "\n",
    "perm = np.random.permutation(len(x_train))\n",
    "idx_sample = perm[:int(len(x_train)*0.5)]\n",
    "\n",
    "x_sample = x_train[idx_sample]\n",
    "y_sample = y_train[idx_sample]\n",
    "\n",
    "x_sample.shape, y_sample.shape"
   ]
  },
  {
   "cell_type": "code",
   "execution_count": 50,
   "metadata": {
    "collapsed": true
   },
   "outputs": [],
   "source": [
    "# oleg_sample = oleg_train[idx_sample]"
   ]
  },
  {
   "cell_type": "code",
   "execution_count": 51,
   "metadata": {
    "collapsed": true
   },
   "outputs": [],
   "source": [
    "# mahotas_sample = mahotas_features[idx_sample]"
   ]
  },
  {
   "cell_type": "code",
   "execution_count": 52,
   "metadata": {
    "collapsed": true
   },
   "outputs": [],
   "source": [
    "# extra_features_dev  = extra_features_dev[idx_sample]"
   ]
  },
  {
   "cell_type": "markdown",
   "metadata": {},
   "source": [
    "### Model Training \n"
   ]
  },
  {
   "cell_type": "code",
   "execution_count": 23,
   "metadata": {
    "collapsed": true
   },
   "outputs": [],
   "source": [
    "nf=64; p=0.6\n",
    "\n",
    "def get_lrg_layers():\n",
    "    return [\n",
    "        BatchNormalization(axis=1, input_shape= (256, 25, 25)), #conv_layers[-1].output_shape[1:]),\n",
    "        Convolution2D(nf,(3,3), activation='relu', padding='valid'),\n",
    "        Dropout(p/2),\n",
    "\n",
    "##         MaxPooling2D(),\n",
    "\n",
    "        BatchNormalization(axis=1),\n",
    "\n",
    "##         MaxPooling2D(),\n",
    "        Convolution2D(nf,(3,3), activation='relu', padding='valid'),\n",
    "        Dropout(p/2),\n",
    "\n",
    "        BatchNormalization(axis=1),\n",
    "##         MaxPooling2D(),\n",
    "        Convolution2D(nf,(3,3), activation='relu', padding='valid'),\n",
    "        Dropout(p/2),\n",
    "        \n",
    "        BatchNormalization(axis=1),\n",
    "\n",
    "\n",
    "        \n",
    "### temp experiment with dense on top  \n",
    "#         Dropout(0.4),   \n",
    "        Flatten(),\n",
    "\n",
    "        Dense(512,activation='relu'),\n",
    "        BatchNormalization(),\n",
    "        Dropout(p),  \n",
    "        \n",
    "#         Dense(512,activation='relu'),\n",
    "#         BatchNormalization(),\n",
    "#         Dropout(0.6),  \n",
    "        \n",
    "        Dense(512,activation='relu'),\n",
    "        BatchNormalization(),\n",
    "        Dropout(p),  \n",
    "        \n",
    "        Dense(1,activation='sigmoid')\n",
    "        \n",
    "### temp experiment with dense on top         \n",
    "#         BatchNormalization(axis=1),\n",
    "        \n",
    "#         MaxPooling2D(),\n",
    "#         Convolution2D(4,(3,3), padding='same'),\n",
    "#         Dropout(p),\n",
    "#         GlobalAveragePooling2D(),\n",
    "# #         GlobalMaxPooling2D(),\n",
    "#         Activation('softmax')\n",
    "    ]\n",
    "\n"
   ]
  },
  {
   "cell_type": "code",
   "execution_count": 24,
   "metadata": {
    "collapsed": true
   },
   "outputs": [],
   "source": [
    "def create_base_vgg(extend_top=False,size=(100,100)):\n",
    "    model = Vgg16BN(size).model\n",
    "\n",
    "    \n",
    "    for i in range (15): #excluding the six 512 blocks at the top, was 15\n",
    "        model.pop()\n",
    "\n",
    "    for l in model.layers:\n",
    "        l.trainable = False \n",
    "    \n",
    "    \n",
    "    if extend_top:\n",
    "        for l in get_lrg_layers(): \n",
    "            model.add(l)\n",
    "            \n",
    "            \n",
    "    return model\n"
   ]
  },
  {
   "cell_type": "code",
   "execution_count": 25,
   "metadata": {
    "collapsed": true
   },
   "outputs": [],
   "source": [
    "from keras.layers import concatenate \n",
    "def create_fcn_plus_features_model(feature_length):\n",
    "    \n",
    "    feature_input = Input(shape=(feature_length,))\n",
    "    \n",
    "    \n",
    "    vgg_input =  Input(shape=(256, 25, 25))\n",
    "    fcn_model = BatchNormalization(axis=1, input_shape=(256, 25, 25))(vgg_input)\n",
    "    fcn_model = Convolution2D(nf,(3,3), activation='relu', padding='valid')(fcn_model)\n",
    "    fcn_model = Dropout(p/2)(fcn_model)\n",
    "    \n",
    "    fcn_model = BatchNormalization(axis=1)(fcn_model)\n",
    "    fcn_model = Convolution2D(nf,(3,3), activation='relu', padding='valid')(fcn_model)\n",
    "    fcn_model = Dropout(p/2)(fcn_model)\n",
    " \n",
    "    fcn_model = BatchNormalization(axis=1)(fcn_model)\n",
    "    fcn_model = Convolution2D(nf,(3,3), activation='relu', padding='valid')(fcn_model)\n",
    "    fcn_model = Dropout(p/2)(fcn_model)\n",
    "    \n",
    "    fcn_model = Flatten()(fcn_model)\n",
    "\n",
    "    \n",
    "    top_dense = concatenate([fcn_model,feature_input])\n",
    "    top_dense =  BatchNormalization()(top_dense)\n",
    "    \n",
    "    ## Add dense layers on top \n",
    "    top_dense = Dense(512,activation='relu')(top_dense)\n",
    "    top_dense = BatchNormalization()(top_dense)\n",
    "    top_dense = Dropout(p)(top_dense)\n",
    "    \n",
    "    top_dense = Dense(512,activation='relu')(top_dense)\n",
    "    top_dense = BatchNormalization()(top_dense)\n",
    "    top_dense = Dropout(p)(top_dense)    \n",
    "    \n",
    "    top_dense = Dense(4,activation='softmax')(top_dense)\n",
    "    \n",
    "    \n",
    "    model  = Model (inputs = [vgg_input,feature_input], outputs=top_dense)\n",
    "    \n",
    "    return model "
   ]
  },
  {
   "cell_type": "code",
   "execution_count": 26,
   "metadata": {
    "collapsed": true
   },
   "outputs": [],
   "source": [
    "vgg_common = create_base_vgg()\n",
    "vgg_common.compile(Adam(), 'categorical_crossentropy', metrics=['accuracy'])\n"
   ]
  },
  {
   "cell_type": "code",
   "execution_count": 27,
   "metadata": {
    "collapsed": true
   },
   "outputs": [],
   "source": [
    "#conv_layers,_ = split_at(vgg_common, Convolution2D)\n",
    "\n",
    "fully_conv_model =  Sequential(get_lrg_layers())\n"
   ]
  },
  {
   "cell_type": "markdown",
   "metadata": {},
   "source": [
    "#### End-to-end Model (no precomputations)"
   ]
  },
  {
   "cell_type": "code",
   "execution_count": 69,
   "metadata": {
    "collapsed": true
   },
   "outputs": [],
   "source": [
    "#if training end-to-end; e.g. because can't cache precomputations due to memory constraints \n",
    "# end_to_end = create_base_vgg(True)\n",
    "# end_to_end.layers.extend(fully_conv_model.layers)"
   ]
  },
  {
   "cell_type": "code",
   "execution_count": 119,
   "metadata": {
    "collapsed": true
   },
   "outputs": [],
   "source": [
    "# end_to_end.summary()"
   ]
  },
  {
   "cell_type": "markdown",
   "metadata": {},
   "source": [
    "#### FCN + Summary features"
   ]
  },
  {
   "cell_type": "code",
   "execution_count": 163,
   "metadata": {
    "collapsed": true
   },
   "outputs": [],
   "source": [
    "# fcn_plus_feats_model = create_fcn_plus_features_model(oleg_sample.shape[1]) #+ oleg 0.90678 made results worse, may have to do with thresholds\n",
    "\n",
    "# fcn_plus_feats_model = create_fcn_plus_features_model(mahotas_features.shape[1]) "
   ]
  },
  {
   "cell_type": "markdown",
   "metadata": {},
   "source": [
    "### Quick training and prediction (on SAMPLE data)"
   ]
  },
  {
   "cell_type": "code",
   "execution_count": 59,
   "metadata": {
    "collapsed": true
   },
   "outputs": [],
   "source": [
    "VALIDATION_SPLIT = 0.1\n",
    "np.random.seed(2089)\n",
    "\n",
    "perm = np.random.permutation(len(x_sample))\n",
    "idx_train = perm[:int(len(x_sample)*(1-VALIDATION_SPLIT))]\n",
    "idx_val = perm[int(len(x_sample)*(1-VALIDATION_SPLIT)):]"
   ]
  },
  {
   "cell_type": "code",
   "execution_count": 60,
   "metadata": {
    "collapsed": true
   },
   "outputs": [],
   "source": [
    "X_train = x_sample[idx_train]\n",
    "Y_train = y_sample[idx_train]\n",
    "X_valid = x_sample[idx_val]\n",
    "Y_valid = y_sample[idx_val]\n",
    "\n",
    "\n",
    "# oleg_sample_train = oleg_sample[idx_train]\n",
    "# oleg_sample_valid = oleg_sample[idx_val]\n",
    "\n",
    "# mahotas_sample_train = mahotas_sample[idx_train]\n",
    "# mahotas_sample_valid= mahotas_sample[idx_val]\n",
    "\n",
    "# extra_features_train = extra_features_dev[idx_train]\n",
    "# extra_features_valid= extra_features_dev[idx_val]"
   ]
  },
  {
   "cell_type": "code",
   "execution_count": 33,
   "metadata": {},
   "outputs": [
    {
     "data": {
      "text/plain": [
       "(18216, 3, 100, 100)"
      ]
     },
     "execution_count": 33,
     "metadata": {},
     "output_type": "execute_result"
    }
   ],
   "source": [
    "X_train.shape\n"
   ]
  },
  {
   "cell_type": "code",
   "execution_count": 34,
   "metadata": {
    "collapsed": true
   },
   "outputs": [],
   "source": [
    "# conv_trn_feat = vgg_common.predict(X_train, batch_size=32, verbose=1)\n",
    "# save_array(\"data/cache/conv_trn_feat_100x100.dat\",conv_trn_feat)"
   ]
  },
  {
   "cell_type": "code",
   "execution_count": 35,
   "metadata": {
    "collapsed": true
   },
   "outputs": [],
   "source": [
    "conv_trn_feat = load_array(\"data/cache/conv_trn_feat_100x100.dat\")"
   ]
  },
  {
   "cell_type": "code",
   "execution_count": 36,
   "metadata": {},
   "outputs": [
    {
     "name": "stdout",
     "output_type": "stream",
     "text": [
      "2016/2024 [============================>.] - ETA: 0s"
     ]
    }
   ],
   "source": [
    "conv_valid_feat = vgg_common.predict(X_valid, batch_size=32, verbose=1)\n"
   ]
  },
  {
   "cell_type": "markdown",
   "metadata": {},
   "source": [
    "#### With Augmentation"
   ]
  },
  {
   "cell_type": "code",
   "execution_count": 129,
   "metadata": {
    "collapsed": true
   },
   "outputs": [],
   "source": [
    "conv_trn_featx2 = np.memmap(\"data/cache/vgg_features_train_100x100_part2of5.planet\", dtype='float32', mode='r', \n",
    "            shape=(8096*2,256, 25, 25))\n",
    "\n"
   ]
  },
  {
   "cell_type": "code",
   "execution_count": 113,
   "metadata": {
    "collapsed": true
   },
   "outputs": [],
   "source": [
    "batch_size = 32"
   ]
  },
  {
   "cell_type": "code",
   "execution_count": 118,
   "metadata": {
    "collapsed": true
   },
   "outputs": [],
   "source": [
    "train_gen = image.ImageDataGenerator( \n",
    "    rotation_range=10,\n",
    "    width_shift_range=0.1,\n",
    "    height_shift_range=0.1,\n",
    "    shear_range=0.1,\n",
    "    zoom_range=0.1,\n",
    "    channel_shift_range=0.1,\n",
    "    horizontal_flip=True,\n",
    "    vertical_flip=True)\n",
    "\n",
    "\n",
    "#Make sure to set shuffle to FALSE!! for pre-computations\n",
    "train_batch = train_gen.flow(X_train,Y_train,batch_size=batch_size,shuffle=False)\n",
    "\n",
    "#verify augmentation results:\n",
    "#,save_to_dir=\"data/tmp/aug_v1/\",save_prefix=\"v1\")"
   ]
  },
  {
   "cell_type": "code",
   "execution_count": 121,
   "metadata": {
    "collapsed": true
   },
   "outputs": [],
   "source": [
    "# conv_trn_featx2   = vgg_common.predict_generator(train_batch, steps=math.ceil(len(X_train)/float(batch_size)),verbose=1) "
   ]
  },
  {
   "cell_type": "code",
   "execution_count": null,
   "metadata": {
    "collapsed": true
   },
   "outputs": [],
   "source": [
    "conv_trn_featx2.shape[0] -X_train.shape[0]*2"
   ]
  },
  {
   "cell_type": "code",
   "execution_count": null,
   "metadata": {
    "collapsed": true
   },
   "outputs": [],
   "source": [
    "save_array(\"data/cache/conv_trn_feat_augx2_jpg100.dat\",conv_trn_featx2)"
   ]
  },
  {
   "cell_type": "code",
   "execution_count": null,
   "metadata": {
    "collapsed": true
   },
   "outputs": [],
   "source": [
    "#adding non-augmented photos too\n",
    "conv_trn_feat = np.vstack((conv_trn_featx2,)) "
   ]
  },
  {
   "cell_type": "code",
   "execution_count": null,
   "metadata": {
    "collapsed": true
   },
   "outputs": [],
   "source": [
    "Y_train = np.concatenate([Y_train]*3)"
   ]
  },
  {
   "cell_type": "markdown",
   "metadata": {},
   "source": [
    "--- \n"
   ]
  },
  {
   "cell_type": "code",
   "execution_count": 28,
   "metadata": {
    "collapsed": true
   },
   "outputs": [],
   "source": [
    "\n",
    "kfold_weights_path = os.path.join('weights/', 'vgg_sample_v1_exp.h5')\n",
    "\n",
    "\n",
    "#              ReduceLROnPlateau(monitor='val_loss',  patience=3, verbose=1, factor=0.1, min_lr=1e-7)\n",
    "callbacks = [EarlyStopping(monitor='val_loss', patience=5),\n",
    "             ModelCheckpoint(kfold_weights_path, monitor='val_loss', save_best_only=True)\n",
    "            ]\n",
    "\n"
   ]
  },
  {
   "cell_type": "code",
   "execution_count": 30,
   "metadata": {
    "collapsed": true
   },
   "outputs": [],
   "source": [
    "#binary_crossentropy\n",
    "fully_conv_model.compile(optimizer=Adam(lr=1e-3), loss='binary_crossentropy', metrics=['accuracy'])\n",
    "\n",
    "# end_to_end.compile(optimizer=\"nadam\", loss='binary_crossentropy', metrics=['accuracy'])\n",
    "\n",
    "# fcn_plus_feats_model.compile(optimizer=\"nadam\", loss='binary_crossentropy', metrics=['accuracy'])"
   ]
  },
  {
   "cell_type": "markdown",
   "metadata": {},
   "source": [
    "Training"
   ]
  },
  {
   "cell_type": "code",
   "execution_count": null,
   "metadata": {},
   "outputs": [
    {
     "name": "stdout",
     "output_type": "stream",
     "text": [
      "Train on 32384 samples, validate on 8096 samples\n",
      "Epoch 1/50\n",
      "32320/32384 [============================>.] - ETA: 0s - loss: 0.9883 - acc: 0.5581"
     ]
    }
   ],
   "source": [
    "kf = KFold( n_splits=5, shuffle=True, random_state=2020)\n",
    "\n",
    "for train_index, valid_index in kf.split(y_train):\n",
    "        # start_time_model_fitting = time.time()\n",
    " \n",
    "    X_train = x_train[train_index]\n",
    "    X_valid = x_train[valid_index]\n",
    "\n",
    "    Y_train = y_train[train_index]\n",
    "    Y_valid = y_train[valid_index]\n",
    "    \n",
    "#     conv_trn_feat = vgg_common.predict(X_train, batch_size=32, verbose=1)\n",
    "#     save_array(\"data/cache/conv_trn_feat_tmp_5fold.dat\",conv_trn_feat)\n",
    "    conv_trn_feat = load_array(\"data/cache/conv_trn_feat_tmp_5fold.dat\")\n",
    "\n",
    "#     conv_valid_feat = vgg_common.predict(X_valid, batch_size=32, verbose=1)\n",
    "# save_array(\"data/cache/conv_valid_feat_tmp_5fold.dat\",conv_valid_feat)\n",
    "    conv_valid_feat = load_array(\"data/cache/conv_valid_feat_tmp_5fold.dat\")\n",
    "    \n",
    "    \n",
    "    \n",
    "    \n",
    "    history = fully_conv_model.fit(x = conv_trn_feat, y= Y_train, validation_data=(conv_valid_feat, Y_valid),\n",
    "      batch_size=64, epochs=50,callbacks=callbacks, class_weight={0:new_class_weights[0],1:new_class_weights[1]},\n",
    "      shuffle=True)\n",
    "    \n",
    "    \n",
    "    break"
   ]
  },
  {
   "cell_type": "code",
   "execution_count": 81,
   "metadata": {
    "collapsed": true,
    "scrolled": false
   },
   "outputs": [],
   "source": [
    "## FCN\n",
    "\n",
    "# history = fully_conv_model.fit(x = conv_trn_feat, y= Y_train, validation_data=(conv_valid_feat, Y_valid),\n",
    "#   batch_size=64, epochs=50,callbacks=callbacks, class_weight={0:new_class_weights[0],1:new_class_weights[1]},\n",
    "#   shuffle=True)\n",
    "\n",
    "\n",
    "## FCN+features \n",
    "\n",
    "# history = fcn_plus_feats_model.fit(x = [conv_trn_feat,mahotas_sample_train], y= Y_train, \n",
    "#                                    validation_data=([conv_valid_feat,mahotas_sample_valid], Y_valid),\n",
    "#   batch_size=64, epochs=50,callbacks=callbacks,\n",
    "#   shuffle=True)\n",
    "\n",
    "\n",
    "## end-to-end\n",
    "#     history = end_to_end.fit_generator(train_batch, steps_per_epoch=len(X_train)/batch_size,\n",
    "#                                        validation_data=(X_valid, Y_valid),\n",
    "#                                        epochs=1,callbacks=callbacks)\n",
    "\n",
    "\n",
    "# history = model.fit_generator(train_gen.flow(conv_trn_feat, Y_train), validation_data=(conv_valid_feat, Y_valid),\n",
    "#   batch_size=64, epochs=50,callbacks=callbacks,\n",
    "#   shuffle=True)\n",
    "\n",
    "\n"
   ]
  },
  {
   "cell_type": "markdown",
   "metadata": {
    "collapsed": true
   },
   "source": [
    "#### verifying results"
   ]
  },
  {
   "cell_type": "code",
   "execution_count": 43,
   "metadata": {},
   "outputs": [
    {
     "data": {
      "image/png": "[encoded data removed]",
      "text/plain": [
       "<matplotlib.figure.Figure at 0x7fea13a84790>"
      ]
     },
     "metadata": {},
     "output_type": "display_data"
    }
   ],
   "source": [
    "acc = pd.DataFrame({'epoch': [ i + 1 for i in history.epoch ],\n",
    "                    'training': history.history['loss'],\n",
    "                    'validation': history.history['val_loss']})\n",
    "ax = acc.ix[:,:].plot(x='epoch', figsize={5,8}, grid=True)\n",
    "ax.set_ylabel(\"loss\")\n",
    "ax.set_ylim([0.0,1.0]);"
   ]
  },
  {
   "cell_type": "code",
   "execution_count": 44,
   "metadata": {},
   "outputs": [
    {
     "name": "stdout",
     "output_type": "stream",
     "text": [
      "Minimum loss at epoch 9 = 0.1367\n",
      "Maximum accuracy at epoch 10 = 0.9380\n"
     ]
    }
   ],
   "source": [
    "min_val_loss, idx = min((val, idx) for (idx, val) in enumerate(history.history['val_loss']))\n",
    "print 'Minimum loss at epoch', '{:d}'.format(idx+1), '=', '{:.4f}'.format(min_val_loss)\n",
    "\n",
    "max_val_acc, idx = max((val, idx) for (idx, val) in enumerate(history.history['val_acc']))\n",
    "print 'Maximum accuracy at epoch', '{:d}'.format(idx+1), '=', '{:.4f}'.format(max_val_acc)"
   ]
  },
  {
   "cell_type": "code",
   "execution_count": 45,
   "metadata": {},
   "outputs": [
    {
     "name": "stdout",
     "output_type": "stream",
     "text": [
      "loading best weights from 'weights/vgg_sample_v1_exp.h5'\n"
     ]
    }
   ],
   "source": [
    "model  = fully_conv_model\n",
    "\n",
    "if os.path.isfile(kfold_weights_path):\n",
    "    print \"loading best weights from '{}'\".format(kfold_weights_path)\n",
    "    fully_conv_model.load_weights(kfold_weights_path)\n",
    "    \n",
    "    "
   ]
  },
  {
   "cell_type": "code",
   "execution_count": 46,
   "metadata": {
    "collapsed": true,
    "scrolled": false
   },
   "outputs": [],
   "source": [
    "preds_val = fully_conv_model.predict(conv_valid_feat)\n"
   ]
  },
  {
   "cell_type": "code",
   "execution_count": 47,
   "metadata": {
    "collapsed": true
   },
   "outputs": [],
   "source": [
    "class_0_preds = 1 - preds_val.ravel()"
   ]
  },
  {
   "cell_type": "code",
   "execution_count": 48,
   "metadata": {
    "collapsed": true
   },
   "outputs": [],
   "source": [
    "preds_val = np.hstack((class_0_preds.reshape(-1,1), preds_val.reshape(-1,1)))"
   ]
  },
  {
   "cell_type": "code",
   "execution_count": 49,
   "metadata": {
    "collapsed": true
   },
   "outputs": [],
   "source": [
    "# print('F2 Score:', f2_score(Y_valid.ravel(), preds_val.ravel()>0.08))"
   ]
  },
  {
   "cell_type": "code",
   "execution_count": 50,
   "metadata": {
    "collapsed": true
   },
   "outputs": [],
   "source": [
    "target_val = np.hstack(((Y_valid.ravel()==0).astype(np.uint8).reshape(-1,1),Y_valid.reshape(-1,1)))"
   ]
  },
  {
   "cell_type": "code",
   "execution_count": 51,
   "metadata": {
    "collapsed": true
   },
   "outputs": [],
   "source": [
    "\n",
    "def optimise_f2_thresholds(y, p, verbose=True, resolution=100):\n",
    "    num_classes = 2\n",
    "    def mf(x):\n",
    "        p2 = np.zeros_like(p)\n",
    "        for i in range(num_classes):\n",
    "            p2[:, i] = (p[:, i] > x[i]).astype(np.int)\n",
    "        score = fbeta_score(y, p2, beta=2, average='samples')\n",
    "        return score\n",
    "\n",
    "    x = [0.2]*num_classes\n",
    "    for i in range(num_classes):\n",
    "        best_i2 = 0\n",
    "        best_score = 0\n",
    "        for i2 in range(resolution):\n",
    "            threshold = float(i2) / resolution\n",
    "            x[i] = threshold\n",
    "            score = mf(x)\n",
    "            if score > best_score:\n",
    "                best_i2 = threshold\n",
    "                best_score = score\n",
    "\n",
    "        x[i] = best_i2\n",
    "        if verbose:\n",
    "            print(i, best_i2, best_score)\n",
    "\n",
    "    return x"
   ]
  },
  {
   "cell_type": "code",
   "execution_count": 52,
   "metadata": {},
   "outputs": [
    {
     "name": "stderr",
     "output_type": "stream",
     "text": [
      "/home/ubuntu/anaconda2/lib/python2.7/site-packages/sklearn/metrics/classification.py:1113: UndefinedMetricWarning: F-score is ill-defined and being set to 0.0 in samples with no predicted labels.\n",
      "  'precision', 'predicted', average, warn_for)\n"
     ]
    },
    {
     "name": "stdout",
     "output_type": "stream",
     "text": [
      "(0, 0.65, 0.96405632411067199)\n",
      "(1, 0.06, 0.97838438735177868)\n"
     ]
    },
    {
     "data": {
      "text/plain": [
       "0.35499999999999998"
      ]
     },
     "execution_count": 52,
     "metadata": {},
     "output_type": "execute_result"
    }
   ],
   "source": [
    "thres = optimise_f2_thresholds(target_val, preds_val)\n",
    "np.mean(thres)"
   ]
  },
  {
   "cell_type": "code",
   "execution_count": 53,
   "metadata": {},
   "outputs": [
    {
     "data": {
      "text/plain": [
       "['primary']"
      ]
     },
     "execution_count": 53,
     "metadata": {},
     "output_type": "execute_result"
    }
   ],
   "source": [
    "rare_labels"
   ]
  },
  {
   "cell_type": "code",
   "execution_count": 54,
   "metadata": {
    "collapsed": true
   },
   "outputs": [],
   "source": [
    "rare_class_prediction = preds_val[:,1] > thres[1]\n",
    "others_prediction = rare_class_prediction == 0 \n"
   ]
  },
  {
   "cell_type": "code",
   "execution_count": 55,
   "metadata": {
    "collapsed": true
   },
   "outputs": [],
   "source": [
    "preds_val = np.hstack((others_prediction.reshape(-1,1),rare_class_prediction.reshape(-1,1)))"
   ]
  },
  {
   "cell_type": "code",
   "execution_count": 56,
   "metadata": {
    "collapsed": true
   },
   "outputs": [],
   "source": [
    "target_val  = target_val.astype(np.uint8)"
   ]
  },
  {
   "cell_type": "code",
   "execution_count": 57,
   "metadata": {
    "collapsed": true
   },
   "outputs": [],
   "source": [
    "from sklearn import metrics\n"
   ]
  },
  {
   "cell_type": "code",
   "execution_count": 59,
   "metadata": {},
   "outputs": [
    {
     "name": "stdout",
     "output_type": "stream",
     "text": [
      "             precision    recall  f1-score   support\n",
      "\n",
      "     others       0.91      0.52      0.66       547\n",
      "    primary       0.97      1.00      0.98      7549\n",
      "\n",
      "avg / total       0.96      0.96      0.96      8096\n",
      "\n"
     ]
    }
   ],
   "source": [
    "report = metrics.classification_report(target_val, preds_val.astype(np.uint8), target_names=[\"others\", rare_labels[0]])\n",
    "print(report)    "
   ]
  },
  {
   "cell_type": "code",
   "execution_count": 94,
   "metadata": {},
   "outputs": [
    {
     "name": "stdout",
     "output_type": "stream",
     "text": [
      "                  precision    recall  f1-score   support\n",
      "\n",
      "          others       1.00      1.00      1.00      2003\n",
      "artisinal mining       0.64      0.86      0.73        21\n",
      "\n",
      "     avg / total       0.99      0.99      0.99      2024\n",
      "\n"
     ]
    }
   ],
   "source": [
    "\n",
    "report = metrics.classification_report(Y_valid, preds_val.astype(np.uint8), target_names=[\"others\", \"artisinal mining\"])\n",
    "print(report)    "
   ]
  },
  {
   "cell_type": "code",
   "execution_count": 126,
   "metadata": {},
   "outputs": [
    {
     "data": {
      "text/plain": [
       "array([[1982,   28],\n",
       "       [  14,    0]])"
      ]
     },
     "execution_count": 126,
     "metadata": {},
     "output_type": "execute_result"
    }
   ],
   "source": [
    "# from sklearn.metrics import confusion_matrix\n",
    "# confusion_matrix(y_true=Y_valid[:,0],y_pred=preds[:,2])"
   ]
  },
  {
   "cell_type": "markdown",
   "metadata": {},
   "source": [
    "### Making Prediction"
   ]
  },
  {
   "cell_type": "code",
   "execution_count": 46,
   "metadata": {
    "collapsed": true
   },
   "outputs": [],
   "source": [
    "#clear memory\n",
    "del x_train, X_train, X_valid, conv_trn_feat, conv_valid_feat\n",
    "x_test = load_array(\"data/cache/xtest_100x100.dat\")\n"
   ]
  },
  {
   "cell_type": "code",
   "execution_count": 45,
   "metadata": {
    "collapsed": true
   },
   "outputs": [],
   "source": [
    "oleg_test = load_array(\"data/cache/oleg_test\")\n",
    "oleg_test = oleg_test[:,2:]"
   ]
  },
  {
   "cell_type": "code",
   "execution_count": 47,
   "metadata": {
    "collapsed": true
   },
   "outputs": [],
   "source": [
    "mahotas_test = load_array(\"data/cache/mahotas_14_jpg_test.dat\")"
   ]
  },
  {
   "cell_type": "code",
   "execution_count": 50,
   "metadata": {
    "scrolled": true
   },
   "outputs": [
    {
     "name": "stdout",
     "output_type": "stream",
     "text": [
      "data has shape:  (61191, 3, 100, 100)\n",
      "breaking data into chunks of  12238\n",
      "\n",
      "predicting part  1\n",
      "\n",
      "predicting part  2\n",
      "\n",
      "predicting part  3\n",
      "\n",
      "predicting part  4\n",
      "\n",
      "predicting part  5\n",
      "\n",
      "predicting part  6\n"
     ]
    }
   ],
   "source": [
    "# preds = make_staged_predictions(x_test,num_parts=5,do_augmentation=False)\n",
    "preds = make_staged_predictions_with_features(model=model,data=x_test, features=mahotas_test,num_parts=5,do_augmentation=False)"
   ]
  },
  {
   "cell_type": "code",
   "execution_count": 51,
   "metadata": {
    "collapsed": true
   },
   "outputs": [],
   "source": [
    "save_array(\"data/cache/preds_vgg_and_mahotas_samples.dat\",preds)"
   ]
  },
  {
   "cell_type": "code",
   "execution_count": 52,
   "metadata": {},
   "outputs": [
    {
     "data": {
      "text/plain": [
       "((61191, 17), (61191, 3, 100, 100))"
      ]
     },
     "execution_count": 52,
     "metadata": {},
     "output_type": "execute_result"
    }
   ],
   "source": [
    "preds.shape, x_test.shape"
   ]
  },
  {
   "cell_type": "code",
   "execution_count": 49,
   "metadata": {
    "collapsed": true
   },
   "outputs": [],
   "source": [
    "\n",
    "def make_staged_predictions_with_features(model, data,features,num_parts, do_augmentation=False):\n",
    "    partial_preds = []\n",
    "    nb_aug = 1\n",
    "\n",
    "    vgg_common = create_base_vgg()\n",
    "    vgg_common.compile(Adam(), 'categorical_crossentropy', metrics=['accuracy'])\n",
    "\n",
    "    chunck_size = len(data)/num_parts\n",
    "\n",
    "    print \"data has shape: \", data.shape\n",
    "    print \"breaking data into chunks of \", chunck_size\n",
    "    \n",
    "\n",
    "    # do prediction on normal photos anyways\n",
    "    for i in range(1,num_parts+2):\n",
    "        print \"\"\n",
    "        print \"predicting part \",i\n",
    "        \n",
    "        start_index = (i-1)*chunck_size\n",
    "        end_index = min(len(data),i*chunck_size)\n",
    "        num_items = end_index-start_index\n",
    "        \n",
    "        \n",
    "        \n",
    "        vgg_test_feat = vgg_common.predict(data[start_index:end_index], batch_size=32, verbose=0)\n",
    "        partial_preds.append(model.predict([vgg_test_feat,features[start_index:end_index]], batch_size=32, verbose=0))\n",
    "        del vgg_test_feat   \n",
    "\n",
    "    \n",
    "    normal_image_preds = np.vstack(partial_preds)\n",
    "    \n",
    "    \n",
    "    if not do_augmentation:\n",
    "        return   normal_image_preds  \n",
    "\n",
    "    \n",
    "    \n",
    "    else: ## test augmentation \n",
    "        augmented_predictions = normal_image_preds \n",
    "        for n in range(nb_aug):\n",
    "            print \"\"\n",
    "            print \"augmentation round {} of {}\".format(n+1,nb_aug) \n",
    "            partial_preds = []\n",
    "\n",
    "            for i in range(1,num_parts+2):\n",
    "                print \"\"\n",
    "                print \"predicting part {} of {}\".format(i,num_parts)      \n",
    "                \n",
    "                start_index = (i-1)*chunck_size\n",
    "                end_index = min(len(data),i*chunck_size)\n",
    "                num_items = end_index-start_index\n",
    "                \n",
    "                \n",
    "                test_batch = train_gen.flow(data[start_index:end_index],batch_size=16,shuffle=False)\n",
    "                \n",
    "                vgg_test_feat = vgg_common.predict_generator(test_batch, steps=math.ceil(num_items/16.0) ,verbose=1) \n",
    "                \n",
    "#                 print \"\"\n",
    "#                 print (\"items needed vs. items generated: \",num_items,len(vgg_test_feat) )\n",
    "                \n",
    "                vgg_test_feat = vgg_test_feat[:num_items] #to make sure we only take as much as we need for this batch \n",
    "                \n",
    "                partial_preds.append(model.predict(vgg_test_feat, batch_size=32, verbose=1))\n",
    "                \n",
    "                \n",
    "            augmented_predictions += np.vstack(partial_preds)\n",
    "            \n",
    "        augmented_predictions /= (nb_aug+1) #including normal photo predictions\n",
    "        return augmented_predictions\n",
    "\n",
    "    \n",
    "    \n"
   ]
  },
  {
   "cell_type": "markdown",
   "metadata": {},
   "source": [
    "### K-fold cross validation"
   ]
  },
  {
   "cell_type": "code",
   "execution_count": 18,
   "metadata": {},
   "outputs": [
    {
     "name": "stdout",
     "output_type": "stream",
     "text": [
      "Start KFold number 1 from 2\n",
      "('Split train: ', 10119, 10119)\n",
      "('Split valid: ', 10120, 10120)\n",
      "Creating VGG features\n",
      "conv_trn_feat\n",
      "10112/10119 [============================>.] - ETA: 0s\n",
      "conv_trn_feat, augmented\n",
      "632/633 [============================>.] - ETA: 0s\n",
      "conv_valid_feat\n",
      "10112/10120 [============================>.] - ETA: 0s\n",
      "Training round 1\n",
      "Train on 20238 samples, validate on 10120 samples\n",
      "Epoch 1/1\n",
      "20238/20238 [==============================] - 43s - loss: 0.3326 - acc: 0.8522 - val_loss: 0.3015 - val_acc: 0.8331\n",
      "\n",
      "('loading best weights from ', 'weights/vgg1_weights_kfold_1.h5')\n",
      "10112/10120 [============================>.] - ETA: 0s0.868687756262\n",
      "Optimizing prediction threshold\n"
     ]
    },
    {
     "name": "stderr",
     "output_type": "stream",
     "text": [
      "/home/ubuntu/anaconda2/lib/python2.7/site-packages/sklearn/metrics/classification.py:1113: UndefinedMetricWarning: F-score is ill-defined and being set to 0.0 in samples with no predicted labels.\n",
      "  'precision', 'predicted', average, warn_for)\n"
     ]
    },
    {
     "name": "stdout",
     "output_type": "stream",
     "text": [
      "(0, 0.03, 0.64567938295693528)\n",
      "(1, 0.03, 0.64663363791919237)\n",
      "(2, 0.51, 0.64665010695740055)\n",
      "(3, 0.13, 0.64665010695740055)\n",
      "(4, 0.04, 0.66067971694431749)\n",
      "(5, 0.04, 0.66159143708473522)\n",
      "(6, 0.04, 0.67011021541228344)\n",
      "(7, 0.1, 0.71212671554453533)\n",
      "(8, 0.11, 0.71212671554453533)\n",
      "(9, 0.06, 0.72310438574450697)\n",
      "(10, 0.09, 0.78338162606294615)\n",
      "(11, 0.06, 0.81245921138480293)\n",
      "(12, 0.04, 0.81253003975732629)\n",
      "(13, 0.08, 0.81648756555602309)\n",
      "(14, 0.06, 0.86173894537221196)\n",
      "(15, 0.11, 0.87056966103532607)\n",
      "(16, 0.03, 0.8783806255197435)\n",
      "[0.03, 0.03, 0.51, 0.13, 0.04, 0.04, 0.04, 0.1, 0.11, 0.06, 0.09, 0.06, 0.04, 0.08, 0.06, 0.11, 0.03]\n",
      "data has shape:  (61191, 3, 100, 100)\n",
      "breaking data into chunks of  12238\n",
      "\n",
      "augmentation round 1 of 1\n",
      "\n",
      "predicting part 2 of 5\n",
      "382/383 [============================>.] - ETA: 0s\n",
      "('items needed vs. items generated: ', 12238, 12238)\n",
      "12192/12238 [============================>.] - ETA: 0s\n",
      "predicting part 3 of 5\n",
      "382/383 [============================>.] - ETA: 0s\n",
      "('items needed vs. items generated: ', 12238, 12238)\n",
      "12192/12238 [============================>.] - ETA: 0s\n",
      "predicting part 4 of 5\n",
      "382/383 [============================>.] - ETA: 0s\n",
      "('items needed vs. items generated: ', 12238, 12238)\n",
      "12238/12238 [==============================] - 9s     \n",
      "\n",
      "predicting part 5 of 5\n",
      "382/383 [============================>.] - ETA: 0s\n",
      "('items needed vs. items generated: ', 12238, 12238)\n",
      "12224/12238 [============================>.] - ETA: 0s\n",
      "predicting part 6 of 5\n",
      "383/383 [==============================] - 40s    \n",
      "\n",
      "('items needed vs. items generated: ', 12238, 12238)\n",
      "12224/12238 [============================>.] - ETA: 0s\n",
      "predicting part 7 of 5\n",
      "1/1 [==============================] - 0s\n",
      "\n",
      "('items needed vs. items generated: ', 1, 1)\n",
      "1/1 [==============================] - 0s\n",
      "data has shape:  (61191, 3, 100, 100)\n",
      "breaking data into chunks of  12238\n",
      "\n",
      "predicting part  1\n",
      "12238/12238 [==============================] - 40s    \n",
      "12192/12238 [============================>.] - ETA: 0s\n",
      "predicting part  2\n",
      "12238/12238 [==============================] - 40s    \n",
      "12224/12238 [============================>.] - ETA: 0s\n",
      "predicting part  3\n",
      "12238/12238 [==============================] - 40s    \n",
      "12238/12238 [==============================] - 8s     \n",
      "\n",
      "predicting part  4\n",
      "12238/12238 [==============================] - 8s     \n",
      "\n",
      "predicting part  5\n",
      "12192/12238 [============================>.] - ETA: 0s\n",
      "predicting part  6\n",
      "1/1 [==============================] - 0s\n",
      "1/1 [==============================] - 0s\n",
      "Start KFold number 2 from 2\n",
      "('Split train: ', 10120, 10120)\n",
      "('Split valid: ', 10119, 10119)\n",
      "Creating VGG features\n",
      "conv_trn_feat\n",
      "10112/10120 [============================>.] - ETA: 0s\n",
      "conv_trn_feat, augmented\n",
      "632/633 [============================>.] - ETA: 0s\n",
      "conv_valid_feat\n",
      "10112/10119 [============================>.] - ETA: 0s\n",
      "Training round 2\n",
      "Train on 20240 samples, validate on 10119 samples\n",
      "Epoch 1/1\n",
      "20240/20240 [==============================] - 43s - loss: 0.3306 - acc: 0.8544 - val_loss: 0.3041 - val_acc: 0.8330\n",
      "\n",
      "('loading best weights from ', 'weights/vgg1_weights_kfold_2.h5')\n",
      "10112/10119 [============================>.] - ETA: 0s0.880756255293\n",
      "Optimizing prediction threshold\n",
      "(0, 0.03, 0.65778696480336363)\n",
      "(1, 0.03, 0.65892593499492047)\n",
      "(2, 0.13, 0.65892593499492047)\n",
      "(3, 0.08, 0.65892593499492047)\n",
      "(4, 0.07, 0.66977487782222656)\n",
      "(5, 0.02, 0.67085537292874797)\n",
      "(6, 0.06, 0.67596951686429374)\n",
      "(7, 0.05, 0.72466031814888687)\n",
      "(8, 0.08, 0.72466031814888687)\n",
      "(9, 0.03, 0.73390414134766302)\n",
      "(10, 0.11, 0.77403323089795195)\n",
      "(11, 0.08, 0.79874696119800359)\n",
      "(12, 0.14, 0.79878506298158425)\n",
      "(13, 0.05, 0.81523259836288631)\n",
      "(14, 0.07, 0.8650952386090075)\n",
      "(15, 0.07, 0.88066888875193161)\n",
      "(16, 0.06, 0.88151176801253373)\n",
      "[0.03, 0.03, 0.13, 0.08, 0.07, 0.02, 0.06, 0.05, 0.08, 0.03, 0.11, 0.08, 0.14, 0.05, 0.07, 0.07, 0.06]\n",
      "data has shape:  (61191, 3, 100, 100)\n",
      "breaking data into chunks of  12238\n",
      "\n",
      "augmentation round 1 of 1\n",
      "\n",
      "predicting part 2 of 5\n",
      "382/383 [============================>.] - ETA: 0s\n",
      "('items needed vs. items generated: ', 12238, 12238)\n",
      "12192/12238 [============================>.] - ETA: 0s\n",
      "predicting part 3 of 5\n",
      "382/383 [============================>.] - ETA: 0s\n",
      "('items needed vs. items generated: ', 12238, 12238)\n",
      "12224/12238 [============================>.] - ETA: 0s\n",
      "predicting part 4 of 5\n",
      "382/383 [============================>.] - ETA: 0s\n",
      "('items needed vs. items generated: ', 12238, 12238)\n",
      "12224/12238 [============================>.] - ETA: 0s\n",
      "predicting part 5 of 5\n",
      "382/383 [============================>.] - ETA: 0s\n",
      "('items needed vs. items generated: ', 12238, 12238)\n",
      "12224/12238 [============================>.] - ETA: 0s\n",
      "predicting part 6 of 5\n",
      "383/383 [==============================] - 39s    \n",
      "\n",
      "('items needed vs. items generated: ', 12238, 12238)\n",
      "12224/12238 [============================>.] - ETA: 0s\n",
      "predicting part 7 of 5\n",
      "1/1 [==============================] - 0s\n",
      "\n",
      "('items needed vs. items generated: ', 1, 1)\n",
      "1/1 [==============================] - 0s\n",
      "data has shape:  (61191, 3, 100, 100)\n",
      "breaking data into chunks of  12238\n",
      "\n",
      "predicting part  1\n",
      "12192/12238 [============================>.] - ETA: 0s\n",
      "predicting part  2\n",
      "12224/12238 [============================>.] - ETA: 0s\n",
      "predicting part  3\n",
      "12238/12238 [==============================] - 40s    \n",
      "12192/12238 [============================>.] - ETA: 0s\n",
      "predicting part  4\n",
      "12192/12238 [============================>.] - ETA: 0s\n",
      "predicting part  5\n",
      "12224/12238 [============================>.] - ETA: 0s\n",
      "predicting part  6\n",
      "1/1 [==============================] - 0s\n",
      "1/1 [==============================] - 0s\n"
     ]
    }
   ],
   "source": [
    "\n",
    "nfolds = 2\n",
    "\n",
    "current_fold = 0\n",
    "sum_score = 0\n",
    "\n",
    "yfull_test = []\n",
    "# yfull_train =[]\n",
    "thresholds = []\n",
    "oof_preds = np.zeros((x_train.shape[0],17))\n",
    "\n",
    "\n",
    "val_errors = []\n",
    "val_accuracies = []\n",
    "\n",
    "       \n",
    "kf = KFold( n_splits=nfolds, shuffle=True, random_state=2020)\n",
    "\n",
    "for train_index, valid_index in kf.split(x_sample,y_sample):\n",
    "        start_time_model_fitting = time.time()\n",
    "        \n",
    "        X_train = x_sample[train_index]\n",
    "        Y_train = y_sample[train_index]\n",
    "        X_valid = x_sample[valid_index]\n",
    "        Y_valid = y_sample[valid_index]\n",
    "        \n",
    "\n",
    "        current_fold += 1\n",
    "        print('Start KFold number {} from {}'.format(current_fold, nfolds))\n",
    "        print('Split train: ', len(X_train), len(Y_train))\n",
    "        print('Split valid: ', len(X_valid), len(Y_valid))\n",
    "        \n",
    "        kfold_weights_path = os.path.join('weights/', 'vgg1_weights_kfold_' + str(current_fold) + '.h5')\n",
    "        callbacks = [EarlyStopping(monitor='val_loss', patience=3),\n",
    "                     ModelCheckpoint(kfold_weights_path, monitor='val_loss', save_best_only=True)]\n",
    " \n",
    "\n",
    "\n",
    "\n",
    "\n",
    "        ##################   TRAINING\n",
    "        print (\"Creating VGG features\")\n",
    "        print (\"conv_trn_feat\")\n",
    "\n",
    "        # standard photos\n",
    "        conv_trn_feat = vgg_common.predict(X_train, batch_size=32, verbose=0)\n",
    "        print \"\"\n",
    "        print (\"conv_trn_feat, augmented\")\n",
    "        \n",
    "        # augmented photos (1x due to memory constraints)\n",
    "        train_batch = train_gen.flow(X_train,Y_train,batch_size=16,shuffle=False,seed=current_fold)\n",
    "        conv_trn_featx1   = vgg_common.predict_generator(train_batch, steps=math.ceil(len(X_train)/16.0) ,verbose=0) \n",
    "        \n",
    "        conv_trn_feat = np.vstack((conv_trn_feat,conv_trn_featx1))\n",
    "        Y_train = np.concatenate([Y_train]*2) #duplicate targets too\n",
    "        \n",
    "        del conv_trn_featx1\n",
    "        print \"\"\n",
    "        print (\"conv_valid_feat\")\n",
    "        \n",
    "        conv_valid_feat = vgg_common.predict(X_valid, batch_size=32, verbose=0)\n",
    "#         conv_test_feat = vgg640.predict(x_test, batch_size=32, verbose=1)\n",
    "        print \"\"\n",
    "        print (\"Training round {}\".format(current_fold))\n",
    " \n",
    "        model =  Sequential(get_lrg_layers())\n",
    "        model.compile(optimizer='nadam', loss='binary_crossentropy', metrics=['accuracy'])\n",
    "\n",
    "        \n",
    "        \n",
    "        ######## ACTION\n",
    "        history = model.fit(x = conv_trn_feat, y= Y_train, validation_data=(conv_valid_feat, Y_valid),\n",
    "          batch_size=32, epochs=1,callbacks=callbacks,\n",
    "          shuffle=True,verbose=1)\n",
    "\n",
    "        \n",
    "        \n",
    "        ######################## VALIDATION \n",
    "        \n",
    "        if os.path.isfile(kfold_weights_path):\n",
    "            print \"\"\n",
    "            print (\"loading best weights from \",kfold_weights_path)\n",
    "            model.load_weights(kfold_weights_path)\n",
    "            \n",
    "        \n",
    "        ## verifying local validation results\n",
    "        p_valid = model.predict(conv_valid_feat, batch_size = 64, verbose=1)\n",
    "        print(\"local score with threshold 0.08: \",f2_score(Y_valid, np.array(p_valid) > 0.08))\n",
    "        print(\"Optimizing prediction threshold\")\n",
    "        local_best_thresholds = optimise_f2_thresholds(Y_valid, p_valid)\n",
    "#         print(local_best_thresholds)\n",
    "        thresholds.append(local_best_thresholds)\n",
    "\n",
    "        \n",
    "        ## oof preds\n",
    "        oof_preds[valid_index] = p_valid\n",
    "        del conv_trn_feat,conv_valid_feat \n",
    "        \n",
    "        \n",
    "        \n",
    "        \n",
    "        min_val_loss, idx = min((val, idx) for (idx, val) in enumerate(history.history['val_loss']))\n",
    "        print 'Minimum loss at epoch', '{:d}'.format(idx+1), '=', '{:.4f}'.format(min_val_loss)\n",
    "\n",
    "        max_val_acc, idx = max((val, idx) for (idx, val) in enumerate(history.history['val_acc']))\n",
    "        print 'Maximum accuracy at epoch', '{:d}'.format(idx+1), '=', '{:.4f}'.format(max_val_acc)\n",
    "        \n",
    "        val_errors.append(min_val_loss)\n",
    "        val_accuracies.append(max_val_acc)\n",
    "        \n",
    "\n",
    "        ############################# TEST PREDICTION\n",
    "        del X_train, Y_train, X_valid, Y_valid\n",
    "        x_test = load_array(\"data/cache/xtest_100x100.dat\")\n",
    "\n",
    "        ## doing test predictions \n",
    "        print(\"Predicting test files\")\n",
    "        \n",
    "        p_test = make_staged_predictions(x_test,num_parts=5,do_augmentation=True)        \n",
    "        yfull_test.append(p_test)\n",
    "\n",
    "        del model # make sure we don't resue weights \n",
    "        \n",
    "        \n",
    "\n",
    "print \"Done!\"        \n",
    "  "
   ]
  },
  {
   "cell_type": "code",
   "execution_count": null,
   "metadata": {
    "collapsed": true
   },
   "outputs": [],
   "source": [
    "thresholds = np.array(thresholds,np.float16)"
   ]
  },
  {
   "cell_type": "code",
   "execution_count": 28,
   "metadata": {
    "scrolled": true
   },
   "outputs": [
    {
     "data": {
      "text/plain": [
       "1.699673171197595"
      ]
     },
     "execution_count": 28,
     "metadata": {},
     "output_type": "execute_result"
    }
   ],
   "source": [
    "print (\"best val_loss has a mean of {} and stdev of {}\".format(np.mean(val_errors), np.std(val_errors)))\n",
    "print (\"best val_acc has a mean of {} and stdev of {}\".format(np.mean(val_accuracies), np.std(val_accuracies)))\n",
    "print (\"local best thresholds have a mean of {} and stdev of {}\".format(thresholds.mean(), thresholds.std()))"
   ]
  },
  {
   "cell_type": "code",
   "execution_count": 22,
   "metadata": {},
   "outputs": [
    {
     "data": {
      "text/plain": [
       "344080"
      ]
     },
     "execution_count": 22,
     "metadata": {},
     "output_type": "execute_result"
    }
   ],
   "source": [
    "np.save(\"data/cache/oof_vgg1.dat\",oof_preds)\n",
    "np.save(\"data/cache/10fold_crossvalidated_vgg1_test_preds.dat\",yfull_test)"
   ]
  },
  {
   "cell_type": "code",
   "execution_count": null,
   "metadata": {
    "collapsed": true
   },
   "outputs": [],
   "source": [
    "result = np.array(yfull_test[0])\n",
    "for i in range(1, nfolds):\n",
    "    result += np.array(yfull_test[i])\n",
    "result /= nfolds\n",
    "result = pd.DataFrame(result, columns = labels)\n",
    "result"
   ]
  },
  {
   "cell_type": "code",
   "execution_count": 24,
   "metadata": {
    "scrolled": true
   },
   "outputs": [
    {
     "data": {
      "text/plain": [
       "(61191, 17)"
      ]
     },
     "execution_count": 24,
     "metadata": {},
     "output_type": "execute_result"
    }
   ],
   "source": [
    "yfull_test[1].shape"
   ]
  },
  {
   "cell_type": "code",
   "execution_count": 47,
   "metadata": {
    "scrolled": true
   },
   "outputs": [
    {
     "data": {
      "text/plain": [
       "array([[ 0.0005,  0.002 ,  0.0005, ...,  0.0012,  0.0168,  0.0013],\n",
       "       [ 0.0002,  0.0005,  0.0006, ...,  0.0016,  0.0053,  0.0011],\n",
       "       [ 0.0002,  0.0017,  0.    , ...,  0.0141,  0.0013,  0.0088],\n",
       "       ..., \n",
       "       [ 0.0017,  0.0025,  0.0008, ...,  0.0056,  0.0091,  0.    ],\n",
       "       [ 0.0031,  0.0036,  0.0037, ...,  0.0082,  0.0649,  0.2205],\n",
       "       [ 0.0031,  0.0055,  0.0074, ...,  0.0086,  0.018 ,  0.0007]], dtype=float16)"
      ]
     },
     "execution_count": 47,
     "metadata": {},
     "output_type": "execute_result"
    }
   ],
   "source": [
    "t = np.array(yfull_test,np.float16)\n"
   ]
  },
  {
   "cell_type": "code",
   "execution_count": 50,
   "metadata": {},
   "outputs": [
    {
     "data": {
      "text/plain": [
       "(2, 61191, 17)"
      ]
     },
     "execution_count": 50,
     "metadata": {},
     "output_type": "execute_result"
    }
   ],
   "source": [
    "t.shape"
   ]
  },
  {
   "cell_type": "code",
   "execution_count": 54,
   "metadata": {},
   "outputs": [
    {
     "data": {
      "text/plain": [
       "(61191, 17)"
      ]
     },
     "execution_count": 54,
     "metadata": {},
     "output_type": "execute_result"
    }
   ],
   "source": [
    "t.mean(axis=0).shape\n"
   ]
  },
  {
   "cell_type": "code",
   "execution_count": 49,
   "metadata": {},
   "outputs": [
    {
     "data": {
      "text/plain": [
       "array([[ 0.0005,  0.002 ,  0.0005, ...,  0.0012,  0.0168,  0.0013],\n",
       "       [ 0.0002,  0.0005,  0.0006, ...,  0.0016,  0.0053,  0.0011],\n",
       "       [ 0.0002,  0.0017,  0.    , ...,  0.0141,  0.0013,  0.0088],\n",
       "       ..., \n",
       "       [ 0.0017,  0.0025,  0.0008, ...,  0.0056,  0.0091,  0.    ],\n",
       "       [ 0.0031,  0.0036,  0.0037, ...,  0.0082,  0.0649,  0.2205],\n",
       "       [ 0.0031,  0.0055,  0.0074, ...,  0.0086,  0.018 ,  0.0007]], dtype=float16)"
      ]
     },
     "execution_count": 49,
     "metadata": {},
     "output_type": "execute_result"
    }
   ],
   "source": [
    "t.std(axis=0)"
   ]
  },
  {
   "cell_type": "markdown",
   "metadata": {},
   "source": [
    "### Make submission"
   ]
  },
  {
   "cell_type": "code",
   "execution_count": 53,
   "metadata": {},
   "outputs": [
    {
     "data": {
      "text/plain": [
       "(61191, 17)"
      ]
     },
     "execution_count": 53,
     "metadata": {},
     "output_type": "execute_result"
    }
   ],
   "source": [
    "preds.shape"
   ]
  },
  {
   "cell_type": "code",
   "execution_count": 54,
   "metadata": {
    "scrolled": true
   },
   "outputs": [
    {
     "data": {
      "text/html": [
       "<div>\n",
       "<table border=\"1\" class=\"dataframe\">\n",
       "  <thead>\n",
       "    <tr style=\"text-align: right;\">\n",
       "      <th></th>\n",
       "      <th>blow_down</th>\n",
       "      <th>bare_ground</th>\n",
       "      <th>conventional_mine</th>\n",
       "      <th>blooming</th>\n",
       "      <th>cultivation</th>\n",
       "      <th>artisinal_mine</th>\n",
       "      <th>haze</th>\n",
       "      <th>primary</th>\n",
       "      <th>slash_burn</th>\n",
       "      <th>habitation</th>\n",
       "      <th>clear</th>\n",
       "      <th>road</th>\n",
       "      <th>selective_logging</th>\n",
       "      <th>partly_cloudy</th>\n",
       "      <th>agriculture</th>\n",
       "      <th>water</th>\n",
       "      <th>cloudy</th>\n",
       "    </tr>\n",
       "  </thead>\n",
       "  <tbody>\n",
       "    <tr>\n",
       "      <th>0</th>\n",
       "      <td>0.001978</td>\n",
       "      <td>0.001438</td>\n",
       "      <td>0.000076</td>\n",
       "      <td>0.0178</td>\n",
       "      <td>0.003013</td>\n",
       "      <td>0.000075</td>\n",
       "      <td>0.008281</td>\n",
       "      <td>0.997077</td>\n",
       "      <td>0.000203</td>\n",
       "      <td>0.002192</td>\n",
       "      <td>0.989675</td>\n",
       "      <td>0.001708</td>\n",
       "      <td>0.001318</td>\n",
       "      <td>0.00322</td>\n",
       "      <td>0.007609</td>\n",
       "      <td>0.002989</td>\n",
       "      <td>0.001012</td>\n",
       "    </tr>\n",
       "  </tbody>\n",
       "</table>\n",
       "</div>"
      ],
      "text/plain": [
       "   blow_down  bare_ground  conventional_mine  blooming  cultivation  \\\n",
       "0   0.001978     0.001438           0.000076    0.0178     0.003013   \n",
       "\n",
       "   artisinal_mine      haze   primary  slash_burn  habitation     clear  \\\n",
       "0        0.000075  0.008281  0.997077    0.000203    0.002192  0.989675   \n",
       "\n",
       "       road  selective_logging  partly_cloudy  agriculture     water    cloudy  \n",
       "0  0.001708           0.001318        0.00322     0.007609  0.002989  0.001012  "
      ]
     },
     "execution_count": 54,
     "metadata": {},
     "output_type": "execute_result"
    }
   ],
   "source": [
    "result = pd.DataFrame(preds, columns = labels)\n",
    "result.head(1)"
   ]
  },
  {
   "cell_type": "code",
   "execution_count": 84,
   "metadata": {
    "collapsed": true
   },
   "outputs": [],
   "source": [
    "test_medians = result.median().values"
   ]
  },
  {
   "cell_type": "code",
   "execution_count": 88,
   "metadata": {
    "collapsed": true
   },
   "outputs": [],
   "source": [
    "# thres"
   ]
  },
  {
   "cell_type": "code",
   "execution_count": 90,
   "metadata": {},
   "outputs": [
    {
     "data": {
      "text/plain": [
       "array([-0.0394, -0.0884, -0.0196, -0.199 , -0.0506, -0.0496, -0.088 ,  0.2125, -0.0292, -0.027 ,\n",
       "        0.1217, -0.0615, -0.1091, -0.0381, -0.044 , -0.0412, -0.0492])"
      ]
     },
     "execution_count": 90,
     "metadata": {},
     "output_type": "execute_result"
    }
   ],
   "source": [
    "test_medians - thres"
   ]
  },
  {
   "cell_type": "code",
   "execution_count": 71,
   "metadata": {
    "scrolled": true
   },
   "outputs": [
    {
     "data": {
      "text/plain": [
       "((17, 61191), (61191, 17))"
      ]
     },
     "execution_count": 71,
     "metadata": {},
     "output_type": "execute_result"
    }
   ],
   "source": [
    "tags_pred.shape,preds.shape"
   ]
  },
  {
   "cell_type": "code",
   "execution_count": 55,
   "metadata": {},
   "outputs": [
    {
     "data": {
      "image/png": "[encoded data removed]",
      "text/plain": [
       "<matplotlib.figure.Figure at 0x7f57ed3ac710>"
      ]
     },
     "metadata": {},
     "output_type": "display_data"
    }
   ],
   "source": [
    "import seaborn as sns\n",
    "tags_pred = np.array(preds).T\n",
    "_, axs = plt.subplots(5, 4, figsize=(15, 20))\n",
    "axs = axs.ravel()\n",
    "\n",
    "for i, tag_vals in enumerate(tags_pred):\n",
    "    sns.boxplot(tag_vals, orient='v', palette='Set2', ax=axs[i]).set_title(labels[i])\n"
   ]
  },
  {
   "cell_type": "code",
   "execution_count": 56,
   "metadata": {},
   "outputs": [
    {
     "name": "stderr",
     "output_type": "stream",
     "text": [
      "100%|██████████| 61191/61191 [01:58<00:00, 514.36it/s]\n"
     ]
    }
   ],
   "source": [
    "label_preds = []\n",
    "for i in tqdm(range(result.shape[0]), miniters=1000):\n",
    "    a = result.ix[[i]]\n",
    "    a = a.apply(lambda x: x > thres, axis=1)\n",
    "    a = a.transpose()\n",
    "    a = a.loc[a[i] == True]\n",
    "    ' '.join(list(a.index))\n",
    "    label_preds.append(' '.join(list(a.index)))"
   ]
  },
  {
   "cell_type": "code",
   "execution_count": 57,
   "metadata": {},
   "outputs": [
    {
     "data": {
      "text/html": [
       "<div>\n",
       "<table border=\"1\" class=\"dataframe\">\n",
       "  <thead>\n",
       "    <tr style=\"text-align: right;\">\n",
       "      <th></th>\n",
       "      <th>image_name</th>\n",
       "      <th>tags</th>\n",
       "    </tr>\n",
       "  </thead>\n",
       "  <tbody>\n",
       "    <tr>\n",
       "      <th>0</th>\n",
       "      <td>test_0</td>\n",
       "      <td>primary clear</td>\n",
       "    </tr>\n",
       "    <tr>\n",
       "      <th>1</th>\n",
       "      <td>test_1</td>\n",
       "      <td>primary clear</td>\n",
       "    </tr>\n",
       "    <tr>\n",
       "      <th>2</th>\n",
       "      <td>test_2</td>\n",
       "      <td>primary partly_cloudy</td>\n",
       "    </tr>\n",
       "    <tr>\n",
       "      <th>3</th>\n",
       "      <td>test_3</td>\n",
       "      <td>primary clear</td>\n",
       "    </tr>\n",
       "    <tr>\n",
       "      <th>4</th>\n",
       "      <td>test_4</td>\n",
       "      <td>primary partly_cloudy</td>\n",
       "    </tr>\n",
       "  </tbody>\n",
       "</table>\n",
       "</div>"
      ],
      "text/plain": [
       "  image_name                   tags\n",
       "0     test_0          primary clear\n",
       "1     test_1          primary clear\n",
       "2     test_2  primary partly_cloudy\n",
       "3     test_3          primary clear\n",
       "4     test_4  primary partly_cloudy"
      ]
     },
     "execution_count": 57,
     "metadata": {},
     "output_type": "execute_result"
    }
   ],
   "source": [
    "df_test[\"tags\"] = label_preds\n",
    "df_test.head()"
   ]
  },
  {
   "cell_type": "code",
   "execution_count": 60,
   "metadata": {},
   "outputs": [
    {
     "data": {
      "text/html": [
       "<a href='subm/vgg1_sample_plus_mahotas.csv' target='_blank'>subm/vgg1_sample_plus_mahotas.csv</a><br>"
      ],
      "text/plain": [
       "/home/ubuntu/planet/subm/vgg1_sample_plus_mahotas.csv"
      ]
     },
     "execution_count": 60,
     "metadata": {},
     "output_type": "execute_result"
    }
   ],
   "source": [
    "submission_file = 'subm/vgg1_sample_plus_mahotas.csv'\n",
    "df_test.to_csv(submission_file, index=False)\n",
    "FileLink(submission_file)"
   ]
  },
  {
   "cell_type": "code",
   "execution_count": null,
   "metadata": {
    "collapsed": true
   },
   "outputs": [],
   "source": []
  }
 ],
 "metadata": {
  "kernelspec": {
   "display_name": "Python [conda root]",
   "language": "python",
   "name": "conda-root-py"
  },
  "language_info": {
   "codemirror_mode": {
    "name": "ipython",
    "version": 2
   },
   "file_extension": ".py",
   "mimetype": "text/x-python",
   "name": "python",
   "nbconvert_exporter": "python",
   "pygments_lexer": "ipython2",
   "version": "2.7.12"
  }
 },
 "nbformat": 4,
 "nbformat_minor": 2
}
