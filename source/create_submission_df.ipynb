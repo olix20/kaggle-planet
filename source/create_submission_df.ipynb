{
 "cells": [
  {
   "cell_type": "code",
   "execution_count": 34,
   "metadata": {
    "collapsed": false
   },
   "outputs": [],
   "source": [
    "import scipy\n",
    "import os\n",
    "import bcolz\n",
    "import pandas as pd\n",
    "from tqdm import tqdm_notebook\n",
    "import numpy as np"
   ]
  },
  {
   "cell_type": "code",
   "execution_count": 35,
   "metadata": {
    "collapsed": true
   },
   "outputs": [],
   "source": [
    "\n",
    "def save_array(fname, arr):\n",
    "    c=bcolz.carray(arr, rootdir=fname, mode='w')\n",
    "    c.flush()\n",
    "\n",
    "\n",
    "def load_array(fname):\n",
    "    return bcolz.open(fname)[:]\n"
   ]
  },
  {
   "cell_type": "code",
   "execution_count": 36,
   "metadata": {
    "collapsed": true
   },
   "outputs": [],
   "source": [
    "best207 = pd.read_csv(\"data/bestof207.csv\")"
   ]
  },
  {
   "cell_type": "code",
   "execution_count": 3,
   "metadata": {
    "collapsed": false
   },
   "outputs": [],
   "source": [
    "oli_res_preds = load_array(\"data/raw_preds_224x224_blend_2resnets_5a_n_4a_ft_0.92905_armin_ordering.dat/\")\n",
    "oli_res_thres = load_array(\"data/resnet_thresholds_simple_aug_10xtta.dat/\")"
   ]
  },
  {
   "cell_type": "code",
   "execution_count": 4,
   "metadata": {
    "collapsed": true
   },
   "outputs": [],
   "source": [
    "oli_etr_preds = load_array(\"data/etr_test_preds_raw.dat/\")\n"
   ]
  },
  {
   "cell_type": "code",
   "execution_count": 5,
   "metadata": {
    "collapsed": false
   },
   "outputs": [],
   "source": [
    "y_train = []\n",
    "\n",
    "df_train = pd.read_csv('data/train_v2.csv')\n",
    "df_test = pd.read_csv('data/sample_submission_v2.csv')\n",
    "\n",
    "# flatten = lambda l: [item for sublist in l for item in sublist]\n",
    "# labels = list(set(flatten([l.split(' ') for l in df_train['tags'].values])))\n",
    "\n",
    "labels = ['blow_down',\n",
    " 'bare_ground',\n",
    " 'conventional_mine',\n",
    " 'blooming',\n",
    " 'cultivation',\n",
    " 'artisinal_mine',\n",
    " 'haze',\n",
    " 'primary',\n",
    " 'slash_burn',\n",
    " 'habitation',\n",
    " 'clear',\n",
    " 'road',\n",
    " 'selective_logging',\n",
    " 'partly_cloudy',\n",
    " 'agriculture',\n",
    " 'water',\n",
    " 'cloudy']\n",
    "\n",
    "label_map = {'agriculture': 14,\n",
    " 'artisinal_mine': 5,\n",
    " 'bare_ground': 1,\n",
    " 'blooming': 3,\n",
    " 'blow_down': 0,\n",
    " 'clear': 10,\n",
    " 'cloudy': 16,\n",
    " 'conventional_mine': 2,\n",
    " 'cultivation': 4,\n",
    " 'habitation': 9,\n",
    " 'haze': 6,\n",
    " 'partly_cloudy': 13,\n",
    " 'primary': 7,\n",
    " 'road': 11,\n",
    " 'selective_logging': 12,\n",
    " 'slash_burn': 8,\n",
    " 'water': 15}"
   ]
  },
  {
   "cell_type": "code",
   "execution_count": 6,
   "metadata": {
    "collapsed": false
   },
   "outputs": [
    {
     "data": {
      "text/html": [
       "<div>\n",
       "<style>\n",
       "    .dataframe thead tr:only-child th {\n",
       "        text-align: right;\n",
       "    }\n",
       "\n",
       "    .dataframe thead th {\n",
       "        text-align: left;\n",
       "    }\n",
       "\n",
       "    .dataframe tbody tr th {\n",
       "        vertical-align: top;\n",
       "    }\n",
       "</style>\n",
       "<table border=\"1\" class=\"dataframe\">\n",
       "  <thead>\n",
       "    <tr style=\"text-align: right;\">\n",
       "      <th></th>\n",
       "      <th>blow_down</th>\n",
       "      <th>bare_ground</th>\n",
       "      <th>conventional_mine</th>\n",
       "      <th>blooming</th>\n",
       "      <th>cultivation</th>\n",
       "      <th>artisinal_mine</th>\n",
       "      <th>haze</th>\n",
       "      <th>primary</th>\n",
       "      <th>slash_burn</th>\n",
       "      <th>habitation</th>\n",
       "      <th>clear</th>\n",
       "      <th>road</th>\n",
       "      <th>selective_logging</th>\n",
       "      <th>partly_cloudy</th>\n",
       "      <th>agriculture</th>\n",
       "      <th>water</th>\n",
       "      <th>cloudy</th>\n",
       "    </tr>\n",
       "  </thead>\n",
       "  <tbody>\n",
       "    <tr>\n",
       "      <th>0</th>\n",
       "      <td>0.02535</td>\n",
       "      <td>0.012565</td>\n",
       "      <td>0.0</td>\n",
       "      <td>0.241257</td>\n",
       "      <td>0.030148</td>\n",
       "      <td>0.0</td>\n",
       "      <td>0.020232</td>\n",
       "      <td>1.0</td>\n",
       "      <td>0.0</td>\n",
       "      <td>0.050083</td>\n",
       "      <td>0.969721</td>\n",
       "      <td>0.025549</td>\n",
       "      <td>0.085725</td>\n",
       "      <td>0.010046</td>\n",
       "      <td>0.075645</td>\n",
       "      <td>0.065289</td>\n",
       "      <td>0.0</td>\n",
       "    </tr>\n",
       "  </tbody>\n",
       "</table>\n",
       "</div>"
      ],
      "text/plain": [
       "   blow_down  bare_ground  conventional_mine  blooming  cultivation  \\\n",
       "0    0.02535     0.012565                0.0  0.241257     0.030148   \n",
       "\n",
       "   artisinal_mine      haze  primary  slash_burn  habitation     clear  \\\n",
       "0             0.0  0.020232      1.0         0.0    0.050083  0.969721   \n",
       "\n",
       "       road  selective_logging  partly_cloudy  agriculture     water  cloudy  \n",
       "0  0.025549           0.085725       0.010046     0.075645  0.065289     0.0  "
      ]
     },
     "execution_count": 6,
     "metadata": {},
     "output_type": "execute_result"
    }
   ],
   "source": [
    "result = pd.DataFrame(oli_etr_preds, columns = labels)\n",
    "result.head(1)"
   ]
  },
  {
   "cell_type": "code",
   "execution_count": 7,
   "metadata": {
    "collapsed": true
   },
   "outputs": [],
   "source": [
    "new_order = {'slash_burn': 15, 'selective_logging': 14, \n",
    "             'cultivation': 8, 'clear': 5, 'habitation': 9,\n",
    "             'conventional_mine': 7, 'cloudy': 6, 'primary': 12, \n",
    "             'water': 16, 'haze': 10, 'artisinal_mine': 1, \n",
    "             'partly_cloudy': 11, 'blooming': 3, 'bare_ground': 2, \n",
    "             'blow_down': 4, 'agriculture': 0, 'road': 13}"
   ]
  },
  {
   "cell_type": "code",
   "execution_count": 8,
   "metadata": {
    "collapsed": false
   },
   "outputs": [
    {
     "data": {
      "text/plain": [
       "['agriculture',\n",
       " 'artisinal_mine',\n",
       " 'bare_ground',\n",
       " 'blooming',\n",
       " 'blow_down',\n",
       " 'clear',\n",
       " 'cloudy',\n",
       " 'conventional_mine',\n",
       " 'cultivation',\n",
       " 'habitation',\n",
       " 'haze',\n",
       " 'partly_cloudy',\n",
       " 'primary',\n",
       " 'road',\n",
       " 'selective_logging',\n",
       " 'slash_burn',\n",
       " 'water']"
      ]
     },
     "execution_count": 8,
     "metadata": {},
     "output_type": "execute_result"
    }
   ],
   "source": [
    "inv_map = {v: k for k, v in new_order.iteritems()}\n",
    "inv_map.values()"
   ]
  },
  {
   "cell_type": "code",
   "execution_count": 9,
   "metadata": {
    "collapsed": false
   },
   "outputs": [],
   "source": [
    "df_neworder = result[inv_map.values()]"
   ]
  },
  {
   "cell_type": "code",
   "execution_count": 10,
   "metadata": {
    "collapsed": false
   },
   "outputs": [
    {
     "data": {
      "text/plain": [
       "(61191, 17)"
      ]
     },
     "execution_count": 10,
     "metadata": {},
     "output_type": "execute_result"
    }
   ],
   "source": [
    "df_neworder.shape"
   ]
  },
  {
   "cell_type": "code",
   "execution_count": null,
   "metadata": {
    "collapsed": false
   },
   "outputs": [],
   "source": [
    "import numpy as np \n",
    "\n",
    "save_array(\"data/armin_tifetr_raw_qin_ordering.dat\",\n",
    "           (df_neworder.values).astype(np.int8))"
   ]
  },
  {
   "cell_type": "code",
   "execution_count": 104,
   "metadata": {
    "collapsed": true
   },
   "outputs": [],
   "source": [
    "df_neworder.to_csv(\"data/raw_preds_224x224_tifetr_qin_ordering.csv\",index=False)"
   ]
  },
  {
   "cell_type": "code",
   "execution_count": 105,
   "metadata": {
    "collapsed": false
   },
   "outputs": [
    {
     "data": {
      "text/plain": [
       "array([[  7.56446108e-02,   0.00000000e+00,   1.25654209e-02, ...,\n",
       "          8.57254061e-02,   0.00000000e+00,   6.52889843e-02],\n",
       "       [  1.80410935e-02,   0.00000000e+00,   6.06775888e-05, ...,\n",
       "          2.86216748e-03,   0.00000000e+00,   2.60522143e-03],\n",
       "       [  5.86430227e-02,   0.00000000e+00,   0.00000000e+00, ...,\n",
       "          6.68355248e-06,   0.00000000e+00,   1.80503213e-01],\n",
       "       ..., \n",
       "       [  6.32517010e-02,   0.00000000e+00,   5.12698560e-03, ...,\n",
       "          3.13623357e-02,   0.00000000e+00,   1.17923373e-01],\n",
       "       [  0.00000000e+00,   0.00000000e+00,   0.00000000e+00, ...,\n",
       "          0.00000000e+00,   0.00000000e+00,   0.00000000e+00],\n",
       "       [  2.60437500e-01,   0.00000000e+00,   7.00625000e-02, ...,\n",
       "          0.00000000e+00,   0.00000000e+00,   8.51875000e-02]])"
      ]
     },
     "execution_count": 105,
     "metadata": {},
     "output_type": "execute_result"
    }
   ],
   "source": [
    "df_neworder.values"
   ]
  },
  {
   "cell_type": "markdown",
   "metadata": {
    "collapsed": true
   },
   "source": [
    "### load xgb and etr 0-1 preds "
   ]
  },
  {
   "cell_type": "code",
   "execution_count": 75,
   "metadata": {
    "collapsed": true
   },
   "outputs": [],
   "source": [
    "etr_01 = load_array(\"data/etr_test_preds_01.dat/\")\n",
    "etr_01 = etr_01[:,new_order.values()]\n",
    "save_array(\"data/etr_test_preds_01_qin_order.dat/\",etr_01)\n"
   ]
  },
  {
   "cell_type": "code",
   "execution_count": 69,
   "metadata": {
    "collapsed": false
   },
   "outputs": [
    {
     "data": {
      "text/plain": [
       "211762"
      ]
     },
     "execution_count": 69,
     "metadata": {},
     "output_type": "execute_result"
    }
   ],
   "source": [
    "etr_01.sum()"
   ]
  },
  {
   "cell_type": "code",
   "execution_count": 72,
   "metadata": {
    "collapsed": false
   },
   "outputs": [
    {
     "data": {
      "text/plain": [
       "array([[ 0.,  0.,  0., ...,  0.,  0.,  0.],\n",
       "       [ 0.,  0.,  0., ...,  0.,  0.,  0.],\n",
       "       [ 0.,  0.,  0., ...,  0.,  0.,  0.],\n",
       "       ..., \n",
       "       [ 0.,  0.,  0., ...,  0.,  0.,  0.],\n",
       "       [ 0.,  0.,  0., ...,  0.,  0.,  0.],\n",
       "       [ 0.,  0.,  0., ...,  0.,  0.,  0.]], dtype=float32)"
      ]
     },
     "execution_count": 72,
     "metadata": {},
     "output_type": "execute_result"
    }
   ],
   "source": [
    "xgb_raw = load_array(\"data/xgb_test_preds_raw.dat/\")\n",
    "xgb_raw"
   ]
  },
  {
   "cell_type": "code",
   "execution_count": 68,
   "metadata": {
    "collapsed": false
   },
   "outputs": [
    {
     "data": {
      "text/plain": [
       "0"
      ]
     },
     "execution_count": 68,
     "metadata": {},
     "output_type": "execute_result"
    }
   ],
   "source": [
    "xgb_01.sum()"
   ]
  },
  {
   "cell_type": "code",
   "execution_count": null,
   "metadata": {
    "collapsed": true
   },
   "outputs": [],
   "source": [
    "xgb_01 = xgb_01[:,new_order.values()]"
   ]
  },
  {
   "cell_type": "markdown",
   "metadata": {},
   "source": [
    "### load inception adn xception "
   ]
  },
  {
   "cell_type": "code",
   "execution_count": null,
   "metadata": {
    "collapsed": true
   },
   "outputs": [],
   "source": []
  },
  {
   "cell_type": "code",
   "execution_count": 25,
   "metadata": {
    "collapsed": true
   },
   "outputs": [],
   "source": [
    "new_order = {'slash_burn': 15, 'selective_logging': 14, \n",
    "             'cultivation': 8, 'clear': 5, 'habitation': 9,\n",
    "             'conventional_mine': 7, 'cloudy': 6, 'primary': 12, \n",
    "             'water': 16, 'haze': 10, 'artisinal_mine': 1, \n",
    "             'partly_cloudy': 11, 'blooming': 3, 'bare_ground': 2, \n",
    "             'blow_down': 4, 'agriculture': 0, 'road': 13}\n",
    "\n",
    "inv_map = {v: k for k, v in new_order.iteritems()}\n",
    "inv_map = inv_map.values()"
   ]
  },
  {
   "cell_type": "code",
   "execution_count": 17,
   "metadata": {
    "collapsed": true
   },
   "outputs": [],
   "source": [
    "def extract_01(df_test):\n",
    "    y_test = []\n",
    "\n",
    "    for f, tags in tqdm_notebook(df_test.values, miniters=1000):\n",
    "        targets = np.zeros(17)\n",
    "\n",
    "        for t in tags.split(' '):\n",
    "            targets[label_map[t]] = 1 \n",
    "\n",
    "\n",
    "        y_test.append(targets)\n",
    "\n",
    "    y_test = np.array(y_test).astype(np.uint8)    \n",
    "    return y_test"
   ]
  },
  {
   "cell_type": "code",
   "execution_count": 27,
   "metadata": {
    "collapsed": false
   },
   "outputs": [
    {
     "data": {
      "text/plain": [
       "['agriculture',\n",
       " 'artisinal_mine',\n",
       " 'bare_ground',\n",
       " 'blooming',\n",
       " 'blow_down',\n",
       " 'clear',\n",
       " 'cloudy',\n",
       " 'conventional_mine',\n",
       " 'cultivation',\n",
       " 'habitation',\n",
       " 'haze',\n",
       " 'partly_cloudy',\n",
       " 'primary',\n",
       " 'road',\n",
       " 'selective_logging',\n",
       " 'slash_burn',\n",
       " 'water']"
      ]
     },
     "execution_count": 27,
     "metadata": {},
     "output_type": "execute_result"
    }
   ],
   "source": [
    "inv_map"
   ]
  },
  {
   "cell_type": "code",
   "execution_count": 32,
   "metadata": {
    "collapsed": false
   },
   "outputs": [
    {
     "name": "stdout",
     "output_type": "stream",
     "text": [
      "\n"
     ]
    }
   ],
   "source": [
    "xception = pd.read_csv(\"data/xception_full_112x112_fullnetft_10xtta.csv\")\n",
    "\n",
    "result = pd.DataFrame(extract_01(xception), columns = labels)\n",
    "result[inv_map]\n",
    "result.to_csv(\"data/xception_full_112x112_fullnetft_01_qin_ordering.csv\",index=False)"
   ]
  },
  {
   "cell_type": "code",
   "execution_count": 33,
   "metadata": {
    "collapsed": false
   },
   "outputs": [
    {
     "name": "stdout",
     "output_type": "stream",
     "text": [
      "\n"
     ]
    }
   ],
   "source": [
    "inception = pd.read_csv(\"data/inception_full_150x150_10tta_augv2_150x150_mix7.csv\")\n",
    "\n",
    "result = pd.DataFrame(extract_01(inception), columns = labels)\n",
    "result[inv_map]\n",
    "result.to_csv(\"data/inception_full_150x150_10tta_augv2_01_qin_ordering.csv\",index=False)"
   ]
  },
  {
   "cell_type": "code",
   "execution_count": null,
   "metadata": {
    "collapsed": true
   },
   "outputs": [],
   "source": []
  }
 ],
 "metadata": {
  "kernelspec": {
   "display_name": "Python 2",
   "language": "python",
   "name": "python2"
  },
  "language_info": {
   "codemirror_mode": {
    "name": "ipython",
    "version": 2
   },
   "file_extension": ".py",
   "mimetype": "text/x-python",
   "name": "python",
   "nbconvert_exporter": "python",
   "pygments_lexer": "ipython2",
   "version": "2.7.13"
  }
 },
 "nbformat": 4,
 "nbformat_minor": 0
}
