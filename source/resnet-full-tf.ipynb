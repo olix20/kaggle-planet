{
 "cells": [
  {
   "cell_type": "code",
   "execution_count": 1,
   "metadata": {},
   "outputs": [
    {
     "name": "stderr",
     "output_type": "stream",
     "text": [
      "Using TensorFlow backend.\n"
     ]
    }
   ],
   "source": [
    "import utils\n",
    "from utils import *\n",
    "from keras.applications.resnet50 import *\n",
    "from keras.preprocessing import image\n",
    "from keras.preprocessing.image import *\n",
    "\n",
    "from keras.models import Model\n",
    "from keras.layers import Dense, GlobalAveragePooling2D\n",
    "from keras import backend as K\n",
    "from image_90rotations import *\n",
    "# from ImageDataGenerator_extended2 import *\n",
    "\n",
    "\n",
    "\n",
    "%matplotlib inline\n",
    "from sys import getsizeof\n",
    "import seaborn as sns"
   ]
  },
  {
   "cell_type": "code",
   "execution_count": 2,
   "metadata": {
    "collapsed": true
   },
   "outputs": [],
   "source": [
    "target_size = (200,200)#(256, 256)"
   ]
  },
  {
   "cell_type": "code",
   "execution_count": 3,
   "metadata": {},
   "outputs": [
    {
     "data": {
      "text/plain": [
       "'channels_last'"
      ]
     },
     "execution_count": 3,
     "metadata": {},
     "output_type": "execute_result"
    }
   ],
   "source": [
    "K.image_data_format()"
   ]
  },
  {
   "cell_type": "markdown",
   "metadata": {},
   "source": [
    "### Load Data"
   ]
  },
  {
   "cell_type": "code",
   "execution_count": 4,
   "metadata": {
    "collapsed": true
   },
   "outputs": [],
   "source": [
    "x_train = []\n",
    "y_train = []\n",
    "\n",
    "df_train = pd.read_csv('data/train_v2.csv')\n",
    "df_test = pd.read_csv('data/sample_submission_v2.csv')\n",
    "\n",
    "flatten = lambda l: [item for sublist in l for item in sublist]\n",
    "labels = list(set(flatten([l.split(' ') for l in df_train['tags'].values])))\n",
    "\n",
    "labels = ['blow_down',\n",
    " 'bare_ground',\n",
    " 'conventional_mine',\n",
    " 'blooming',\n",
    " 'cultivation',\n",
    " 'artisinal_mine',\n",
    " 'haze',\n",
    " 'primary',\n",
    " 'slash_burn',\n",
    " 'habitation',\n",
    " 'clear',\n",
    " 'road',\n",
    " 'selective_logging',\n",
    " 'partly_cloudy',\n",
    " 'agriculture',\n",
    " 'water',\n",
    " 'cloudy']\n",
    "\n",
    "label_map = {'agriculture': 14,\n",
    " 'artisinal_mine': 5,\n",
    " 'bare_ground': 1,\n",
    " 'blooming': 3,\n",
    " 'blow_down': 0,\n",
    " 'clear': 10,\n",
    " 'cloudy': 16,\n",
    " 'conventional_mine': 2,\n",
    " 'cultivation': 4,\n",
    " 'habitation': 9,\n",
    " 'haze': 6,\n",
    " 'partly_cloudy': 13,\n",
    " 'primary': 7,\n",
    " 'road': 11,\n",
    " 'selective_logging': 12,\n",
    " 'slash_burn': 8,\n",
    " 'water': 15}"
   ]
  },
  {
   "cell_type": "markdown",
   "metadata": {},
   "source": [
    "### Load JPEG files"
   ]
  },
  {
   "cell_type": "code",
   "execution_count": 5,
   "metadata": {
    "collapsed": true
   },
   "outputs": [],
   "source": [
    "# x_train = np.zeros((df_train.shape[0],target_size[0],target_size[0],3)).astype(np.float32)\n",
    "\n",
    "# c=0\n",
    "# # loading images the keras way\n",
    "# for f, tags in tqdm_notebook(df_train.values, miniters=1000):\n",
    "    \n",
    "#     img = image.load_img('data/train-jpg/{}.jpg'.format(f), target_size=target_size)\n",
    "#     x = image.img_to_array(img)\n",
    "#     x = np.expand_dims(x, axis=0)\n",
    "#     x = preprocess_input(x)\n",
    "\n",
    "#     x_train[c] = x\n",
    "#     c +=1    \n",
    "\n"
   ]
  },
  {
   "cell_type": "code",
   "execution_count": 6,
   "metadata": {
    "collapsed": true
   },
   "outputs": [],
   "source": [
    "# save_array(\"data/cache/xtrain_100x100.dat\",x_train)\n",
    "# save_array(\"data/cache/xtest_100x100.dat\",x_test)\n",
    "# save_array(\"data/cache/ytrain.dat\",y_train)\n",
    "\n",
    "# save_array(\"data/cache/xtrain_{}x{}.dat\".format(target_size[0],target_size[0]),x_train)\n",
    "# save_array(\"data/cache/xtest_{}x{}.dat\".format(target_size[0],target_size[0]),x_test)\n"
   ]
  },
  {
   "cell_type": "code",
   "execution_count": 5,
   "metadata": {
    "collapsed": true
   },
   "outputs": [],
   "source": [
    "x_train = load_array(\"data/cache/xtrain_{}x{}.dat\".format(target_size[0],target_size[1]))\n",
    "y_train = load_array(\"data/cache/ytrain.dat\")\n",
    "\n"
   ]
  },
  {
   "cell_type": "code",
   "execution_count": 7,
   "metadata": {
    "collapsed": true
   },
   "outputs": [],
   "source": [
    "# x_train = x_train.transpose(0,3,1,2)"
   ]
  },
  {
   "cell_type": "code",
   "execution_count": 8,
   "metadata": {
    "collapsed": true
   },
   "outputs": [],
   "source": [
    "# x_test = load_array(\"data/cache/xtest_100x100.dat\")\n"
   ]
  },
  {
   "cell_type": "code",
   "execution_count": 9,
   "metadata": {},
   "outputs": [
    {
     "name": "stdout",
     "output_type": "stream",
     "text": [
      "(40479, 200, 200, 3)\n",
      "(40479, 17)\n"
     ]
    }
   ],
   "source": [
    "print(x_train.shape)\n",
    "# print(x_test.shape)\n",
    "print(y_train.shape)\n"
   ]
  },
  {
   "cell_type": "markdown",
   "metadata": {},
   "source": [
    "making a holdout set"
   ]
  },
  {
   "cell_type": "code",
   "execution_count": 6,
   "metadata": {
    "collapsed": true
   },
   "outputs": [],
   "source": [
    "VALIDATION_SPLIT = 0.2\n",
    "np.random.seed(3)\n",
    "\n",
    "# perm = np.random.permutation(len(x_sample))\n",
    "# idx_train = perm[:int(len(x_sample)*(1-VALIDATION_SPLIT))]\n",
    "# idx_val = perm[int(len(x_sample)*(1-VALIDATION_SPLIT)):]\n",
    "\n",
    "# X_train = x_sample[idx_train]\n",
    "# Y_train = y_sample[idx_train]\n",
    "# X_valid = x_sample[idx_val]\n",
    "# Y_valid = y_sample[idx_val]\n",
    "\n",
    "\n",
    "\n",
    "perm = np.random.permutation(len(x_train))\n",
    "idx_train = perm[:int(len(x_train)*(1-VALIDATION_SPLIT))]\n",
    "idx_val = perm[int(len(x_train)*(1-VALIDATION_SPLIT)):]\n",
    "\n",
    "\n",
    "X_train = x_train[idx_train]\n",
    "Y_train = y_train[idx_train]\n",
    "\n",
    "\n",
    "X_valid = x_train[idx_val]\n",
    "Y_valid = y_train[idx_val]\n",
    "\n",
    "del x_train\n",
    "\n",
    "\n",
    "# X_sample = X_train[:len(X_train)//2]\n",
    "# Y_sample = Y_train[:len(Y_train)//2]\n"
   ]
  },
  {
   "cell_type": "markdown",
   "metadata": {},
   "source": [
    "#### Loading test  data"
   ]
  },
  {
   "cell_type": "code",
   "execution_count": 66,
   "metadata": {
    "collapsed": true
   },
   "outputs": [],
   "source": [
    "# x_test = np.memmap(\"data/cache/xtest_{}x{}.memmapped\".format(target_size[0],target_size[0]), dtype='float32', mode='r', \n",
    "#                        shape=(df_test.shape[0],target_size[0],target_size[0],3))"
   ]
  },
  {
   "cell_type": "code",
   "execution_count": 14,
   "metadata": {},
   "outputs": [
    {
     "data": {
      "application/vnd.jupyter.widget-view+json": {
       "model_id": "86b16719b066441184a7ddabd4390027"
      }
     },
     "metadata": {},
     "output_type": "display_data"
    },
    {
     "name": "stdout",
     "output_type": "stream",
     "text": [
      "\n"
     ]
    }
   ],
   "source": [
    "### Test data\n",
    "# c = 0\n",
    "# for f, tags in tqdm_notebook(df_test.values, miniters=1000):\n",
    "    \n",
    "#     img = image.load_img('data/test-jpg/{}.jpg'.format(f), target_size=target_size)\n",
    "#     x = image.img_to_array(img)\n",
    "#     x = np.expand_dims(x, axis=0)\n",
    "#     x = preprocess_input(x)\n",
    "\n",
    "#     x_test[c] = x\n",
    "#     c +=1\n",
    "        \n"
   ]
  },
  {
   "cell_type": "markdown",
   "metadata": {},
   "source": [
    "### Model Training \n"
   ]
  },
  {
   "cell_type": "code",
   "execution_count": 7,
   "metadata": {
    "collapsed": true,
    "scrolled": true
   },
   "outputs": [],
   "source": [
    "resnet = ResNet50(include_top=False, input_shape=(target_size[0], target_size[0],3))\n"
   ]
  },
  {
   "cell_type": "code",
   "execution_count": 8,
   "metadata": {
    "collapsed": true
   },
   "outputs": [],
   "source": [
    "for layer in resnet.layers:\n",
    "    layer.trainable = False"
   ]
  },
  {
   "cell_type": "code",
   "execution_count": 13,
   "metadata": {
    "collapsed": true
   },
   "outputs": [],
   "source": [
    "# resnet.summary()"
   ]
  },
  {
   "cell_type": "code",
   "execution_count": 14,
   "metadata": {},
   "outputs": [
    {
     "data": {
      "text/plain": [
       "'bn2a_branch2a'"
      ]
     },
     "execution_count": 14,
     "metadata": {},
     "output_type": "execute_result"
    }
   ],
   "source": [
    "resnet.layers[-168].name"
   ]
  },
  {
   "cell_type": "code",
   "execution_count": 15,
   "metadata": {
    "collapsed": true
   },
   "outputs": [],
   "source": [
    "for i in range(-95,0):\n",
    "    # 4a: -95\n",
    "    # tuning 5b: -21\n",
    "    # tuning branch 5c -11\n",
    "    # tuning from 5a: -33\n",
    "    resnet.layers[i].trainable = True"
   ]
  },
  {
   "cell_type": "code",
   "execution_count": 9,
   "metadata": {
    "collapsed": true
   },
   "outputs": [],
   "source": [
    "x = Flatten()(resnet.layers[-1].output)\n",
    "x = Dropout(0.5)(x)\n",
    "\n",
    "x = Dense(1024, activation='relu')(x)\n",
    "\n",
    "x = Dropout(0.5)(x)\n",
    "\n",
    "x = Dense(17,activation='sigmoid',name=\"fc17\")(x)\n",
    "\n"
   ]
  },
  {
   "cell_type": "code",
   "execution_count": 11,
   "metadata": {},
   "outputs": [],
   "source": [
    "model = Model(inputs=resnet.input,outputs=x)\n",
    "model.compile(optimizer=Adam(lr=1e-5), loss='binary_crossentropy', metrics=['accuracy'])\n",
    "model.load_weights(\"weights/resnet_augv2_17class_4a.h5\")\n",
    "\n",
    "# 0.0909 resnet_17class_aug_real5b_sample\n",
    "# 0.1003 resnet_augv2_17class_toponly\n",
    "# 0.087 resnet_augv2_17class_4a"
   ]
  },
  {
   "cell_type": "code",
   "execution_count": 22,
   "metadata": {},
   "outputs": [
    {
     "data": {
      "text/plain": [
       "'dense_1'"
      ]
     },
     "execution_count": 22,
     "metadata": {},
     "output_type": "execute_result"
    }
   ],
   "source": [
    "model.layers[-3].name"
   ]
  },
  {
   "cell_type": "code",
   "execution_count": 26,
   "metadata": {
    "collapsed": true
   },
   "outputs": [],
   "source": [
    "resnet_features_model = Model(inputs=resnet.input,outputs=model.layers[-3].output)"
   ]
  },
  {
   "cell_type": "code",
   "execution_count": 42,
   "metadata": {
    "collapsed": true
   },
   "outputs": [],
   "source": [
    "# for l in model.layers:\n",
    "#     if l.trainable==True:\n",
    "#         print (l.name)"
   ]
  },
  {
   "cell_type": "markdown",
   "metadata": {},
   "source": [
    "#### With Augmentation"
   ]
  },
  {
   "cell_type": "code",
   "execution_count": null,
   "metadata": {
    "collapsed": true
   },
   "outputs": [],
   "source": [
    "y_test = load_array('data/cache/preds_resnet4a_12xtta_bugfixed.dat/')"
   ]
  },
  {
   "cell_type": "code",
   "execution_count": 60,
   "metadata": {
    "collapsed": true
   },
   "outputs": [],
   "source": [
    "class MixIterator(Iterator):\n",
    "    \n",
    "    def __init__(self, iters):\n",
    "        self.iters = iters\n",
    "        self.multi = type(iters) is list\n",
    "        self.N = len(X_train)\n",
    "#         if self.multi:\n",
    "#             self.N = sum([it[0].N for it in self.iters])\n",
    "#         else:\n",
    "#             self.N = sum([it.N for it in self.iters])\n",
    "        super(MixIterator, self).__init__(X_train.shape[0], 128, True, seed=None)\n",
    "\n",
    "    def reset(self):\n",
    "        for it in self.iters: it.reset()\n",
    "\n",
    "    def __iter__(self):\n",
    "        return self\n",
    "\n",
    "    def next(self, *args, **kwargs):\n",
    "#         if self.multi:\n",
    "#             nexts = [[next(it) for it in o] for o in self.iters]\n",
    "#             n0s = np.concatenate([n[0] for n in o])\n",
    "#             n1s = np.concatenate([n[1] for n in o])\n",
    "#             return (n0, n1)\n",
    "#         else:\n",
    "        nexts = [next(it) for it in self.iters]\n",
    "        n0 = np.concatenate([n[0] for n in nexts])\n",
    "        n1 = np.concatenate([n[1] for n in nexts])\n",
    "        return (n0, n1)"
   ]
  },
  {
   "cell_type": "code",
   "execution_count": 12,
   "metadata": {
    "collapsed": true
   },
   "outputs": [],
   "source": [
    "batch_size = 128\n",
    "\n",
    "train_gen = ImageDataGenerator2(rotation_range=270,\n",
    "#     width_shift_range=0.2,\n",
    "#     height_shift_range=0.2,\n",
    "    shear_range=0.1,\n",
    "#     zoom_range=0.2,\n",
    "    channel_shift_range=0.1,\n",
    "    horizontal_flip=True,\n",
    "    vertical_flip=False)\n",
    "\n",
    "#,fill_mode='reflect'\n",
    "\n",
    "\n",
    "# train_batch = train_gen.flow(x_train,y_train,batch_size=96,shuffle=True)\n",
    "\n",
    "train_batch = train_gen.flow(X_train,Y_train,batch_size=96,shuffle=True)\n",
    "# valid_batch = train_gen.flow(X_valid,Y_valid,batch_size=20,shuffle=True)\n",
    "# test_batch = train_gen.flow(x_test,y_test,batch_size=32,shuffle=True)"
   ]
  },
  {
   "cell_type": "code",
   "execution_count": 61,
   "metadata": {
    "collapsed": true
   },
   "outputs": [],
   "source": [
    "mi = MixIterator([train_batch,test_batch])\n"
   ]
  },
  {
   "cell_type": "code",
   "execution_count": 62,
   "metadata": {},
   "outputs": [
    {
     "data": {
      "text/plain": [
       "(128, 200, 200, 3)"
      ]
     },
     "execution_count": 62,
     "metadata": {},
     "output_type": "execute_result"
    }
   ],
   "source": [
    "mi.next()[0].shape"
   ]
  },
  {
   "cell_type": "code",
   "execution_count": 31,
   "metadata": {
    "collapsed": true
   },
   "outputs": [],
   "source": [
    "# t  = train_batch.next()"
   ]
  },
  {
   "cell_type": "code",
   "execution_count": 38,
   "metadata": {
    "collapsed": true
   },
   "outputs": [],
   "source": [
    "# plt.imshow(t[0][40])"
   ]
  },
  {
   "cell_type": "markdown",
   "metadata": {},
   "source": [
    "--- \n"
   ]
  },
  {
   "cell_type": "code",
   "execution_count": 52,
   "metadata": {
    "collapsed": true
   },
   "outputs": [],
   "source": [
    "\n",
    "kfold_weights_path = os.path.join('weights/', 'resnet_augv2_17class_4a_pseudo.h5')\n",
    "\n",
    "\n",
    "callbacks = [EarlyStopping(monitor='val_loss', patience=6),\n",
    "             ModelCheckpoint(kfold_weights_path, monitor='val_loss', save_best_only=True),\n",
    "             ReduceLROnPlateau(monitor='val_loss',  patience=2, verbose=1, factor=0.5, min_lr=1e-6)\n",
    "            ]\n",
    "\n"
   ]
  },
  {
   "cell_type": "markdown",
   "metadata": {},
   "source": [
    "### new augmentation \n",
    "\n",
    "top only full data:\n",
    "Epoch 34/100\n",
    "253/252 [==============================] - 331s - loss: 0.1074 - acc: 0.9588 - val_loss: 0.1003 - val_acc: 0.9613\n",
    "\n",
    "\n",
    "5a full:\n",
    "253/252 [==============================] - 416s - loss: 0.0848 - acc: 0.9670 - val_loss: 0.0900 - val_acc: 0.9655\n",
    "\n",
    "\n",
    "4a full:\n",
    "253/252 [==============================] - 559s - loss: 0.0818 - acc: 0.9682 - val_loss: 0.0872 - val_acc: 0.9663\n",
    "\n",
    "\n",
    "extra aug vresnet_augv2_17class_4a_extra_aug\n",
    "\n",
    "253/252 [==============================] - 558s - loss: 0.0918 - acc: 0.9657 - val_loss: 0.0907 - val_acc: 0.9655\n",
    "\n",
    "\n",
    "pseudo labeling\n",
    "\n",
    "253/252 [==============================] - 568s - loss: 0.0844 - acc: 0.7262 - val_loss: 0.0869 - val_acc: 0.9666\n",
    "\n"
   ]
  },
  {
   "cell_type": "code",
   "execution_count": 20,
   "metadata": {
    "collapsed": true,
    "scrolled": false
   },
   "outputs": [],
   "source": [
    "# history = model.fit_generator(mi, validation_data=(X_valid, Y_valid),\n",
    "#                                steps_per_epoch=len(X_train)/batch_size,epochs=100,callbacks=callbacks)\n"
   ]
  },
  {
   "cell_type": "markdown",
   "metadata": {
    "collapsed": true
   },
   "source": [
    "#### verifying results"
   ]
  },
  {
   "cell_type": "code",
   "execution_count": 27,
   "metadata": {},
   "outputs": [
    {
     "name": "stdout",
     "output_type": "stream",
     "text": [
      "loading best weights from 'weights/resnet_augv2_17class_4a.h5'\n"
     ]
    }
   ],
   "source": [
    "if os.path.isfile(kfold_weights_path):\n",
    "    print (\"loading best weights from '{}'\".format(kfold_weights_path))\n",
    "    model.load_weights(kfold_weights_path)\n",
    "    \n",
    "    "
   ]
  },
  {
   "cell_type": "code",
   "execution_count": 13,
   "metadata": {
    "collapsed": true
   },
   "outputs": [],
   "source": [
    "def make_augmented_predictions(model,data,generator,num_aug,ouput_shape=17):\n",
    "    preds = np.zeros((data.shape[0],ouput_shape)).astype(np.float32) #model.predict(data)\n",
    "    \n",
    "    for i in tqdm_notebook(range(num_aug)):\n",
    "        partial_preds = []\n",
    "        test_batch = train_gen.flow(data,batch_size=100,shuffle=False)\n",
    "        partial_preds.append( model.predict_generator(test_batch,steps=data.shape[0]/100, verbose=1))\n",
    "                             \n",
    "        preds += np.vstack(partial_preds)\n",
    "        \n",
    "    return  preds/float(num_aug)"
   ]
  },
  {
   "cell_type": "code",
   "execution_count": 14,
   "metadata": {
    "scrolled": false
   },
   "outputs": [
    {
     "data": {
      "application/vnd.jupyter.widget-view+json": {
       "model_id": "2c529fd9de524ca0a25d68a7787c6364"
      }
     },
     "metadata": {},
     "output_type": "display_data"
    },
    {
     "name": "stdout",
     "output_type": "stream",
     "text": [
      "81/80 [==============================] - 78s    \n",
      "81/80 [==============================] - 76s    \n",
      "81/80 [==============================] - 76s    \n",
      "81/80 [==============================] - 76s    \n",
      "81/80 [==============================] - 76s    \n",
      "81/80 [==============================] - 76s    \n",
      "81/80 [==============================] - 76s    \n",
      "81/80 [==============================] - 76s    \n",
      "81/80 [==============================] - 76s    \n",
      "81/80 [==============================] - 76s    \n",
      "\n"
     ]
    }
   ],
   "source": [
    "preds_val = make_augmented_predictions(model,X_valid,train_gen,10)\n"
   ]
  },
  {
   "cell_type": "code",
   "execution_count": 15,
   "metadata": {
    "collapsed": true
   },
   "outputs": [],
   "source": [
    "save_array(\"data/cache/preds_val_resnet_17class_ft4a_10xaug.dat\",preds_val)"
   ]
  },
  {
   "cell_type": "code",
   "execution_count": 33,
   "metadata": {},
   "outputs": [
    {
     "data": {
      "application/vnd.jupyter.widget-view+json": {
       "model_id": "a230e661adb947dca3c73cae68e6618d"
      }
     },
     "metadata": {},
     "output_type": "display_data"
    },
    {
     "name": "stdout",
     "output_type": "stream",
     "text": [
      "\n",
      "81/80 [==============================] - 77s    \n",
      "81/80 [==============================] - 77s    \n",
      "81/80 [==============================] - 77s    \n",
      "81/80 [==============================] - 77s    \n",
      "81/80 [==============================] - 77s    \n",
      "81/80 [==============================] - 77s    \n",
      "81/80 [==============================] - 77s    \n",
      "81/80 [==============================] - 77s    \n",
      "81/80 [==============================] - 77s    \n",
      "81/80 [==============================] - 77s    \n",
      "\n"
     ]
    }
   ],
   "source": [
    "resnet_val_features = make_augmented_predictions(resnet_features_model,X_valid,train_gen,10,1024)\n"
   ]
  },
  {
   "cell_type": "code",
   "execution_count": 34,
   "metadata": {
    "collapsed": true
   },
   "outputs": [],
   "source": [
    "save_array(\"data/cache/resnet_val_features.dat\",resnet_val_features)"
   ]
  },
  {
   "cell_type": "code",
   "execution_count": 35,
   "metadata": {},
   "outputs": [
    {
     "data": {
      "application/vnd.jupyter.widget-view+json": {
       "model_id": "30c0a0668a734453b2e4a94ee073f4a6"
      }
     },
     "metadata": {},
     "output_type": "display_data"
    },
    {
     "name": "stdout",
     "output_type": "stream",
     "text": [
      "324/323 [==============================] - 308s   \n",
      "324/323 [==============================] - 307s   \n",
      "324/323 [==============================] - 307s   \n",
      "324/323 [==============================] - 307s   \n",
      "324/323 [==============================] - 307s   \n",
      "324/323 [==============================] - 307s   \n",
      "324/323 [==============================] - 307s   \n",
      "324/323 [==============================] - 307s   \n",
      "324/323 [==============================] - 307s   \n",
      "324/323 [==============================] - 307s   \n",
      "\n"
     ]
    }
   ],
   "source": [
    "resnet_train_features = make_augmented_predictions(resnet_features_model,X_train,train_gen,10,1024)\n"
   ]
  },
  {
   "cell_type": "code",
   "execution_count": 36,
   "metadata": {
    "collapsed": true
   },
   "outputs": [],
   "source": [
    "save_array(\"data/cache/resnet_train_features.dat\",resnet_train_features)"
   ]
  },
  {
   "cell_type": "code",
   "execution_count": 16,
   "metadata": {
    "collapsed": true
   },
   "outputs": [],
   "source": [
    "def optimise_f2_thresholds2(y, p, verbose=True, resolution=100,num_classes=17):\n",
    "    def mf(x):\n",
    "        p2 = np.zeros_like(p)\n",
    "        for i in range(num_classes):\n",
    "            p2[:, i] = (p[:, i] > x[i]).astype(np.int)\n",
    "        score = fbeta_score(y, p2, beta=2, average='samples')\n",
    "        return score\n",
    "\n",
    "    x = [0.1]*num_classes\n",
    "    for i in range(num_classes):\n",
    "        best_i2 = 0\n",
    "        best_score = 0\n",
    "        for i2 in range(resolution):\n",
    "            threshold = float(i2) / resolution\n",
    "            x[i] = threshold\n",
    "            score = mf(x)\n",
    "            if score > best_score:\n",
    "                best_i2 = threshold\n",
    "                best_score = score\n",
    "\n",
    "        x[i] = best_i2\n",
    "        if verbose:\n",
    "            print(i, best_i2, best_score)\n",
    "\n",
    "    return x\n"
   ]
  },
  {
   "cell_type": "code",
   "execution_count": 17,
   "metadata": {},
   "outputs": [
    {
     "name": "stdout",
     "output_type": "stream",
     "text": [
      "0 0.29 0.916802133405\n",
      "1 0.19 0.917376798601\n",
      "2 0.13 0.917406676608\n",
      "3 0.31 0.918031507211\n",
      "4 0.22 0.920458716096\n",
      "5 0.16 0.920473924433\n",
      "6 0.19 0.921390281483\n",
      "7 0.22 0.922088232292\n",
      "8 0.34 0.922515533548\n",
      "9 0.24 0.923895918588\n",
      "10 0.17 0.924347747093\n",
      "11 0.27 0.926170397551\n",
      "12 0.17 0.926411071547\n",
      "13 0.17 0.926634916237\n",
      "14 0.25 0.928286105882\n",
      "15 0.2 0.930269713739\n"
     ]
    },
    {
     "name": "stderr",
     "output_type": "stream",
     "text": [
      "/home/ubuntu/anaconda3/lib/python3.6/site-packages/sklearn/metrics/classification.py:1113: UndefinedMetricWarning: F-score is ill-defined and being set to 0.0 in samples with no predicted labels.\n",
      "  'precision', 'predicted', average, warn_for)\n"
     ]
    },
    {
     "name": "stdout",
     "output_type": "stream",
     "text": [
      "16 0.11 0.93031328073\n"
     ]
    },
    {
     "data": {
      "text/plain": [
       "0.21352941176470591"
      ]
     },
     "execution_count": 17,
     "metadata": {},
     "output_type": "execute_result"
    }
   ],
   "source": [
    "# thres = optimise_f2_thresholds2(Y_valid[:,rare_class_indices], preds_val[1],num_classes=17)\n",
    "thres = optimise_f2_thresholds2(Y_valid, preds_val,num_classes=17)\n",
    "\n",
    "np.mean(thres)"
   ]
  },
  {
   "cell_type": "markdown",
   "metadata": {},
   "source": [
    "##### Results\n",
    "only top: ('F2 Score:', 0.90277204908226472)\n",
    "\n",
    "17x classes 5b: ('F2 Score:', 0.92441155146612664)\n",
    "\n",
    "17x classes 5a: ('F2 Score:', 0.92602459589916475)\n",
    "\n",
    "\n",
    "17x classes 4a: F2 Score: 0.930511942105"
   ]
  },
  {
   "cell_type": "code",
   "execution_count": 23,
   "metadata": {
    "collapsed": true
   },
   "outputs": [],
   "source": [
    "thres = load_array(\"data/cache/thresholds_resnet_ft4a_12xaug.dat\")"
   ]
  },
  {
   "cell_type": "code",
   "execution_count": 24,
   "metadata": {
    "scrolled": true
   },
   "outputs": [
    {
     "name": "stdout",
     "output_type": "stream",
     "text": [
      "F2 Score: 0.936798155334\n"
     ]
    }
   ],
   "source": [
    "print('F2 Score:', f2_score(Y_valid, preds_val>thres)) #combined_val_preds"
   ]
  },
  {
   "cell_type": "code",
   "execution_count": 40,
   "metadata": {
    "collapsed": true
   },
   "outputs": [],
   "source": [
    "save_array(\"data/cache/thresholds_resnet_ft4a_12xaug.dat\",thres)"
   ]
  },
  {
   "cell_type": "markdown",
   "metadata": {},
   "source": [
    "#### Confusin matrix\n"
   ]
  },
  {
   "cell_type": "markdown",
   "metadata": {},
   "source": [
    "                  precision    recall  f1-score   support\n",
    "\n",
    "        blow_down       0.75      0.38      0.50        16\n",
    "      bare_ground       0.41      0.51      0.46       190\n",
    "conventional_mine       0.57      0.63      0.60        19\n",
    "         blooming       0.31      0.18      0.22        62\n",
    "      cultivation       0.47      0.72      0.57       877\n",
    "   artisinal_mine       0.61      0.96      0.75        69\n",
    "             haze       0.61      0.83      0.70       551\n",
    "          primary       0.96      1.00      0.98      7484\n",
    "       slash_burn       0.33      0.03      0.06        33\n",
    "       habitation       0.66      0.79      0.72       710\n",
    "            clear       0.93      0.99      0.96      5601\n",
    "             road       0.76      0.91      0.83      1597\n",
    "selective_logging       0.38      0.45      0.42        77\n",
    "    partly_cloudy       0.87      0.97      0.92      1514\n",
    "      agriculture       0.77      0.93      0.84      2482\n",
    "            water       0.71      0.88      0.78      1530\n",
    "           cloudy       0.63      0.98      0.77       430\n",
    "\n",
    "      avg / total       0.84      0.94      0.89     23242"
   ]
  },
  {
   "cell_type": "code",
   "execution_count": 18,
   "metadata": {
    "collapsed": true
   },
   "outputs": [],
   "source": [
    "from sklearn.metrics import classification_report\n",
    "\n",
    "# print classification_report(Y_valid[:,weather_indices].astype(bool),p,target_names=[\"cloudy\",\"haze\",\"partly_cloudy\",\"clear\"])"
   ]
  },
  {
   "cell_type": "code",
   "execution_count": 19,
   "metadata": {},
   "outputs": [
    {
     "name": "stdout",
     "output_type": "stream",
     "text": [
      "                   precision    recall  f1-score   support\n",
      "\n",
      "        blow_down       0.67      0.38      0.48        16\n",
      "      bare_ground       0.39      0.53      0.45       190\n",
      "conventional_mine       0.48      0.68      0.57        19\n",
      "         blooming       0.30      0.13      0.18        62\n",
      "      cultivation       0.46      0.73      0.56       877\n",
      "   artisinal_mine       0.62      0.93      0.74        69\n",
      "             haze       0.58      0.85      0.69       551\n",
      "          primary       0.97      1.00      0.98      7484\n",
      "       slash_burn       0.25      0.09      0.13        33\n",
      "       habitation       0.62      0.82      0.70       710\n",
      "            clear       0.93      0.99      0.96      5601\n",
      "             road       0.74      0.91      0.82      1597\n",
      "selective_logging       0.40      0.47      0.43        77\n",
      "    partly_cloudy       0.85      0.98      0.91      1514\n",
      "      agriculture       0.75      0.94      0.83      2482\n",
      "            water       0.69      0.89      0.78      1530\n",
      "           cloudy       0.65      0.98      0.78       430\n",
      "\n",
      "      avg / total       0.84      0.95      0.88     23242\n",
      "\n"
     ]
    }
   ],
   "source": [
    "print (classification_report(Y_valid.astype(bool),(preds_val>thres),\n",
    "                            target_names=labels))"
   ]
  },
  {
   "cell_type": "markdown",
   "metadata": {},
   "source": [
    "### Making Prediction"
   ]
  },
  {
   "cell_type": "code",
   "execution_count": 18,
   "metadata": {
    "collapsed": true
   },
   "outputs": [],
   "source": [
    "def read_partial_xtest(start,end):\n",
    "    c = 0\n",
    "    num_items = end-start\n",
    "    x_test = np.zeros((num_items,target_size[0],target_size[0],3)).astype(np.float32)\n",
    "\n",
    "    for f, tags in tqdm_notebook(df_test.iloc[start:end].values, miniters=1000):\n",
    "\n",
    "        img = image.load_img('data/test-jpg/{}.jpg'.format(f), target_size=target_size)\n",
    "        x = image.img_to_array(img)\n",
    "        x = np.expand_dims(x, axis=0)\n",
    "        x = preprocess_input(x)\n",
    "\n",
    "        x_test[c] = x\n",
    "        c +=1\n",
    "\n",
    "    return x_test"
   ]
  },
  {
   "cell_type": "code",
   "execution_count": 79,
   "metadata": {
    "collapsed": true
   },
   "outputs": [],
   "source": [
    "# from IPython.core.debugger import Pdb\n",
    "\n",
    "# ipdb=Pdb()\n",
    "\n",
    "def make_staged_predictions_v2(model,num_parts, nb_aug=1):\n",
    "    partial_preds = []\n",
    "\n",
    "    batch_size = 128.0\n",
    "    data_length = df_test.shape[0]#X_valid[0:16].shape[0]\n",
    "    chunck_size = data_length//num_parts\n",
    "\n",
    "    print( \"breaking data into chunks of \", chunck_size)\n",
    "    \n",
    "#     ipdb.set_trace()\n",
    "    final_preds = np.zeros((data_length,17)).astype(np.float32)\n",
    "#     data = X_valid[0:16]\n",
    "\n",
    "\n",
    "    for i in tqdm_notebook(range(1,num_parts+2)):\n",
    "        print( \"predicting part {} of {}\".format(i,num_parts)      )\n",
    "\n",
    "        start_index = (i-1)*chunck_size\n",
    "        end_index = min(data_length,i*chunck_size)\n",
    "        num_items = end_index-start_index\n",
    "        data = read_partial_xtest(start_index,end_index)\n",
    "        partials = []\n",
    "        \n",
    "        \n",
    "        for n in tqdm_notebook(range(nb_aug)):\n",
    "            print (\"augmentation round {} of {}\".format(n+1,nb_aug) )\n",
    "#             partial_preds = np.zeros((num_items,17)).astype(np.float32)\n",
    "\n",
    "            test_batch = train_gen.flow(data,batch_size=int(batch_size),shuffle=False)\n",
    "            t = model.predict_generator(test_batch,steps=math.ceil(num_items/batch_size), verbose=1)[:num_items]\n",
    "\n",
    "            partials.append(t)\n",
    "#             partial_preds += t \n",
    "#         partial_preds /= float(nb_aug) \n",
    "            \n",
    "        final_preds[start_index:end_index] = np.mean(partials,axis=0)\n",
    "        save_array(\"data/cache/resnet_ft4a_final_preds_temp_part{}\".format(i),final_preds)   \n",
    "    \n",
    "    return final_preds\n",
    "\n",
    "    \n"
   ]
  },
  {
   "cell_type": "code",
   "execution_count": 22,
   "metadata": {
    "collapsed": true
   },
   "outputs": [],
   "source": [
    "#clear memory\n",
    "# del x_train, X_train, X_valid, conv_trn_feat, conv_valid_feat\n",
    "# x_test = load_array(\"data/cache/xtest_100x100.dat\")\n"
   ]
  },
  {
   "cell_type": "code",
   "execution_count": 80,
   "metadata": {},
   "outputs": [
    {
     "name": "stdout",
     "output_type": "stream",
     "text": [
      "breaking data into chunks of  12238\n"
     ]
    },
    {
     "data": {
      "application/vnd.jupyter.widget-view+json": {
       "model_id": "97623ec628944052a5d512b7c5d6609f"
      }
     },
     "metadata": {},
     "output_type": "display_data"
    },
    {
     "name": "stdout",
     "output_type": "stream",
     "text": [
      "predicting part 1 of 5\n",
      "\n"
     ]
    },
    {
     "data": {
      "application/vnd.jupyter.widget-view+json": {
       "model_id": "f8f4b0097a874cd189501105f85e59fd"
      }
     },
     "metadata": {},
     "output_type": "display_data"
    },
    {
     "data": {
      "application/vnd.jupyter.widget-view+json": {
       "model_id": "cf1b21f125584bffa02e3d263ed8d702"
      }
     },
     "metadata": {},
     "output_type": "display_data"
    },
    {
     "name": "stdout",
     "output_type": "stream",
     "text": [
      "augmentation round 1 of 2\n",
      "96/96 [==============================] - 109s   \n",
      "augmentation round 2 of 2\n",
      "96/96 [==============================] - 108s   \n",
      "predicting part 2 of 5\n"
     ]
    },
    {
     "data": {
      "application/vnd.jupyter.widget-view+json": {
       "model_id": "73811196f77e40509779483fb6d177ac"
      }
     },
     "metadata": {},
     "output_type": "display_data"
    },
    {
     "data": {
      "application/vnd.jupyter.widget-view+json": {
       "model_id": "032f3a05e14f46848f8bfcc505bb1124"
      }
     },
     "metadata": {},
     "output_type": "display_data"
    },
    {
     "name": "stdout",
     "output_type": "stream",
     "text": [
      "augmentation round 1 of 2\n",
      "96/96 [==============================] - 108s   \n",
      "augmentation round 2 of 2\n",
      "96/96 [==============================] - 108s   \n",
      "predicting part 3 of 5\n"
     ]
    },
    {
     "data": {
      "application/vnd.jupyter.widget-view+json": {
       "model_id": "b77fbc8808534925864d198e8ac119f8"
      }
     },
     "metadata": {},
     "output_type": "display_data"
    },
    {
     "data": {
      "application/vnd.jupyter.widget-view+json": {
       "model_id": "21c728feff104f4ea4743fb22fef7975"
      }
     },
     "metadata": {},
     "output_type": "display_data"
    },
    {
     "name": "stdout",
     "output_type": "stream",
     "text": [
      "augmentation round 1 of 2\n",
      "96/96 [==============================] - 108s   \n",
      "augmentation round 2 of 2\n",
      "96/96 [==============================] - 108s   \n",
      "predicting part 4 of 5\n"
     ]
    },
    {
     "data": {
      "application/vnd.jupyter.widget-view+json": {
       "model_id": "ffcb5091c2f945f0bde7e415b325382a"
      }
     },
     "metadata": {},
     "output_type": "display_data"
    },
    {
     "data": {
      "application/vnd.jupyter.widget-view+json": {
       "model_id": "171fe656521846fe9c63e708d6bc30eb"
      }
     },
     "metadata": {},
     "output_type": "display_data"
    },
    {
     "name": "stdout",
     "output_type": "stream",
     "text": [
      "augmentation round 1 of 2\n",
      "96/96 [==============================] - 108s   \n",
      "augmentation round 2 of 2\n",
      "96/96 [==============================] - 108s   \n",
      "predicting part 5 of 5\n"
     ]
    },
    {
     "data": {
      "application/vnd.jupyter.widget-view+json": {
       "model_id": "17644f8c805b429d9a613617433c2a6f"
      }
     },
     "metadata": {},
     "output_type": "display_data"
    },
    {
     "data": {
      "application/vnd.jupyter.widget-view+json": {
       "model_id": "cfd244bae49e44ce9fe9baae0507ab7b"
      }
     },
     "metadata": {},
     "output_type": "display_data"
    },
    {
     "name": "stdout",
     "output_type": "stream",
     "text": [
      "augmentation round 1 of 2\n",
      "96/96 [==============================] - 108s   \n",
      "augmentation round 2 of 2\n",
      "96/96 [==============================] - 108s   \n",
      "predicting part 6 of 5\n"
     ]
    },
    {
     "data": {
      "application/vnd.jupyter.widget-view+json": {
       "model_id": "6501ee0234f24e0986087f5425c97dda"
      }
     },
     "metadata": {},
     "output_type": "display_data"
    },
    {
     "data": {
      "application/vnd.jupyter.widget-view+json": {
       "model_id": "1014e8edc6644515bbf83284dec51e0b"
      }
     },
     "metadata": {},
     "output_type": "display_data"
    },
    {
     "name": "stdout",
     "output_type": "stream",
     "text": [
      "augmentation round 1 of 2\n",
      "1/1 [==============================] - 0s\n",
      "augmentation round 2 of 2\n",
      "1/1 [==============================] - 0s\n",
      "\n"
     ]
    }
   ],
   "source": [
    "preds_x12 = make_staged_predictions_v2(model,num_parts=5,nb_aug=2)\n"
   ]
  },
  {
   "cell_type": "code",
   "execution_count": 71,
   "metadata": {},
   "outputs": [
    {
     "data": {
      "text/plain": [
       "(16, 17)"
      ]
     },
     "execution_count": 71,
     "metadata": {},
     "output_type": "execute_result"
    }
   ],
   "source": [
    "np.mean(partials,axis=0).shape"
   ]
  },
  {
   "cell_type": "code",
   "execution_count": 68,
   "metadata": {
    "collapsed": true
   },
   "outputs": [],
   "source": [
    "# partials[0].mean(axis=1), partials[1].mean(axis=1)"
   ]
  },
  {
   "cell_type": "code",
   "execution_count": 69,
   "metadata": {
    "collapsed": true
   },
   "outputs": [],
   "source": [
    "# partials[0]"
   ]
  },
  {
   "cell_type": "code",
   "execution_count": 70,
   "metadata": {
    "collapsed": true
   },
   "outputs": [],
   "source": [
    "# b = partials[0] + partials[1]\n",
    "# (b/2).mean(axis=0).shape\n"
   ]
  },
  {
   "cell_type": "code",
   "execution_count": 77,
   "metadata": {},
   "outputs": [
    {
     "data": {
      "text/plain": [
       "array([  4.6032e-05,   2.1512e-07,   1.7111e-23,   1.2576e-03,   3.8540e-05,   1.5705e-23,\n",
       "         2.6136e-06,   1.0000e+00,   8.8278e-10,   3.1666e-05,   9.9997e-01,   4.2673e-05,\n",
       "         1.1983e-05,   9.5667e-06,   2.9425e-04,   1.5587e-04,   1.4272e-10], dtype=float32)"
      ]
     },
     "execution_count": 77,
     "metadata": {},
     "output_type": "execute_result"
    }
   ],
   "source": [
    "partials[0][0]"
   ]
  },
  {
   "cell_type": "code",
   "execution_count": 75,
   "metadata": {},
   "outputs": [
    {
     "data": {
      "text/plain": [
       "0.17172886"
      ]
     },
     "execution_count": 75,
     "metadata": {},
     "output_type": "execute_result"
    }
   ],
   "source": [
    "preds_x2_t.mean()"
   ]
  },
  {
   "cell_type": "code",
   "execution_count": 51,
   "metadata": {
    "collapsed": true
   },
   "outputs": [],
   "source": [
    "# save_array(\"data/cache/preds_vgg_and_mahotas_samples.dat\",preds)"
   ]
  },
  {
   "cell_type": "code",
   "execution_count": 21,
   "metadata": {
    "collapsed": true
   },
   "outputs": [],
   "source": [
    "save_array(\"data/cache/preds_resnet4a_2xtta.dat\", preds_x2)"
   ]
  },
  {
   "cell_type": "markdown",
   "metadata": {},
   "source": [
    "### Make submission"
   ]
  },
  {
   "cell_type": "code",
   "execution_count": 5,
   "metadata": {
    "collapsed": true
   },
   "outputs": [],
   "source": [
    "thres = load_array(\"data/cache/thresholds_resnet_ft4a_12xaug.dat\")"
   ]
  },
  {
   "cell_type": "code",
   "execution_count": 6,
   "metadata": {
    "collapsed": true
   },
   "outputs": [],
   "source": [
    "preds = load_array('data/cache/preds_resnet4a_10xtta_pseudo_fullset_2epochs.dat/')"
   ]
  },
  {
   "cell_type": "code",
   "execution_count": 7,
   "metadata": {},
   "outputs": [
    {
     "data": {
      "text/plain": [
       "(61191, 17)"
      ]
     },
     "execution_count": 7,
     "metadata": {},
     "output_type": "execute_result"
    }
   ],
   "source": [
    "preds.shape"
   ]
  },
  {
   "cell_type": "code",
   "execution_count": 8,
   "metadata": {
    "scrolled": true
   },
   "outputs": [
    {
     "data": {
      "text/html": [
       "<div>\n",
       "<style>\n",
       "    .dataframe thead tr:only-child th {\n",
       "        text-align: right;\n",
       "    }\n",
       "\n",
       "    .dataframe thead th {\n",
       "        text-align: left;\n",
       "    }\n",
       "\n",
       "    .dataframe tbody tr th {\n",
       "        vertical-align: top;\n",
       "    }\n",
       "</style>\n",
       "<table border=\"1\" class=\"dataframe\">\n",
       "  <thead>\n",
       "    <tr style=\"text-align: right;\">\n",
       "      <th></th>\n",
       "      <th>blow_down</th>\n",
       "      <th>bare_ground</th>\n",
       "      <th>conventional_mine</th>\n",
       "      <th>blooming</th>\n",
       "      <th>cultivation</th>\n",
       "      <th>artisinal_mine</th>\n",
       "      <th>haze</th>\n",
       "      <th>primary</th>\n",
       "      <th>slash_burn</th>\n",
       "      <th>habitation</th>\n",
       "      <th>clear</th>\n",
       "      <th>road</th>\n",
       "      <th>selective_logging</th>\n",
       "      <th>partly_cloudy</th>\n",
       "      <th>agriculture</th>\n",
       "      <th>water</th>\n",
       "      <th>cloudy</th>\n",
       "    </tr>\n",
       "  </thead>\n",
       "  <tbody>\n",
       "    <tr>\n",
       "      <th>0</th>\n",
       "      <td>0.000126</td>\n",
       "      <td>0.000825</td>\n",
       "      <td>1.275704e-14</td>\n",
       "      <td>0.11998</td>\n",
       "      <td>0.001241</td>\n",
       "      <td>2.769156e-15</td>\n",
       "      <td>0.005387</td>\n",
       "      <td>0.999968</td>\n",
       "      <td>0.000003</td>\n",
       "      <td>0.000257</td>\n",
       "      <td>0.998127</td>\n",
       "      <td>0.003199</td>\n",
       "      <td>0.028355</td>\n",
       "      <td>0.000114</td>\n",
       "      <td>0.003877</td>\n",
       "      <td>0.001791</td>\n",
       "      <td>2.870580e-07</td>\n",
       "    </tr>\n",
       "  </tbody>\n",
       "</table>\n",
       "</div>"
      ],
      "text/plain": [
       "   blow_down  bare_ground  conventional_mine  blooming  cultivation  \\\n",
       "0   0.000126     0.000825       1.275704e-14   0.11998     0.001241   \n",
       "\n",
       "   artisinal_mine      haze   primary  slash_burn  habitation     clear  \\\n",
       "0    2.769156e-15  0.005387  0.999968    0.000003    0.000257  0.998127   \n",
       "\n",
       "       road  selective_logging  partly_cloudy  agriculture     water  \\\n",
       "0  0.003199           0.028355       0.000114     0.003877  0.001791   \n",
       "\n",
       "         cloudy  \n",
       "0  2.870580e-07  "
      ]
     },
     "execution_count": 8,
     "metadata": {},
     "output_type": "execute_result"
    }
   ],
   "source": [
    "result = pd.DataFrame(preds, columns = labels)\n",
    "result.head(1)"
   ]
  },
  {
   "cell_type": "code",
   "execution_count": 8,
   "metadata": {
    "collapsed": true
   },
   "outputs": [],
   "source": [
    "test_medians = result.median().values"
   ]
  },
  {
   "cell_type": "code",
   "execution_count": 81,
   "metadata": {},
   "outputs": [
    {
     "data": {
      "text/plain": [
       "array([-0.5699, -0.1295, -0.03  , -0.3197, -0.1377, -0.09  , -0.1591,  1.193 , -0.26  , -0.1364,\n",
       "        1.0919, -0.2149, -0.1597, -0.1642, -0.1841, -0.1606, -0.07  ])"
      ]
     },
     "execution_count": 81,
     "metadata": {},
     "output_type": "execute_result"
    }
   ],
   "source": [
    "test_medians - thres"
   ]
  },
  {
   "cell_type": "code",
   "execution_count": 91,
   "metadata": {},
   "outputs": [
    {
     "name": "stderr",
     "output_type": "stream",
     "text": [
      "/home/ubuntu/anaconda3/lib/python3.6/site-packages/matplotlib/font_manager.py:1297: UserWarning: findfont: Font family ['sans-serif'] not found. Falling back to DejaVu Sans\n",
      "  (prop.get_family(), self.defaultFamily[fontext]))\n"
     ]
    },
    {
     "data": {
      "image/png": "[encoded data removed]",
      "text/plain": [
       "<matplotlib.figure.Figure at 0x7f98f95b2cf8>"
      ]
     },
     "metadata": {},
     "output_type": "display_data"
    }
   ],
   "source": [
    "import seaborn as sns\n",
    "tags_pred = np.array(preds).T\n",
    "_, axs = plt.subplots(5, 4, figsize=(15, 20))\n",
    "axs = axs.ravel()\n",
    "\n",
    "for i, tag_vals in enumerate(tags_pred):\n",
    "    sns.boxplot(tag_vals, orient='v', palette='Set2', ax=axs[i]).set_title(labels[i])\n"
   ]
  },
  {
   "cell_type": "code",
   "execution_count": 9,
   "metadata": {},
   "outputs": [
    {
     "data": {
      "application/vnd.jupyter.widget-view+json": {
       "model_id": "93858faca87a4dd99b8e418dfc9126fb"
      }
     },
     "metadata": {},
     "output_type": "display_data"
    },
    {
     "name": "stderr",
     "output_type": "stream",
     "text": [
      "/home/ubuntu/anaconda3/lib/python3.6/site-packages/ipykernel_launcher.py:3: DeprecationWarning: \n",
      ".ix is deprecated. Please use\n",
      ".loc for label based indexing or\n",
      ".iloc for positional indexing\n",
      "\n",
      "See the documentation here:\n",
      "http://pandas.pydata.org/pandas-docs/stable/indexing.html#deprecate_ix\n",
      "  This is separate from the ipykernel package so we can avoid doing imports until\n"
     ]
    },
    {
     "name": "stdout",
     "output_type": "stream",
     "text": [
      "\n"
     ]
    }
   ],
   "source": [
    "label_preds = []\n",
    "for i in tqdm_notebook(range(result.shape[0]), miniters=1000):\n",
    "    a = result.ix[[i]]\n",
    "    a = a.apply(lambda x: x > thres, axis=1)\n",
    "    a = a.transpose()\n",
    "    a = a.loc[a[i] == True]\n",
    "    ' '.join(list(a.index))\n",
    "    label_preds.append(' '.join(list(a.index)))"
   ]
  },
  {
   "cell_type": "code",
   "execution_count": 10,
   "metadata": {},
   "outputs": [
    {
     "data": {
      "text/html": [
       "<div>\n",
       "<style>\n",
       "    .dataframe thead tr:only-child th {\n",
       "        text-align: right;\n",
       "    }\n",
       "\n",
       "    .dataframe thead th {\n",
       "        text-align: left;\n",
       "    }\n",
       "\n",
       "    .dataframe tbody tr th {\n",
       "        vertical-align: top;\n",
       "    }\n",
       "</style>\n",
       "<table border=\"1\" class=\"dataframe\">\n",
       "  <thead>\n",
       "    <tr style=\"text-align: right;\">\n",
       "      <th></th>\n",
       "      <th>image_name</th>\n",
       "      <th>tags</th>\n",
       "    </tr>\n",
       "  </thead>\n",
       "  <tbody>\n",
       "    <tr>\n",
       "      <th>0</th>\n",
       "      <td>test_0</td>\n",
       "      <td>primary clear</td>\n",
       "    </tr>\n",
       "    <tr>\n",
       "      <th>1</th>\n",
       "      <td>test_1</td>\n",
       "      <td>primary clear</td>\n",
       "    </tr>\n",
       "    <tr>\n",
       "      <th>2</th>\n",
       "      <td>test_2</td>\n",
       "      <td>primary partly_cloudy</td>\n",
       "    </tr>\n",
       "    <tr>\n",
       "      <th>3</th>\n",
       "      <td>test_3</td>\n",
       "      <td>cultivation primary clear agriculture</td>\n",
       "    </tr>\n",
       "    <tr>\n",
       "      <th>4</th>\n",
       "      <td>test_4</td>\n",
       "      <td>primary partly_cloudy cloudy</td>\n",
       "    </tr>\n",
       "  </tbody>\n",
       "</table>\n",
       "</div>"
      ],
      "text/plain": [
       "  image_name                                   tags\n",
       "0     test_0                          primary clear\n",
       "1     test_1                          primary clear\n",
       "2     test_2                  primary partly_cloudy\n",
       "3     test_3  cultivation primary clear agriculture\n",
       "4     test_4           primary partly_cloudy cloudy"
      ]
     },
     "execution_count": 10,
     "metadata": {},
     "output_type": "execute_result"
    }
   ],
   "source": [
    "df_test[\"tags\"] = label_preds\n",
    "df_test.head()"
   ]
  },
  {
   "cell_type": "code",
   "execution_count": 11,
   "metadata": {},
   "outputs": [
    {
     "data": {
      "text/html": [
       "<div>\n",
       "<style>\n",
       "    .dataframe thead tr:only-child th {\n",
       "        text-align: right;\n",
       "    }\n",
       "\n",
       "    .dataframe thead th {\n",
       "        text-align: left;\n",
       "    }\n",
       "\n",
       "    .dataframe tbody tr th {\n",
       "        vertical-align: top;\n",
       "    }\n",
       "</style>\n",
       "<table border=\"1\" class=\"dataframe\">\n",
       "  <thead>\n",
       "    <tr style=\"text-align: right;\">\n",
       "      <th></th>\n",
       "      <th>image_name</th>\n",
       "      <th>tags</th>\n",
       "    </tr>\n",
       "  </thead>\n",
       "  <tbody>\n",
       "    <tr>\n",
       "      <th>0</th>\n",
       "      <td>test_0</td>\n",
       "      <td>primary clear</td>\n",
       "    </tr>\n",
       "    <tr>\n",
       "      <th>1</th>\n",
       "      <td>test_1</td>\n",
       "      <td>primary clear</td>\n",
       "    </tr>\n",
       "    <tr>\n",
       "      <th>2</th>\n",
       "      <td>test_2</td>\n",
       "      <td>primary partly_cloudy</td>\n",
       "    </tr>\n",
       "    <tr>\n",
       "      <th>3</th>\n",
       "      <td>test_3</td>\n",
       "      <td>cultivation primary clear agriculture</td>\n",
       "    </tr>\n",
       "    <tr>\n",
       "      <th>4</th>\n",
       "      <td>test_4</td>\n",
       "      <td>primary partly_cloudy cloudy</td>\n",
       "    </tr>\n",
       "    <tr>\n",
       "      <th>5</th>\n",
       "      <td>test_5</td>\n",
       "      <td>primary clear</td>\n",
       "    </tr>\n",
       "    <tr>\n",
       "      <th>6</th>\n",
       "      <td>test_6</td>\n",
       "      <td>cultivation primary habitation clear agriculture</td>\n",
       "    </tr>\n",
       "    <tr>\n",
       "      <th>7</th>\n",
       "      <td>test_7</td>\n",
       "      <td>primary habitation clear road</td>\n",
       "    </tr>\n",
       "    <tr>\n",
       "      <th>8</th>\n",
       "      <td>test_8</td>\n",
       "      <td>primary clear</td>\n",
       "    </tr>\n",
       "    <tr>\n",
       "      <th>9</th>\n",
       "      <td>test_9</td>\n",
       "      <td>cultivation haze primary clear agriculture</td>\n",
       "    </tr>\n",
       "    <tr>\n",
       "      <th>10</th>\n",
       "      <td>test_10</td>\n",
       "      <td>primary partly_cloudy water</td>\n",
       "    </tr>\n",
       "    <tr>\n",
       "      <th>11</th>\n",
       "      <td>test_11</td>\n",
       "      <td>cultivation primary clear agriculture</td>\n",
       "    </tr>\n",
       "    <tr>\n",
       "      <th>12</th>\n",
       "      <td>test_12</td>\n",
       "      <td>cloudy</td>\n",
       "    </tr>\n",
       "    <tr>\n",
       "      <th>13</th>\n",
       "      <td>test_13</td>\n",
       "      <td>cultivation primary clear agriculture</td>\n",
       "    </tr>\n",
       "    <tr>\n",
       "      <th>14</th>\n",
       "      <td>test_14</td>\n",
       "      <td>cultivation primary clear agriculture</td>\n",
       "    </tr>\n",
       "    <tr>\n",
       "      <th>15</th>\n",
       "      <td>test_15</td>\n",
       "      <td>primary clear agriculture</td>\n",
       "    </tr>\n",
       "    <tr>\n",
       "      <th>16</th>\n",
       "      <td>test_16</td>\n",
       "      <td>cultivation primary habitation clear road agri...</td>\n",
       "    </tr>\n",
       "    <tr>\n",
       "      <th>17</th>\n",
       "      <td>test_17</td>\n",
       "      <td>primary clear partly_cloudy</td>\n",
       "    </tr>\n",
       "    <tr>\n",
       "      <th>18</th>\n",
       "      <td>test_18</td>\n",
       "      <td>haze primary clear</td>\n",
       "    </tr>\n",
       "    <tr>\n",
       "      <th>19</th>\n",
       "      <td>test_19</td>\n",
       "      <td>primary clear road water</td>\n",
       "    </tr>\n",
       "    <tr>\n",
       "      <th>20</th>\n",
       "      <td>test_20</td>\n",
       "      <td>cultivation primary clear road agriculture water</td>\n",
       "    </tr>\n",
       "    <tr>\n",
       "      <th>21</th>\n",
       "      <td>test_21</td>\n",
       "      <td>primary clear agriculture water</td>\n",
       "    </tr>\n",
       "    <tr>\n",
       "      <th>22</th>\n",
       "      <td>test_22</td>\n",
       "      <td>primary habitation clear road agriculture</td>\n",
       "    </tr>\n",
       "    <tr>\n",
       "      <th>23</th>\n",
       "      <td>test_23</td>\n",
       "      <td>cloudy</td>\n",
       "    </tr>\n",
       "    <tr>\n",
       "      <th>24</th>\n",
       "      <td>test_24</td>\n",
       "      <td>primary road partly_cloudy agriculture water</td>\n",
       "    </tr>\n",
       "    <tr>\n",
       "      <th>25</th>\n",
       "      <td>test_25</td>\n",
       "      <td>primary clear</td>\n",
       "    </tr>\n",
       "    <tr>\n",
       "      <th>26</th>\n",
       "      <td>test_26</td>\n",
       "      <td>primary habitation road partly_cloudy agriculture</td>\n",
       "    </tr>\n",
       "    <tr>\n",
       "      <th>27</th>\n",
       "      <td>test_27</td>\n",
       "      <td>primary clear agriculture</td>\n",
       "    </tr>\n",
       "    <tr>\n",
       "      <th>28</th>\n",
       "      <td>test_28</td>\n",
       "      <td>primary road partly_cloudy agriculture</td>\n",
       "    </tr>\n",
       "    <tr>\n",
       "      <th>29</th>\n",
       "      <td>test_29</td>\n",
       "      <td>primary clear</td>\n",
       "    </tr>\n",
       "    <tr>\n",
       "      <th>...</th>\n",
       "      <td>...</td>\n",
       "      <td>...</td>\n",
       "    </tr>\n",
       "    <tr>\n",
       "      <th>70</th>\n",
       "      <td>test_70</td>\n",
       "      <td>primary clear</td>\n",
       "    </tr>\n",
       "    <tr>\n",
       "      <th>71</th>\n",
       "      <td>test_71</td>\n",
       "      <td>primary partly_cloudy</td>\n",
       "    </tr>\n",
       "    <tr>\n",
       "      <th>72</th>\n",
       "      <td>test_72</td>\n",
       "      <td>primary clear road water</td>\n",
       "    </tr>\n",
       "    <tr>\n",
       "      <th>73</th>\n",
       "      <td>test_73</td>\n",
       "      <td>primary road partly_cloudy agriculture water</td>\n",
       "    </tr>\n",
       "    <tr>\n",
       "      <th>74</th>\n",
       "      <td>test_74</td>\n",
       "      <td>primary partly_cloudy</td>\n",
       "    </tr>\n",
       "    <tr>\n",
       "      <th>75</th>\n",
       "      <td>test_75</td>\n",
       "      <td>cultivation primary clear road partly_cloudy a...</td>\n",
       "    </tr>\n",
       "    <tr>\n",
       "      <th>76</th>\n",
       "      <td>test_76</td>\n",
       "      <td>primary clear</td>\n",
       "    </tr>\n",
       "    <tr>\n",
       "      <th>77</th>\n",
       "      <td>test_77</td>\n",
       "      <td>primary clear</td>\n",
       "    </tr>\n",
       "    <tr>\n",
       "      <th>78</th>\n",
       "      <td>test_78</td>\n",
       "      <td>primary clear</td>\n",
       "    </tr>\n",
       "    <tr>\n",
       "      <th>79</th>\n",
       "      <td>test_79</td>\n",
       "      <td>cultivation primary clear agriculture</td>\n",
       "    </tr>\n",
       "    <tr>\n",
       "      <th>80</th>\n",
       "      <td>test_80</td>\n",
       "      <td>haze primary cloudy</td>\n",
       "    </tr>\n",
       "    <tr>\n",
       "      <th>81</th>\n",
       "      <td>test_81</td>\n",
       "      <td>cloudy</td>\n",
       "    </tr>\n",
       "    <tr>\n",
       "      <th>82</th>\n",
       "      <td>test_82</td>\n",
       "      <td>cultivation primary clear agriculture</td>\n",
       "    </tr>\n",
       "    <tr>\n",
       "      <th>83</th>\n",
       "      <td>test_83</td>\n",
       "      <td>blow_down primary clear</td>\n",
       "    </tr>\n",
       "    <tr>\n",
       "      <th>84</th>\n",
       "      <td>test_84</td>\n",
       "      <td>primary habitation clear road water</td>\n",
       "    </tr>\n",
       "    <tr>\n",
       "      <th>85</th>\n",
       "      <td>test_85</td>\n",
       "      <td>primary clear road agriculture water</td>\n",
       "    </tr>\n",
       "    <tr>\n",
       "      <th>86</th>\n",
       "      <td>test_86</td>\n",
       "      <td>primary clear</td>\n",
       "    </tr>\n",
       "    <tr>\n",
       "      <th>87</th>\n",
       "      <td>test_87</td>\n",
       "      <td>primary partly_cloudy</td>\n",
       "    </tr>\n",
       "    <tr>\n",
       "      <th>88</th>\n",
       "      <td>test_88</td>\n",
       "      <td>cultivation primary clear agriculture</td>\n",
       "    </tr>\n",
       "    <tr>\n",
       "      <th>89</th>\n",
       "      <td>test_89</td>\n",
       "      <td>cloudy</td>\n",
       "    </tr>\n",
       "    <tr>\n",
       "      <th>90</th>\n",
       "      <td>test_90</td>\n",
       "      <td>cloudy</td>\n",
       "    </tr>\n",
       "    <tr>\n",
       "      <th>91</th>\n",
       "      <td>test_91</td>\n",
       "      <td>cultivation primary habitation clear agriculture</td>\n",
       "    </tr>\n",
       "    <tr>\n",
       "      <th>92</th>\n",
       "      <td>test_92</td>\n",
       "      <td>cloudy</td>\n",
       "    </tr>\n",
       "    <tr>\n",
       "      <th>93</th>\n",
       "      <td>test_93</td>\n",
       "      <td>primary clear</td>\n",
       "    </tr>\n",
       "    <tr>\n",
       "      <th>94</th>\n",
       "      <td>test_94</td>\n",
       "      <td>primary clear</td>\n",
       "    </tr>\n",
       "    <tr>\n",
       "      <th>95</th>\n",
       "      <td>test_95</td>\n",
       "      <td>cultivation primary road partly_cloudy agricul...</td>\n",
       "    </tr>\n",
       "    <tr>\n",
       "      <th>96</th>\n",
       "      <td>test_96</td>\n",
       "      <td>primary partly_cloudy cloudy</td>\n",
       "    </tr>\n",
       "    <tr>\n",
       "      <th>97</th>\n",
       "      <td>test_97</td>\n",
       "      <td>primary clear</td>\n",
       "    </tr>\n",
       "    <tr>\n",
       "      <th>98</th>\n",
       "      <td>test_98</td>\n",
       "      <td>primary partly_cloudy</td>\n",
       "    </tr>\n",
       "    <tr>\n",
       "      <th>99</th>\n",
       "      <td>test_99</td>\n",
       "      <td>clear cloudy</td>\n",
       "    </tr>\n",
       "  </tbody>\n",
       "</table>\n",
       "<p>100 rows × 2 columns</p>\n",
       "</div>"
      ],
      "text/plain": [
       "   image_name                                               tags\n",
       "0      test_0                                      primary clear\n",
       "1      test_1                                      primary clear\n",
       "2      test_2                              primary partly_cloudy\n",
       "3      test_3              cultivation primary clear agriculture\n",
       "4      test_4                       primary partly_cloudy cloudy\n",
       "5      test_5                                      primary clear\n",
       "6      test_6   cultivation primary habitation clear agriculture\n",
       "7      test_7                      primary habitation clear road\n",
       "8      test_8                                      primary clear\n",
       "9      test_9         cultivation haze primary clear agriculture\n",
       "10    test_10                        primary partly_cloudy water\n",
       "11    test_11              cultivation primary clear agriculture\n",
       "12    test_12                                             cloudy\n",
       "13    test_13              cultivation primary clear agriculture\n",
       "14    test_14              cultivation primary clear agriculture\n",
       "15    test_15                          primary clear agriculture\n",
       "16    test_16  cultivation primary habitation clear road agri...\n",
       "17    test_17                        primary clear partly_cloudy\n",
       "18    test_18                                 haze primary clear\n",
       "19    test_19                           primary clear road water\n",
       "20    test_20   cultivation primary clear road agriculture water\n",
       "21    test_21                    primary clear agriculture water\n",
       "22    test_22          primary habitation clear road agriculture\n",
       "23    test_23                                             cloudy\n",
       "24    test_24       primary road partly_cloudy agriculture water\n",
       "25    test_25                                      primary clear\n",
       "26    test_26  primary habitation road partly_cloudy agriculture\n",
       "27    test_27                          primary clear agriculture\n",
       "28    test_28             primary road partly_cloudy agriculture\n",
       "29    test_29                                      primary clear\n",
       "..        ...                                                ...\n",
       "70    test_70                                      primary clear\n",
       "71    test_71                              primary partly_cloudy\n",
       "72    test_72                           primary clear road water\n",
       "73    test_73       primary road partly_cloudy agriculture water\n",
       "74    test_74                              primary partly_cloudy\n",
       "75    test_75  cultivation primary clear road partly_cloudy a...\n",
       "76    test_76                                      primary clear\n",
       "77    test_77                                      primary clear\n",
       "78    test_78                                      primary clear\n",
       "79    test_79              cultivation primary clear agriculture\n",
       "80    test_80                                haze primary cloudy\n",
       "81    test_81                                             cloudy\n",
       "82    test_82              cultivation primary clear agriculture\n",
       "83    test_83                            blow_down primary clear\n",
       "84    test_84                primary habitation clear road water\n",
       "85    test_85               primary clear road agriculture water\n",
       "86    test_86                                      primary clear\n",
       "87    test_87                              primary partly_cloudy\n",
       "88    test_88              cultivation primary clear agriculture\n",
       "89    test_89                                             cloudy\n",
       "90    test_90                                             cloudy\n",
       "91    test_91   cultivation primary habitation clear agriculture\n",
       "92    test_92                                             cloudy\n",
       "93    test_93                                      primary clear\n",
       "94    test_94                                      primary clear\n",
       "95    test_95  cultivation primary road partly_cloudy agricul...\n",
       "96    test_96                       primary partly_cloudy cloudy\n",
       "97    test_97                                      primary clear\n",
       "98    test_98                              primary partly_cloudy\n",
       "99    test_99                                       clear cloudy\n",
       "\n",
       "[100 rows x 2 columns]"
      ]
     },
     "execution_count": 11,
     "metadata": {},
     "output_type": "execute_result"
    }
   ],
   "source": [
    "df_test.head(100)"
   ]
  },
  {
   "cell_type": "code",
   "execution_count": 12,
   "metadata": {},
   "outputs": [
    {
     "data": {
      "text/html": [
       "<a href='resnet_full_224x224_ft4a_10xtta_pseudo_fullset_2epochsvalid.csv' target='_blank'>resnet_full_224x224_ft4a_10xtta_pseudo_fullset_2epochsvalid.csv</a><br>"
      ],
      "text/plain": [
       "/home/ubuntu/planet/resnet_full_224x224_ft4a_10xtta_pseudo_fullset_2epochsvalid.csv"
      ]
     },
     "execution_count": 12,
     "metadata": {},
     "output_type": "execute_result"
    }
   ],
   "source": [
    "submission_file = 'resnet_full_224x224_ft4a_10xtta_pseudo_fullset_2epochsvalid.csv'\n",
    "df_test.to_csv(submission_file, index=False)\n",
    "FileLink(submission_file)"
   ]
  },
  {
   "cell_type": "code",
   "execution_count": null,
   "metadata": {
    "collapsed": true
   },
   "outputs": [],
   "source": []
  }
 ],
 "metadata": {
  "kernelspec": {
   "display_name": "Python 3",
   "language": "python",
   "name": "python3"
  },
  "language_info": {
   "codemirror_mode": {
    "name": "ipython",
    "version": 3
   },
   "file_extension": ".py",
   "mimetype": "text/x-python",
   "name": "python",
   "nbconvert_exporter": "python",
   "pygments_lexer": "ipython3",
   "version": "3.6.1"
  }
 },
 "nbformat": 4,
 "nbformat_minor": 2
}
