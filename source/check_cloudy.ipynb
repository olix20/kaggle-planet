{
 "cells": [
  {
   "cell_type": "code",
   "execution_count": 165,
   "metadata": {
    "collapsed": false
   },
   "outputs": [],
   "source": [
    "import pandas as pd \n",
    "from tqdm import tqdm_notebook\n",
    "import numpy as np\n",
    "import bcolz"
   ]
  },
  {
   "cell_type": "code",
   "execution_count": 166,
   "metadata": {
    "collapsed": true
   },
   "outputs": [],
   "source": [
    "def save_array(fname, arr):\n",
    "    c=bcolz.carray(arr, rootdir=fname, mode='w')\n",
    "    c.flush()\n",
    "\n",
    "\n",
    "def load_array(fname):\n",
    "    return bcolz.open(fname)[:]\n"
   ]
  },
  {
   "cell_type": "code",
   "execution_count": 210,
   "metadata": {
    "collapsed": true
   },
   "outputs": [],
   "source": [
    "df_test = pd.read_csv(\"data/resnet_full_224x224_blend_2resnets.csv\")"
   ]
  },
  {
   "cell_type": "code",
   "execution_count": 211,
   "metadata": {
    "collapsed": true
   },
   "outputs": [],
   "source": [
    "\n",
    "labels = ['blow_down',\n",
    " 'bare_ground',\n",
    " 'conventional_mine',\n",
    " 'blooming',\n",
    " 'cultivation',\n",
    " 'artisinal_mine',\n",
    " 'haze',\n",
    " 'primary',\n",
    " 'slash_burn',\n",
    " 'habitation',\n",
    " 'clear',\n",
    " 'road',\n",
    " 'selective_logging',\n",
    " 'partly_cloudy',\n",
    " 'agriculture',\n",
    " 'water',\n",
    " 'cloudy']\n",
    "\n",
    "label_map = {'agriculture': 14,\n",
    " 'artisinal_mine': 5,\n",
    " 'bare_ground': 1,\n",
    " 'blooming': 3,\n",
    " 'blow_down': 0,\n",
    " 'clear': 10,\n",
    " 'cloudy': 16,\n",
    " 'conventional_mine': 2,\n",
    " 'cultivation': 4,\n",
    " 'habitation': 9,\n",
    " 'haze': 6,\n",
    " 'partly_cloudy': 13,\n",
    " 'primary': 7,\n",
    " 'road': 11,\n",
    " 'selective_logging': 12,\n",
    " 'slash_burn': 8,\n",
    " 'water': 15}"
   ]
  },
  {
   "cell_type": "code",
   "execution_count": 212,
   "metadata": {
    "collapsed": false
   },
   "outputs": [
    {
     "name": "stdout",
     "output_type": "stream",
     "text": [
      "\n"
     ]
    }
   ],
   "source": [
    "y_test = []\n",
    "\n",
    "for f, tags in tqdm_notebook(df_test.values, miniters=1000):\n",
    "    targets = np.zeros(17)\n",
    "    \n",
    "    for t in tags.split(' '):\n",
    "        targets[label_map[t]] = 1 \n",
    "        \n",
    "\n",
    "    y_test.append(targets)\n",
    "    \n",
    "y_test = np.array(y_test).astype(np.uint8)    "
   ]
  },
  {
   "cell_type": "code",
   "execution_count": 213,
   "metadata": {
    "collapsed": false,
    "scrolled": true
   },
   "outputs": [
    {
     "data": {
      "text/plain": [
       "array([   0,    0,    0,    0,    0,    1,  796, 1595,    0,    1,  566,\n",
       "         24,    0,  497,  210,  676, 4240], dtype=uint32)"
      ]
     },
     "execution_count": 213,
     "metadata": {},
     "output_type": "execute_result"
    }
   ],
   "source": [
    "y_test[np.where(y_test[:,16]>0)].sum(axis=0)"
   ]
  },
  {
   "cell_type": "code",
   "execution_count": 171,
   "metadata": {
    "collapsed": false
   },
   "outputs": [
    {
     "data": {
      "text/plain": [
       "['blow_down',\n",
       " 'bare_ground',\n",
       " 'conventional_mine',\n",
       " 'blooming',\n",
       " 'cultivation',\n",
       " 'artisinal_mine',\n",
       " 'haze',\n",
       " 'primary',\n",
       " 'slash_burn',\n",
       " 'habitation',\n",
       " 'clear',\n",
       " 'road',\n",
       " 'selective_logging',\n",
       " 'partly_cloudy',\n",
       " 'agriculture',\n",
       " 'water',\n",
       " 'cloudy']"
      ]
     },
     "execution_count": 171,
     "metadata": {},
     "output_type": "execute_result"
    }
   ],
   "source": [
    "labels"
   ]
  },
  {
   "cell_type": "code",
   "execution_count": 245,
   "metadata": {
    "collapsed": true
   },
   "outputs": [],
   "source": [
    "threshold = 0.75"
   ]
  },
  {
   "cell_type": "code",
   "execution_count": 246,
   "metadata": {
    "collapsed": true
   },
   "outputs": [],
   "source": [
    "resnet_preds = load_array(\"data/raw_preds_224x224_blend_2resnets_5a_n_4a_ft_0.92905_armin_ordering.dat/\")"
   ]
  },
  {
   "cell_type": "code",
   "execution_count": 247,
   "metadata": {
    "collapsed": false
   },
   "outputs": [
    {
     "data": {
      "text/plain": [
       "array([  1.12302008e-03,   1.84770692e-02,   6.34928947e-05,\n",
       "         1.77549387e-04,   4.11946774e-02,   4.83893818e-04,\n",
       "         3.84885222e-01,   3.00102293e-01,   3.53877316e-04,\n",
       "         1.67951752e-02,   3.41507107e-01,   2.20302612e-01,\n",
       "         1.73517648e-04,   3.57347369e-01,   3.15416217e-01,\n",
       "         5.53288698e-01,   9.99991536e-01], dtype=float32)"
      ]
     },
     "execution_count": 247,
     "metadata": {},
     "output_type": "execute_result"
    }
   ],
   "source": [
    "resnet_preds[np.where(resnet_preds[:,16]>threshold)[0]].max(axis=0)"
   ]
  },
  {
   "cell_type": "code",
   "execution_count": 248,
   "metadata": {
    "collapsed": true
   },
   "outputs": [],
   "source": [
    "oli_res_preds = load_array(\"data/raw_preds_224x224_blend_2resnets_5a_n_4a_ft_0.92905_armin_ordering.dat/\")\n",
    "oli_res_thres = load_array(\"data/resnet_thresholds_simple_aug_10xtta.dat/\")"
   ]
  },
  {
   "cell_type": "code",
   "execution_count": 249,
   "metadata": {
    "collapsed": false
   },
   "outputs": [
    {
     "data": {
      "text/html": [
       "<div>\n",
       "<style>\n",
       "    .dataframe thead tr:only-child th {\n",
       "        text-align: right;\n",
       "    }\n",
       "\n",
       "    .dataframe thead th {\n",
       "        text-align: left;\n",
       "    }\n",
       "\n",
       "    .dataframe tbody tr th {\n",
       "        vertical-align: top;\n",
       "    }\n",
       "</style>\n",
       "<table border=\"1\" class=\"dataframe\">\n",
       "  <thead>\n",
       "    <tr style=\"text-align: right;\">\n",
       "      <th></th>\n",
       "      <th>blow_down</th>\n",
       "      <th>bare_ground</th>\n",
       "      <th>conventional_mine</th>\n",
       "      <th>blooming</th>\n",
       "      <th>cultivation</th>\n",
       "      <th>artisinal_mine</th>\n",
       "      <th>haze</th>\n",
       "      <th>primary</th>\n",
       "      <th>slash_burn</th>\n",
       "      <th>habitation</th>\n",
       "      <th>clear</th>\n",
       "      <th>road</th>\n",
       "      <th>selective_logging</th>\n",
       "      <th>partly_cloudy</th>\n",
       "      <th>agriculture</th>\n",
       "      <th>water</th>\n",
       "      <th>cloudy</th>\n",
       "    </tr>\n",
       "  </thead>\n",
       "  <tbody>\n",
       "    <tr>\n",
       "      <th>0</th>\n",
       "      <td>0.000092</td>\n",
       "      <td>0.000507</td>\n",
       "      <td>8.139934e-10</td>\n",
       "      <td>0.092864</td>\n",
       "      <td>0.001403</td>\n",
       "      <td>3.497085e-09</td>\n",
       "      <td>0.003379</td>\n",
       "      <td>0.999979</td>\n",
       "      <td>0.000004</td>\n",
       "      <td>0.000204</td>\n",
       "      <td>0.998511</td>\n",
       "      <td>0.002732</td>\n",
       "      <td>0.018024</td>\n",
       "      <td>0.000088</td>\n",
       "      <td>0.002829</td>\n",
       "      <td>0.00167</td>\n",
       "      <td>5.057313e-07</td>\n",
       "    </tr>\n",
       "  </tbody>\n",
       "</table>\n",
       "</div>"
      ],
      "text/plain": [
       "   blow_down  bare_ground  conventional_mine  blooming  cultivation  \\\n",
       "0   0.000092     0.000507       8.139934e-10  0.092864     0.001403   \n",
       "\n",
       "   artisinal_mine      haze   primary  slash_burn  habitation     clear  \\\n",
       "0    3.497085e-09  0.003379  0.999979    0.000004    0.000204  0.998511   \n",
       "\n",
       "       road  selective_logging  partly_cloudy  agriculture    water  \\\n",
       "0  0.002732           0.018024       0.000088     0.002829  0.00167   \n",
       "\n",
       "         cloudy  \n",
       "0  5.057313e-07  "
      ]
     },
     "execution_count": 249,
     "metadata": {},
     "output_type": "execute_result"
    }
   ],
   "source": [
    "result = pd.DataFrame(oli_res_preds, columns = labels)\n",
    "result.head(1)"
   ]
  },
  {
   "cell_type": "code",
   "execution_count": 250,
   "metadata": {
    "collapsed": false
   },
   "outputs": [
    {
     "data": {
      "text/plain": [
       "(2603L, 17L)"
      ]
     },
     "execution_count": 250,
     "metadata": {},
     "output_type": "execute_result"
    }
   ],
   "source": [
    "oli_res_preds[np.where(oli_res_preds[:,16]>threshold)[0]].shape"
   ]
  },
  {
   "cell_type": "code",
   "execution_count": 251,
   "metadata": {
    "collapsed": false
   },
   "outputs": [
    {
     "data": {
      "text/plain": [
       "array([  1.12302008e-03,   1.84770692e-02,   6.34928947e-05,\n",
       "         1.77549387e-04,   4.11946774e-02,   4.83893818e-04,\n",
       "         3.84885222e-01,   3.00102293e-01,   3.53877316e-04,\n",
       "         1.67951752e-02,   3.41507107e-01,   2.20302612e-01,\n",
       "         1.73517648e-04,   3.57347369e-01,   3.15416217e-01,\n",
       "         5.53288698e-01,   9.99991536e-01], dtype=float32)"
      ]
     },
     "execution_count": 251,
     "metadata": {},
     "output_type": "execute_result"
    }
   ],
   "source": [
    "oli_res_preds[np.where(oli_res_preds[:,16]>threshold)[0]].max(axis=0)"
   ]
  },
  {
   "cell_type": "code",
   "execution_count": 252,
   "metadata": {
    "collapsed": true
   },
   "outputs": [],
   "source": [
    "oli_res_preds[np.where(oli_res_preds[:,16]>threshold)[0]] = np.array([0]*16+[1])"
   ]
  },
  {
   "cell_type": "code",
   "execution_count": 253,
   "metadata": {
    "collapsed": false
   },
   "outputs": [
    {
     "data": {
      "text/plain": [
       "array([ 0.58,  0.2 ,  0.12,  0.22,  0.29,  0.2 ,  0.25,  0.17,  0.22,\n",
       "        0.23,  0.17,  0.25,  0.16,  0.28,  0.2 ,  0.23,  0.24])"
      ]
     },
     "execution_count": 253,
     "metadata": {},
     "output_type": "execute_result"
    }
   ],
   "source": [
    "oli_res_thres"
   ]
  },
  {
   "cell_type": "code",
   "execution_count": 254,
   "metadata": {
    "collapsed": false
   },
   "outputs": [
    {
     "name": "stderr",
     "output_type": "stream",
     "text": [
      "C:\\Users\\Armin\\Anaconda2\\lib\\site-packages\\ipykernel\\__main__.py:3: DeprecationWarning: \n",
      ".ix is deprecated. Please use\n",
      ".loc for label based indexing or\n",
      ".iloc for positional indexing\n",
      "\n",
      "See the documentation here:\n",
      "http://pandas.pydata.org/pandas-docs/stable/indexing.html#deprecate_ix\n",
      "  app.launch_new_instance()\n"
     ]
    },
    {
     "name": "stdout",
     "output_type": "stream",
     "text": [
      "\n"
     ]
    }
   ],
   "source": [
    "label_preds = []\n",
    "for i in tqdm_notebook(range(result.shape[0]), miniters=1000):\n",
    "    a = result.ix[[i]]\n",
    "    a = a.apply(lambda x: x > oli_res_thres, axis=1)\n",
    "    a = a.transpose()\n",
    "    a = a.loc[a[i] == True]\n",
    "    ' '.join(list(a.index))\n",
    "    label_preds.append(' '.join(list(a.index)))"
   ]
  },
  {
   "cell_type": "code",
   "execution_count": 255,
   "metadata": {
    "collapsed": true
   },
   "outputs": [],
   "source": [
    "df_test[\"tags\"] = label_preds"
   ]
  },
  {
   "cell_type": "code",
   "execution_count": 256,
   "metadata": {
    "collapsed": false
   },
   "outputs": [
    {
     "name": "stdout",
     "output_type": "stream",
     "text": [
      "\n"
     ]
    }
   ],
   "source": [
    "y_test = []\n",
    "\n",
    "for f, tags in tqdm_notebook(df_test.values, miniters=1000):\n",
    "    targets = np.zeros(17)\n",
    "    \n",
    "    for t in tags.split(' '):\n",
    "        targets[label_map[t]] = 1 \n",
    "        \n",
    "\n",
    "    y_test.append(targets)"
   ]
  },
  {
   "cell_type": "code",
   "execution_count": 257,
   "metadata": {
    "collapsed": true
   },
   "outputs": [],
   "source": [
    "y_test = np.array(y_test).astype(np.uint8)"
   ]
  },
  {
   "cell_type": "code",
   "execution_count": 258,
   "metadata": {
    "collapsed": false
   },
   "outputs": [
    {
     "data": {
      "text/plain": [
       "array([   0,    0,    0,    0,    0,    1,  721, 1315,    0,    1,  476,\n",
       "         24,    0,  476,  207,  627, 4240], dtype=uint32)"
      ]
     },
     "execution_count": 258,
     "metadata": {},
     "output_type": "execute_result"
    }
   ],
   "source": [
    "y_test[np.where(y_test[:,16]>0)].sum(axis=0)"
   ]
  },
  {
   "cell_type": "code",
   "execution_count": 259,
   "metadata": {
    "collapsed": true
   },
   "outputs": [],
   "source": [
    "submission_file = 'resnet_weather_filtered_th0.75.csv'\n",
    "df_test.to_csv(submission_file, index=False)"
   ]
  },
  {
   "cell_type": "markdown",
   "metadata": {},
   "source": [
    "0.75\n",
    "array([   0,    0,    0,    0,    0,    1,  721, 1315,    0,    1,  476,\n",
    "         24,    0,  476,  207,  627, 4240], dtype=uint32)\n",
    "\n",
    "0.7\n",
    "array([   0,    0,    0,    0,    0,    1,  647, 1184,    0,    1,  422,\n",
    "         24,    0,  446,  205,  581, 4240], dtype=uint32)\n",
    "\n",
    "original\n",
    "\n",
    "array([   0,    0,    0,    0,    0,    1,  796, 1595,    0,    1,  566,\n",
    "         24,    0,  497,  210,  676, 4240], dtype=uint32)"
   ]
  },
  {
   "cell_type": "code",
   "execution_count": 243,
   "metadata": {
    "collapsed": false
   },
   "outputs": [
    {
     "data": {
      "text/plain": [
       "['blow_down',\n",
       " 'bare_ground',\n",
       " 'conventional_mine',\n",
       " 'blooming',\n",
       " 'cultivation',\n",
       " 'artisinal_mine',\n",
       " 'haze',\n",
       " 'primary',\n",
       " 'slash_burn',\n",
       " 'habitation',\n",
       " 'clear',\n",
       " 'road',\n",
       " 'selective_logging',\n",
       " 'partly_cloudy',\n",
       " 'agriculture',\n",
       " 'water',\n",
       " 'cloudy']"
      ]
     },
     "execution_count": 243,
     "metadata": {},
     "output_type": "execute_result"
    }
   ],
   "source": [
    "labels"
   ]
  },
  {
   "cell_type": "code",
   "execution_count": null,
   "metadata": {
    "collapsed": true
   },
   "outputs": [],
   "source": []
  },
  {
   "cell_type": "code",
   "execution_count": null,
   "metadata": {
    "collapsed": true
   },
   "outputs": [],
   "source": []
  }
 ],
 "metadata": {
  "kernelspec": {
   "display_name": "Python 2",
   "language": "python",
   "name": "python2"
  },
  "language_info": {
   "codemirror_mode": {
    "name": "ipython",
    "version": 2
   },
   "file_extension": ".py",
   "mimetype": "text/x-python",
   "name": "python",
   "nbconvert_exporter": "python",
   "pygments_lexer": "ipython2",
   "version": "2.7.13"
  }
 },
 "nbformat": 4,
 "nbformat_minor": 0
}
