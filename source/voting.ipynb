{
 "cells": [
  {
   "cell_type": "code",
   "execution_count": 93,
   "metadata": {
    "collapsed": true
   },
   "outputs": [],
   "source": [
    "import h5py\n",
    "import numpy as np\n",
    "import pandas as pd \n",
    "import bcolz \n",
    "from tqdm import tqdm_notebook\n",
    "\n",
    "from sklearn.metrics import fbeta_score\n"
   ]
  },
  {
   "cell_type": "code",
   "execution_count": 94,
   "metadata": {
    "collapsed": true
   },
   "outputs": [],
   "source": [
    "\n",
    "def save_array(fname, arr):\n",
    "    c=bcolz.carray(arr, rootdir=fname, mode='w')\n",
    "    c.flush()\n",
    "\n",
    "\n",
    "def load_array(fname):\n",
    "    return bcolz.open(fname)[:]"
   ]
  },
  {
   "cell_type": "code",
   "execution_count": 187,
   "metadata": {
    "collapsed": false
   },
   "outputs": [],
   "source": [
    "y_train = []\n",
    "\n",
    "df_train = pd.read_csv('../data/train_v2.csv')\n",
    "df_test = pd.read_csv('../data/sample_submission_v2.csv')\n",
    "\n",
    "\n",
    "\n",
    "# labels = ['blow_down',\n",
    "#  'bare_ground',\n",
    "#  'conventional_mine',\n",
    "#  'blooming',\n",
    "#  'cultivation',\n",
    "#  'artisinal_mine',\n",
    "#  'haze',\n",
    "#  'primary',\n",
    "#  'slash_burn',\n",
    "#  'habitation',\n",
    "#  'clear',\n",
    "#  'road',\n",
    "#  'selective_logging',\n",
    "#  'partly_cloudy',\n",
    "#  'agriculture',\n",
    "#  'water',\n",
    "#  'cloudy']\n",
    "\n",
    "label_map_qin = {'slash_burn': 15, 'selective_logging': 14, 'cultivation': 8, 'clear': 5, 'habitation': 9, \n",
    "                 'conventional_mine': 7, 'cloudy': 6, 'primary': 12, 'water': 16, 'haze': 10, 'artisinal_mine': 1,\n",
    "                 'partly_cloudy': 11, 'blooming': 3, 'bare_ground': 2, 'blow_down': 4, 'agriculture': 0, 'road': 13}"
   ]
  },
  {
   "cell_type": "code",
   "execution_count": 188,
   "metadata": {
    "collapsed": false
   },
   "outputs": [],
   "source": [
    "labels_qin = {v: k for k, v in label_map_qin.iteritems()}\n",
    "labels_qin = labels_qin.values()"
   ]
  },
  {
   "cell_type": "code",
   "execution_count": 189,
   "metadata": {
    "collapsed": false
   },
   "outputs": [],
   "source": [
    "for f, tags in df_train.values:\n",
    "    targets = np.zeros(17)\n",
    "    \n",
    "    for t in tags.split(' '):\n",
    "        targets[label_map_qin[t]] = 1 \n",
    "        \n",
    "\n",
    "    y_train.append(targets)\n",
    "\n"
   ]
  },
  {
   "cell_type": "code",
   "execution_count": 190,
   "metadata": {
    "collapsed": true
   },
   "outputs": [],
   "source": [
    "y_train = np.array(y_train).astype(np.uint8)"
   ]
  },
  {
   "cell_type": "code",
   "execution_count": 99,
   "metadata": {
    "collapsed": true
   },
   "outputs": [],
   "source": [
    "def optimise_f2_thresholds2(y, p, verbose=True, resolution=100,num_classes=17):\n",
    "    def mf(x):\n",
    "        p2 = np.zeros_like(p)\n",
    "        for i in range(num_classes):\n",
    "            p2[:, i] = (p[:, i] > x[i]).astype(np.int)\n",
    "        score = fbeta_score(y, p2, beta=2, average='samples')\n",
    "        return score\n",
    "\n",
    "    x = [0.1]*num_classes\n",
    "    for i in range(num_classes):\n",
    "        best_i2 = 0\n",
    "        best_score = 0\n",
    "        for i2 in range(resolution):\n",
    "            threshold = float(i2) / resolution\n",
    "            x[i] = threshold\n",
    "            score = mf(x)\n",
    "            if score > best_score:\n",
    "                best_i2 = threshold\n",
    "                best_score = score\n",
    "\n",
    "        x[i] = best_i2\n",
    "        if verbose:\n",
    "            print(i, best_i2, best_score)\n",
    "\n",
    "    return x\n",
    "\n",
    "\n",
    "\n",
    "\n",
    "def f2_score(y_true, y_pred):\n",
    "    # fbeta_score throws a confusing error if inputs are not numpy arrays\n",
    "    y_true, y_pred, = np.array(y_true), np.array(y_pred)\n",
    "    # We need to use average='samples' here, any other average method will generate bogus results\n",
    "    return fbeta_score(y_true, y_pred, beta=2, average='samples')\n"
   ]
  },
  {
   "cell_type": "code",
   "execution_count": 125,
   "metadata": {
    "collapsed": true
   },
   "outputs": [],
   "source": [
    "# f = h5py.File(\"../data/qin_best_197_small.hdf\", 'r')\n",
    "# f.close()\n",
    "# print(\"Keys: %s\" % f.keys())\n"
   ]
  },
  {
   "cell_type": "code",
   "execution_count": 131,
   "metadata": {
    "collapsed": true
   },
   "outputs": [],
   "source": [
    "# filename = '../data/level9.one/eem-0.087937-134-2201-0-EFG/preds.hdf'\n",
    "# filename = '../data/qin_best_197_small.hdf'\n",
    "\n",
    "# f = h5py.File(filename, 'r')\n",
    "# f.close()\n",
    "\n"
   ]
  },
  {
   "cell_type": "code",
   "execution_count": 132,
   "metadata": {
    "collapsed": false
   },
   "outputs": [],
   "source": [
    "filename = '../data/level9/raw.hdf'\n",
    "\n",
    "\n",
    "val = pd.read_hdf(filename,key=\"ltest\")\n",
    "train = pd.read_hdf(filename,key=\"train\")\n",
    "test = pd.read_hdf(filename,key=\"test\")"
   ]
  },
  {
   "cell_type": "code",
   "execution_count": 133,
   "metadata": {
    "collapsed": false
   },
   "outputs": [
    {
     "data": {
      "text/plain": [
       "173"
      ]
     },
     "execution_count": 133,
     "metadata": {},
     "output_type": "execute_result"
    }
   ],
   "source": [
    "len(train.columns)"
   ]
  },
  {
   "cell_type": "code",
   "execution_count": 150,
   "metadata": {
    "collapsed": false,
    "scrolled": true
   },
   "outputs": [],
   "source": [
    "test_reindexed = test.set_index(\"ID\")\n",
    "test_reindexed = test_reindexed.reindex(df_test.image_name.values)"
   ]
  },
  {
   "cell_type": "code",
   "execution_count": 141,
   "metadata": {
    "collapsed": false
   },
   "outputs": [],
   "source": [
    "# val.iloc[:,-68:-51]"
   ]
  },
  {
   "cell_type": "markdown",
   "metadata": {},
   "source": [
    "##### Xception"
   ]
  },
  {
   "cell_type": "code",
   "execution_count": 143,
   "metadata": {
    "collapsed": false,
    "scrolled": true
   },
   "outputs": [
    {
     "data": {
      "text/plain": [
       "array([ 5603, 33842, 20450, ...,  8004,  5722,  9884], dtype=int64)"
      ]
     },
     "execution_count": 143,
     "metadata": {},
     "output_type": "execute_result"
    }
   ],
   "source": [
    "xce_val = val.iloc[:,-17:]\n",
    "xce_val.index.values"
   ]
  },
  {
   "cell_type": "code",
   "execution_count": 18,
   "metadata": {
    "collapsed": false
   },
   "outputs": [],
   "source": [
    "# xce_val.columns"
   ]
  },
  {
   "cell_type": "code",
   "execution_count": 163,
   "metadata": {
    "collapsed": true
   },
   "outputs": [],
   "source": [
    "xce_test = test_reindexed.iloc[:,-17:]"
   ]
  },
  {
   "cell_type": "code",
   "execution_count": 20,
   "metadata": {
    "collapsed": false
   },
   "outputs": [
    {
     "name": "stdout",
     "output_type": "stream",
     "text": [
      "(0, 0.19, 0.91518970148397993)\n",
      "(1, 0.31, 0.91521276411677599)\n",
      "(2, 0.16, 0.91543667851716604)\n",
      "(3, 0.35, 0.91583906172189156)\n",
      "(4, 0.29, 0.91586244934454752)\n",
      "(5, 0.18, 0.91633398416197043)\n"
     ]
    },
    {
     "name": "stderr",
     "output_type": "stream",
     "text": [
      "C:\\Users\\Armin\\Anaconda2\\lib\\site-packages\\sklearn\\metrics\\classification.py:1074: UndefinedMetricWarning: F-score is ill-defined and being set to 0.0 in samples with no predicted labels.\n",
      "  'precision', 'predicted', average, warn_for)\n"
     ]
    },
    {
     "name": "stdout",
     "output_type": "stream",
     "text": [
      "(6, 0.02, 0.91794949447164298)\n",
      "(7, 0.35, 0.91801249868858681)\n",
      "(8, 0.25, 0.91878400429779261)\n",
      "(9, 0.16, 0.91906297266641934)\n",
      "(10, 0.23, 0.92008191082610147)\n",
      "(11, 0.22, 0.92043449174919534)\n",
      "(12, 0.42, 0.92147487123640437)\n",
      "(13, 0.2, 0.92208318393244082)\n",
      "(14, 0.1, 0.92208318393244082)\n",
      "(15, 0.17, 0.92217719012046917)\n",
      "(16, 0.2, 0.92326655380800082)\n"
     ]
    }
   ],
   "source": [
    "xce_thres = optimise_f2_thresholds2(y_train[xce_val.index.values], xce_val.values,num_classes=17)\n"
   ]
  },
  {
   "cell_type": "code",
   "execution_count": 21,
   "metadata": {
    "collapsed": false
   },
   "outputs": [
    {
     "name": "stdout",
     "output_type": "stream",
     "text": [
      "('F2 Score:', 0.92326655380800082)\n"
     ]
    }
   ],
   "source": [
    "print('F2 Score:', f2_score(y_train[xce_val.index.values],  xce_val.values>xce_thres)) #combined_val_preds"
   ]
  },
  {
   "cell_type": "code",
   "execution_count": 164,
   "metadata": {
    "collapsed": true
   },
   "outputs": [],
   "source": [
    "xce_final_preds = (xce_test.values > xce_thres).astype(np.uint8)"
   ]
  },
  {
   "cell_type": "code",
   "execution_count": 165,
   "metadata": {
    "collapsed": false
   },
   "outputs": [
    {
     "data": {
      "text/plain": [
       "200312"
      ]
     },
     "execution_count": 165,
     "metadata": {},
     "output_type": "execute_result"
    }
   ],
   "source": [
    "xce_final_preds.sum()"
   ]
  },
  {
   "cell_type": "markdown",
   "metadata": {},
   "source": [
    "##### VGG"
   ]
  },
  {
   "cell_type": "code",
   "execution_count": 24,
   "metadata": {
    "collapsed": false
   },
   "outputs": [],
   "source": [
    "vgg_val = val.iloc[:,-51:-34]\n"
   ]
  },
  {
   "cell_type": "code",
   "execution_count": 166,
   "metadata": {
    "collapsed": true
   },
   "outputs": [],
   "source": [
    "vgg_test = test_reindexed.iloc[:,-51:-34]"
   ]
  },
  {
   "cell_type": "code",
   "execution_count": 26,
   "metadata": {
    "collapsed": false
   },
   "outputs": [
    {
     "name": "stdout",
     "output_type": "stream",
     "text": [
      "(0, 0.28, 0.91977851281452394)\n",
      "(1, 0.09, 0.91983282168304958)\n",
      "(2, 0.08, 0.91988035858152661)\n",
      "(3, 0.6, 0.92000980932902698)\n",
      "(4, 0.45, 0.92015170901825272)\n",
      "(5, 0.14, 0.92034023256965636)\n",
      "(6, 0.18, 0.9205037573793553)\n",
      "(7, 0.45, 0.92058012084715546)\n",
      "(8, 0.21, 0.9228929308127356)\n",
      "(9, 0.23, 0.92439026733005425)\n",
      "(10, 0.1, 0.92439026733005425)\n",
      "(11, 0.22, 0.92482326865655251)\n",
      "(12, 0.21, 0.92507610805063445)\n",
      "(13, 0.16, 0.92633054979273699)\n",
      "(14, 0.56, 0.92648596083741164)\n",
      "(15, 0.49, 0.9266468785159796)\n",
      "(16, 0.22, 0.92944812057889925)\n"
     ]
    }
   ],
   "source": [
    "vgg_thres = optimise_f2_thresholds2(y_train[vgg_val.index.values], vgg_val.values,num_classes=17)\n"
   ]
  },
  {
   "cell_type": "code",
   "execution_count": 27,
   "metadata": {
    "collapsed": false
   },
   "outputs": [
    {
     "name": "stdout",
     "output_type": "stream",
     "text": [
      "('F2 Score:', 0.92944812057889925)\n"
     ]
    }
   ],
   "source": [
    "print('F2 Score:', f2_score(y_train[vgg_val.index.values], vgg_val.values>vgg_thres)) #combined_val_preds"
   ]
  },
  {
   "cell_type": "code",
   "execution_count": 167,
   "metadata": {
    "collapsed": true
   },
   "outputs": [],
   "source": [
    "vgg_final_preds = (vgg_test.values > vgg_thres).astype(np.uint8)"
   ]
  },
  {
   "cell_type": "code",
   "execution_count": 168,
   "metadata": {
    "collapsed": false
   },
   "outputs": [
    {
     "data": {
      "text/plain": [
       "202003"
      ]
     },
     "execution_count": 168,
     "metadata": {},
     "output_type": "execute_result"
    }
   ],
   "source": [
    "vgg_final_preds.sum()"
   ]
  },
  {
   "cell_type": "markdown",
   "metadata": {},
   "source": [
    "##### Resnet"
   ]
  },
  {
   "cell_type": "code",
   "execution_count": 30,
   "metadata": {
    "collapsed": false
   },
   "outputs": [],
   "source": [
    "# val.iloc[:,-85:-68].columns\n",
    "res_val = val.iloc[:,-85:-68]"
   ]
  },
  {
   "cell_type": "code",
   "execution_count": 180,
   "metadata": {
    "collapsed": true
   },
   "outputs": [],
   "source": [
    "res_test = test_reindexed.iloc[:,-85:-68]"
   ]
  },
  {
   "cell_type": "code",
   "execution_count": 32,
   "metadata": {
    "collapsed": false
   },
   "outputs": [
    {
     "name": "stdout",
     "output_type": "stream",
     "text": [
      "(0, 0.17, 0.92415894456522607)\n",
      "(1, 0.34, 0.92418385567144556)\n",
      "(2, 0.14, 0.92438120093270604)\n",
      "(3, 0.41, 0.92495504019025665)\n",
      "(4, 0.36, 0.92513381940680151)\n",
      "(5, 0.09, 0.92525563742552985)\n",
      "(6, 0.08, 0.92536324200355424)\n",
      "(7, 0.39, 0.92544188498540247)\n",
      "(8, 0.24, 0.9265741786985694)\n",
      "(9, 0.14, 0.92667202435043006)\n",
      "(10, 0.35, 0.92974958875983993)\n",
      "(11, 0.17, 0.92990243645822612)\n",
      "(12, 0.17, 0.93088477088376498)\n",
      "(13, 0.21, 0.93152926880326747)\n",
      "(14, 0.11, 0.93155607198759416)\n",
      "(15, 0.14, 0.93162234880148553)\n",
      "(16, 0.18, 0.93282146530750876)\n"
     ]
    }
   ],
   "source": [
    "res_thres = optimise_f2_thresholds2(y_train[res_val.index.values],res_val.values,num_classes=17)\n"
   ]
  },
  {
   "cell_type": "code",
   "execution_count": 33,
   "metadata": {
    "collapsed": false,
    "scrolled": true
   },
   "outputs": [
    {
     "name": "stdout",
     "output_type": "stream",
     "text": [
      "('F2 Score:', 0.93282146530750876)\n"
     ]
    }
   ],
   "source": [
    "print('F2 Score:', f2_score(y_train[res_val.index.values], res_val.values>res_thres)) #combined_val_preds"
   ]
  },
  {
   "cell_type": "code",
   "execution_count": 170,
   "metadata": {
    "collapsed": true
   },
   "outputs": [],
   "source": [
    "res_final_preds = (res_test.values > res_thres).astype(np.uint8)"
   ]
  },
  {
   "cell_type": "code",
   "execution_count": 35,
   "metadata": {
    "collapsed": false
   },
   "outputs": [
    {
     "data": {
      "text/plain": [
       "201786"
      ]
     },
     "execution_count": 35,
     "metadata": {},
     "output_type": "execute_result"
    }
   ],
   "source": [
    "res_final_preds.sum()"
   ]
  },
  {
   "cell_type": "markdown",
   "metadata": {},
   "source": [
    "#### DenseNet"
   ]
  },
  {
   "cell_type": "code",
   "execution_count": 195,
   "metadata": {
    "collapsed": true
   },
   "outputs": [],
   "source": [
    "filename = '../data/qin_best_197.hdf'\n",
    "\n",
    "\n",
    "val = pd.read_hdf(filename,key=\"ltest\")\n",
    "train = pd.read_hdf(filename,key=\"train\")\n",
    "test = pd.read_hdf(filename,key=\"test\")"
   ]
  },
  {
   "cell_type": "code",
   "execution_count": 196,
   "metadata": {
    "collapsed": true
   },
   "outputs": [],
   "source": [
    "test = test.set_index(\"ID\")\n",
    "test = test.reindex(df_test.image_name.values)"
   ]
  },
  {
   "cell_type": "code",
   "execution_count": 197,
   "metadata": {
    "collapsed": true
   },
   "outputs": [],
   "source": [
    "dense_val = val.iloc[:,-17:]\n",
    "dense_test = test.iloc[:,-17:]"
   ]
  },
  {
   "cell_type": "code",
   "execution_count": 192,
   "metadata": {
    "collapsed": false
   },
   "outputs": [
    {
     "name": "stdout",
     "output_type": "stream",
     "text": [
      "(0, 0.22, 0.9302514461567517)\n",
      "(1, 0.13, 0.93026440753990436)\n",
      "(2, 0.11, 0.93028355589934375)\n",
      "(3, 0.2, 0.93064710211964219)\n",
      "(4, 0.13, 0.93068305185225642)\n",
      "(5, 0.17, 0.93093301406481344)\n",
      "(6, 0.16, 0.93110486154448946)\n",
      "(7, 0.15, 0.93111316829621726)\n",
      "(8, 0.18, 0.93259060862638143)\n",
      "(9, 0.21, 0.93361214357830502)\n",
      "(10, 0.2, 0.93434046316182195)\n",
      "(11, 0.21, 0.93471099842798189)\n",
      "(12, 0.23, 0.93581739174032152)\n",
      "(13, 0.28, 0.9367863760766123)\n",
      "(14, 0.16, 0.93689018174377237)\n",
      "(15, 0.07, 0.93692738981875689)\n",
      "(16, 0.19, 0.93814425065446505)\n"
     ]
    }
   ],
   "source": [
    "dense_thres = optimise_f2_thresholds2(y_train[dense_val.index.values],dense_val.values,num_classes=17)\n"
   ]
  },
  {
   "cell_type": "code",
   "execution_count": 198,
   "metadata": {
    "collapsed": false
   },
   "outputs": [
    {
     "name": "stdout",
     "output_type": "stream",
     "text": [
      "('F2 Score:', 0.93814425065446505)\n"
     ]
    }
   ],
   "source": [
    "print('F2 Score:', f2_score(y_train[dense_val.index.values], dense_val.values>dense_thres)) #combined_val_preds"
   ]
  },
  {
   "cell_type": "code",
   "execution_count": 199,
   "metadata": {
    "collapsed": false
   },
   "outputs": [],
   "source": [
    "dense_final_preds = (dense_test.values > dense_thres).astype(np.uint8)"
   ]
  },
  {
   "cell_type": "code",
   "execution_count": 200,
   "metadata": {
    "collapsed": false
   },
   "outputs": [
    {
     "data": {
      "text/plain": [
       "198132"
      ]
     },
     "execution_count": 200,
     "metadata": {},
     "output_type": "execute_result"
    }
   ],
   "source": [
    "dense_final_preds.sum()"
   ]
  },
  {
   "cell_type": "markdown",
   "metadata": {},
   "source": [
    "### Armin's"
   ]
  },
  {
   "cell_type": "code",
   "execution_count": 39,
   "metadata": {
    "collapsed": true
   },
   "outputs": [],
   "source": [
    "\n",
    "armin_labels = ['blow_down',\n",
    " 'bare_ground',\n",
    " 'conventional_mine',\n",
    " 'blooming',\n",
    " 'cultivation',\n",
    " 'artisinal_mine',\n",
    " 'haze',\n",
    " 'primary',\n",
    " 'slash_burn',\n",
    " 'habitation',\n",
    " 'clear',\n",
    " 'road',\n",
    " 'selective_logging',\n",
    " 'partly_cloudy',\n",
    " 'agriculture',\n",
    " 'water',\n",
    " 'cloudy']"
   ]
  },
  {
   "cell_type": "code",
   "execution_count": 43,
   "metadata": {
    "collapsed": true
   },
   "outputs": [],
   "source": [
    "new_order = {'slash_burn': 15, 'selective_logging': 14, \n",
    "             'cultivation': 8, 'clear': 5, 'habitation': 9,\n",
    "             'conventional_mine': 7, 'cloudy': 6, 'primary': 12, \n",
    "             'water': 16, 'haze': 10, 'artisinal_mine': 1, \n",
    "             'partly_cloudy': 11, 'blooming': 3, 'bare_ground': 2, \n",
    "             'blow_down': 4, 'agriculture': 0, 'road': 13}\n",
    "\n",
    "inv_map = {v: k for k, v in new_order.iteritems()}\n",
    "inv_map = inv_map.values()"
   ]
  },
  {
   "cell_type": "code",
   "execution_count": 45,
   "metadata": {
    "collapsed": false
   },
   "outputs": [
    {
     "data": {
      "text/plain": [
       "199574"
      ]
     },
     "execution_count": 45,
     "metadata": {},
     "output_type": "execute_result"
    }
   ],
   "source": [
    "armin_resnet = load_array(\"../data/oli_res_blend_01_qin_ordering.dat/\")\n",
    "armin_resnet.sum()"
   ]
  },
  {
   "cell_type": "code",
   "execution_count": 65,
   "metadata": {
    "collapsed": false
   },
   "outputs": [],
   "source": [
    "armin_etr = load_array(\"../data/etr_tifonly_test_preds_01.dat/\")\n",
    "armin_etr = pd.DataFrame(armin_etr, columns = armin_labels)\n",
    "\n",
    "armin_etr = armin_etr[inv_map].values"
   ]
  },
  {
   "cell_type": "code",
   "execution_count": 72,
   "metadata": {
    "collapsed": true
   },
   "outputs": [],
   "source": [
    "armin_xgb = load_array(\"../data/xgb_tifonly_test_preds_01.dat/\")\n",
    "armin_xgb = pd.DataFrame(armin_xgb, columns = armin_labels)\n",
    "\n",
    "armin_xgb = armin_xgb[inv_map].values"
   ]
  },
  {
   "cell_type": "code",
   "execution_count": 73,
   "metadata": {
    "collapsed": true
   },
   "outputs": [],
   "source": [
    "armin_inception = pd.read_csv(\"../data/inception_full_150x150_10tta_augv2_01_qin_ordering.csv\").values"
   ]
  },
  {
   "cell_type": "code",
   "execution_count": 74,
   "metadata": {
    "collapsed": true
   },
   "outputs": [],
   "source": [
    "armin_xception =  pd.read_csv(\"../data/xception_full_112x112_fullnetft_01_qin_ordering.csv\").values"
   ]
  },
  {
   "cell_type": "code",
   "execution_count": 69,
   "metadata": {
    "collapsed": false
   },
   "outputs": [],
   "source": [
    "# armin_etr = load_array(\"../data/etr_test_preds_01_qin_order.dat/\")\n",
    "# armin_etr.sum()"
   ]
  },
  {
   "cell_type": "code",
   "execution_count": 140,
   "metadata": {
    "collapsed": false
   },
   "outputs": [
    {
     "data": {
      "text/plain": [
       "20521"
      ]
     },
     "execution_count": 140,
     "metadata": {},
     "output_type": "execute_result"
    }
   ],
   "source": [
    "df_test.shape[0] - (df_test.image_name == test.ID).sum()"
   ]
  },
  {
   "cell_type": "code",
   "execution_count": null,
   "metadata": {
    "collapsed": true
   },
   "outputs": [],
   "source": []
  },
  {
   "cell_type": "markdown",
   "metadata": {},
   "source": [
    "### Voting"
   ]
  },
  {
   "cell_type": "code",
   "execution_count": 221,
   "metadata": {
    "collapsed": false
   },
   "outputs": [],
   "source": [
    "voted = res_final_preds + vgg_final_preds + xce_final_preds + dense_final_preds \\\n",
    " + armin_resnet + armin_inception+ armin_xception"
   ]
  },
  {
   "cell_type": "code",
   "execution_count": 222,
   "metadata": {
    "collapsed": false
   },
   "outputs": [
    {
     "data": {
      "text/html": [
       "<div>\n",
       "<style>\n",
       "    .dataframe thead tr:only-child th {\n",
       "        text-align: right;\n",
       "    }\n",
       "\n",
       "    .dataframe thead th {\n",
       "        text-align: left;\n",
       "    }\n",
       "\n",
       "    .dataframe tbody tr th {\n",
       "        vertical-align: top;\n",
       "    }\n",
       "</style>\n",
       "<table border=\"1\" class=\"dataframe\">\n",
       "  <thead>\n",
       "    <tr style=\"text-align: right;\">\n",
       "      <th></th>\n",
       "      <th>agriculture</th>\n",
       "      <th>artisinal_mine</th>\n",
       "      <th>bare_ground</th>\n",
       "      <th>blooming</th>\n",
       "      <th>blow_down</th>\n",
       "      <th>clear</th>\n",
       "      <th>cloudy</th>\n",
       "      <th>conventional_mine</th>\n",
       "      <th>cultivation</th>\n",
       "      <th>habitation</th>\n",
       "      <th>haze</th>\n",
       "      <th>partly_cloudy</th>\n",
       "      <th>primary</th>\n",
       "      <th>road</th>\n",
       "      <th>selective_logging</th>\n",
       "      <th>slash_burn</th>\n",
       "      <th>water</th>\n",
       "    </tr>\n",
       "  </thead>\n",
       "  <tbody>\n",
       "    <tr>\n",
       "      <th>0</th>\n",
       "      <td>0</td>\n",
       "      <td>0</td>\n",
       "      <td>0</td>\n",
       "      <td>0</td>\n",
       "      <td>0</td>\n",
       "      <td>5</td>\n",
       "      <td>0</td>\n",
       "      <td>2</td>\n",
       "      <td>0</td>\n",
       "      <td>0</td>\n",
       "      <td>2</td>\n",
       "      <td>1</td>\n",
       "      <td>5</td>\n",
       "      <td>0</td>\n",
       "      <td>1</td>\n",
       "      <td>1</td>\n",
       "      <td>0</td>\n",
       "    </tr>\n",
       "    <tr>\n",
       "      <th>1</th>\n",
       "      <td>0</td>\n",
       "      <td>0</td>\n",
       "      <td>0</td>\n",
       "      <td>0</td>\n",
       "      <td>0</td>\n",
       "      <td>5</td>\n",
       "      <td>0</td>\n",
       "      <td>2</td>\n",
       "      <td>0</td>\n",
       "      <td>0</td>\n",
       "      <td>2</td>\n",
       "      <td>1</td>\n",
       "      <td>5</td>\n",
       "      <td>0</td>\n",
       "      <td>1</td>\n",
       "      <td>1</td>\n",
       "      <td>0</td>\n",
       "    </tr>\n",
       "    <tr>\n",
       "      <th>2</th>\n",
       "      <td>0</td>\n",
       "      <td>0</td>\n",
       "      <td>0</td>\n",
       "      <td>0</td>\n",
       "      <td>0</td>\n",
       "      <td>0</td>\n",
       "      <td>0</td>\n",
       "      <td>2</td>\n",
       "      <td>0</td>\n",
       "      <td>0</td>\n",
       "      <td>1</td>\n",
       "      <td>6</td>\n",
       "      <td>5</td>\n",
       "      <td>1</td>\n",
       "      <td>1</td>\n",
       "      <td>1</td>\n",
       "      <td>0</td>\n",
       "    </tr>\n",
       "    <tr>\n",
       "      <th>3</th>\n",
       "      <td>5</td>\n",
       "      <td>0</td>\n",
       "      <td>0</td>\n",
       "      <td>0</td>\n",
       "      <td>0</td>\n",
       "      <td>5</td>\n",
       "      <td>0</td>\n",
       "      <td>2</td>\n",
       "      <td>5</td>\n",
       "      <td>0</td>\n",
       "      <td>2</td>\n",
       "      <td>1</td>\n",
       "      <td>5</td>\n",
       "      <td>1</td>\n",
       "      <td>2</td>\n",
       "      <td>1</td>\n",
       "      <td>0</td>\n",
       "    </tr>\n",
       "    <tr>\n",
       "      <th>4</th>\n",
       "      <td>0</td>\n",
       "      <td>0</td>\n",
       "      <td>0</td>\n",
       "      <td>0</td>\n",
       "      <td>0</td>\n",
       "      <td>0</td>\n",
       "      <td>3</td>\n",
       "      <td>2</td>\n",
       "      <td>0</td>\n",
       "      <td>0</td>\n",
       "      <td>1</td>\n",
       "      <td>6</td>\n",
       "      <td>4</td>\n",
       "      <td>1</td>\n",
       "      <td>1</td>\n",
       "      <td>1</td>\n",
       "      <td>1</td>\n",
       "    </tr>\n",
       "  </tbody>\n",
       "</table>\n",
       "</div>"
      ],
      "text/plain": [
       "   agriculture  artisinal_mine  bare_ground  blooming  blow_down  clear  \\\n",
       "0            0               0            0         0          0      5   \n",
       "1            0               0            0         0          0      5   \n",
       "2            0               0            0         0          0      0   \n",
       "3            5               0            0         0          0      5   \n",
       "4            0               0            0         0          0      0   \n",
       "\n",
       "   cloudy  conventional_mine  cultivation  habitation  haze  partly_cloudy  \\\n",
       "0       0                  2            0           0     2              1   \n",
       "1       0                  2            0           0     2              1   \n",
       "2       0                  2            0           0     1              6   \n",
       "3       0                  2            5           0     2              1   \n",
       "4       3                  2            0           0     1              6   \n",
       "\n",
       "   primary  road  selective_logging  slash_burn  water  \n",
       "0        5     0                  1           1      0  \n",
       "1        5     0                  1           1      0  \n",
       "2        5     1                  1           1      0  \n",
       "3        5     1                  2           1      0  \n",
       "4        4     1                  1           1      1  "
      ]
     },
     "execution_count": 222,
     "metadata": {},
     "output_type": "execute_result"
    }
   ],
   "source": [
    "result = pd.DataFrame(voted, columns = labels_qin)\n",
    "result.head()"
   ]
  },
  {
   "cell_type": "code",
   "execution_count": 223,
   "metadata": {
    "collapsed": false
   },
   "outputs": [
    {
     "name": "stderr",
     "output_type": "stream",
     "text": [
      "C:\\Users\\Armin\\Anaconda2\\lib\\site-packages\\ipykernel\\__main__.py:3: DeprecationWarning: \n",
      ".ix is deprecated. Please use\n",
      ".loc for label based indexing or\n",
      ".iloc for positional indexing\n",
      "\n",
      "See the documentation here:\n",
      "http://pandas.pydata.org/pandas-docs/stable/indexing.html#deprecate_ix\n",
      "  app.launch_new_instance()\n"
     ]
    },
    {
     "name": "stdout",
     "output_type": "stream",
     "text": [
      "\n"
     ]
    }
   ],
   "source": [
    "label_preds = []\n",
    "for i in tqdm_notebook(range(result.shape[0]), miniters=1000):\n",
    "    a = result.ix[[i]]\n",
    "    a = a.apply(lambda x: x >= 4, axis=1)\n",
    "    a = a.transpose()\n",
    "    a = a.loc[a[i] == True]\n",
    "    ' '.join(list(a.index))\n",
    "    label_preds.append(' '.join(list(a.index)))"
   ]
  },
  {
   "cell_type": "code",
   "execution_count": 226,
   "metadata": {
    "collapsed": false
   },
   "outputs": [
    {
     "data": {
      "text/html": [
       "<div>\n",
       "<style>\n",
       "    .dataframe thead tr:only-child th {\n",
       "        text-align: right;\n",
       "    }\n",
       "\n",
       "    .dataframe thead th {\n",
       "        text-align: left;\n",
       "    }\n",
       "\n",
       "    .dataframe tbody tr th {\n",
       "        vertical-align: top;\n",
       "    }\n",
       "</style>\n",
       "<table border=\"1\" class=\"dataframe\">\n",
       "  <thead>\n",
       "    <tr style=\"text-align: right;\">\n",
       "      <th></th>\n",
       "      <th>image_name</th>\n",
       "      <th>tags</th>\n",
       "    </tr>\n",
       "  </thead>\n",
       "  <tbody>\n",
       "    <tr>\n",
       "      <th>0</th>\n",
       "      <td>test_0</td>\n",
       "      <td>clear primary</td>\n",
       "    </tr>\n",
       "    <tr>\n",
       "      <th>1</th>\n",
       "      <td>test_1</td>\n",
       "      <td>clear primary</td>\n",
       "    </tr>\n",
       "    <tr>\n",
       "      <th>2</th>\n",
       "      <td>test_2</td>\n",
       "      <td>partly_cloudy primary</td>\n",
       "    </tr>\n",
       "    <tr>\n",
       "      <th>3</th>\n",
       "      <td>test_3</td>\n",
       "      <td>agriculture clear cultivation primary</td>\n",
       "    </tr>\n",
       "    <tr>\n",
       "      <th>4</th>\n",
       "      <td>test_4</td>\n",
       "      <td>partly_cloudy primary</td>\n",
       "    </tr>\n",
       "  </tbody>\n",
       "</table>\n",
       "</div>"
      ],
      "text/plain": [
       "  image_name                                   tags\n",
       "0     test_0                          clear primary\n",
       "1     test_1                          clear primary\n",
       "2     test_2                  partly_cloudy primary\n",
       "3     test_3  agriculture clear cultivation primary\n",
       "4     test_4                  partly_cloudy primary"
      ]
     },
     "execution_count": 226,
     "metadata": {},
     "output_type": "execute_result"
    }
   ],
   "source": [
    "df_test[\"tags\"] = label_preds\n",
    "df_test.head()"
   ]
  },
  {
   "cell_type": "code",
   "execution_count": 227,
   "metadata": {
    "collapsed": false,
    "scrolled": true
   },
   "outputs": [
    {
     "data": {
      "text/html": [
       "<div>\n",
       "<style>\n",
       "    .dataframe thead tr:only-child th {\n",
       "        text-align: right;\n",
       "    }\n",
       "\n",
       "    .dataframe thead th {\n",
       "        text-align: left;\n",
       "    }\n",
       "\n",
       "    .dataframe tbody tr th {\n",
       "        vertical-align: top;\n",
       "    }\n",
       "</style>\n",
       "<table border=\"1\" class=\"dataframe\">\n",
       "  <thead>\n",
       "    <tr style=\"text-align: right;\">\n",
       "      <th></th>\n",
       "      <th>image_name</th>\n",
       "      <th>tags</th>\n",
       "    </tr>\n",
       "  </thead>\n",
       "  <tbody>\n",
       "    <tr>\n",
       "      <th>61091</th>\n",
       "      <td>file_9909</td>\n",
       "      <td>cloudy</td>\n",
       "    </tr>\n",
       "    <tr>\n",
       "      <th>61092</th>\n",
       "      <td>file_991</td>\n",
       "      <td>clear primary</td>\n",
       "    </tr>\n",
       "    <tr>\n",
       "      <th>61093</th>\n",
       "      <td>file_9910</td>\n",
       "      <td>agriculture clear primary road</td>\n",
       "    </tr>\n",
       "    <tr>\n",
       "      <th>61094</th>\n",
       "      <td>file_9911</td>\n",
       "      <td>clear primary water</td>\n",
       "    </tr>\n",
       "    <tr>\n",
       "      <th>61095</th>\n",
       "      <td>file_9912</td>\n",
       "      <td>partly_cloudy primary</td>\n",
       "    </tr>\n",
       "    <tr>\n",
       "      <th>61096</th>\n",
       "      <td>file_9913</td>\n",
       "      <td>agriculture habitation partly_cloudy primary road</td>\n",
       "    </tr>\n",
       "    <tr>\n",
       "      <th>61097</th>\n",
       "      <td>file_9914</td>\n",
       "      <td>agriculture clear habitation partly_cloudy pri...</td>\n",
       "    </tr>\n",
       "    <tr>\n",
       "      <th>61098</th>\n",
       "      <td>file_9915</td>\n",
       "      <td>clear primary</td>\n",
       "    </tr>\n",
       "    <tr>\n",
       "      <th>61099</th>\n",
       "      <td>file_9916</td>\n",
       "      <td>cloudy</td>\n",
       "    </tr>\n",
       "    <tr>\n",
       "      <th>61100</th>\n",
       "      <td>file_9917</td>\n",
       "      <td>clear primary</td>\n",
       "    </tr>\n",
       "    <tr>\n",
       "      <th>61101</th>\n",
       "      <td>file_9918</td>\n",
       "      <td>clear primary</td>\n",
       "    </tr>\n",
       "    <tr>\n",
       "      <th>61102</th>\n",
       "      <td>file_9919</td>\n",
       "      <td>agriculture clear cultivation primary</td>\n",
       "    </tr>\n",
       "    <tr>\n",
       "      <th>61103</th>\n",
       "      <td>file_992</td>\n",
       "      <td>clear cloudy water</td>\n",
       "    </tr>\n",
       "    <tr>\n",
       "      <th>61104</th>\n",
       "      <td>file_9920</td>\n",
       "      <td>clear primary water</td>\n",
       "    </tr>\n",
       "    <tr>\n",
       "      <th>61105</th>\n",
       "      <td>file_9921</td>\n",
       "      <td>agriculture clear cultivation primary</td>\n",
       "    </tr>\n",
       "    <tr>\n",
       "      <th>61106</th>\n",
       "      <td>file_9922</td>\n",
       "      <td>agriculture partly_cloudy primary road</td>\n",
       "    </tr>\n",
       "    <tr>\n",
       "      <th>61107</th>\n",
       "      <td>file_9923</td>\n",
       "      <td>clear primary</td>\n",
       "    </tr>\n",
       "    <tr>\n",
       "      <th>61108</th>\n",
       "      <td>file_9924</td>\n",
       "      <td>haze primary</td>\n",
       "    </tr>\n",
       "    <tr>\n",
       "      <th>61109</th>\n",
       "      <td>file_9925</td>\n",
       "      <td>partly_cloudy primary</td>\n",
       "    </tr>\n",
       "    <tr>\n",
       "      <th>61110</th>\n",
       "      <td>file_9926</td>\n",
       "      <td>agriculture partly_cloudy primary road</td>\n",
       "    </tr>\n",
       "    <tr>\n",
       "      <th>61111</th>\n",
       "      <td>file_9927</td>\n",
       "      <td>agriculture partly_cloudy primary road</td>\n",
       "    </tr>\n",
       "    <tr>\n",
       "      <th>61112</th>\n",
       "      <td>file_9928</td>\n",
       "      <td>cloudy</td>\n",
       "    </tr>\n",
       "    <tr>\n",
       "      <th>61113</th>\n",
       "      <td>file_9929</td>\n",
       "      <td>clear primary</td>\n",
       "    </tr>\n",
       "    <tr>\n",
       "      <th>61114</th>\n",
       "      <td>file_993</td>\n",
       "      <td>agriculture clear partly_cloudy primary road</td>\n",
       "    </tr>\n",
       "    <tr>\n",
       "      <th>61115</th>\n",
       "      <td>file_9930</td>\n",
       "      <td>cloudy haze primary</td>\n",
       "    </tr>\n",
       "    <tr>\n",
       "      <th>61116</th>\n",
       "      <td>file_9931</td>\n",
       "      <td>agriculture cultivation partly_cloudy primary</td>\n",
       "    </tr>\n",
       "    <tr>\n",
       "      <th>61117</th>\n",
       "      <td>file_9932</td>\n",
       "      <td>clear primary</td>\n",
       "    </tr>\n",
       "    <tr>\n",
       "      <th>61118</th>\n",
       "      <td>file_9933</td>\n",
       "      <td>agriculture clear cultivation primary</td>\n",
       "    </tr>\n",
       "    <tr>\n",
       "      <th>61119</th>\n",
       "      <td>file_9934</td>\n",
       "      <td>agriculture clear cultivation primary</td>\n",
       "    </tr>\n",
       "    <tr>\n",
       "      <th>61120</th>\n",
       "      <td>file_9935</td>\n",
       "      <td>agriculture clear primary road water</td>\n",
       "    </tr>\n",
       "    <tr>\n",
       "      <th>...</th>\n",
       "      <td>...</td>\n",
       "      <td>...</td>\n",
       "    </tr>\n",
       "    <tr>\n",
       "      <th>61161</th>\n",
       "      <td>file_9972</td>\n",
       "      <td>agriculture clear cultivation primary</td>\n",
       "    </tr>\n",
       "    <tr>\n",
       "      <th>61162</th>\n",
       "      <td>file_9973</td>\n",
       "      <td>agriculture clear cultivation habitation prima...</td>\n",
       "    </tr>\n",
       "    <tr>\n",
       "      <th>61163</th>\n",
       "      <td>file_9974</td>\n",
       "      <td>clear primary</td>\n",
       "    </tr>\n",
       "    <tr>\n",
       "      <th>61164</th>\n",
       "      <td>file_9975</td>\n",
       "      <td>clear partly_cloudy primary</td>\n",
       "    </tr>\n",
       "    <tr>\n",
       "      <th>61165</th>\n",
       "      <td>file_9976</td>\n",
       "      <td>agriculture clear cultivation primary</td>\n",
       "    </tr>\n",
       "    <tr>\n",
       "      <th>61166</th>\n",
       "      <td>file_9977</td>\n",
       "      <td>clear primary</td>\n",
       "    </tr>\n",
       "    <tr>\n",
       "      <th>61167</th>\n",
       "      <td>file_9978</td>\n",
       "      <td>partly_cloudy primary</td>\n",
       "    </tr>\n",
       "    <tr>\n",
       "      <th>61168</th>\n",
       "      <td>file_9979</td>\n",
       "      <td>clear primary</td>\n",
       "    </tr>\n",
       "    <tr>\n",
       "      <th>61169</th>\n",
       "      <td>file_998</td>\n",
       "      <td>clear primary</td>\n",
       "    </tr>\n",
       "    <tr>\n",
       "      <th>61170</th>\n",
       "      <td>file_9980</td>\n",
       "      <td>clear primary</td>\n",
       "    </tr>\n",
       "    <tr>\n",
       "      <th>61171</th>\n",
       "      <td>file_9981</td>\n",
       "      <td>agriculture clear cultivation primary</td>\n",
       "    </tr>\n",
       "    <tr>\n",
       "      <th>61172</th>\n",
       "      <td>file_9982</td>\n",
       "      <td>agriculture clear habitation primary road</td>\n",
       "    </tr>\n",
       "    <tr>\n",
       "      <th>61173</th>\n",
       "      <td>file_9983</td>\n",
       "      <td>clear primary</td>\n",
       "    </tr>\n",
       "    <tr>\n",
       "      <th>61174</th>\n",
       "      <td>file_9984</td>\n",
       "      <td>clear primary</td>\n",
       "    </tr>\n",
       "    <tr>\n",
       "      <th>61175</th>\n",
       "      <td>file_9985</td>\n",
       "      <td>clear primary</td>\n",
       "    </tr>\n",
       "    <tr>\n",
       "      <th>61176</th>\n",
       "      <td>file_9986</td>\n",
       "      <td>clear primary</td>\n",
       "    </tr>\n",
       "    <tr>\n",
       "      <th>61177</th>\n",
       "      <td>file_9987</td>\n",
       "      <td>agriculture clear habitation primary road</td>\n",
       "    </tr>\n",
       "    <tr>\n",
       "      <th>61178</th>\n",
       "      <td>file_9988</td>\n",
       "      <td>clear primary</td>\n",
       "    </tr>\n",
       "    <tr>\n",
       "      <th>61179</th>\n",
       "      <td>file_9989</td>\n",
       "      <td>agriculture clear habitation primary road</td>\n",
       "    </tr>\n",
       "    <tr>\n",
       "      <th>61180</th>\n",
       "      <td>file_999</td>\n",
       "      <td>agriculture clear habitation primary road</td>\n",
       "    </tr>\n",
       "    <tr>\n",
       "      <th>61181</th>\n",
       "      <td>file_9990</td>\n",
       "      <td>clear primary</td>\n",
       "    </tr>\n",
       "    <tr>\n",
       "      <th>61182</th>\n",
       "      <td>file_9991</td>\n",
       "      <td>agriculture clear cultivation primary road</td>\n",
       "    </tr>\n",
       "    <tr>\n",
       "      <th>61183</th>\n",
       "      <td>file_9992</td>\n",
       "      <td>clear primary</td>\n",
       "    </tr>\n",
       "    <tr>\n",
       "      <th>61184</th>\n",
       "      <td>file_9993</td>\n",
       "      <td>clear primary water</td>\n",
       "    </tr>\n",
       "    <tr>\n",
       "      <th>61185</th>\n",
       "      <td>file_9994</td>\n",
       "      <td>partly_cloudy primary water</td>\n",
       "    </tr>\n",
       "    <tr>\n",
       "      <th>61186</th>\n",
       "      <td>file_9995</td>\n",
       "      <td>cloudy partly_cloudy</td>\n",
       "    </tr>\n",
       "    <tr>\n",
       "      <th>61187</th>\n",
       "      <td>file_9996</td>\n",
       "      <td>clear primary water</td>\n",
       "    </tr>\n",
       "    <tr>\n",
       "      <th>61188</th>\n",
       "      <td>file_9997</td>\n",
       "      <td>clear primary road water</td>\n",
       "    </tr>\n",
       "    <tr>\n",
       "      <th>61189</th>\n",
       "      <td>file_9998</td>\n",
       "      <td>cloudy</td>\n",
       "    </tr>\n",
       "    <tr>\n",
       "      <th>61190</th>\n",
       "      <td>file_9999</td>\n",
       "      <td>clear habitation primary road</td>\n",
       "    </tr>\n",
       "  </tbody>\n",
       "</table>\n",
       "<p>100 rows × 2 columns</p>\n",
       "</div>"
      ],
      "text/plain": [
       "      image_name                                               tags\n",
       "61091  file_9909                                             cloudy\n",
       "61092   file_991                                      clear primary\n",
       "61093  file_9910                     agriculture clear primary road\n",
       "61094  file_9911                                clear primary water\n",
       "61095  file_9912                              partly_cloudy primary\n",
       "61096  file_9913  agriculture habitation partly_cloudy primary road\n",
       "61097  file_9914  agriculture clear habitation partly_cloudy pri...\n",
       "61098  file_9915                                      clear primary\n",
       "61099  file_9916                                             cloudy\n",
       "61100  file_9917                                      clear primary\n",
       "61101  file_9918                                      clear primary\n",
       "61102  file_9919              agriculture clear cultivation primary\n",
       "61103   file_992                                 clear cloudy water\n",
       "61104  file_9920                                clear primary water\n",
       "61105  file_9921              agriculture clear cultivation primary\n",
       "61106  file_9922             agriculture partly_cloudy primary road\n",
       "61107  file_9923                                      clear primary\n",
       "61108  file_9924                                       haze primary\n",
       "61109  file_9925                              partly_cloudy primary\n",
       "61110  file_9926             agriculture partly_cloudy primary road\n",
       "61111  file_9927             agriculture partly_cloudy primary road\n",
       "61112  file_9928                                             cloudy\n",
       "61113  file_9929                                      clear primary\n",
       "61114   file_993       agriculture clear partly_cloudy primary road\n",
       "61115  file_9930                                cloudy haze primary\n",
       "61116  file_9931      agriculture cultivation partly_cloudy primary\n",
       "61117  file_9932                                      clear primary\n",
       "61118  file_9933              agriculture clear cultivation primary\n",
       "61119  file_9934              agriculture clear cultivation primary\n",
       "61120  file_9935               agriculture clear primary road water\n",
       "...          ...                                                ...\n",
       "61161  file_9972              agriculture clear cultivation primary\n",
       "61162  file_9973  agriculture clear cultivation habitation prima...\n",
       "61163  file_9974                                      clear primary\n",
       "61164  file_9975                        clear partly_cloudy primary\n",
       "61165  file_9976              agriculture clear cultivation primary\n",
       "61166  file_9977                                      clear primary\n",
       "61167  file_9978                              partly_cloudy primary\n",
       "61168  file_9979                                      clear primary\n",
       "61169   file_998                                      clear primary\n",
       "61170  file_9980                                      clear primary\n",
       "61171  file_9981              agriculture clear cultivation primary\n",
       "61172  file_9982          agriculture clear habitation primary road\n",
       "61173  file_9983                                      clear primary\n",
       "61174  file_9984                                      clear primary\n",
       "61175  file_9985                                      clear primary\n",
       "61176  file_9986                                      clear primary\n",
       "61177  file_9987          agriculture clear habitation primary road\n",
       "61178  file_9988                                      clear primary\n",
       "61179  file_9989          agriculture clear habitation primary road\n",
       "61180   file_999          agriculture clear habitation primary road\n",
       "61181  file_9990                                      clear primary\n",
       "61182  file_9991         agriculture clear cultivation primary road\n",
       "61183  file_9992                                      clear primary\n",
       "61184  file_9993                                clear primary water\n",
       "61185  file_9994                        partly_cloudy primary water\n",
       "61186  file_9995                               cloudy partly_cloudy\n",
       "61187  file_9996                                clear primary water\n",
       "61188  file_9997                           clear primary road water\n",
       "61189  file_9998                                             cloudy\n",
       "61190  file_9999                      clear habitation primary road\n",
       "\n",
       "[100 rows x 2 columns]"
      ]
     },
     "execution_count": 227,
     "metadata": {},
     "output_type": "execute_result"
    }
   ],
   "source": [
    "df_test.tail(100)"
   ]
  },
  {
   "cell_type": "code",
   "execution_count": 225,
   "metadata": {
    "collapsed": false,
    "scrolled": true
   },
   "outputs": [
    {
     "data": {
      "text/html": [
       "<div>\n",
       "<style>\n",
       "    .dataframe thead tr:only-child th {\n",
       "        text-align: right;\n",
       "    }\n",
       "\n",
       "    .dataframe thead th {\n",
       "        text-align: left;\n",
       "    }\n",
       "\n",
       "    .dataframe tbody tr th {\n",
       "        vertical-align: top;\n",
       "    }\n",
       "</style>\n",
       "<table border=\"1\" class=\"dataframe\">\n",
       "  <thead>\n",
       "    <tr style=\"text-align: right;\">\n",
       "      <th></th>\n",
       "      <th>image_name</th>\n",
       "      <th>tags</th>\n",
       "    </tr>\n",
       "  </thead>\n",
       "  <tbody>\n",
       "    <tr>\n",
       "      <th>61091</th>\n",
       "      <td>file_9909</td>\n",
       "      <td>cloudy</td>\n",
       "    </tr>\n",
       "    <tr>\n",
       "      <th>61092</th>\n",
       "      <td>file_991</td>\n",
       "      <td>clear primary</td>\n",
       "    </tr>\n",
       "    <tr>\n",
       "      <th>61093</th>\n",
       "      <td>file_9910</td>\n",
       "      <td>agriculture clear primary road</td>\n",
       "    </tr>\n",
       "    <tr>\n",
       "      <th>61094</th>\n",
       "      <td>file_9911</td>\n",
       "      <td>clear primary water</td>\n",
       "    </tr>\n",
       "    <tr>\n",
       "      <th>61095</th>\n",
       "      <td>file_9912</td>\n",
       "      <td>partly_cloudy primary</td>\n",
       "    </tr>\n",
       "    <tr>\n",
       "      <th>61096</th>\n",
       "      <td>file_9913</td>\n",
       "      <td>agriculture habitation partly_cloudy primary road</td>\n",
       "    </tr>\n",
       "    <tr>\n",
       "      <th>61097</th>\n",
       "      <td>file_9914</td>\n",
       "      <td>agriculture clear habitation partly_cloudy pri...</td>\n",
       "    </tr>\n",
       "    <tr>\n",
       "      <th>61098</th>\n",
       "      <td>file_9915</td>\n",
       "      <td>clear primary</td>\n",
       "    </tr>\n",
       "    <tr>\n",
       "      <th>61099</th>\n",
       "      <td>file_9916</td>\n",
       "      <td>cloudy</td>\n",
       "    </tr>\n",
       "    <tr>\n",
       "      <th>61100</th>\n",
       "      <td>file_9917</td>\n",
       "      <td>clear primary</td>\n",
       "    </tr>\n",
       "    <tr>\n",
       "      <th>61101</th>\n",
       "      <td>file_9918</td>\n",
       "      <td>clear primary</td>\n",
       "    </tr>\n",
       "    <tr>\n",
       "      <th>61102</th>\n",
       "      <td>file_9919</td>\n",
       "      <td>agriculture clear cultivation primary</td>\n",
       "    </tr>\n",
       "    <tr>\n",
       "      <th>61103</th>\n",
       "      <td>file_992</td>\n",
       "      <td>clear cloudy water</td>\n",
       "    </tr>\n",
       "    <tr>\n",
       "      <th>61104</th>\n",
       "      <td>file_9920</td>\n",
       "      <td>clear primary water</td>\n",
       "    </tr>\n",
       "    <tr>\n",
       "      <th>61105</th>\n",
       "      <td>file_9921</td>\n",
       "      <td>agriculture clear cultivation primary</td>\n",
       "    </tr>\n",
       "    <tr>\n",
       "      <th>61106</th>\n",
       "      <td>file_9922</td>\n",
       "      <td>agriculture partly_cloudy primary road</td>\n",
       "    </tr>\n",
       "    <tr>\n",
       "      <th>61107</th>\n",
       "      <td>file_9923</td>\n",
       "      <td>clear primary</td>\n",
       "    </tr>\n",
       "    <tr>\n",
       "      <th>61108</th>\n",
       "      <td>file_9924</td>\n",
       "      <td>haze primary</td>\n",
       "    </tr>\n",
       "    <tr>\n",
       "      <th>61109</th>\n",
       "      <td>file_9925</td>\n",
       "      <td>partly_cloudy primary</td>\n",
       "    </tr>\n",
       "    <tr>\n",
       "      <th>61110</th>\n",
       "      <td>file_9926</td>\n",
       "      <td>agriculture partly_cloudy primary road</td>\n",
       "    </tr>\n",
       "    <tr>\n",
       "      <th>61111</th>\n",
       "      <td>file_9927</td>\n",
       "      <td>agriculture partly_cloudy primary road</td>\n",
       "    </tr>\n",
       "    <tr>\n",
       "      <th>61112</th>\n",
       "      <td>file_9928</td>\n",
       "      <td>cloudy</td>\n",
       "    </tr>\n",
       "    <tr>\n",
       "      <th>61113</th>\n",
       "      <td>file_9929</td>\n",
       "      <td>clear primary</td>\n",
       "    </tr>\n",
       "    <tr>\n",
       "      <th>61114</th>\n",
       "      <td>file_993</td>\n",
       "      <td>agriculture clear partly_cloudy primary road</td>\n",
       "    </tr>\n",
       "    <tr>\n",
       "      <th>61115</th>\n",
       "      <td>file_9930</td>\n",
       "      <td>cloudy haze primary</td>\n",
       "    </tr>\n",
       "    <tr>\n",
       "      <th>61116</th>\n",
       "      <td>file_9931</td>\n",
       "      <td>agriculture cultivation partly_cloudy primary</td>\n",
       "    </tr>\n",
       "    <tr>\n",
       "      <th>61117</th>\n",
       "      <td>file_9932</td>\n",
       "      <td>clear primary</td>\n",
       "    </tr>\n",
       "    <tr>\n",
       "      <th>61118</th>\n",
       "      <td>file_9933</td>\n",
       "      <td>agriculture clear cultivation primary</td>\n",
       "    </tr>\n",
       "    <tr>\n",
       "      <th>61119</th>\n",
       "      <td>file_9934</td>\n",
       "      <td>agriculture clear cultivation primary</td>\n",
       "    </tr>\n",
       "    <tr>\n",
       "      <th>61120</th>\n",
       "      <td>file_9935</td>\n",
       "      <td>agriculture clear primary road water</td>\n",
       "    </tr>\n",
       "    <tr>\n",
       "      <th>...</th>\n",
       "      <td>...</td>\n",
       "      <td>...</td>\n",
       "    </tr>\n",
       "    <tr>\n",
       "      <th>61161</th>\n",
       "      <td>file_9972</td>\n",
       "      <td>agriculture clear cultivation primary</td>\n",
       "    </tr>\n",
       "    <tr>\n",
       "      <th>61162</th>\n",
       "      <td>file_9973</td>\n",
       "      <td>agriculture clear cultivation habitation prima...</td>\n",
       "    </tr>\n",
       "    <tr>\n",
       "      <th>61163</th>\n",
       "      <td>file_9974</td>\n",
       "      <td>clear primary</td>\n",
       "    </tr>\n",
       "    <tr>\n",
       "      <th>61164</th>\n",
       "      <td>file_9975</td>\n",
       "      <td>clear partly_cloudy primary</td>\n",
       "    </tr>\n",
       "    <tr>\n",
       "      <th>61165</th>\n",
       "      <td>file_9976</td>\n",
       "      <td>agriculture clear cultivation primary</td>\n",
       "    </tr>\n",
       "    <tr>\n",
       "      <th>61166</th>\n",
       "      <td>file_9977</td>\n",
       "      <td>clear primary</td>\n",
       "    </tr>\n",
       "    <tr>\n",
       "      <th>61167</th>\n",
       "      <td>file_9978</td>\n",
       "      <td>partly_cloudy primary</td>\n",
       "    </tr>\n",
       "    <tr>\n",
       "      <th>61168</th>\n",
       "      <td>file_9979</td>\n",
       "      <td>clear primary</td>\n",
       "    </tr>\n",
       "    <tr>\n",
       "      <th>61169</th>\n",
       "      <td>file_998</td>\n",
       "      <td>clear primary</td>\n",
       "    </tr>\n",
       "    <tr>\n",
       "      <th>61170</th>\n",
       "      <td>file_9980</td>\n",
       "      <td>clear primary</td>\n",
       "    </tr>\n",
       "    <tr>\n",
       "      <th>61171</th>\n",
       "      <td>file_9981</td>\n",
       "      <td>agriculture clear cultivation primary</td>\n",
       "    </tr>\n",
       "    <tr>\n",
       "      <th>61172</th>\n",
       "      <td>file_9982</td>\n",
       "      <td>agriculture clear habitation primary road</td>\n",
       "    </tr>\n",
       "    <tr>\n",
       "      <th>61173</th>\n",
       "      <td>file_9983</td>\n",
       "      <td>clear primary</td>\n",
       "    </tr>\n",
       "    <tr>\n",
       "      <th>61174</th>\n",
       "      <td>file_9984</td>\n",
       "      <td>clear primary</td>\n",
       "    </tr>\n",
       "    <tr>\n",
       "      <th>61175</th>\n",
       "      <td>file_9985</td>\n",
       "      <td>clear primary</td>\n",
       "    </tr>\n",
       "    <tr>\n",
       "      <th>61176</th>\n",
       "      <td>file_9986</td>\n",
       "      <td>clear primary</td>\n",
       "    </tr>\n",
       "    <tr>\n",
       "      <th>61177</th>\n",
       "      <td>file_9987</td>\n",
       "      <td>agriculture clear habitation primary road</td>\n",
       "    </tr>\n",
       "    <tr>\n",
       "      <th>61178</th>\n",
       "      <td>file_9988</td>\n",
       "      <td>clear primary</td>\n",
       "    </tr>\n",
       "    <tr>\n",
       "      <th>61179</th>\n",
       "      <td>file_9989</td>\n",
       "      <td>agriculture clear habitation primary road</td>\n",
       "    </tr>\n",
       "    <tr>\n",
       "      <th>61180</th>\n",
       "      <td>file_999</td>\n",
       "      <td>agriculture clear habitation primary road</td>\n",
       "    </tr>\n",
       "    <tr>\n",
       "      <th>61181</th>\n",
       "      <td>file_9990</td>\n",
       "      <td>clear primary</td>\n",
       "    </tr>\n",
       "    <tr>\n",
       "      <th>61182</th>\n",
       "      <td>file_9991</td>\n",
       "      <td>agriculture clear cultivation primary road</td>\n",
       "    </tr>\n",
       "    <tr>\n",
       "      <th>61183</th>\n",
       "      <td>file_9992</td>\n",
       "      <td>clear primary</td>\n",
       "    </tr>\n",
       "    <tr>\n",
       "      <th>61184</th>\n",
       "      <td>file_9993</td>\n",
       "      <td>clear primary water</td>\n",
       "    </tr>\n",
       "    <tr>\n",
       "      <th>61185</th>\n",
       "      <td>file_9994</td>\n",
       "      <td>partly_cloudy primary water</td>\n",
       "    </tr>\n",
       "    <tr>\n",
       "      <th>61186</th>\n",
       "      <td>file_9995</td>\n",
       "      <td>cloudy partly_cloudy</td>\n",
       "    </tr>\n",
       "    <tr>\n",
       "      <th>61187</th>\n",
       "      <td>file_9996</td>\n",
       "      <td>clear primary water</td>\n",
       "    </tr>\n",
       "    <tr>\n",
       "      <th>61188</th>\n",
       "      <td>file_9997</td>\n",
       "      <td>clear primary road water</td>\n",
       "    </tr>\n",
       "    <tr>\n",
       "      <th>61189</th>\n",
       "      <td>file_9998</td>\n",
       "      <td>cloudy</td>\n",
       "    </tr>\n",
       "    <tr>\n",
       "      <th>61190</th>\n",
       "      <td>file_9999</td>\n",
       "      <td>clear habitation primary road</td>\n",
       "    </tr>\n",
       "  </tbody>\n",
       "</table>\n",
       "<p>100 rows × 2 columns</p>\n",
       "</div>"
      ],
      "text/plain": [
       "      image_name                                               tags\n",
       "61091  file_9909                                             cloudy\n",
       "61092   file_991                                      clear primary\n",
       "61093  file_9910                     agriculture clear primary road\n",
       "61094  file_9911                                clear primary water\n",
       "61095  file_9912                              partly_cloudy primary\n",
       "61096  file_9913  agriculture habitation partly_cloudy primary road\n",
       "61097  file_9914  agriculture clear habitation partly_cloudy pri...\n",
       "61098  file_9915                                      clear primary\n",
       "61099  file_9916                                             cloudy\n",
       "61100  file_9917                                      clear primary\n",
       "61101  file_9918                                      clear primary\n",
       "61102  file_9919              agriculture clear cultivation primary\n",
       "61103   file_992                                 clear cloudy water\n",
       "61104  file_9920                                clear primary water\n",
       "61105  file_9921              agriculture clear cultivation primary\n",
       "61106  file_9922             agriculture partly_cloudy primary road\n",
       "61107  file_9923                                      clear primary\n",
       "61108  file_9924                                       haze primary\n",
       "61109  file_9925                              partly_cloudy primary\n",
       "61110  file_9926             agriculture partly_cloudy primary road\n",
       "61111  file_9927             agriculture partly_cloudy primary road\n",
       "61112  file_9928                                             cloudy\n",
       "61113  file_9929                                      clear primary\n",
       "61114   file_993       agriculture clear partly_cloudy primary road\n",
       "61115  file_9930                                cloudy haze primary\n",
       "61116  file_9931      agriculture cultivation partly_cloudy primary\n",
       "61117  file_9932                                      clear primary\n",
       "61118  file_9933              agriculture clear cultivation primary\n",
       "61119  file_9934              agriculture clear cultivation primary\n",
       "61120  file_9935               agriculture clear primary road water\n",
       "...          ...                                                ...\n",
       "61161  file_9972              agriculture clear cultivation primary\n",
       "61162  file_9973  agriculture clear cultivation habitation prima...\n",
       "61163  file_9974                                      clear primary\n",
       "61164  file_9975                        clear partly_cloudy primary\n",
       "61165  file_9976              agriculture clear cultivation primary\n",
       "61166  file_9977                                      clear primary\n",
       "61167  file_9978                              partly_cloudy primary\n",
       "61168  file_9979                                      clear primary\n",
       "61169   file_998                                      clear primary\n",
       "61170  file_9980                                      clear primary\n",
       "61171  file_9981              agriculture clear cultivation primary\n",
       "61172  file_9982          agriculture clear habitation primary road\n",
       "61173  file_9983                                      clear primary\n",
       "61174  file_9984                                      clear primary\n",
       "61175  file_9985                                      clear primary\n",
       "61176  file_9986                                      clear primary\n",
       "61177  file_9987          agriculture clear habitation primary road\n",
       "61178  file_9988                                      clear primary\n",
       "61179  file_9989          agriculture clear habitation primary road\n",
       "61180   file_999          agriculture clear habitation primary road\n",
       "61181  file_9990                                      clear primary\n",
       "61182  file_9991         agriculture clear cultivation primary road\n",
       "61183  file_9992                                      clear primary\n",
       "61184  file_9993                                clear primary water\n",
       "61185  file_9994                        partly_cloudy primary water\n",
       "61186  file_9995                               cloudy partly_cloudy\n",
       "61187  file_9996                                clear primary water\n",
       "61188  file_9997                           clear primary road water\n",
       "61189  file_9998                                             cloudy\n",
       "61190  file_9999                      clear habitation primary road\n",
       "\n",
       "[100 rows x 2 columns]"
      ]
     },
     "execution_count": 225,
     "metadata": {},
     "output_type": "execute_result"
    }
   ],
   "source": [
    "df_test.tail(100)"
   ]
  },
  {
   "cell_type": "code",
   "execution_count": 228,
   "metadata": {
    "collapsed": false
   },
   "outputs": [],
   "source": [
    "submission_file = '../subm/voting_qinx4best_arminx3_min4.csv'\n",
    "df_test.to_csv(submission_file, index=False)"
   ]
  },
  {
   "cell_type": "code",
   "execution_count": null,
   "metadata": {
    "collapsed": true
   },
   "outputs": [],
   "source": []
  }
 ],
 "metadata": {
  "kernelspec": {
   "display_name": "Python 2",
   "language": "python",
   "name": "python2"
  },
  "language_info": {
   "codemirror_mode": {
    "name": "ipython",
    "version": 2
   },
   "file_extension": ".py",
   "mimetype": "text/x-python",
   "name": "python",
   "nbconvert_exporter": "python",
   "pygments_lexer": "ipython2",
   "version": "2.7.13"
  }
 },
 "nbformat": 4,
 "nbformat_minor": 0
}
