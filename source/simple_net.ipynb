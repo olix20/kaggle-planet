{
 "cells": [
  {
   "cell_type": "markdown",
   "metadata": {},
   "source": [
    "model based on https://www.kaggle.com/c/planet-understanding-the-amazon-from-space/discussion/32402"
   ]
  },
  {
   "cell_type": "code",
   "execution_count": 1,
   "metadata": {
    "scrolled": false
   },
   "outputs": [
    {
     "name": "stderr",
     "output_type": "stream",
     "text": [
      "Using Theano backend.\n",
      "WARNING (theano.sandbox.cuda): The cuda backend is deprecated and will be removed in the next release (v0.10).  Please switch to the gpuarray backend. You can get more information about how to switch at this URL:\n",
      " https://github.com/Theano/Theano/wiki/Converting-to-the-new-gpu-back-end%28gpuarray%29\n",
      "\n",
      "Using gpu device 0: Tesla K80 (CNMeM is enabled with initial size: 75.0% of memory, cuDNN 5103)\n"
     ]
    }
   ],
   "source": [
    "import utils\n",
    "from utils import *\n",
    "%matplotlib inline\n",
    "from sys import getsizeof\n",
    "\n",
    "import keras\n",
    "from keras.layers.merge import *"
   ]
  },
  {
   "cell_type": "code",
   "execution_count": 2,
   "metadata": {
    "collapsed": true
   },
   "outputs": [],
   "source": [
    "target_size = (56,56)#(256, 256)"
   ]
  },
  {
   "cell_type": "code",
   "execution_count": 3,
   "metadata": {},
   "outputs": [
    {
     "data": {
      "text/plain": [
       "'channels_first'"
      ]
     },
     "execution_count": 3,
     "metadata": {},
     "output_type": "execute_result"
    }
   ],
   "source": [
    "K.set_image_data_format('channels_first')\n",
    "K.image_data_format()"
   ]
  },
  {
   "cell_type": "markdown",
   "metadata": {},
   "source": [
    "### Load Data"
   ]
  },
  {
   "cell_type": "code",
   "execution_count": 4,
   "metadata": {
    "collapsed": true
   },
   "outputs": [],
   "source": [
    "x_train = []\n",
    "y_train = []\n",
    "\n",
    "df_train = pd.read_csv('data/train_v2.csv')\n",
    "df_test = pd.read_csv('data/sample_submission_v2.csv')\n",
    "\n",
    "flatten = lambda l: [item for sublist in l for item in sublist]\n",
    "labels = list(set(flatten([l.split(' ') for l in df_train['tags'].values])))\n",
    "\n",
    "labels = ['blow_down',\n",
    " 'bare_ground',\n",
    " 'conventional_mine',\n",
    " 'blooming',\n",
    " 'cultivation',\n",
    " 'artisinal_mine',\n",
    " 'haze',\n",
    " 'primary',\n",
    " 'slash_burn',\n",
    " 'habitation',\n",
    " 'clear',\n",
    " 'road',\n",
    " 'selective_logging',\n",
    " 'partly_cloudy',\n",
    " 'agriculture',\n",
    " 'water',\n",
    " 'cloudy']\n",
    "\n",
    "label_map = {'agriculture': 14,\n",
    " 'artisinal_mine': 5,\n",
    " 'bare_ground': 1,\n",
    " 'blooming': 3,\n",
    " 'blow_down': 0,\n",
    " 'clear': 10,\n",
    " 'cloudy': 16,\n",
    " 'conventional_mine': 2,\n",
    " 'cultivation': 4,\n",
    " 'habitation': 9,\n",
    " 'haze': 6,\n",
    " 'partly_cloudy': 13,\n",
    " 'primary': 7,\n",
    " 'road': 11,\n",
    " 'selective_logging': 12,\n",
    " 'slash_burn': 8,\n",
    " 'water': 15}"
   ]
  },
  {
   "cell_type": "markdown",
   "metadata": {},
   "source": [
    "### Load JPEG files"
   ]
  },
  {
   "cell_type": "code",
   "execution_count": 5,
   "metadata": {
    "collapsed": true
   },
   "outputs": [],
   "source": [
    "\n",
    "# for f, tags in tqdm(df_train.values, miniters=1000):\n",
    "#     img = cv2.imread('data/train-jpg/{}.jpg'.format(f))\n",
    "#     targets = np.zeros(17)\n",
    "    \n",
    "#     for t in tags.split(' '):\n",
    "#         targets[label_map[t]] = 1 \n",
    "        \n",
    "#     img =  cv2.cvtColor(cv2.resize(img, target_size), cv2.COLOR_BGR2RGB)   \n",
    "#     x_train.append(img)\n",
    "#     y_train.append(targets)\n"
   ]
  },
  {
   "cell_type": "code",
   "execution_count": 6,
   "metadata": {
    "collapsed": true
   },
   "outputs": [],
   "source": [
    "# ## making num items good for divisions\n",
    "# x_train.append(x_train[0])\n",
    "# y_train.append(y_train[0])"
   ]
  },
  {
   "cell_type": "code",
   "execution_count": 7,
   "metadata": {
    "collapsed": true
   },
   "outputs": [],
   "source": [
    "# x_test = []\n",
    "\n",
    "# for f, tags in tqdm(df_test.values, miniters=1000):\n",
    "#     img = cv2.imread('data/test-jpg/{}.jpg'.format(f))\n",
    "#     img =  cv2.cvtColor(cv2.resize(img, target_size), cv2.COLOR_BGR2RGB)   \n",
    "\n",
    "#     x_test.append(cv2.resize(img, target_size))\n"
   ]
  },
  {
   "cell_type": "code",
   "execution_count": 8,
   "metadata": {
    "collapsed": true
   },
   "outputs": [],
   "source": [
    "# y_train = np.array(y_train, np.uint8)\n",
    "# x_train = np.array(x_train, np.float32) #/ 255.\n",
    "# x_test  = np.array(x_test, np.float32) #/ 255.\n",
    "\n",
    "# #Transpose the data if using Theano\n",
    "\n",
    "# x_train = x_train.transpose((0, 3, 1, 2))\n",
    "# x_test = x_test.transpose((0, 3, 1, 2))\n",
    "\n",
    "\n",
    "\n"
   ]
  },
  {
   "cell_type": "code",
   "execution_count": 9,
   "metadata": {
    "collapsed": true
   },
   "outputs": [],
   "source": [
    "# save_array(\"data/cache/xtrain_100x100.dat\",x_train)\n",
    "# save_array(\"data/cache/xtest_100x100.dat\",x_test)\n",
    "# save_array(\"data/cache/ytrain.dat\",y_train)\n",
    "\n",
    "# save_array(\"data/cache/xtrain_112x112.dat\",x_train)\n",
    "# save_array(\"data/cache/xtest_112x112.dat\",x_test)\n",
    "# save_array(\"data/cache/ytrain.dat\",y_train)\n",
    "\n",
    "# save_array(\"data/cache/xtrain_56x56.dat\",x_train)\n",
    "# save_array(\"data/cache/xtest_56x56.dat\",x_test)"
   ]
  },
  {
   "cell_type": "code",
   "execution_count": 10,
   "metadata": {
    "collapsed": true
   },
   "outputs": [],
   "source": [
    "x_train = load_array(\"data/cache/xtrain_{}x{}.dat\".format(target_size[0],target_size[1]))\n",
    "y_train = load_array(\"data/cache/ytrain.dat\")\n"
   ]
  },
  {
   "cell_type": "code",
   "execution_count": 11,
   "metadata": {
    "collapsed": true
   },
   "outputs": [],
   "source": [
    "# x_test = load_array(\"data/cache/xtest_100x100.dat\")\n"
   ]
  },
  {
   "cell_type": "code",
   "execution_count": 12,
   "metadata": {},
   "outputs": [
    {
     "data": {
      "text/plain": [
       "(80.3116, 87.739105, 77.102135)"
      ]
     },
     "execution_count": 12,
     "metadata": {},
     "output_type": "execute_result"
    }
   ],
   "source": [
    "x_train[:,0,:,:].mean(), x_train[:,1,:,:].mean(),x_train[:,2,:,:].mean()"
   ]
  },
  {
   "cell_type": "code",
   "execution_count": 13,
   "metadata": {},
   "outputs": [
    {
     "name": "stdout",
     "output_type": "stream",
     "text": [
      "(40480, 3, 56, 56)\n",
      "(40480, 17)\n"
     ]
    }
   ],
   "source": [
    "print(x_train.shape)\n",
    "# print(x_test.shape)\n",
    "print(y_train.shape)\n"
   ]
  },
  {
   "cell_type": "code",
   "execution_count": 89,
   "metadata": {
    "collapsed": true
   },
   "outputs": [],
   "source": [
    "# img = x_train[4]\n",
    "# plt.imshow(np.rot90(img).transpose(1,2,0))"
   ]
  },
  {
   "cell_type": "code",
   "execution_count": 90,
   "metadata": {
    "collapsed": true
   },
   "outputs": [],
   "source": [
    "# np.rot90(img).shape"
   ]
  },
  {
   "cell_type": "code",
   "execution_count": 87,
   "metadata": {
    "collapsed": true
   },
   "outputs": [],
   "source": [
    "# tmp = img.transpose(1,2,0)\n",
    "# plt.imshow(tmp.transpose(1,0,2))"
   ]
  },
  {
   "cell_type": "code",
   "execution_count": 84,
   "metadata": {
    "collapsed": true
   },
   "outputs": [],
   "source": [
    "# plt.imshow(img[:, :,::-1].transpose(1,2,0))\n",
    "# plt.imshow(np.rot90(tmp))"
   ]
  },
  {
   "cell_type": "markdown",
   "metadata": {},
   "source": [
    "### Making a sample"
   ]
  },
  {
   "cell_type": "code",
   "execution_count": 14,
   "metadata": {},
   "outputs": [
    {
     "data": {
      "text/plain": [
       "((20240, 3, 56, 56), (20240, 17))"
      ]
     },
     "execution_count": 14,
     "metadata": {},
     "output_type": "execute_result"
    }
   ],
   "source": [
    "np.random.seed(2089)\n",
    "\n",
    "perm = np.random.permutation(len(x_train))\n",
    "idx_sample = perm[:int(len(x_train)*0.5)]\n",
    "\n",
    "x_sample = x_train[idx_sample]\n",
    "y_sample = y_train[idx_sample]\n",
    "\n",
    "x_sample.shape, y_sample.shape"
   ]
  },
  {
   "cell_type": "code",
   "execution_count": 15,
   "metadata": {
    "collapsed": true
   },
   "outputs": [],
   "source": [
    "# x_train_flips_sample = [x_sample[:,:,::-1,:],x_sample[:,:,:,::-1],x_sample[:,:,::-1,::-1]]"
   ]
  },
  {
   "cell_type": "markdown",
   "metadata": {},
   "source": [
    "### Model Training \n"
   ]
  },
  {
   "cell_type": "code",
   "execution_count": 16,
   "metadata": {
    "collapsed": true
   },
   "outputs": [],
   "source": [
    "# stretch_n(x_train[851].transpose(1,2,0)).transpose(2,0,1).shape"
   ]
  },
  {
   "cell_type": "code",
   "execution_count": 16,
   "metadata": {
    "collapsed": true
   },
   "outputs": [],
   "source": [
    "# plt.imshow(stretch_n(x_train[851].transpose(1,2,0)))"
   ]
  },
  {
   "cell_type": "code",
   "execution_count": 17,
   "metadata": {
    "collapsed": true,
    "scrolled": false
   },
   "outputs": [],
   "source": []
  },
  {
   "cell_type": "code",
   "execution_count": 15,
   "metadata": {
    "collapsed": true
   },
   "outputs": [],
   "source": [
    "channel_means = np.array([80.301086, 87.727798, 77.089554], dtype=np.float32).reshape((3,1,1))\n",
    "\n",
    "def preprocess(x):\n",
    "    return x - channel_means\n",
    "#     return x/255.0"
   ]
  },
  {
   "cell_type": "code",
   "execution_count": 16,
   "metadata": {
    "collapsed": true
   },
   "outputs": [],
   "source": [
    "def make_conv_bn_relu(x,num_layers,num_filters,kernel_size):\n",
    "    \n",
    "    for _ in range(num_layers):\n",
    "    \n",
    "        x = Convolution2D(num_filters,kernel_size,padding='same')(x)\n",
    "        x = BatchNormalization(axis=1)(x)\n",
    "        x = Activation(activation=\"relu\")(x)\n",
    "    \n",
    "    return x"
   ]
  },
  {
   "cell_type": "code",
   "execution_count": 17,
   "metadata": {
    "collapsed": true
   },
   "outputs": [],
   "source": [
    "def make_bottleneck(x,num_filters,double_output_filters=True):\n",
    "    \n",
    "    x = Convolution2D(num_filters,1,padding='same')(x)\n",
    "    x = BatchNormalization(axis=1)(x)\n",
    "    x = Activation(activation=\"relu\")(x)\n",
    "\n",
    "    \n",
    "    x = Convolution2D(num_filters,3,padding='same')(x)\n",
    "    x = BatchNormalization(axis=1)(x)\n",
    "    x = Activation(activation=\"relu\")(x)\n",
    "    \n",
    "    \n",
    "    if double_output_filters:\n",
    "        x = Convolution2D(num_filters*2,1,padding='same')(x)\n",
    "    else:\n",
    "        x = Convolution2D(num_filters,1,padding='same')(x)\n",
    "\n",
    "    x = BatchNormalization(axis=1)(x)\n",
    "    x = Activation(activation=\"relu\")(x)\n",
    "    \n",
    "\n",
    "    return x "
   ]
  },
  {
   "cell_type": "code",
   "execution_count": 12,
   "metadata": {
    "collapsed": true
   },
   "outputs": [],
   "source": [
    "def make_shortcut_layer(x,num_filters):\n",
    "    x = Convolution2D(num_filters,1,padding='same')(x)\n",
    "    x = BatchNormalization(axis=1)(x)\n",
    "    x = Activation(activation=\"relu\")(x)\n",
    "    \n",
    "    return x\n"
   ]
  },
  {
   "cell_type": "code",
   "execution_count": 21,
   "metadata": {
    "collapsed": true
   },
   "outputs": [],
   "source": [
    "#10 minutes per epoch, 0.88 val loss\n",
    "def create_model():\n",
    "    model_input = Input(shape=(3,target_size[0],target_size[1]))\n",
    "    \n",
    "    #preprocess\n",
    "#     x = Lambda(preprocess,output_shape=(3,)+target_size)(model_input)\n",
    "    x = make_conv_bn_relu(model_input,3,16,(1,1))\n",
    "    \n",
    "    \n",
    "    down1 = make_bottleneck(x,32)\n",
    "    x  = MaxPooling2D(padding='same')(down1)\n",
    "    flat1a = x# Flatten()(x)\n",
    "\n",
    "    \n",
    "    #2\n",
    "    down2 = add([make_bottleneck(x,64), # 64 > 128\n",
    "                make_shortcut_layer(x,128)])    \n",
    "    x = MaxPooling2D(padding='same')(down2)\n",
    "    flat2a = x# Flatten()(x)\n",
    "    \n",
    "    #3\n",
    "    down3 = add([make_bottleneck(x,128), # 128 > 256\n",
    "                make_shortcut_layer(x,256)])    \n",
    "    x = MaxPooling2D(padding='same')(down3)\n",
    "    flat3a = x# Flatten()(x)\n",
    "\n",
    "    \n",
    "    \n",
    "    \n",
    "    \n",
    "    up3 = UpSampling2D(size=(2, 2))(x)\n",
    "    up3 = add([up3,down3])   # (256,28,28)x2\n",
    "    x = make_bottleneck(up3,128,False)\n",
    "    flat3 = MaxPooling2D(padding='same')(x) # Flatten()(MaxPooling2D(padding='same')(x))\n",
    "    \n",
    "    \n",
    "    up2 = UpSampling2D(size=(2, 2))(x) #128,56,56\n",
    "    up2 = add([up2,down2])\n",
    "    x = make_bottleneck(up2,64,False)\n",
    "    flat2 = MaxPooling2D(padding='same')(x)#Flatten()(MaxPooling2D(padding='same')(x))\n",
    "    \n",
    "    \n",
    "    up1 = UpSampling2D(size=(2, 2))(x) #64,112,112\n",
    "    up1 = add([up1,down1])\n",
    "    x = make_bottleneck(up1,64,False)\n",
    "    flat1 = MaxPooling2D(padding='same')(x) #Flatten()(MaxPooling2D(padding='same')(x))\n",
    "\n",
    "    \n",
    "    \n",
    "    all_max_features = concatenate([GlobalAveragePooling2D()(flat1a),\n",
    "                GlobalAveragePooling2D()(flat2a),\n",
    "                GlobalAveragePooling2D()(flat3a),\n",
    "                GlobalAveragePooling2D()(flat1),\n",
    "                GlobalAveragePooling2D()(flat2),\n",
    "                GlobalAveragePooling2D()(flat3)])\n",
    "#                 GlobalAveragePooling2D()(max4)\n",
    "    \n",
    "    x = Dense(512,activation='relu')(all_max_features)\n",
    "    x = Dropout(0.5)(x)\n",
    "    x = Dense(512,activation='relu')(x)\n",
    "    x = Dropout(0.5)(x)\n",
    "    \n",
    "    x = Dense(17,activation='sigmoid')(x)\n",
    "    \n",
    "    \n",
    "    return Model(inputs=model_input, outputs=x)\n",
    "    \n",
    "\n",
    "\n",
    "\n",
    "\n",
    "    "
   ]
  },
  {
   "cell_type": "code",
   "execution_count": 18,
   "metadata": {
    "collapsed": true
   },
   "outputs": [],
   "source": [
    "\n",
    "#3 minutes per epoch, 0.914 F2 score, 0.1094 val loss\n",
    "\n",
    "def simple_net():\n",
    "    model_input = Input(shape=(3,target_size[0],target_size[1]))\n",
    "    \n",
    "    #preprocess\n",
    "    x = Lambda(preprocess,output_shape=(3,)+target_size)(model_input)\n",
    "    x = make_conv_bn_relu(x,3,16,(1,1))\n",
    "    \n",
    "    \n",
    "    \n",
    "    x = make_bottleneck(x,32)\n",
    "    max1  = MaxPooling2D(padding='same')(x)\n",
    "    \n",
    "    x = make_bottleneck(max1,64)\n",
    "    max2  = MaxPooling2D(padding='same')(x)\n",
    "    \n",
    "    x = make_bottleneck(max2,128,False)\n",
    "    max3  = MaxPooling2D(padding='same')(x)\n",
    "\n",
    "#     x = make_bottleneck(max3,256,False)\n",
    "#     max4  = MaxPooling2D(padding='same')(x)\n",
    "\n",
    "        \n",
    "    all_avg_features = concatenate([GlobalAveragePooling2D()(max1),\n",
    "                GlobalAveragePooling2D()(max2),\n",
    "                GlobalAveragePooling2D()(max3)])\n",
    "    \n",
    "#     all_max_features = concatenate([GlobalMaxPooling2D()(max1),\n",
    "#             GlobalMaxPooling2D()(max2),\n",
    "#             GlobalMaxPooling2D()(max3)])\n",
    "    \n",
    "\n",
    "        \n",
    "    #,GlobalAveragePooling2D()(max4)\n",
    "    \n",
    "    x = Dense(512,activation='relu')(all_avg_features)\n",
    "    x = Dropout(0.5)(x)\n",
    "    x = Dense(512,activation='relu')(x)\n",
    "    x = Dropout(0.5)(x)\n",
    "    \n",
    "#     x = Dense(17,activation='sigmoid')(x)\n",
    "    weather_output = Dense(4,activation='softmax',name=\"weather\")(x)\n",
    "    rare_class_output = Dense(13,activation='sigmoid',name=\"rareclass\")(x)\n",
    "    \n",
    "    return Model(inputs=model_input, outputs=[weather_output,rare_class_output])\n",
    "   "
   ]
  },
  {
   "cell_type": "code",
   "execution_count": 26,
   "metadata": {
    "collapsed": true
   },
   "outputs": [],
   "source": [
    "\n",
    "def simple_net_with_residuals():\n",
    "    model_input = Input(shape=(3,target_size[0],target_size[1]))\n",
    "    \n",
    "    #preprocess\n",
    "    x = Lambda(preprocess,output_shape=(3,)+target_size)(model_input)\n",
    "    x = make_conv_bn_relu(x,3,16,(1,1))\n",
    "    \n",
    "    \n",
    "    \n",
    "    x = add([make_bottleneck(x,32),make_shortcut_layer(x,64)])\n",
    "    max1  = MaxPooling2D(padding='same')(x)\n",
    "    \n",
    "    x = add([make_bottleneck(max1,64),make_shortcut_layer(max1,128)])\n",
    "    max2  = MaxPooling2D(padding='same')(x)\n",
    "    \n",
    "    x = add([make_bottleneck(max2,128,False), make_shortcut_layer(max2,128)])\n",
    "    max3  = MaxPooling2D(padding='same')(x)\n",
    "\n",
    "#     x = make_bottleneck(max3,256,False)\n",
    "#     max4  = MaxPooling2D(padding='same')(x)\n",
    "\n",
    "        \n",
    "    all_max_features = concatenate([GlobalAveragePooling2D()(max1),\n",
    "                GlobalAveragePooling2D()(max2),\n",
    "                GlobalAveragePooling2D()(max3)])\n",
    "#                 GlobalAveragePooling2D()(max4)\n",
    "    \n",
    "    x = Dense(512,activation='relu')(all_max_features)\n",
    "    x = Dropout(0.5)(x)\n",
    "    x = Dense(512,activation='relu')(x)\n",
    "    x = Dropout(0.5)(x)\n",
    "    \n",
    "    x = Dense(17,activation='sigmoid')(x)\n",
    "    \n",
    "    \n",
    "    return Model(inputs=model_input, outputs=x)\n",
    "   "
   ]
  },
  {
   "cell_type": "code",
   "execution_count": 21,
   "metadata": {
    "collapsed": true
   },
   "outputs": [],
   "source": [
    "def preprocess_and_flip(x):\n",
    "    \n",
    "    x = x - channel_means\n",
    "#     width = target_size[0]\n",
    "#     print x.shape[0]\n",
    "    \n",
    "#     all_flipped = np.zeros((batch_size,3,width*2,width*2)).astype(np.float16)\n",
    "    \n",
    "    t1 = K.concatenate([x, x[:,:,:,::-1]], axis=2)\n",
    "    t2 = K.concatenate([x[:,:,::-1,:],x[:,:,::-1,::-1]], axis=2)\n",
    "    \n",
    "#     all_flipped[:,:,:width,:width] = x\n",
    "#     all_flipped[:,:,:width,width:] = x[:,:,::-1,:]\n",
    "#     all_flipped[:,:,width:,:width] = x[:,:,:,::-1]\n",
    "#     all_flipped[:,:,width:,width:] = x[:,:,::-1,::-1]\n",
    "    \n",
    "#     return K.concatenate([x, x[:,:,::-1,:],x[:,:,:,::-1],x[:,:,::-1,::-1]], axis=0)\n",
    "    return K.concatenate([t1,t2], axis=3)"
   ]
  },
  {
   "cell_type": "code",
   "execution_count": 141,
   "metadata": {},
   "outputs": [
    {
     "data": {
      "text/plain": [
       "<matplotlib.image.AxesImage at 0x7f32c389add0>"
      ]
     },
     "execution_count": 141,
     "metadata": {},
     "output_type": "execute_result"
    },
    {
     "data": {
      "image/png": "[encoded data removed]",
      "text/plain": [
       "<matplotlib.figure.Figure at 0x7f32c39a8ad0>"
      ]
     },
     "metadata": {},
     "output_type": "display_data"
    }
   ],
   "source": [
    "# plt.imshow(preprocess_and_flip(x_train[10].reshape(1,3,56,56))[0].transpose(1,2,0))\n",
    "# plt.imshow(x_train[10].transpose(1,2,0))"
   ]
  },
  {
   "cell_type": "code",
   "execution_count": 22,
   "metadata": {
    "collapsed": true
   },
   "outputs": [],
   "source": [
    "#http://benanne.github.io/2015/03/17/plankton.html\n",
    "\n",
    "\n",
    "def simple_net_roi_innetwork_exapnsion():\n",
    "    model_input = Input(shape=(3,target_size[0],target_size[1]))\n",
    "    \n",
    "    #preprocess\n",
    "    x = Lambda(preprocess_and_flip,output_shape=(3,target_size[0]*2,target_size[1]*2))(model_input)\n",
    "    x = make_conv_bn_relu(x,3,16,(1,1))\n",
    "    \n",
    "    \n",
    "    \n",
    "    x = make_bottleneck(x,32)\n",
    "    max1  = MaxPooling2D(padding='same')(x)\n",
    "    \n",
    "    x = make_bottleneck(max1,64)\n",
    "    max2  = MaxPooling2D(padding='same')(x)\n",
    "    \n",
    "    x = make_bottleneck(max2,128,False)\n",
    "    max3  = MaxPooling2D(padding='same')(x)\n",
    "\n",
    "#     x = make_bottleneck(max3,256,False)\n",
    "#     max4  = MaxPooling2D(padding='same')(x)\n",
    "\n",
    "        \n",
    "    all_avg_features = concatenate([GlobalAveragePooling2D()(max1),\n",
    "                GlobalAveragePooling2D()(max2),\n",
    "                GlobalAveragePooling2D()(max3)])\n",
    "    \n",
    "#     all_max_features = concatenate([GlobalMaxPooling2D()(max1),\n",
    "#             GlobalMaxPooling2D()(max2),\n",
    "#             GlobalMaxPooling2D()(max3)])\n",
    "    \n",
    "\n",
    "        \n",
    "    #,GlobalAveragePooling2D()(max4)\n",
    "    \n",
    "    x = Dense(512,activation='relu')(all_avg_features)\n",
    "    x = Dropout(0.5)(x)\n",
    "    x = Dense(512,activation='relu')(x)\n",
    "    x = Dropout(0.5)(x)\n",
    "    \n",
    "    x = Dense(17,activation='sigmoid')(x)\n",
    "    \n",
    "    \n",
    "    return Model(inputs=model_input, outputs=x)\n",
    "   "
   ]
  },
  {
   "cell_type": "code",
   "execution_count": 15,
   "metadata": {
    "collapsed": true,
    "scrolled": true
   },
   "outputs": [],
   "source": [
    "# simple_net_roration_invariant().summary()"
   ]
  },
  {
   "cell_type": "code",
   "execution_count": 16,
   "metadata": {
    "collapsed": true
   },
   "outputs": [],
   "source": [
    "# tmp = simple_net_roi_innetwork_exapnsion()\n",
    "# tmp.summary()\n",
    "# del tmp"
   ]
  },
  {
   "cell_type": "markdown",
   "metadata": {},
   "source": [
    "### Quick training and prediction (on SAMPLE data)"
   ]
  },
  {
   "cell_type": "code",
   "execution_count": 19,
   "metadata": {
    "collapsed": true
   },
   "outputs": [],
   "source": [
    "VALIDATION_SPLIT = 0.1\n",
    "np.random.seed(2089)\n",
    "\n",
    "perm = np.random.permutation(len(x_sample))\n",
    "idx_train = perm[:int(len(x_sample)*(1-VALIDATION_SPLIT))]\n",
    "idx_val = perm[int(len(x_sample)*(1-VALIDATION_SPLIT)):]"
   ]
  },
  {
   "cell_type": "code",
   "execution_count": 20,
   "metadata": {
    "collapsed": true
   },
   "outputs": [],
   "source": [
    "X_train = x_sample[idx_train]\n",
    "X_valid = x_sample[idx_val]\n",
    "\n",
    "\n",
    "Y_train = y_sample[idx_train]\n",
    "Y_valid = y_sample[idx_val]\n",
    "\n",
    "\n",
    "# oleg_sample_train = oleg_sample[idx_train]\n",
    "# oleg_sample_valid = oleg_sample[idx_val]\n",
    "\n",
    "# mahotas_sample_train = mahotas_sample[idx_train]\n",
    "# mahotas_sample_valid= mahotas_sample[idx_val]"
   ]
  },
  {
   "cell_type": "code",
   "execution_count": 52,
   "metadata": {
    "collapsed": true
   },
   "outputs": [],
   "source": [
    "# X_train.shape\n"
   ]
  },
  {
   "cell_type": "code",
   "execution_count": 21,
   "metadata": {
    "collapsed": true
   },
   "outputs": [],
   "source": [
    "from ImageDataGenerator_extended2 import *\n",
    "\n",
    "\n",
    "batch_size = 256\n",
    "\n",
    "\n",
    "train_gen = ImageDataGenerator_Multioutput5( \n",
    "    rotation_range=10,\n",
    "    width_shift_range=0.1,\n",
    "    height_shift_range=0.1,\n",
    "    shear_range=0.1,\n",
    "    zoom_range=0.1,\n",
    "    channel_shift_range=0.1,\n",
    "    horizontal_flip=True,\n",
    "    vertical_flip=True)\n",
    "\n",
    "\n",
    "\n",
    "train_batch = train_gen.flow(X_train,Y_train,batch_size=batch_size,shuffle=True)\n"
   ]
  },
  {
   "cell_type": "code",
   "execution_count": 39,
   "metadata": {
    "collapsed": true
   },
   "outputs": [],
   "source": [
    "# train_batch = train_gen.flow(X_train,Y_train,batch_size=256,shuffle=True)\n"
   ]
  },
  {
   "cell_type": "markdown",
   "metadata": {},
   "source": [
    "--- \n"
   ]
  },
  {
   "cell_type": "code",
   "execution_count": 23,
   "metadata": {},
   "outputs": [],
   "source": [
    "model =  simple_net()\n",
    "model.load_weights(\"weights/simplenet_BN_relu_56_trainx4_multioutput.h5\")"
   ]
  },
  {
   "cell_type": "code",
   "execution_count": 28,
   "metadata": {
    "collapsed": true
   },
   "outputs": [],
   "source": [
    "\n",
    "kfold_weights_path = os.path.join('weights/', 'simplenet_BN_relu_56_trainx4_multioutput.h5')\n",
    "\n",
    "\n",
    "#              ReduceLROnPlateau(monitor='val_loss',  patience=3, verbose=1, factor=0.1, min_lr=1e-7)\n",
    "callbacks = [EarlyStopping(monitor='val_loss', patience=3),\n",
    "             ModelCheckpoint(kfold_weights_path, monitor='val_loss', save_best_only=True),\n",
    "             ReduceLROnPlateau(monitor='val_loss',  patience=2, verbose=1, factor=0.5, min_lr=1e-5)\n",
    "\n",
    "            ]\n",
    "\n"
   ]
  },
  {
   "cell_type": "code",
   "execution_count": 29,
   "metadata": {
    "collapsed": true
   },
   "outputs": [],
   "source": [
    "\n",
    "model.compile(optimizer=Adam(lr=1e-3), loss='binary_crossentropy', metrics=['accuracy'])\n",
    "\n",
    "# end_to_end.compile(optimizer=\"nadam\", loss='binary_crossentropy', metrics=['accuracy'])\n",
    "\n",
    "# fcn_plus_feats_model.compile(optimizer=\"nadam\", loss='binary_crossentropy', metrics=['accuracy'])"
   ]
  },
  {
   "cell_type": "markdown",
   "metadata": {},
   "source": [
    "Training"
   ]
  },
  {
   "cell_type": "code",
   "execution_count": 24,
   "metadata": {
    "collapsed": true
   },
   "outputs": [],
   "source": [
    "weather_indices = [label_map[\"cloudy\"],label_map[\"haze\"],label_map[\"partly_cloudy\"],label_map[\"clear\"]]\n",
    "rare_class_indices = [x for x in np.arange(17) if (x not in weather_indices)]\n"
   ]
  },
  {
   "cell_type": "code",
   "execution_count": null,
   "metadata": {
    "collapsed": true,
    "scrolled": false
   },
   "outputs": [],
   "source": [
    "# batch_size = 128\n",
    "## FCN\n",
    "\n",
    "# history = model.fit(x = X_train, y= Y_train, validation_data=(X_valid, Y_valid),\n",
    "#   batch_size=64, epochs=50,callbacks=callbacks,\n",
    "#   shuffle=True)\n",
    "\n",
    "\n",
    "## FCN+features  \n",
    "\n",
    "# history = fcn_plus_feats_model.fit(x = [conv_trn_feat,mahotas_sample_train], y= Y_train, \n",
    "#                                    validation_data=([conv_valid_feat,mahotas_sample_valid], Y_valid),\n",
    "#   batch_size=64, epochs=50,callbacks=callbacks,\n",
    "#   shuffle=True)\n",
    "\n",
    "\n",
    "## end-to-end\n",
    "#     history = end_to_end.fit_generator(train_batch, steps_per_epoch=len(X_train)/batch_size,\n",
    "#                                        validation_data=(X_valid, Y_valid),\n",
    "#                                        epochs=1,callbacks=callbacks)\n",
    "\n",
    "\n",
    "# history = model.fit_generator(train_batch, validation_data=(X_valid, Y_valid),\n",
    "#                                steps_per_epoch=2*len(X_train)/batch_size,epochs=50,callbacks=callbacks)\n",
    "\n",
    "history = model.fit_generator(train_batch, \n",
    "                               validation_data=(X_valid,[Y_valid[:,weather_indices],Y_valid[:,rare_class_indices]]),\n",
    "                               steps_per_epoch=2*len(X_train)/batch_size,epochs=50,callbacks=callbacks)\n",
    "\n",
    "\n"
   ]
  },
  {
   "cell_type": "markdown",
   "metadata": {
    "collapsed": true
   },
   "source": [
    "#### verifying results"
   ]
  },
  {
   "cell_type": "code",
   "execution_count": 30,
   "metadata": {},
   "outputs": [
    {
     "data": {
      "image/png": "[encoded data removed]",
      "text/plain": [
       "<matplotlib.figure.Figure at 0x7f6cccc63c10>"
      ]
     },
     "metadata": {},
     "output_type": "display_data"
    }
   ],
   "source": [
    "acc = pd.DataFrame({'epoch': [ i + 1 for i in history.epoch ],\n",
    "                    'training': history.history['loss'],\n",
    "                    'validation': history.history['val_loss']})\n",
    "ax = acc.ix[:,:].plot(x='epoch', figsize={5,8}, grid=True)\n",
    "ax.set_ylabel(\"loss\")\n",
    "ax.set_ylim([0.0,1.0]);"
   ]
  },
  {
   "cell_type": "code",
   "execution_count": 29,
   "metadata": {},
   "outputs": [
    {
     "name": "stdout",
     "output_type": "stream",
     "text": [
      "Minimum loss at epoch 5 = 0.1083\n",
      "Maximum accuracy at epoch 5 = 0.9589\n"
     ]
    }
   ],
   "source": [
    "min_val_loss, idx = min((val, idx) for (idx, val) in enumerate(history.history['val_loss']))\n",
    "print 'Minimum loss at epoch', '{:d}'.format(idx+1), '=', '{:.4f}'.format(min_val_loss)\n",
    "\n",
    "max_val_acc, idx = max((val, idx) for (idx, val) in enumerate(history.history['val_acc']))\n",
    "print 'Maximum accuracy at epoch', '{:d}'.format(idx+1), '=', '{:.4f}'.format(max_val_acc)"
   ]
  },
  {
   "cell_type": "code",
   "execution_count": 75,
   "metadata": {},
   "outputs": [
    {
     "name": "stdout",
     "output_type": "stream",
     "text": [
      "loading best weights from 'weights/simplenet_BN_relu_56_trainx4.h5'\n"
     ]
    }
   ],
   "source": [
    "\n",
    "if os.path.isfile(kfold_weights_path):\n",
    "    print \"loading best weights from '{}'\".format(kfold_weights_path)\n",
    "    model.load_weights(kfold_weights_path)\n",
    "    \n",
    "    "
   ]
  },
  {
   "cell_type": "code",
   "execution_count": 25,
   "metadata": {
    "collapsed": true,
    "scrolled": false
   },
   "outputs": [],
   "source": [
    "preds_val = model.predict(X_valid)\n"
   ]
  },
  {
   "cell_type": "code",
   "execution_count": 77,
   "metadata": {},
   "outputs": [
    {
     "name": "stdout",
     "output_type": "stream",
     "text": [
      "('F2 Score:', 0.90211491312958847)\n"
     ]
    }
   ],
   "source": [
    "print('F2 Score:', f2_score(Y_valid, preds_val>0.08))"
   ]
  },
  {
   "cell_type": "code",
   "execution_count": 78,
   "metadata": {},
   "outputs": [
    {
     "name": "stdout",
     "output_type": "stream",
     "text": [
      "(0, 0.16, 0.91521370145402992)\n",
      "(1, 0.25, 0.91535214827415223)\n",
      "(2, 0.23, 0.91536515014642195)\n",
      "(3, 0.11, 0.91542106827245528)\n",
      "(4, 0.24, 0.91591939400314726)\n",
      "(5, 0.13, 0.91591939400314726)\n",
      "(6, 0.31, 0.91671554975438385)\n",
      "(7, 0.26, 0.9170439947777399)\n",
      "(8, 0.12, 0.91706665451222991)\n",
      "(9, 0.23, 0.91717819542832524)\n",
      "(10, 0.11, 0.91878005580174016)\n",
      "(11, 0.24, 0.91910689272151591)\n",
      "(12, 0.1, 0.91948550631174386)\n",
      "(13, 0.23, 0.91984598249457472)\n",
      "(14, 0.16, 0.92020273093446681)\n",
      "(15, 0.21, 0.92030089737034038)\n",
      "(16, 0.18, 0.92060888977319444)\n"
     ]
    },
    {
     "data": {
      "text/plain": [
       "0.19235294117647059"
      ]
     },
     "execution_count": 78,
     "metadata": {},
     "output_type": "execute_result"
    }
   ],
   "source": [
    "thres = optimise_f2_thresholds(Y_valid, preds_val)\n",
    "np.mean(thres)"
   ]
  },
  {
   "cell_type": "markdown",
   "metadata": {},
   "source": [
    "simple net: ('F2 Score:', 0.91429801936143507)\n",
    "\n",
    "simple net with residuals: ('F2 Score:', 0.90490633323372127)\n",
    "\n",
    "simn with roi? ('F2 Score:', 0.903\n",
    "\n",
    "\n",
    "('F2 Score:', 0.90490633323372127)\n",
    "\n",
    "\n",
    "depth 256, normalize input by /255: ('F2 Score:', 0.89648641491867431)\n",
    "\n",
    "concatenating global max and global avg is stuck around 0.93 accuracy and 0.15 val loss, early termination \n",
    "\n",
    "\n",
    "Relu after batch norm ('F2 Score:', 0.91422310026204201) but better validation score\n",
    "\n",
    "with 56x56, Relu,BN: ('F2 Score:', 0.91427022590403428)\n",
    "\n",
    "flipped x 4: ('F2 Score:', 0.91224325576890486) 0.1083 \n",
    "\n",
    "2x augmentation ('F2 Score:', 0.92060888977319444)"
   ]
  },
  {
   "cell_type": "code",
   "execution_count": 79,
   "metadata": {
    "scrolled": false
   },
   "outputs": [
    {
     "name": "stdout",
     "output_type": "stream",
     "text": [
      "('F2 Score:', 0.92060888977319444)\n"
     ]
    }
   ],
   "source": [
    "print('F2 Score:', f2_score(Y_valid, preds_val>thres))"
   ]
  },
  {
   "cell_type": "code",
   "execution_count": 28,
   "metadata": {
    "collapsed": true
   },
   "outputs": [],
   "source": [
    "def optimise_f2_thresholds2(y, p, verbose=True, resolution=100,num_classes=17):\n",
    "    def mf(x):\n",
    "        p2 = np.zeros_like(p)\n",
    "        for i in range(num_classes):\n",
    "            p2[:, i] = (p[:, i] > x[i]).astype(np.int)\n",
    "        score = fbeta_score(y, p2, beta=2, average='samples')\n",
    "        return score\n",
    "\n",
    "    x = [0.01]*num_classes\n",
    "    for i in range(num_classes):\n",
    "        best_i2 = 0\n",
    "        best_score = 0\n",
    "        for i2 in range(resolution):\n",
    "            threshold = float(i2) / resolution\n",
    "            x[i] = threshold\n",
    "            score = mf(x)\n",
    "            if score > best_score:\n",
    "                best_i2 = threshold\n",
    "                best_score = score\n",
    "\n",
    "        x[i] = best_i2\n",
    "        if verbose:\n",
    "            print(i, best_i2, best_score)\n",
    "\n",
    "    return x"
   ]
  },
  {
   "cell_type": "code",
   "execution_count": 29,
   "metadata": {},
   "outputs": [
    {
     "name": "stdout",
     "output_type": "stream",
     "text": [
      "(0, 0.05, 0.71364666551823353)\n",
      "(1, 0.18, 0.72401827217656078)\n",
      "(2, 0.21, 0.72477419726820258)\n",
      "(3, 0.09, 0.73412189073576306)\n",
      "(4, 0.3, 0.74655132678329128)\n",
      "(5, 0.09, 0.74836270306122066)\n",
      "(6, 0.0, 0.74863718703135673)\n",
      "(7, 0.12, 0.75475478755100545)\n",
      "(8, 0.27, 0.76577651689872639)\n",
      "(9, 0.24, 0.77962273844752472)\n",
      "(10, 0.26, 0.78612693807981149)\n",
      "(11, 0.28, 0.80646013998970811)\n",
      "(12, 0.16, 0.86034011435291979)\n"
     ]
    }
   ],
   "source": [
    "thres = optimise_f2_thresholds2(Y_valid[:,rare_class_indices], preds_val[1],num_classes=13)\n"
   ]
  },
  {
   "cell_type": "code",
   "execution_count": 30,
   "metadata": {
    "collapsed": true
   },
   "outputs": [],
   "source": [
    "from sklearn.preprocessing import OneHotEncoder\n",
    "\n",
    "encoder = OneHotEncoder()\n",
    "\n",
    "p = encoder.fit_transform(np.argmax(preds_val[0],axis=1).reshape(-1,1)).toarray().astype(bool)\n"
   ]
  },
  {
   "cell_type": "code",
   "execution_count": 31,
   "metadata": {
    "collapsed": true
   },
   "outputs": [],
   "source": [
    "combined_val_preds = np.zeros((Y_valid.shape[0],17))\n",
    "combined_val_preds[:,weather_indices] = p\n",
    "combined_val_preds[:,rare_class_indices] = preds_val[1]>thres"
   ]
  },
  {
   "cell_type": "code",
   "execution_count": 32,
   "metadata": {},
   "outputs": [
    {
     "name": "stdout",
     "output_type": "stream",
     "text": [
      "('F2 Score:', 0.89813172884639669)\n"
     ]
    }
   ],
   "source": [
    "print('F2 Score:', f2_score(Y_valid, combined_val_preds))"
   ]
  },
  {
   "cell_type": "markdown",
   "metadata": {},
   "source": [
    "### Making Prediction"
   ]
  },
  {
   "cell_type": "code",
   "execution_count": 46,
   "metadata": {
    "collapsed": true
   },
   "outputs": [],
   "source": [
    "#clear memory\n",
    "del x_train, X_train, X_valid #, conv_trn_feat, conv_valid_feat\n",
    "x_test = load_array(\"data/cache/xtest_56x56.dat\")\n"
   ]
  },
  {
   "cell_type": "code",
   "execution_count": 45,
   "metadata": {
    "collapsed": true
   },
   "outputs": [],
   "source": [
    "# oleg_test = load_array(\"data/cache/oleg_test\")\n",
    "# oleg_test = oleg_test[:,2:]"
   ]
  },
  {
   "cell_type": "code",
   "execution_count": 47,
   "metadata": {
    "collapsed": true
   },
   "outputs": [],
   "source": [
    "# mahotas_test = load_array(\"data/cache/mahotas_14_jpg_test.dat\")"
   ]
  },
  {
   "cell_type": "code",
   "execution_count": 81,
   "metadata": {
    "scrolled": true
   },
   "outputs": [
    {
     "name": "stdout",
     "output_type": "stream",
     "text": [
      "data has shape:  (61191, 3, 56, 56)\n",
      "breaking data into chunks of  12238\n",
      "augmentation round 1 of 4\n",
      "predicting part 1 of 5\n",
      "items needed vs. items generated:  12238 12238\n",
      "predicting part 2 of 5\n",
      "items needed vs. items generated:  12238 12238\n",
      "predicting part 3 of 5\n",
      "items needed vs. items generated:  12238 12238\n",
      "predicting part 4 of 5\n",
      "items needed vs. items generated:  12238 12238\n",
      "predicting part 5 of 5\n",
      "items needed vs. items generated:  12238 12238\n",
      "predicting part 6 of 5\n",
      "items needed vs. items generated:  1 1\n",
      "augmentation round 2 of 4\n",
      "predicting part 1 of 5\n",
      "items needed vs. items generated:  12238 12238\n",
      "predicting part 2 of 5\n",
      "items needed vs. items generated:  12238 12238\n",
      "predicting part 3 of 5\n",
      "items needed vs. items generated:  12238 12238\n",
      "predicting part 4 of 5\n",
      "items needed vs. items generated:  12238 12238\n",
      "predicting part 5 of 5\n",
      "items needed vs. items generated:  12238 12238\n",
      "predicting part 6 of 5\n",
      "items needed vs. items generated:  1 1\n",
      "augmentation round 3 of 4\n",
      "predicting part 1 of 5\n",
      "items needed vs. items generated:  12238 12238\n",
      "predicting part 2 of 5\n",
      "items needed vs. items generated:  12238 12238\n",
      "predicting part 3 of 5\n",
      "items needed vs. items generated:  12238 12238\n",
      "predicting part 4 of 5\n",
      "items needed vs. items generated:  12238 12238\n",
      "predicting part 5 of 5\n",
      "items needed vs. items generated:  12238 12238\n",
      "predicting part 6 of 5\n",
      "items needed vs. items generated:  1 1\n",
      "augmentation round 4 of 4\n",
      "predicting part 1 of 5\n",
      "items needed vs. items generated:  12238 12238\n",
      "predicting part 2 of 5\n",
      "items needed vs. items generated:  12238 12238\n",
      "predicting part 3 of 5\n",
      "items needed vs. items generated:  12238 12238\n",
      "predicting part 4 of 5\n",
      "items needed vs. items generated:  12238 12238\n",
      "predicting part 5 of 5\n",
      "items needed vs. items generated:  12238 12238\n",
      "predicting part 6 of 5\n",
      "items needed vs. items generated:  1 1\n"
     ]
    }
   ],
   "source": [
    "preds = make_staged_predictions(model,num_parts=5,nb_aug=4)\n",
    "# preds = make_staged_predictions_with_features(model=model,data=x_test, features=mahotas_test,num_parts=5,do_augmentation=False)"
   ]
  },
  {
   "cell_type": "code",
   "execution_count": 82,
   "metadata": {
    "collapsed": true
   },
   "outputs": [],
   "source": [
    "save_array(\"data/cache/preds_simplenet_2xaug_samplex4xttaug.dat\",preds)"
   ]
  },
  {
   "cell_type": "code",
   "execution_count": 80,
   "metadata": {
    "collapsed": true
   },
   "outputs": [],
   "source": [
    "def make_staged_predictions(model,num_parts, nb_aug=1):\n",
    "    partial_preds = []\n",
    "\n",
    "    data = load_array(\"data/cache/xtest_{}x{}.dat\".format(target_size[0],target_size[0]))\n",
    "\n",
    "    chunck_size = len(data)/num_parts\n",
    "\n",
    "    print \"data has shape: \", data.shape\n",
    "    print \"breaking data into chunks of \", chunck_size\n",
    "    \n",
    "    \n",
    "    augmented_predictions = np.zeros((data.shape[0],17)).astype(np.float16)\n",
    "\n",
    "    for n in range(nb_aug):\n",
    "        print \"augmentation round {} of {}\".format(n+1,nb_aug) \n",
    "        partial_preds = []\n",
    "        batch_size = 128.0\n",
    "\n",
    "        for i in range(1,num_parts+2):\n",
    "            print \"predicting part {} of {}\".format(i,num_parts)      \n",
    "\n",
    "            start_index = (i-1)*chunck_size\n",
    "            end_index = min(len(data),i*chunck_size)\n",
    "            num_items = end_index-start_index\n",
    "\n",
    "            test_batch = train_gen.flow(data[start_index:end_index],batch_size=int(batch_size),shuffle=False)\n",
    "            pp = model.predict_generator(test_batch,steps=math.ceil(num_items/batch_size), verbose=0)\n",
    "\n",
    "            print \"items needed vs. items generated: \",num_items,len(pp) \n",
    "            \n",
    "            partial_preds.append(pp)\n",
    "\n",
    "\n",
    "        augmented_predictions += np.vstack(partial_preds)\n",
    "\n",
    "    augmented_predictions /= (nb_aug) \n",
    "    return augmented_predictions\n",
    "\n",
    "    "
   ]
  },
  {
   "cell_type": "markdown",
   "metadata": {},
   "source": [
    "### Make submission"
   ]
  },
  {
   "cell_type": "code",
   "execution_count": 6,
   "metadata": {
    "collapsed": true
   },
   "outputs": [],
   "source": [
    "preds = load_array(\"data/cache/preds_simplenet_2xaug_5xtaug.dat\")\n",
    "thres = load_array(\"data/cache/simplenet_thres.dat\")"
   ]
  },
  {
   "cell_type": "code",
   "execution_count": 7,
   "metadata": {},
   "outputs": [
    {
     "data": {
      "text/plain": [
       "(61191, 17)"
      ]
     },
     "execution_count": 7,
     "metadata": {},
     "output_type": "execute_result"
    }
   ],
   "source": [
    "preds.shape"
   ]
  },
  {
   "cell_type": "code",
   "execution_count": 8,
   "metadata": {
    "scrolled": true
   },
   "outputs": [
    {
     "data": {
      "text/html": [
       "<div>\n",
       "<table border=\"1\" class=\"dataframe\">\n",
       "  <thead>\n",
       "    <tr style=\"text-align: right;\">\n",
       "      <th></th>\n",
       "      <th>blow_down</th>\n",
       "      <th>bare_ground</th>\n",
       "      <th>conventional_mine</th>\n",
       "      <th>blooming</th>\n",
       "      <th>cultivation</th>\n",
       "      <th>artisinal_mine</th>\n",
       "      <th>haze</th>\n",
       "      <th>primary</th>\n",
       "      <th>slash_burn</th>\n",
       "      <th>habitation</th>\n",
       "      <th>clear</th>\n",
       "      <th>road</th>\n",
       "      <th>selective_logging</th>\n",
       "      <th>partly_cloudy</th>\n",
       "      <th>agriculture</th>\n",
       "      <th>water</th>\n",
       "      <th>cloudy</th>\n",
       "    </tr>\n",
       "  </thead>\n",
       "  <tbody>\n",
       "    <tr>\n",
       "      <th>0</th>\n",
       "      <td>0.000596</td>\n",
       "      <td>0.000028</td>\n",
       "      <td>0.0</td>\n",
       "      <td>0.021454</td>\n",
       "      <td>0.00177</td>\n",
       "      <td>0.0</td>\n",
       "      <td>0.001017</td>\n",
       "      <td>1.0</td>\n",
       "      <td>3.576279e-07</td>\n",
       "      <td>0.000718</td>\n",
       "      <td>0.995117</td>\n",
       "      <td>0.001883</td>\n",
       "      <td>0.001562</td>\n",
       "      <td>0.001007</td>\n",
       "      <td>0.004765</td>\n",
       "      <td>0.003437</td>\n",
       "      <td>0.0</td>\n",
       "    </tr>\n",
       "  </tbody>\n",
       "</table>\n",
       "</div>"
      ],
      "text/plain": [
       "   blow_down  bare_ground  conventional_mine  blooming  cultivation  \\\n",
       "0   0.000596     0.000028                0.0  0.021454      0.00177   \n",
       "\n",
       "   artisinal_mine      haze  primary    slash_burn  habitation     clear  \\\n",
       "0             0.0  0.001017      1.0  3.576279e-07    0.000718  0.995117   \n",
       "\n",
       "       road  selective_logging  partly_cloudy  agriculture     water  cloudy  \n",
       "0  0.001883           0.001562       0.001007     0.004765  0.003437     0.0  "
      ]
     },
     "execution_count": 8,
     "metadata": {},
     "output_type": "execute_result"
    }
   ],
   "source": [
    "result = pd.DataFrame(preds, columns = labels)\n",
    "result.head(1)"
   ]
  },
  {
   "cell_type": "code",
   "execution_count": 9,
   "metadata": {
    "collapsed": true
   },
   "outputs": [],
   "source": [
    "test_medians = result.median().values"
   ]
  },
  {
   "cell_type": "code",
   "execution_count": 88,
   "metadata": {
    "collapsed": true
   },
   "outputs": [],
   "source": [
    "# thres"
   ]
  },
  {
   "cell_type": "code",
   "execution_count": 10,
   "metadata": {},
   "outputs": [
    {
     "data": {
      "text/plain": [
       "array([-0.1198, -0.1794, -0.17  , -0.1094, -0.1874, -0.29  , -0.2075,  0.8989, -0.15  , -0.1863,\n",
       "        0.749 , -0.1733, -0.1896, -0.3567, -0.1074, -0.1472, -0.07  ], dtype=float16)"
      ]
     },
     "execution_count": 10,
     "metadata": {},
     "output_type": "execute_result"
    }
   ],
   "source": [
    "test_medians - thres"
   ]
  },
  {
   "cell_type": "code",
   "execution_count": 11,
   "metadata": {},
   "outputs": [
    {
     "data": {
      "image/png": "[encoded data removed]",
      "text/plain": [
       "<matplotlib.figure.Figure at 0x7f4db9aad7d0>"
      ]
     },
     "metadata": {},
     "output_type": "display_data"
    }
   ],
   "source": [
    "import seaborn as sns\n",
    "tags_pred = np.array(preds).T\n",
    "_, axs = plt.subplots(5, 4, figsize=(15, 20))\n",
    "axs = axs.ravel()\n",
    "\n",
    "for i, tag_vals in enumerate(tags_pred):\n",
    "    sns.boxplot(tag_vals, orient='v', palette='Set2', ax=axs[i]).set_title(labels[i])\n"
   ]
  },
  {
   "cell_type": "code",
   "execution_count": 12,
   "metadata": {
    "collapsed": true
   },
   "outputs": [],
   "source": [
    "from tqdm import tqdm_notebook"
   ]
  },
  {
   "cell_type": "code",
   "execution_count": 13,
   "metadata": {},
   "outputs": [
    {
     "data": {
      "application/vnd.jupyter.widget-view+json": {
       "model_id": "ec583fd1420e4b788a6a89777c3a3b10"
      }
     },
     "metadata": {},
     "output_type": "display_data"
    },
    {
     "name": "stdout",
     "output_type": "stream",
     "text": [
      "\n"
     ]
    }
   ],
   "source": [
    "label_preds = []\n",
    "for i in tqdm_notebook(range(result.shape[0]), miniters=1000):\n",
    "    a = result.ix[[i]]\n",
    "    a = a.apply(lambda x: x > thres, axis=1)\n",
    "    a = a.transpose()\n",
    "    a = a.loc[a[i] == True]\n",
    "    ' '.join(list(a.index))\n",
    "    label_preds.append(' '.join(list(a.index)))"
   ]
  },
  {
   "cell_type": "code",
   "execution_count": 15,
   "metadata": {},
   "outputs": [
    {
     "data": {
      "text/html": [
       "<div>\n",
       "<table border=\"1\" class=\"dataframe\">\n",
       "  <thead>\n",
       "    <tr style=\"text-align: right;\">\n",
       "      <th></th>\n",
       "      <th>image_name</th>\n",
       "      <th>tags</th>\n",
       "    </tr>\n",
       "  </thead>\n",
       "  <tbody>\n",
       "    <tr>\n",
       "      <th>0</th>\n",
       "      <td>test_0</td>\n",
       "      <td>primary clear</td>\n",
       "    </tr>\n",
       "    <tr>\n",
       "      <th>1</th>\n",
       "      <td>test_1</td>\n",
       "      <td>primary clear</td>\n",
       "    </tr>\n",
       "    <tr>\n",
       "      <th>2</th>\n",
       "      <td>test_2</td>\n",
       "      <td>primary partly_cloudy</td>\n",
       "    </tr>\n",
       "    <tr>\n",
       "      <th>3</th>\n",
       "      <td>test_3</td>\n",
       "      <td>cultivation primary clear agriculture</td>\n",
       "    </tr>\n",
       "    <tr>\n",
       "      <th>4</th>\n",
       "      <td>test_4</td>\n",
       "      <td>primary partly_cloudy cloudy</td>\n",
       "    </tr>\n",
       "  </tbody>\n",
       "</table>\n",
       "</div>"
      ],
      "text/plain": [
       "  image_name                                   tags\n",
       "0     test_0                          primary clear\n",
       "1     test_1                          primary clear\n",
       "2     test_2                  primary partly_cloudy\n",
       "3     test_3  cultivation primary clear agriculture\n",
       "4     test_4           primary partly_cloudy cloudy"
      ]
     },
     "execution_count": 15,
     "metadata": {},
     "output_type": "execute_result"
    }
   ],
   "source": [
    "df_test[\"tags\"] = label_preds\n",
    "df_test.head()"
   ]
  },
  {
   "cell_type": "code",
   "execution_count": 16,
   "metadata": {},
   "outputs": [
    {
     "data": {
      "text/html": [
       "<a href='subm/simplenet_full_35aug.csv' target='_blank'>subm/simplenet_full_35aug.csv</a><br>"
      ],
      "text/plain": [
       "/home/ubuntu/planet/subm/simplenet_full_35aug.csv"
      ]
     },
     "execution_count": 16,
     "metadata": {},
     "output_type": "execute_result"
    }
   ],
   "source": [
    "submission_file = 'subm/simplenet_full_35aug.csv'\n",
    "df_test.to_csv(submission_file, index=False)\n",
    "FileLink(submission_file)"
   ]
  },
  {
   "cell_type": "code",
   "execution_count": null,
   "metadata": {
    "collapsed": true
   },
   "outputs": [],
   "source": []
  }
 ],
 "metadata": {
  "kernelspec": {
   "display_name": "Python [conda root]",
   "language": "python",
   "name": "conda-root-py"
  },
  "language_info": {
   "codemirror_mode": {
    "name": "ipython",
    "version": 2
   },
   "file_extension": ".py",
   "mimetype": "text/x-python",
   "name": "python",
   "nbconvert_exporter": "python",
   "pygments_lexer": "ipython2",
   "version": "2.7.12"
  }
 },
 "nbformat": 4,
 "nbformat_minor": 2
}
