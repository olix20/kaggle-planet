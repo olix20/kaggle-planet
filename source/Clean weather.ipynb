{
 "cells": [
  {
   "cell_type": "code",
   "execution_count": 1,
   "metadata": {
    "collapsed": true
   },
   "outputs": [],
   "source": [
    "import scipy\n",
    "import os\n",
    "import bcolz\n",
    "import pandas as pd\n",
    "from tqdm import tqdm_notebook\n",
    "import numpy as np"
   ]
  },
  {
   "cell_type": "code",
   "execution_count": 2,
   "metadata": {
    "collapsed": true
   },
   "outputs": [],
   "source": [
    "\n",
    "def save_array(fname, arr):\n",
    "    c=bcolz.carray(arr, rootdir=fname, mode='w')\n",
    "    c.flush()\n",
    "\n",
    "\n",
    "def load_array(fname):\n",
    "    return bcolz.open(fname)[:]\n"
   ]
  },
  {
   "cell_type": "code",
   "execution_count": 204,
   "metadata": {
    "collapsed": true
   },
   "outputs": [],
   "source": [
    "cloud_probs = pd.read_csv(\"data/test_preds_cloudy_model_10xtta.csv\")"
   ]
  },
  {
   "cell_type": "code",
   "execution_count": 30,
   "metadata": {
    "collapsed": true
   },
   "outputs": [],
   "source": [
    "preds = pd.read_csv(\"data/bestof207.csv\")\n",
    "preds = preds.set_index(preds.image_name)\n",
    "preds = preds.reindex(df_test.image_name)"
   ]
  },
  {
   "cell_type": "code",
   "execution_count": 59,
   "metadata": {
    "collapsed": false
   },
   "outputs": [],
   "source": [
    "# preds.tail()"
   ]
  },
  {
   "cell_type": "code",
   "execution_count": 60,
   "metadata": {
    "collapsed": true
   },
   "outputs": [],
   "source": [
    "filename = 'data/qin_best_197_small.hdf'\n",
    "\n",
    "\n",
    "val = pd.read_hdf(filename,key=\"ltest\")\n",
    "train = pd.read_hdf(filename,key=\"train\")\n",
    "test = pd.read_hdf(filename,key=\"test\")"
   ]
  },
  {
   "cell_type": "code",
   "execution_count": 68,
   "metadata": {
    "collapsed": false
   },
   "outputs": [
    {
     "data": {
      "text/html": [
       "<div>\n",
       "<style>\n",
       "    .dataframe thead tr:only-child th {\n",
       "        text-align: right;\n",
       "    }\n",
       "\n",
       "    .dataframe thead th {\n",
       "        text-align: left;\n",
       "    }\n",
       "\n",
       "    .dataframe tbody tr th {\n",
       "        vertical-align: top;\n",
       "    }\n",
       "</style>\n",
       "<table border=\"1\" class=\"dataframe\">\n",
       "  <thead>\n",
       "    <tr style=\"text-align: right;\">\n",
       "      <th></th>\n",
       "      <th>ID</th>\n",
       "      <th>agriculture</th>\n",
       "      <th>artisinal_mine</th>\n",
       "      <th>bare_ground</th>\n",
       "      <th>blooming</th>\n",
       "      <th>blow_down</th>\n",
       "      <th>clear</th>\n",
       "      <th>cloudy</th>\n",
       "      <th>conventional_mine</th>\n",
       "      <th>cultivation</th>\n",
       "      <th>habitation</th>\n",
       "      <th>haze</th>\n",
       "      <th>partly_cloudy</th>\n",
       "      <th>primary</th>\n",
       "      <th>road</th>\n",
       "      <th>selective_logging</th>\n",
       "      <th>slash_burn</th>\n",
       "      <th>water</th>\n",
       "    </tr>\n",
       "  </thead>\n",
       "  <tbody>\n",
       "    <tr>\n",
       "      <th>0</th>\n",
       "      <td>test_0</td>\n",
       "      <td>0.00538746</td>\n",
       "      <td>1.33879e-06</td>\n",
       "      <td>0.000244487</td>\n",
       "      <td>0.0415807</td>\n",
       "      <td>0.000817549</td>\n",
       "      <td>0.997557</td>\n",
       "      <td>1.75734e-05</td>\n",
       "      <td>2.86734e-06</td>\n",
       "      <td>0.00223057</td>\n",
       "      <td>0.00164726</td>\n",
       "      <td>0.00247068</td>\n",
       "      <td>0.000588358</td>\n",
       "      <td>0.999969</td>\n",
       "      <td>0.00117396</td>\n",
       "      <td>0.00538777</td>\n",
       "      <td>1.4562e-05</td>\n",
       "      <td>0.00163985</td>\n",
       "    </tr>\n",
       "  </tbody>\n",
       "</table>\n",
       "</div>"
      ],
      "text/plain": [
       "       ID agriculture artisinal_mine  bare_ground   blooming    blow_down  \\\n",
       "0  test_0  0.00538746    1.33879e-06  0.000244487  0.0415807  0.000817549   \n",
       "\n",
       "      clear       cloudy conventional_mine cultivation  habitation  \\\n",
       "0  0.997557  1.75734e-05       2.86734e-06  0.00223057  0.00164726   \n",
       "\n",
       "         haze partly_cloudy   primary        road selective_logging  \\\n",
       "0  0.00247068   0.000588358  0.999969  0.00117396        0.00538777   \n",
       "\n",
       "   slash_burn       water  \n",
       "0  1.4562e-05  0.00163985  "
      ]
     },
     "execution_count": 68,
     "metadata": {},
     "output_type": "execute_result"
    }
   ],
   "source": [
    "test_probs = pd.DataFrame(test.values, columns = [\"ID\"]+labels.values())\n",
    "test_probs.head(1)"
   ]
  },
  {
   "cell_type": "code",
   "execution_count": 72,
   "metadata": {
    "collapsed": false
   },
   "outputs": [],
   "source": [
    "test_probs = test_probs.set_index(test_probs.ID)\n",
    "test_probs = test_probs.reindex(df_test.image_name)"
   ]
  },
  {
   "cell_type": "code",
   "execution_count": 8,
   "metadata": {
    "collapsed": true
   },
   "outputs": [],
   "source": [
    "y_train = []\n",
    "\n",
    "df_train = pd.read_csv('data/train_v2.csv')\n",
    "df_test = pd.read_csv('data/sample_submission_v2.csv')\n",
    "\n"
   ]
  },
  {
   "cell_type": "code",
   "execution_count": 4,
   "metadata": {
    "collapsed": true
   },
   "outputs": [],
   "source": [
    "label_map = {'slash_burn': 15, 'selective_logging': 14, \n",
    "             'cultivation': 8, 'clear': 5, 'habitation': 9,\n",
    "             'conventional_mine': 7, 'cloudy': 6, 'primary': 12, \n",
    "             'water': 16, 'haze': 10, 'artisinal_mine': 1, \n",
    "             'partly_cloudy': 11, 'blooming': 3, 'bare_ground': 2, \n",
    "             'blow_down': 4, 'agriculture': 0, 'road': 13}"
   ]
  },
  {
   "cell_type": "code",
   "execution_count": 6,
   "metadata": {
    "collapsed": false
   },
   "outputs": [
    {
     "data": {
      "text/plain": [
       "['agriculture',\n",
       " 'artisinal_mine',\n",
       " 'bare_ground',\n",
       " 'blooming',\n",
       " 'blow_down',\n",
       " 'clear',\n",
       " 'cloudy',\n",
       " 'conventional_mine',\n",
       " 'cultivation',\n",
       " 'habitation',\n",
       " 'haze',\n",
       " 'partly_cloudy',\n",
       " 'primary',\n",
       " 'road',\n",
       " 'selective_logging',\n",
       " 'slash_burn',\n",
       " 'water']"
      ]
     },
     "execution_count": 6,
     "metadata": {},
     "output_type": "execute_result"
    }
   ],
   "source": [
    "labels = {v: k for k, v in label_map.iteritems()}\n",
    "labels.values()"
   ]
  },
  {
   "cell_type": "code",
   "execution_count": 13,
   "metadata": {
    "collapsed": false
   },
   "outputs": [
    {
     "name": "stdout",
     "output_type": "stream",
     "text": [
      "\n"
     ]
    }
   ],
   "source": [
    "for f, tags in tqdm_notebook(df_train.values, miniters=1000):\n",
    "    targets = np.zeros(17)\n",
    "    \n",
    "    for t in tags.split(' '):\n",
    "        targets[label_map[t]] = 1 \n",
    "        \n",
    "\n",
    "    y_train.append(targets)\n",
    "    \n",
    "y_train = np.array(y_train, np.uint8)\n"
   ]
  },
  {
   "cell_type": "code",
   "execution_count": 56,
   "metadata": {
    "collapsed": false
   },
   "outputs": [
    {
     "data": {
      "text/plain": [
       "4178"
      ]
     },
     "execution_count": 56,
     "metadata": {},
     "output_type": "execute_result"
    }
   ],
   "source": [
    "y_train[:,label_map[\"cloudy\"]].sum()"
   ]
  },
  {
   "cell_type": "code",
   "execution_count": 54,
   "metadata": {
    "collapsed": false
   },
   "outputs": [
    {
     "data": {
      "text/plain": [
       "4178"
      ]
     },
     "execution_count": 54,
     "metadata": {},
     "output_type": "execute_result"
    }
   ],
   "source": [
    "y_train[np.where(y_train[:,label_map[\"cloudy\"]]==1)].sum()"
   ]
  },
  {
   "cell_type": "code",
   "execution_count": 52,
   "metadata": {
    "collapsed": false
   },
   "outputs": [
    {
     "data": {
      "text/html": [
       "<div>\n",
       "<style>\n",
       "    .dataframe thead tr:only-child th {\n",
       "        text-align: right;\n",
       "    }\n",
       "\n",
       "    .dataframe thead th {\n",
       "        text-align: left;\n",
       "    }\n",
       "\n",
       "    .dataframe tbody tr th {\n",
       "        vertical-align: top;\n",
       "    }\n",
       "</style>\n",
       "<table border=\"1\" class=\"dataframe\">\n",
       "  <thead>\n",
       "    <tr style=\"text-align: right;\">\n",
       "      <th></th>\n",
       "      <th>agriculture</th>\n",
       "      <th>artisinal_mine</th>\n",
       "      <th>bare_ground</th>\n",
       "      <th>blooming</th>\n",
       "      <th>blow_down</th>\n",
       "      <th>clear</th>\n",
       "      <th>cloudy</th>\n",
       "      <th>conventional_mine</th>\n",
       "      <th>cultivation</th>\n",
       "      <th>habitation</th>\n",
       "      <th>haze</th>\n",
       "      <th>partly_cloudy</th>\n",
       "      <th>primary</th>\n",
       "      <th>road</th>\n",
       "      <th>selective_logging</th>\n",
       "      <th>slash_burn</th>\n",
       "      <th>water</th>\n",
       "    </tr>\n",
       "  </thead>\n",
       "  <tbody>\n",
       "    <tr>\n",
       "      <th>0</th>\n",
       "      <td>0</td>\n",
       "      <td>0</td>\n",
       "      <td>0</td>\n",
       "      <td>0</td>\n",
       "      <td>0</td>\n",
       "      <td>0</td>\n",
       "      <td>0</td>\n",
       "      <td>0</td>\n",
       "      <td>0</td>\n",
       "      <td>0</td>\n",
       "      <td>1</td>\n",
       "      <td>0</td>\n",
       "      <td>1</td>\n",
       "      <td>0</td>\n",
       "      <td>0</td>\n",
       "      <td>0</td>\n",
       "      <td>0</td>\n",
       "    </tr>\n",
       "  </tbody>\n",
       "</table>\n",
       "</div>"
      ],
      "text/plain": [
       "   agriculture  artisinal_mine  bare_ground  blooming  blow_down  clear  \\\n",
       "0            0               0            0         0          0      0   \n",
       "\n",
       "   cloudy  conventional_mine  cultivation  habitation  haze  partly_cloudy  \\\n",
       "0       0                  0            0           0     1              0   \n",
       "\n",
       "   primary  road  selective_logging  slash_burn  water  \n",
       "0        1     0                  0           0      0  "
      ]
     },
     "execution_count": 52,
     "metadata": {},
     "output_type": "execute_result"
    }
   ],
   "source": [
    "train_df_01 = pd.DataFrame(y_train, columns = labels.values())\n",
    "train_df_01.head(1)"
   ]
  },
  {
   "cell_type": "markdown",
   "metadata": {},
   "source": [
    "complete mutual exclusion of cloudy with other tags"
   ]
  },
  {
   "cell_type": "code",
   "execution_count": 36,
   "metadata": {
    "collapsed": false
   },
   "outputs": [
    {
     "name": "stdout",
     "output_type": "stream",
     "text": [
      "\n"
     ]
    }
   ],
   "source": [
    "y_test = []\n",
    "\n",
    "\n",
    "for f, tags in tqdm_notebook(preds.values, miniters=1000):\n",
    "    targets = np.zeros(17)\n",
    "    \n",
    "    for t in tags.split(' '):\n",
    "        targets[label_map[t]] = 1 \n",
    "        \n",
    "\n",
    "    y_test.append(targets)\n",
    "    \n",
    "y_test = np.array(y_test, np.uint8)"
   ]
  },
  {
   "cell_type": "code",
   "execution_count": 268,
   "metadata": {
    "collapsed": false
   },
   "outputs": [
    {
     "data": {
      "text/plain": [
       "array([[0, 0, 0, ..., 0, 0, 0],\n",
       "       [0, 0, 0, ..., 0, 0, 0],\n",
       "       [0, 0, 0, ..., 0, 0, 0],\n",
       "       ..., \n",
       "       [1, 0, 0, ..., 0, 0, 1],\n",
       "       [0, 0, 0, ..., 0, 0, 0],\n",
       "       [0, 0, 0, ..., 0, 0, 1]], dtype=uint8)"
      ]
     },
     "execution_count": 268,
     "metadata": {},
     "output_type": "execute_result"
    }
   ],
   "source": [
    "y_test_fixed"
   ]
  },
  {
   "cell_type": "code",
   "execution_count": 274,
   "metadata": {
    "collapsed": false
   },
   "outputs": [
    {
     "data": {
      "text/plain": [
       "array([ 979,   31,   24,    2,    4, 2166, 5249,    5,  221,  206,  993,\n",
       "        990, 3374,  541,   14,    2, 1074], dtype=uint32)"
      ]
     },
     "execution_count": 274,
     "metadata": {},
     "output_type": "execute_result"
    }
   ],
   "source": [
    "y_test[np.where(y_test[:,label_map[\"cloudy\"]]==1)].sum(axis=0)"
   ]
  },
  {
   "cell_type": "code",
   "execution_count": 147,
   "metadata": {
    "collapsed": false
   },
   "outputs": [
    {
     "data": {
      "text/html": [
       "<div>\n",
       "<style>\n",
       "    .dataframe thead tr:only-child th {\n",
       "        text-align: right;\n",
       "    }\n",
       "\n",
       "    .dataframe thead th {\n",
       "        text-align: left;\n",
       "    }\n",
       "\n",
       "    .dataframe tbody tr th {\n",
       "        vertical-align: top;\n",
       "    }\n",
       "</style>\n",
       "<table border=\"1\" class=\"dataframe\">\n",
       "  <thead>\n",
       "    <tr style=\"text-align: right;\">\n",
       "      <th></th>\n",
       "      <th>agriculture</th>\n",
       "      <th>artisinal_mine</th>\n",
       "      <th>bare_ground</th>\n",
       "      <th>blooming</th>\n",
       "      <th>blow_down</th>\n",
       "      <th>clear</th>\n",
       "      <th>cloudy</th>\n",
       "      <th>conventional_mine</th>\n",
       "      <th>cultivation</th>\n",
       "      <th>habitation</th>\n",
       "      <th>haze</th>\n",
       "      <th>partly_cloudy</th>\n",
       "      <th>primary</th>\n",
       "      <th>road</th>\n",
       "      <th>selective_logging</th>\n",
       "      <th>slash_burn</th>\n",
       "      <th>water</th>\n",
       "    </tr>\n",
       "  </thead>\n",
       "  <tbody>\n",
       "    <tr>\n",
       "      <th>0</th>\n",
       "      <td>0</td>\n",
       "      <td>0</td>\n",
       "      <td>0</td>\n",
       "      <td>0</td>\n",
       "      <td>0</td>\n",
       "      <td>1</td>\n",
       "      <td>0</td>\n",
       "      <td>0</td>\n",
       "      <td>0</td>\n",
       "      <td>0</td>\n",
       "      <td>0</td>\n",
       "      <td>0</td>\n",
       "      <td>1</td>\n",
       "      <td>0</td>\n",
       "      <td>0</td>\n",
       "      <td>0</td>\n",
       "      <td>0</td>\n",
       "    </tr>\n",
       "  </tbody>\n",
       "</table>\n",
       "</div>"
      ],
      "text/plain": [
       "   agriculture  artisinal_mine  bare_ground  blooming  blow_down  clear  \\\n",
       "0            0               0            0         0          0      1   \n",
       "\n",
       "   cloudy  conventional_mine  cultivation  habitation  haze  partly_cloudy  \\\n",
       "0       0                  0            0           0     0              0   \n",
       "\n",
       "   primary  road  selective_logging  slash_burn  water  \n",
       "0        1     0                  0           0      0  "
      ]
     },
     "execution_count": 147,
     "metadata": {},
     "output_type": "execute_result"
    }
   ],
   "source": [
    "preds_df_01 = pd.DataFrame(y_test, columns = labels.values())\n",
    "preds_df_01.head(1)"
   ]
  },
  {
   "cell_type": "code",
   "execution_count": 116,
   "metadata": {
    "collapsed": false
   },
   "outputs": [
    {
     "data": {
      "text/plain": [
       "55847"
      ]
     },
     "execution_count": 116,
     "metadata": {},
     "output_type": "execute_result"
    }
   ],
   "source": [
    "(test_probs.cloudy.values < 0.05).sum()"
   ]
  },
  {
   "cell_type": "markdown",
   "metadata": {},
   "source": [
    "> 0.98   > 87\n",
    "< 0.02 1136\n",
    "\n",
    "\n",
    "cloud_probs\n",
    "99 (730, 2)\n",
    "< 0.01 : (1048, 2)\n"
   ]
  },
  {
   "cell_type": "code",
   "execution_count": 394,
   "metadata": {
    "collapsed": false,
    "scrolled": true
   },
   "outputs": [
    {
     "data": {
      "text/html": [
       "<div>\n",
       "<style>\n",
       "    .dataframe thead tr:only-child th {\n",
       "        text-align: right;\n",
       "    }\n",
       "\n",
       "    .dataframe thead th {\n",
       "        text-align: left;\n",
       "    }\n",
       "\n",
       "    .dataframe tbody tr th {\n",
       "        vertical-align: top;\n",
       "    }\n",
       "</style>\n",
       "<table border=\"1\" class=\"dataframe\">\n",
       "  <thead>\n",
       "    <tr style=\"text-align: right;\">\n",
       "      <th></th>\n",
       "      <th>image_name</th>\n",
       "      <th>tags</th>\n",
       "    </tr>\n",
       "    <tr>\n",
       "      <th>image_name</th>\n",
       "      <th></th>\n",
       "      <th></th>\n",
       "    </tr>\n",
       "  </thead>\n",
       "  <tbody>\n",
       "    <tr>\n",
       "      <th>test_2079</th>\n",
       "      <td>test_2079</td>\n",
       "      <td>clear cloudy water</td>\n",
       "    </tr>\n",
       "    <tr>\n",
       "      <th>test_4269</th>\n",
       "      <td>test_4269</td>\n",
       "      <td>cloudy partly_cloudy primary water</td>\n",
       "    </tr>\n",
       "    <tr>\n",
       "      <th>test_4425</th>\n",
       "      <td>test_4425</td>\n",
       "      <td>clear cloudy water</td>\n",
       "    </tr>\n",
       "    <tr>\n",
       "      <th>test_6247</th>\n",
       "      <td>test_6247</td>\n",
       "      <td>clear cloudy primary water</td>\n",
       "    </tr>\n",
       "    <tr>\n",
       "      <th>test_8386</th>\n",
       "      <td>test_8386</td>\n",
       "      <td>cloudy haze primary water</td>\n",
       "    </tr>\n",
       "    <tr>\n",
       "      <th>test_9226</th>\n",
       "      <td>test_9226</td>\n",
       "      <td>clear cloudy water</td>\n",
       "    </tr>\n",
       "    <tr>\n",
       "      <th>test_17310</th>\n",
       "      <td>test_17310</td>\n",
       "      <td>cloudy haze primary water</td>\n",
       "    </tr>\n",
       "    <tr>\n",
       "      <th>test_17887</th>\n",
       "      <td>test_17887</td>\n",
       "      <td>clear cloudy water</td>\n",
       "    </tr>\n",
       "    <tr>\n",
       "      <th>test_20729</th>\n",
       "      <td>test_20729</td>\n",
       "      <td>cloudy partly_cloudy primary water</td>\n",
       "    </tr>\n",
       "    <tr>\n",
       "      <th>test_20893</th>\n",
       "      <td>test_20893</td>\n",
       "      <td>clear cloudy water</td>\n",
       "    </tr>\n",
       "    <tr>\n",
       "      <th>test_27264</th>\n",
       "      <td>test_27264</td>\n",
       "      <td>clear cloudy water</td>\n",
       "    </tr>\n",
       "    <tr>\n",
       "      <th>test_28397</th>\n",
       "      <td>test_28397</td>\n",
       "      <td>clear cloudy water</td>\n",
       "    </tr>\n",
       "    <tr>\n",
       "      <th>test_28553</th>\n",
       "      <td>test_28553</td>\n",
       "      <td>cloudy primary water</td>\n",
       "    </tr>\n",
       "    <tr>\n",
       "      <th>test_29191</th>\n",
       "      <td>test_29191</td>\n",
       "      <td>clear cloudy water</td>\n",
       "    </tr>\n",
       "    <tr>\n",
       "      <th>test_34632</th>\n",
       "      <td>test_34632</td>\n",
       "      <td>clear cloudy water</td>\n",
       "    </tr>\n",
       "    <tr>\n",
       "      <th>test_35623</th>\n",
       "      <td>test_35623</td>\n",
       "      <td>cloudy primary water</td>\n",
       "    </tr>\n",
       "    <tr>\n",
       "      <th>test_37700</th>\n",
       "      <td>test_37700</td>\n",
       "      <td>clear cloudy water</td>\n",
       "    </tr>\n",
       "    <tr>\n",
       "      <th>test_37767</th>\n",
       "      <td>test_37767</td>\n",
       "      <td>clear cloudy water</td>\n",
       "    </tr>\n",
       "    <tr>\n",
       "      <th>test_39511</th>\n",
       "      <td>test_39511</td>\n",
       "      <td>cloudy partly_cloudy primary water</td>\n",
       "    </tr>\n",
       "    <tr>\n",
       "      <th>file_10019</th>\n",
       "      <td>file_10019</td>\n",
       "      <td>artisinal_mine clear cloudy primary water</td>\n",
       "    </tr>\n",
       "    <tr>\n",
       "      <th>file_10288</th>\n",
       "      <td>file_10288</td>\n",
       "      <td>agriculture clear cloudy primary road water</td>\n",
       "    </tr>\n",
       "    <tr>\n",
       "      <th>file_10424</th>\n",
       "      <td>file_10424</td>\n",
       "      <td>agriculture cloudy partly_cloudy primary water</td>\n",
       "    </tr>\n",
       "    <tr>\n",
       "      <th>file_10540</th>\n",
       "      <td>file_10540</td>\n",
       "      <td>clear cloudy primary water</td>\n",
       "    </tr>\n",
       "    <tr>\n",
       "      <th>file_10658</th>\n",
       "      <td>file_10658</td>\n",
       "      <td>agriculture cloudy partly_cloudy primary water</td>\n",
       "    </tr>\n",
       "    <tr>\n",
       "      <th>file_10678</th>\n",
       "      <td>file_10678</td>\n",
       "      <td>clear cloudy primary water</td>\n",
       "    </tr>\n",
       "    <tr>\n",
       "      <th>file_11098</th>\n",
       "      <td>file_11098</td>\n",
       "      <td>agriculture clear cloudy habitation primary ro...</td>\n",
       "    </tr>\n",
       "    <tr>\n",
       "      <th>file_11196</th>\n",
       "      <td>file_11196</td>\n",
       "      <td>agriculture clear cloudy cultivation habitatio...</td>\n",
       "    </tr>\n",
       "    <tr>\n",
       "      <th>file_11229</th>\n",
       "      <td>file_11229</td>\n",
       "      <td>clear cloudy primary road water</td>\n",
       "    </tr>\n",
       "    <tr>\n",
       "      <th>file_11231</th>\n",
       "      <td>file_11231</td>\n",
       "      <td>agriculture artisinal_mine clear cloudy primar...</td>\n",
       "    </tr>\n",
       "    <tr>\n",
       "      <th>file_11311</th>\n",
       "      <td>file_11311</td>\n",
       "      <td>artisinal_mine clear cloudy primary water</td>\n",
       "    </tr>\n",
       "    <tr>\n",
       "      <th>...</th>\n",
       "      <td>...</td>\n",
       "      <td>...</td>\n",
       "    </tr>\n",
       "    <tr>\n",
       "      <th>file_5266</th>\n",
       "      <td>file_5266</td>\n",
       "      <td>clear cloudy primary road water</td>\n",
       "    </tr>\n",
       "    <tr>\n",
       "      <th>file_5517</th>\n",
       "      <td>file_5517</td>\n",
       "      <td>agriculture clear cloudy primary water</td>\n",
       "    </tr>\n",
       "    <tr>\n",
       "      <th>file_5711</th>\n",
       "      <td>file_5711</td>\n",
       "      <td>cloudy haze primary water</td>\n",
       "    </tr>\n",
       "    <tr>\n",
       "      <th>file_5723</th>\n",
       "      <td>file_5723</td>\n",
       "      <td>clear cloudy primary road water</td>\n",
       "    </tr>\n",
       "    <tr>\n",
       "      <th>file_5786</th>\n",
       "      <td>file_5786</td>\n",
       "      <td>artisinal_mine clear cloudy primary road water</td>\n",
       "    </tr>\n",
       "    <tr>\n",
       "      <th>file_5986</th>\n",
       "      <td>file_5986</td>\n",
       "      <td>agriculture clear cloudy habitation primary ro...</td>\n",
       "    </tr>\n",
       "    <tr>\n",
       "      <th>file_6171</th>\n",
       "      <td>file_6171</td>\n",
       "      <td>clear cloudy primary water</td>\n",
       "    </tr>\n",
       "    <tr>\n",
       "      <th>file_6385</th>\n",
       "      <td>file_6385</td>\n",
       "      <td>clear cloudy habitation partly_cloudy primary ...</td>\n",
       "    </tr>\n",
       "    <tr>\n",
       "      <th>file_6573</th>\n",
       "      <td>file_6573</td>\n",
       "      <td>agriculture cloudy cultivation partly_cloudy p...</td>\n",
       "    </tr>\n",
       "    <tr>\n",
       "      <th>file_6722</th>\n",
       "      <td>file_6722</td>\n",
       "      <td>clear cloudy primary road selective_logging water</td>\n",
       "    </tr>\n",
       "    <tr>\n",
       "      <th>file_6725</th>\n",
       "      <td>file_6725</td>\n",
       "      <td>agriculture clear cloudy haze primary road water</td>\n",
       "    </tr>\n",
       "    <tr>\n",
       "      <th>file_6726</th>\n",
       "      <td>file_6726</td>\n",
       "      <td>agriculture clear cloudy primary water</td>\n",
       "    </tr>\n",
       "    <tr>\n",
       "      <th>file_6729</th>\n",
       "      <td>file_6729</td>\n",
       "      <td>agriculture clear cloudy primary water</td>\n",
       "    </tr>\n",
       "    <tr>\n",
       "      <th>file_6963</th>\n",
       "      <td>file_6963</td>\n",
       "      <td>clear cloudy primary water</td>\n",
       "    </tr>\n",
       "    <tr>\n",
       "      <th>file_7114</th>\n",
       "      <td>file_7114</td>\n",
       "      <td>agriculture clear cloudy primary water</td>\n",
       "    </tr>\n",
       "    <tr>\n",
       "      <th>file_7277</th>\n",
       "      <td>file_7277</td>\n",
       "      <td>clear cloudy primary road water</td>\n",
       "    </tr>\n",
       "    <tr>\n",
       "      <th>file_7412</th>\n",
       "      <td>file_7412</td>\n",
       "      <td>clear cloudy water</td>\n",
       "    </tr>\n",
       "    <tr>\n",
       "      <th>file_8131</th>\n",
       "      <td>file_8131</td>\n",
       "      <td>clear cloudy primary water</td>\n",
       "    </tr>\n",
       "    <tr>\n",
       "      <th>file_8154</th>\n",
       "      <td>file_8154</td>\n",
       "      <td>clear cloudy primary water</td>\n",
       "    </tr>\n",
       "    <tr>\n",
       "      <th>file_8240</th>\n",
       "      <td>file_8240</td>\n",
       "      <td>clear cloudy primary water</td>\n",
       "    </tr>\n",
       "    <tr>\n",
       "      <th>file_827</th>\n",
       "      <td>file_827</td>\n",
       "      <td>clear cloudy primary water</td>\n",
       "    </tr>\n",
       "    <tr>\n",
       "      <th>file_8325</th>\n",
       "      <td>file_8325</td>\n",
       "      <td>cloudy partly_cloudy primary water</td>\n",
       "    </tr>\n",
       "    <tr>\n",
       "      <th>file_838</th>\n",
       "      <td>file_838</td>\n",
       "      <td>clear cloudy primary water</td>\n",
       "    </tr>\n",
       "    <tr>\n",
       "      <th>file_8993</th>\n",
       "      <td>file_8993</td>\n",
       "      <td>artisinal_mine clear cloudy primary road water</td>\n",
       "    </tr>\n",
       "    <tr>\n",
       "      <th>file_9144</th>\n",
       "      <td>file_9144</td>\n",
       "      <td>agriculture cloudy partly_cloudy primary road ...</td>\n",
       "    </tr>\n",
       "    <tr>\n",
       "      <th>file_9330</th>\n",
       "      <td>file_9330</td>\n",
       "      <td>clear cloudy primary water</td>\n",
       "    </tr>\n",
       "    <tr>\n",
       "      <th>file_9552</th>\n",
       "      <td>file_9552</td>\n",
       "      <td>agriculture clear cloudy primary road water</td>\n",
       "    </tr>\n",
       "    <tr>\n",
       "      <th>file_9574</th>\n",
       "      <td>file_9574</td>\n",
       "      <td>artisinal_mine clear cloudy primary water</td>\n",
       "    </tr>\n",
       "    <tr>\n",
       "      <th>file_9670</th>\n",
       "      <td>file_9670</td>\n",
       "      <td>agriculture clear cloudy haze primary water</td>\n",
       "    </tr>\n",
       "    <tr>\n",
       "      <th>file_9745</th>\n",
       "      <td>file_9745</td>\n",
       "      <td>clear cloudy primary water</td>\n",
       "    </tr>\n",
       "  </tbody>\n",
       "</table>\n",
       "<p>136 rows × 2 columns</p>\n",
       "</div>"
      ],
      "text/plain": [
       "            image_name                                               tags\n",
       "image_name                                                               \n",
       "test_2079    test_2079                                 clear cloudy water\n",
       "test_4269    test_4269                 cloudy partly_cloudy primary water\n",
       "test_4425    test_4425                                 clear cloudy water\n",
       "test_6247    test_6247                         clear cloudy primary water\n",
       "test_8386    test_8386                          cloudy haze primary water\n",
       "test_9226    test_9226                                 clear cloudy water\n",
       "test_17310  test_17310                          cloudy haze primary water\n",
       "test_17887  test_17887                                 clear cloudy water\n",
       "test_20729  test_20729                 cloudy partly_cloudy primary water\n",
       "test_20893  test_20893                                 clear cloudy water\n",
       "test_27264  test_27264                                 clear cloudy water\n",
       "test_28397  test_28397                                 clear cloudy water\n",
       "test_28553  test_28553                               cloudy primary water\n",
       "test_29191  test_29191                                 clear cloudy water\n",
       "test_34632  test_34632                                 clear cloudy water\n",
       "test_35623  test_35623                               cloudy primary water\n",
       "test_37700  test_37700                                 clear cloudy water\n",
       "test_37767  test_37767                                 clear cloudy water\n",
       "test_39511  test_39511                 cloudy partly_cloudy primary water\n",
       "file_10019  file_10019          artisinal_mine clear cloudy primary water\n",
       "file_10288  file_10288        agriculture clear cloudy primary road water\n",
       "file_10424  file_10424     agriculture cloudy partly_cloudy primary water\n",
       "file_10540  file_10540                         clear cloudy primary water\n",
       "file_10658  file_10658     agriculture cloudy partly_cloudy primary water\n",
       "file_10678  file_10678                         clear cloudy primary water\n",
       "file_11098  file_11098  agriculture clear cloudy habitation primary ro...\n",
       "file_11196  file_11196  agriculture clear cloudy cultivation habitatio...\n",
       "file_11229  file_11229                    clear cloudy primary road water\n",
       "file_11231  file_11231  agriculture artisinal_mine clear cloudy primar...\n",
       "file_11311  file_11311          artisinal_mine clear cloudy primary water\n",
       "...                ...                                                ...\n",
       "file_5266    file_5266                    clear cloudy primary road water\n",
       "file_5517    file_5517             agriculture clear cloudy primary water\n",
       "file_5711    file_5711                          cloudy haze primary water\n",
       "file_5723    file_5723                    clear cloudy primary road water\n",
       "file_5786    file_5786     artisinal_mine clear cloudy primary road water\n",
       "file_5986    file_5986  agriculture clear cloudy habitation primary ro...\n",
       "file_6171    file_6171                         clear cloudy primary water\n",
       "file_6385    file_6385  clear cloudy habitation partly_cloudy primary ...\n",
       "file_6573    file_6573  agriculture cloudy cultivation partly_cloudy p...\n",
       "file_6722    file_6722  clear cloudy primary road selective_logging water\n",
       "file_6725    file_6725   agriculture clear cloudy haze primary road water\n",
       "file_6726    file_6726             agriculture clear cloudy primary water\n",
       "file_6729    file_6729             agriculture clear cloudy primary water\n",
       "file_6963    file_6963                         clear cloudy primary water\n",
       "file_7114    file_7114             agriculture clear cloudy primary water\n",
       "file_7277    file_7277                    clear cloudy primary road water\n",
       "file_7412    file_7412                                 clear cloudy water\n",
       "file_8131    file_8131                         clear cloudy primary water\n",
       "file_8154    file_8154                         clear cloudy primary water\n",
       "file_8240    file_8240                         clear cloudy primary water\n",
       "file_827      file_827                         clear cloudy primary water\n",
       "file_8325    file_8325                 cloudy partly_cloudy primary water\n",
       "file_838      file_838                         clear cloudy primary water\n",
       "file_8993    file_8993     artisinal_mine clear cloudy primary road water\n",
       "file_9144    file_9144  agriculture cloudy partly_cloudy primary road ...\n",
       "file_9330    file_9330                         clear cloudy primary water\n",
       "file_9552    file_9552        agriculture clear cloudy primary road water\n",
       "file_9574    file_9574          artisinal_mine clear cloudy primary water\n",
       "file_9670    file_9670        agriculture clear cloudy haze primary water\n",
       "file_9745    file_9745                         clear cloudy primary water\n",
       "\n",
       "[136 rows x 2 columns]"
      ]
     },
     "execution_count": 394,
     "metadata": {},
     "output_type": "execute_result"
    }
   ],
   "source": [
    "preds.iloc[np.where((y_test[:,label_map[\"cloudy\"]]==1) & (y_test.sum(axis=1)<13) & (y_test.sum(axis=1)>1) & \n",
    "                    (y_test[:,label_map[\"water\"]]==1) &\n",
    "          (cloud_probs.cloudy.values >0.99))]"
   ]
  },
  {
   "cell_type": "code",
   "execution_count": 314,
   "metadata": {
    "collapsed": false
   },
   "outputs": [
    {
     "data": {
      "text/plain": [
       "(0, 16, 5, 6)"
      ]
     },
     "execution_count": 314,
     "metadata": {},
     "output_type": "execute_result"
    }
   ],
   "source": [
    "label_map[\"agriculture\"], label_map[\"water\"], label_map[\"clear\"],label_map[\"cloudy\"]"
   ]
  },
  {
   "cell_type": "code",
   "execution_count": 380,
   "metadata": {
    "collapsed": true
   },
   "outputs": [],
   "source": [
    "y_test_fixed = y_test.copy()"
   ]
  },
  {
   "cell_type": "markdown",
   "metadata": {},
   "source": [
    "#### remove cloud for those with low prob"
   ]
  },
  {
   "cell_type": "code",
   "execution_count": 381,
   "metadata": {
    "collapsed": false
   },
   "outputs": [],
   "source": [
    "remove_cloud_labels =  y_test[np.where((y_test[:,label_map[\"cloudy\"]]==1) & (y_test.sum(axis=1)>1) &\n",
    "          (cloud_probs.cloudy.values < 0.01 ))]"
   ]
  },
  {
   "cell_type": "code",
   "execution_count": 382,
   "metadata": {
    "collapsed": false
   },
   "outputs": [],
   "source": [
    "remove_cloud_labels[:,label_map[\"cloudy\"]] = 0 "
   ]
  },
  {
   "cell_type": "code",
   "execution_count": 383,
   "metadata": {
    "collapsed": false
   },
   "outputs": [],
   "source": [
    "y_test_fixed[np.where((y_test[:,label_map[\"cloudy\"]]==1) & (y_test.sum(axis=1)>1) &\n",
    "          (cloud_probs.cloudy.values < 0.01 ))] = remove_cloud_labels"
   ]
  },
  {
   "cell_type": "markdown",
   "metadata": {},
   "source": [
    "#### remove other labels with high cloud prob"
   ]
  },
  {
   "cell_type": "code",
   "execution_count": 384,
   "metadata": {
    "collapsed": false
   },
   "outputs": [],
   "source": [
    "remove_noncloud_labels =  y_test[np.where((y_test[:,label_map[\"cloudy\"]]==1) & (y_test.sum(axis=1)>1) &\n",
    "          (cloud_probs.cloudy.values > 0.99  ))]"
   ]
  },
  {
   "cell_type": "code",
   "execution_count": 385,
   "metadata": {
    "collapsed": false
   },
   "outputs": [
    {
     "data": {
      "text/plain": [
       "array([[0, 0, 0, ..., 0, 0, 0],\n",
       "       [0, 0, 0, ..., 0, 0, 0],\n",
       "       [0, 0, 0, ..., 0, 0, 0],\n",
       "       ..., \n",
       "       [0, 0, 0, ..., 0, 0, 0],\n",
       "       [0, 0, 0, ..., 0, 0, 0],\n",
       "       [0, 0, 0, ..., 0, 0, 0]])"
      ]
     },
     "execution_count": 385,
     "metadata": {},
     "output_type": "execute_result"
    }
   ],
   "source": [
    "remove_noncloud_labels*np.array([0]+[1]*3 + [0,1] + [1]*10+[0])"
   ]
  },
  {
   "cell_type": "code",
   "execution_count": 386,
   "metadata": {
    "collapsed": false
   },
   "outputs": [],
   "source": [
    "# remove_noncloud_labels = np.array([0]*5 + [1] + [0]*11)"
   ]
  },
  {
   "cell_type": "code",
   "execution_count": 387,
   "metadata": {
    "collapsed": false
   },
   "outputs": [
    {
     "data": {
      "text/plain": [
       "5"
      ]
     },
     "execution_count": 387,
     "metadata": {},
     "output_type": "execute_result"
    }
   ],
   "source": [
    "label_map[\"clear\"]"
   ]
  },
  {
   "cell_type": "code",
   "execution_count": 388,
   "metadata": {
    "collapsed": false
   },
   "outputs": [
    {
     "data": {
      "text/plain": [
       "array([0, 1, 1, 1, 1, 0, 1, 1, 1, 1, 1, 1, 1, 1, 1, 1, 0])"
      ]
     },
     "execution_count": 388,
     "metadata": {},
     "output_type": "execute_result"
    }
   ],
   "source": [
    "np.array([0]+[1]*4 + [0,1] + [1]*9+[0])"
   ]
  },
  {
   "cell_type": "code",
   "execution_count": 389,
   "metadata": {
    "collapsed": true
   },
   "outputs": [],
   "source": [
    "#remove these only: label_map[\"agriculture\"], label_map[\"water\"], label_map[\"clear\"],label_map[\"cloudy\"]\n",
    "y_test_fixed[np.where((y_test[:,label_map[\"cloudy\"]]==1) & (y_test.sum(axis=1)>1) &\n",
    "          (cloud_probs.cloudy.values  > 0.99 ))] = remove_noncloud_labels*np.array([0]+[1]*4 + [0,1] + [1]*9+[0])\n",
    "\n",
    "\n",
    "# remove all other labels # np.array([0]*5 + [1] + [0]*11)"
   ]
  },
  {
   "cell_type": "markdown",
   "metadata": {},
   "source": [
    "#### put in df and submit"
   ]
  },
  {
   "cell_type": "code",
   "execution_count": 390,
   "metadata": {
    "collapsed": false
   },
   "outputs": [
    {
     "data": {
      "text/html": [
       "<div>\n",
       "<style>\n",
       "    .dataframe thead tr:only-child th {\n",
       "        text-align: right;\n",
       "    }\n",
       "\n",
       "    .dataframe thead th {\n",
       "        text-align: left;\n",
       "    }\n",
       "\n",
       "    .dataframe tbody tr th {\n",
       "        vertical-align: top;\n",
       "    }\n",
       "</style>\n",
       "<table border=\"1\" class=\"dataframe\">\n",
       "  <thead>\n",
       "    <tr style=\"text-align: right;\">\n",
       "      <th></th>\n",
       "      <th>agriculture</th>\n",
       "      <th>artisinal_mine</th>\n",
       "      <th>bare_ground</th>\n",
       "      <th>blooming</th>\n",
       "      <th>blow_down</th>\n",
       "      <th>clear</th>\n",
       "      <th>cloudy</th>\n",
       "      <th>conventional_mine</th>\n",
       "      <th>cultivation</th>\n",
       "      <th>habitation</th>\n",
       "      <th>haze</th>\n",
       "      <th>partly_cloudy</th>\n",
       "      <th>primary</th>\n",
       "      <th>road</th>\n",
       "      <th>selective_logging</th>\n",
       "      <th>slash_burn</th>\n",
       "      <th>water</th>\n",
       "    </tr>\n",
       "  </thead>\n",
       "  <tbody>\n",
       "    <tr>\n",
       "      <th>0</th>\n",
       "      <td>0</td>\n",
       "      <td>0</td>\n",
       "      <td>0</td>\n",
       "      <td>0</td>\n",
       "      <td>0</td>\n",
       "      <td>1</td>\n",
       "      <td>0</td>\n",
       "      <td>0</td>\n",
       "      <td>0</td>\n",
       "      <td>0</td>\n",
       "      <td>0</td>\n",
       "      <td>0</td>\n",
       "      <td>1</td>\n",
       "      <td>0</td>\n",
       "      <td>0</td>\n",
       "      <td>0</td>\n",
       "      <td>0</td>\n",
       "    </tr>\n",
       "  </tbody>\n",
       "</table>\n",
       "</div>"
      ],
      "text/plain": [
       "   agriculture  artisinal_mine  bare_ground  blooming  blow_down  clear  \\\n",
       "0            0               0            0         0          0      1   \n",
       "\n",
       "   cloudy  conventional_mine  cultivation  habitation  haze  partly_cloudy  \\\n",
       "0       0                  0            0           0     0              0   \n",
       "\n",
       "   primary  road  selective_logging  slash_burn  water  \n",
       "0        1     0                  0           0      0  "
      ]
     },
     "execution_count": 390,
     "metadata": {},
     "output_type": "execute_result"
    }
   ],
   "source": [
    "preds_df_fixed_01 = pd.DataFrame(y_test_fixed, columns = labels.values())\n",
    "preds_df_fixed_01.head(1)"
   ]
  },
  {
   "cell_type": "code",
   "execution_count": 391,
   "metadata": {
    "collapsed": false
   },
   "outputs": [
    {
     "name": "stderr",
     "output_type": "stream",
     "text": [
      "C:\\Users\\Armin\\Anaconda2\\lib\\site-packages\\ipykernel\\__main__.py:3: DeprecationWarning: \n",
      ".ix is deprecated. Please use\n",
      ".loc for label based indexing or\n",
      ".iloc for positional indexing\n",
      "\n",
      "See the documentation here:\n",
      "http://pandas.pydata.org/pandas-docs/stable/indexing.html#deprecate_ix\n",
      "  app.launch_new_instance()\n"
     ]
    },
    {
     "name": "stdout",
     "output_type": "stream",
     "text": [
      "\n"
     ]
    }
   ],
   "source": [
    "label_preds = []\n",
    "for i in tqdm_notebook(range(preds_df_fixed_01.shape[0]), miniters=1000):\n",
    "    a = preds_df_fixed_01.ix[[i]]\n",
    "    a = a.apply(lambda x: x > 0, axis=1)\n",
    "    a = a.transpose()\n",
    "    a = a.loc[a[i] == True]\n",
    "    ' '.join(list(a.index))\n",
    "    label_preds.append(' '.join(list(a.index)))"
   ]
  },
  {
   "cell_type": "code",
   "execution_count": 392,
   "metadata": {
    "collapsed": false
   },
   "outputs": [
    {
     "data": {
      "text/html": [
       "<div>\n",
       "<style>\n",
       "    .dataframe thead tr:only-child th {\n",
       "        text-align: right;\n",
       "    }\n",
       "\n",
       "    .dataframe thead th {\n",
       "        text-align: left;\n",
       "    }\n",
       "\n",
       "    .dataframe tbody tr th {\n",
       "        vertical-align: top;\n",
       "    }\n",
       "</style>\n",
       "<table border=\"1\" class=\"dataframe\">\n",
       "  <thead>\n",
       "    <tr style=\"text-align: right;\">\n",
       "      <th></th>\n",
       "      <th>image_name</th>\n",
       "      <th>tags</th>\n",
       "    </tr>\n",
       "  </thead>\n",
       "  <tbody>\n",
       "    <tr>\n",
       "      <th>0</th>\n",
       "      <td>test_0</td>\n",
       "      <td>clear primary</td>\n",
       "    </tr>\n",
       "    <tr>\n",
       "      <th>1</th>\n",
       "      <td>test_1</td>\n",
       "      <td>clear primary</td>\n",
       "    </tr>\n",
       "    <tr>\n",
       "      <th>2</th>\n",
       "      <td>test_2</td>\n",
       "      <td>partly_cloudy primary</td>\n",
       "    </tr>\n",
       "    <tr>\n",
       "      <th>3</th>\n",
       "      <td>test_3</td>\n",
       "      <td>agriculture clear cultivation primary</td>\n",
       "    </tr>\n",
       "    <tr>\n",
       "      <th>4</th>\n",
       "      <td>test_4</td>\n",
       "      <td>cloudy partly_cloudy primary</td>\n",
       "    </tr>\n",
       "  </tbody>\n",
       "</table>\n",
       "</div>"
      ],
      "text/plain": [
       "  image_name                                   tags\n",
       "0     test_0                          clear primary\n",
       "1     test_1                          clear primary\n",
       "2     test_2                  partly_cloudy primary\n",
       "3     test_3  agriculture clear cultivation primary\n",
       "4     test_4           cloudy partly_cloudy primary"
      ]
     },
     "execution_count": 392,
     "metadata": {},
     "output_type": "execute_result"
    }
   ],
   "source": [
    "df_test[\"tags\"] = label_preds\n",
    "df_test.head()"
   ]
  },
  {
   "cell_type": "code",
   "execution_count": 393,
   "metadata": {
    "collapsed": false
   },
   "outputs": [],
   "source": [
    "submission_file = 'subm/clean_cloudy_on_bestofa_low_and_selective_high_thres.csv'\n",
    "df_test.to_csv(submission_file, index=False)"
   ]
  },
  {
   "cell_type": "code",
   "execution_count": null,
   "metadata": {
    "collapsed": true
   },
   "outputs": [],
   "source": []
  }
 ],
 "metadata": {
  "kernelspec": {
   "display_name": "Python 2",
   "language": "python",
   "name": "python2"
  },
  "language_info": {
   "codemirror_mode": {
    "name": "ipython",
    "version": 2
   },
   "file_extension": ".py",
   "mimetype": "text/x-python",
   "name": "python",
   "nbconvert_exporter": "python",
   "pygments_lexer": "ipython2",
   "version": "2.7.13"
  }
 },
 "nbformat": 4,
 "nbformat_minor": 0
}
